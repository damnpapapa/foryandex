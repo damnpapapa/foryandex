{
 "cells": [
  {
   "cell_type": "code",
   "execution_count": 7,
   "id": "4c772fec-5186-40ca-9a82-2981448554a8",
   "metadata": {},
   "outputs": [
    {
     "ename": "OSError",
     "evalue": "cannot open resource",
     "output_type": "error",
     "traceback": [
      "\u001b[0;31m---------------------------------------------------------------------------\u001b[0m",
      "\u001b[0;31mOSError\u001b[0m                                   Traceback (most recent call last)",
      "Cell \u001b[0;32mIn[7], line 50\u001b[0m\n\u001b[1;32m     47\u001b[0m example_text \u001b[38;5;241m=\u001b[39m \u001b[38;5;124m\"\u001b[39m\u001b[38;5;124mв анкете предварительной записи репетитора французского была графа «какая у вас цель». написала что мой будущий муж паша дуров непонятно насколько будет находиться во франции, мне нужно быть готовой\u001b[39m\u001b[38;5;124m\"\u001b[39m\n\u001b[1;32m     49\u001b[0m \u001b[38;5;66;03m# Создание изображения\u001b[39;00m\n\u001b[0;32m---> 50\u001b[0m create_text_box_image(example_text)\n",
      "Cell \u001b[0;32mIn[7], line 14\u001b[0m, in \u001b[0;36mcreate_text_box_image\u001b[0;34m(text, output_path)\u001b[0m\n\u001b[1;32m     12\u001b[0m padding \u001b[38;5;241m=\u001b[39m \u001b[38;5;241m20\u001b[39m  \u001b[38;5;66;03m# Отступы внутри окошка\u001b[39;00m\n\u001b[1;32m     13\u001b[0m font_size \u001b[38;5;241m=\u001b[39m \u001b[38;5;241m24\u001b[39m\n\u001b[0;32m---> 14\u001b[0m font \u001b[38;5;241m=\u001b[39m ImageFont\u001b[38;5;241m.\u001b[39mtruetype(\u001b[38;5;124m\"\u001b[39m\u001b[38;5;124marial.ttf\u001b[39m\u001b[38;5;124m\"\u001b[39m, font_size)  \u001b[38;5;66;03m# Шрифт\u001b[39;00m\n\u001b[1;32m     16\u001b[0m \u001b[38;5;66;03m# Создаем пустое изображение\u001b[39;00m\n\u001b[1;32m     17\u001b[0m image \u001b[38;5;241m=\u001b[39m Image\u001b[38;5;241m.\u001b[39mnew(\u001b[38;5;124m\"\u001b[39m\u001b[38;5;124mRGB\u001b[39m\u001b[38;5;124m\"\u001b[39m, (screen_width, screen_height), (\u001b[38;5;241m173\u001b[39m, \u001b[38;5;241m216\u001b[39m, \u001b[38;5;241m230\u001b[39m))  \u001b[38;5;66;03m# Цвет фона (светло-зеленый)\u001b[39;00m\n",
      "File \u001b[0;32m/opt/anaconda3/lib/python3.11/site-packages/PIL/ImageFont.py:879\u001b[0m, in \u001b[0;36mtruetype\u001b[0;34m(font, size, index, encoding, layout_engine)\u001b[0m\n\u001b[1;32m    876\u001b[0m     \u001b[38;5;28;01mreturn\u001b[39;00m FreeTypeFont(font, size, index, encoding, layout_engine)\n\u001b[1;32m    878\u001b[0m \u001b[38;5;28;01mtry\u001b[39;00m:\n\u001b[0;32m--> 879\u001b[0m     \u001b[38;5;28;01mreturn\u001b[39;00m freetype(font)\n\u001b[1;32m    880\u001b[0m \u001b[38;5;28;01mexcept\u001b[39;00m \u001b[38;5;167;01mOSError\u001b[39;00m:\n\u001b[1;32m    881\u001b[0m     \u001b[38;5;28;01mif\u001b[39;00m \u001b[38;5;129;01mnot\u001b[39;00m is_path(font):\n",
      "File \u001b[0;32m/opt/anaconda3/lib/python3.11/site-packages/PIL/ImageFont.py:876\u001b[0m, in \u001b[0;36mtruetype.<locals>.freetype\u001b[0;34m(font)\u001b[0m\n\u001b[1;32m    875\u001b[0m \u001b[38;5;28;01mdef\u001b[39;00m \u001b[38;5;21mfreetype\u001b[39m(font: StrOrBytesPath \u001b[38;5;241m|\u001b[39m BinaryIO) \u001b[38;5;241m-\u001b[39m\u001b[38;5;241m>\u001b[39m FreeTypeFont:\n\u001b[0;32m--> 876\u001b[0m     \u001b[38;5;28;01mreturn\u001b[39;00m FreeTypeFont(font, size, index, encoding, layout_engine)\n",
      "File \u001b[0;32m/opt/anaconda3/lib/python3.11/site-packages/PIL/ImageFont.py:284\u001b[0m, in \u001b[0;36mFreeTypeFont.__init__\u001b[0;34m(self, font, size, index, encoding, layout_engine)\u001b[0m\n\u001b[1;32m    282\u001b[0m                 load_from_bytes(f)\n\u001b[1;32m    283\u001b[0m             \u001b[38;5;28;01mreturn\u001b[39;00m\n\u001b[0;32m--> 284\u001b[0m     \u001b[38;5;28mself\u001b[39m\u001b[38;5;241m.\u001b[39mfont \u001b[38;5;241m=\u001b[39m core\u001b[38;5;241m.\u001b[39mgetfont(\n\u001b[1;32m    285\u001b[0m         font, size, index, encoding, layout_engine\u001b[38;5;241m=\u001b[39mlayout_engine\n\u001b[1;32m    286\u001b[0m     )\n\u001b[1;32m    287\u001b[0m \u001b[38;5;28;01melse\u001b[39;00m:\n\u001b[1;32m    288\u001b[0m     load_from_bytes(cast(IO[\u001b[38;5;28mbytes\u001b[39m], font))\n",
      "\u001b[0;31mOSError\u001b[0m: cannot open resource"
     ]
    }
   ],
   "source": [
    "from PIL import Image, ImageDraw, ImageFont\n",
    "\n",
    "def create_text_box_image(text, output_path=\"output_image.png\"):\n",
    "    # Размер изображения (например, 1920x1080 для экрана Full HD)\n",
    "    screen_width = 1920\n",
    "    screen_height = 1080\n",
    "\n",
    "    # Задаем ширину окошка (1/4 ширины экрана)\n",
    "    box_width = screen_width // 4\n",
    "\n",
    "    # Задаем начальные параметры\n",
    "    padding = 20  # Отступы внутри окошка\n",
    "    font_size = 24\n",
    "    font = ImageFont.truetype(\"arial.ttf\", font_size)  # Шрифт\n",
    "\n",
    "    # Создаем пустое изображение\n",
    "    image = Image.new(\"RGB\", (screen_width, screen_height), (173, 216, 230))  # Цвет фона (светло-зеленый)\n",
    "    draw = ImageDraw.Draw(image)\n",
    "\n",
    "    # Определяем размеры текста\n",
    "    text_width, text_height = draw.multiline_textsize(text, font=font)\n",
    "    box_height = text_height + 2 * padding\n",
    "\n",
    "    # Координаты центра\n",
    "    box_x = (screen_width - box_width) // 2\n",
    "    box_y = (screen_height - box_height) // 2\n",
    "\n",
    "    # Рисуем окошко\n",
    "    draw.rectangle(\n",
    "        [(box_x, box_y), (box_x + box_width, box_y + box_height)],\n",
    "        fill=\"white\",\n",
    "        outline=\"black\",\n",
    "        width=2,\n",
    "    )\n",
    "\n",
    "    # Пишем текст внутри окошка\n",
    "    text_x = box_x + padding\n",
    "    text_y = box_y + padding\n",
    "    draw.multiline_text((text_x, text_y), text, fill=\"black\", font=font, align=\"left\")\n",
    "\n",
    "    # Сохраняем изображение\n",
    "    image.save(output_path)\n",
    "    print(f\"Изображение сохранено: {output_path}\")\n",
    "\n",
    "\n",
    "# Пример текста\n",
    "example_text = \"в анкете предварительной записи репетитора французского была графа «какая у вас цель». написала что мой будущий муж паша дуров непонятно насколько будет находиться во франции, мне нужно быть готовой\"\n",
    "\n",
    "# Создание изображения\n",
    "create_text_box_image(example_text)\n"
   ]
  },
  {
   "cell_type": "code",
   "execution_count": 19,
   "id": "1379b8bc-0a65-47f7-8f03-025723dedc8d",
   "metadata": {},
   "outputs": [
    {
     "name": "stdout",
     "output_type": "stream",
     "text": [
      "Используется шрифт по умолчанию, который может не поддерживать кириллицу.\n",
      "Изображение сохранено: output_image.png\n"
     ]
    }
   ],
   "source": [
    "from PIL import Image, ImageDraw, ImageFont\n",
    "\n",
    "def create_telegram_style_message(text, output_path=\"output_image.png\"):\n",
    "    screen_width = 1920\n",
    "    screen_height = 1080\n",
    "    box_width = screen_width // 3\n",
    "    padding = 30\n",
    "    font_size = 60\n",
    "    corner_radius = 20\n",
    "\n",
    "    # Попытка загрузить шрифт\n",
    "    try:\n",
    "        font = ImageFont.truetype(\"arial.ttf\", font_size)\n",
    "    except OSError:\n",
    "        try:\n",
    "            font = ImageFont.truetype(\"/usr/share/fonts/truetype/dejavu/DejaVuSans.ttf\", font_size)\n",
    "        except OSError:\n",
    "            font = ImageFont.load_default()\n",
    "            print(\"Используется шрифт по умолчанию, который может не поддерживать кириллицу.\")\n",
    "\n",
    "    # Создаем изображение\n",
    "    image = Image.new(\"RGB\", (screen_width, screen_height), (173, 216, 230))  # Цвет фона\n",
    "    draw = ImageDraw.Draw(image)\n",
    "\n",
    "    # Вычисляем размеры текста с учетом шрифта\n",
    "    text_bbox = draw.textbbox((0, 0), text, font=font)\n",
    "    text_width = text_bbox[2] - text_bbox[0]\n",
    "    text_height = text_bbox[3] - text_bbox[1]\n",
    "\n",
    "    # Высота и ширина окна\n",
    "    box_height = text_height + 2 * padding\n",
    "    box_x = (screen_width - box_width) // 2\n",
    "    box_y = (screen_height - box_height) // 2\n",
    "\n",
    "    # Координаты текста (внутри окна)\n",
    "    text_x = box_x + padding\n",
    "    text_y = box_y + padding\n",
    "\n",
    "    # Рисуем закругленный прямоугольник\n",
    "    draw.rounded_rectangle(\n",
    "        [(box_x, box_y), (box_x + box_width, box_y + box_height)],\n",
    "        radius=corner_radius,\n",
    "        fill=\"white\",\n",
    "        outline=\"black\",\n",
    "        width=2,\n",
    "    )\n",
    "\n",
    "    # Рисуем текст\n",
    "    draw.text((text_x, text_y), text, fill=\"black\", font=font, align=\"left\")\n",
    "\n",
    "    # Сохраняем изображение\n",
    "    image.save(output_path)\n",
    "    print(f\"Изображение сохранено: {output_path}\")\n",
    "\n",
    "\n",
    "# Пример текста\n",
    "example_text = \"Hello World\"\n",
    "\n",
    "# Создание изображения\n",
    "create_telegram_style_message(example_text)\n"
   ]
  },
  {
   "cell_type": "code",
   "execution_count": 17,
   "id": "c453d620-d31f-42c5-83ed-122add354176",
   "metadata": {},
   "outputs": [
    {
     "name": "stdout",
     "output_type": "stream",
     "text": [
      "Файл не является текстовым или имеет нестандартную кодировку.\n"
     ]
    }
   ],
   "source": [
    "def open_tgv_file(file_path):\n",
    "    try:\n",
    "        # Открытие файла в текстовом режиме\n",
    "        with open(file_path, 'r', encoding='utf-8') as file:\n",
    "            data = file.read()\n",
    "        print(\"Содержимое файла:\")\n",
    "        print(data)\n",
    "    except UnicodeDecodeError:\n",
    "        print(\"Файл не является текстовым или имеет нестандартную кодировку.\")\n",
    "    except Exception as e:\n",
    "        print(f\"Ошибка при открытии файла: {e}\")\n",
    "\n",
    "# Пример использования\n",
    "file_path = \"background.tgv\"  # Укажите путь к вашему файлу\n",
    "open_tgv_file(file_path)\n"
   ]
  },
  {
   "cell_type": "code",
   "execution_count": 23,
   "id": "ec0e5daa-88ec-4a69-ac39-8171a8d6a668",
   "metadata": {},
   "outputs": [
    {
     "ename": "AttributeError",
     "evalue": "'FreeTypeFont' object has no attribute 'getsize'",
     "output_type": "error",
     "traceback": [
      "\u001b[0;31m---------------------------------------------------------------------------\u001b[0m",
      "\u001b[0;31mAttributeError\u001b[0m                            Traceback (most recent call last)",
      "Cell \u001b[0;32mIn[23], line 58\u001b[0m\n\u001b[1;32m     55\u001b[0m output_path \u001b[38;5;241m=\u001b[39m \u001b[38;5;124m\"\u001b[39m\u001b[38;5;124moutput.jpg\u001b[39m\u001b[38;5;124m\"\u001b[39m  \u001b[38;5;66;03m# Путь для сохранения результата\u001b[39;00m\n\u001b[1;32m     56\u001b[0m text \u001b[38;5;241m=\u001b[39m \u001b[38;5;124m\"\u001b[39m\u001b[38;5;124mЭто пример длинного текста, который автоматически переносится на новую строку, если он не помещается в ширину окна.\u001b[39m\u001b[38;5;124m\"\u001b[39m\n\u001b[0;32m---> 58\u001b[0m add_text_overlay(image_path, output_path, text)\n",
      "Cell \u001b[0;32mIn[23], line 20\u001b[0m, in \u001b[0;36madd_text_overlay\u001b[0;34m(image_path, output_path, text)\u001b[0m\n\u001b[1;32m     18\u001b[0m \u001b[38;5;28;01mfor\u001b[39;00m word \u001b[38;5;129;01min\u001b[39;00m words:\n\u001b[1;32m     19\u001b[0m     test_line \u001b[38;5;241m=\u001b[39m \u001b[38;5;124mf\u001b[39m\u001b[38;5;124m\"\u001b[39m\u001b[38;5;132;01m{\u001b[39;00mcurrent_line\u001b[38;5;132;01m}\u001b[39;00m\u001b[38;5;124m \u001b[39m\u001b[38;5;132;01m{\u001b[39;00mword\u001b[38;5;132;01m}\u001b[39;00m\u001b[38;5;124m\"\u001b[39m\u001b[38;5;241m.\u001b[39mstrip()\n\u001b[0;32m---> 20\u001b[0m     test_width, _ \u001b[38;5;241m=\u001b[39m font\u001b[38;5;241m.\u001b[39mgetsize(test_line)\n\u001b[1;32m     22\u001b[0m     \u001b[38;5;28;01mif\u001b[39;00m test_width \u001b[38;5;241m<\u001b[39m\u001b[38;5;241m=\u001b[39m window_width:\n\u001b[1;32m     23\u001b[0m         current_line \u001b[38;5;241m=\u001b[39m test_line\n",
      "\u001b[0;31mAttributeError\u001b[0m: 'FreeTypeFont' object has no attribute 'getsize'"
     ]
    }
   ],
   "source": []
  },
  {
   "cell_type": "code",
   "execution_count": 27,
   "id": "4bac33f8-79a1-437e-9b7e-8d2296015418",
   "metadata": {},
   "outputs": [],
   "source": [
    "from PIL import Image, ImageDraw, ImageFont\n",
    "\n",
    "def add_text_overlay(image_path, output_path, text):\n",
    "    # Загрузить изображение\n",
    "    image = Image.open(image_path)\n",
    "    image_width, image_height = image.size\n",
    "\n",
    "    # Настройки окна с текстом\n",
    "    window_width = image_width // 3\n",
    "    font_size = 20\n",
    "\n",
    "    # Попытка загрузить шрифт\n",
    "    try:\n",
    "        font = ImageFont.truetype(\"OpenSans.ttf\", font_size)\n",
    "    except OSError:\n",
    "        font = ImageFont.load_default()  # Загрузить шрифт по умолчанию, если arial недоступен\n",
    "\n",
    "    # Разбить текст на строки, которые помещаются в ширину окна\n",
    "    lines = []\n",
    "    words = text.split()\n",
    "    current_line = \"\"\n",
    "\n",
    "    for word in words:\n",
    "        test_line = f\"{current_line} {word}\".strip()\n",
    "        test_bbox = font.getbbox(test_line)  # Получаем размеры текста\n",
    "        test_width = test_bbox[2] - test_bbox[0]  # Вычисляем ширину текста\n",
    "\n",
    "        if test_width <= window_width:\n",
    "            current_line = test_line\n",
    "        else:\n",
    "            lines.append(current_line)\n",
    "            current_line = word\n",
    "\n",
    "    if current_line:\n",
    "        lines.append(current_line)\n",
    "\n",
    "    # Вычислить высоту окна с текстом\n",
    "    line_height = font_size + 5  # Добавим небольшой интервал между строками\n",
    "    window_height = line_height * len(lines)\n",
    "\n",
    "    # Создать новое изображение с белым фоном для окна с текстом\n",
    "    text_window = Image.new(\"RGBA\", (window_width, window_height), \"white\")\n",
    "    draw = ImageDraw.Draw(text_window)\n",
    "\n",
    "    # Отрисовать текст в окне\n",
    "    for i, line in enumerate(lines):\n",
    "        draw.text((5, i * line_height), line, font=font, fill=\"black\")\n",
    "\n",
    "    # Вычислить позицию для вставки окна с текстом\n",
    "    position_x = (image_width - window_width) // 2\n",
    "    position_y = 0\n",
    "\n",
    "    # Добавить окно с текстом на оригинальное изображение\n",
    "    image.paste(text_window, (position_x, position_y), text_window)\n",
    "\n",
    "    # Сохранить результат\n",
    "    image.save(output_path)\n",
    "\n",
    "# Использование функции\n",
    "image_path = \"theme_tg.png\"  # Замените на путь к вашему изображению\n",
    "output_path = \"output.jpg\"  # Путь для сохранения результата\n",
    "text = \"В результате недавних погодных явлений, местные жители столкнулись с временными неудобствами, связанными с повышением уровня воды. Однако, традиционные практики и обычаи помогают сообществу адаптироваться к изменившимся условиям\"\n",
    "\n",
    "add_text_overlay(image_path, output_path, text)\n"
   ]
  },
  {
   "cell_type": "code",
   "execution_count": 51,
   "id": "5663dcaa-deee-41f2-bb40-f5d9aadf5b08",
   "metadata": {},
   "outputs": [],
   "source": [
    "from PIL import Image, ImageDraw, ImageFont\n",
    "\n",
    "def add_text_overlay(image_path, output_path, text):\n",
    "    # Загрузить изображение\n",
    "    image = Image.open(image_path)\n",
    "    image_width, image_height = image.size\n",
    "\n",
    "    # Настройки окна с текстом\n",
    "    window_width = image_width // 3\n",
    "    font_size = 12\n",
    "    corner_radius = 10  # Радиус закругленных углов\n",
    "    padding = 20  # Отступы текста от краёв окна\n",
    "\n",
    "    # Попытка загрузить шрифт\n",
    "    try:\n",
    "        font = ImageFont.truetype(\"OpenSans.ttf\", font_size)\n",
    "    except OSError:\n",
    "        font = ImageFont.load_default()  # Загрузить шрифт по умолчанию, если шрифт недоступен\n",
    "\n",
    "    # Разбить текст на строки, которые помещаются в ширину окна\n",
    "    lines = []\n",
    "    words = text.split()\n",
    "    current_line = \"\"\n",
    "\n",
    "    # Реальная ширина текста, учитывающая отступы\n",
    "    max_text_width = window_width - 2 * padding\n",
    "\n",
    "    for word in words:\n",
    "        test_line = f\"{current_line} {word}\".strip()\n",
    "        test_bbox = font.getbbox(test_line)  # Получаем размеры текста\n",
    "        test_width = test_bbox[2] - test_bbox[0]  # Вычисляем ширину текста\n",
    "\n",
    "        if test_width <= max_text_width:\n",
    "            current_line = test_line\n",
    "        else:\n",
    "            lines.append(current_line)\n",
    "            current_line = word\n",
    "\n",
    "    if current_line:\n",
    "        lines.append(current_line)\n",
    "\n",
    "    # Вычислить высоту окна с текстом\n",
    "    line_height = font_size + 5  # Добавим небольшой интервал между строками\n",
    "    window_height = line_height * len(lines) + 2 * padding\n",
    "\n",
    "    # Создать изображение для окна\n",
    "    text_window = Image.new(\"RGBA\", (window_width, window_height + padding), (255, 255, 255, 0))\n",
    "    draw = ImageDraw.Draw(text_window)\n",
    "\n",
    "    # Рисуем закругленный прямоугольник\n",
    "    rect_x0, rect_y0 = 0, 20  # Верхний левый угол (20 пикселей для треугольника)\n",
    "    rect_x1, rect_y1 = window_width, window_height  # Нижний правый угол\n",
    "    draw.rounded_rectangle([(rect_x0, rect_y0), (rect_x1, rect_y1)], radius=corner_radius, fill=\"white\")\n",
    "\n",
    "    # Добавляем треугольник слева сверху\n",
    "    triangle = [(10, 0), (30, 20), (0, 20)]  # Точки треугольника\n",
    "    draw.polygon(triangle, fill=\"white\")\n",
    "\n",
    "    # Отрисовать текст в окне с учётом отступов\n",
    "    for i, line in enumerate(lines):\n",
    "        draw.text((padding, rect_y0 + padding + i * line_height), line, font=font, fill=\"black\")\n",
    "\n",
    "    # Вычислить позицию для вставки окна с текстом\n",
    "    position_x = (image_width - window_width) // 2\n",
    "    position_y = int(image_height * 0.1)  # Смещение вниз на 10% от высоты изображения\n",
    "\n",
    "    # Добавить окно с текстом на оригинальное изображение\n",
    "    image.paste(text_window, (position_x, position_y), text_window)\n",
    "\n",
    "    # Сохранить результат\n",
    "    image.save(output_path)\n",
    "\n",
    "# Использование функции\n",
    "image_path = \"theme_tg.png\"  # Замените на путь к вашему изображению\n",
    "output_path = \"output3333.jpg\"  # Путь для сохранения результата\n",
    "text = \"В результате недавних погодных явлений, местные жители столкнулись с временными неудобствами, связанными с повышением уровня воды. Однако, традиционные практики и обычаи помогают сообществу адаптироваться к изменившимся условиям\"\n",
    "\n",
    "add_text_overlay(image_path, output_path, text)\n"
   ]
  },
  {
   "cell_type": "code",
   "execution_count": 55,
   "id": "72173a5b-2429-453e-8454-7535e49644a5",
   "metadata": {},
   "outputs": [],
   "source": [
    "from PIL import Image, ImageDraw, ImageFont\n",
    "\n",
    "def add_text_overlay(image_path, output_path, text):\n",
    "    # Загрузить изображение\n",
    "    image = Image.open(image_path)\n",
    "    image_width, image_height = image.size\n",
    "\n",
    "    # Настройки окна с текстом\n",
    "    window_width = image_width // 3\n",
    "    font_size = 14\n",
    "    corner_radius = 20  # Радиус закругленных углов\n",
    "    padding = 20  # Отступы сверху, слева и справа\n",
    "    bottom_padding = 30  # Увеличенный отступ снизу\n",
    "\n",
    "    # Попытка загрузить шрифт\n",
    "    try:\n",
    "        font = ImageFont.truetype(\"OpenSans.ttf\", font_size)\n",
    "    except OSError:\n",
    "        font = ImageFont.load_default()  # Загрузить шрифт по умолчанию, если шрифт недоступен\n",
    "\n",
    "    # Разбить текст на строки, которые помещаются в ширину окна\n",
    "    lines = []\n",
    "    words = text.split()\n",
    "    current_line = \"\"\n",
    "\n",
    "    # Реальная ширина текста с учётом отступов\n",
    "    max_text_width = window_width - 2 * padding\n",
    "\n",
    "    for word in words:\n",
    "        test_line = f\"{current_line} {word}\".strip()\n",
    "        test_bbox = font.getbbox(test_line)  # Получаем размеры текста\n",
    "        test_width = test_bbox[2] - test_bbox[0]  # Вычисляем ширину текста\n",
    "\n",
    "        if test_width <= max_text_width:\n",
    "            current_line = test_line\n",
    "        else:\n",
    "            lines.append(current_line)\n",
    "            current_line = word\n",
    "\n",
    "    if current_line:\n",
    "        lines.append(current_line)\n",
    "\n",
    "    # Вычислить высоту окна с учётом нижнего паддинга\n",
    "    line_height = font_size + 5  # Добавим небольшой интервал между строками\n",
    "    window_height = line_height * len(lines) + padding + bottom_padding\n",
    "\n",
    "    # Создать изображение для окна\n",
    "    text_window = Image.new(\"RGBA\", (window_width, window_height + padding), (255, 255, 255, 0))\n",
    "    draw = ImageDraw.Draw(text_window)\n",
    "\n",
    "    # Рисуем закругленный прямоугольник\n",
    "    rect_x0, rect_y0 = 0, 20  # Верхний левый угол (20 пикселей для треугольника)\n",
    "    rect_x1, rect_y1 = window_width, window_height  # Нижний правый угол\n",
    "    draw.rounded_rectangle([(rect_x0, rect_y0), (rect_x1, rect_y1)], radius=corner_radius, fill=\"white\")\n",
    "\n",
    "    # Добавляем треугольник слева сверху\n",
    "    triangle = [(10, 0), (30, 20), (0, 20)]  # Точки треугольника\n",
    "    draw.polygon(triangle, fill=\"white\")\n",
    "\n",
    "    # Отрисовать текст в окне с учётом отступов\n",
    "    for i, line in enumerate(lines):\n",
    "        draw.text((padding, rect_y0 + padding + i * line_height), line, font=font, fill=\"black\")\n",
    "\n",
    "    # Вычислить позицию для вставки окна с текстом\n",
    "    position_x = (image_width - window_width) // 2\n",
    "    position_y = int(image_height * 0.1)  # Смещение вниз на 10% от высоты изображения\n",
    "\n",
    "    # Добавить окно с текстом на оригинальное изображение\n",
    "    image.paste(text_window, (position_x, position_y), text_window)\n",
    "\n",
    "    # Сохранить результат\n",
    "    image.save(output_path)\n",
    "\n",
    "# Использование функции\n",
    "image_path = \"theme_tg.png\"  # Замените на путь к вашему изображению\n",
    "output_path = \"output.jpg\"  # Путь для сохранения результата\n",
    "text = \"В результате недавних погодных явлений, местные жители столкнулись с временными неудобствами, связанными с повышением уровня воды. Однако, традиционные практики и обычаи помогают сообществу адаптироваться к изменившимся условиям\"\n",
    "\n",
    "add_text_overlay(image_path, output_path, text)\n"
   ]
  },
  {
   "cell_type": "code",
   "execution_count": 23,
   "id": "f699046b-bea2-47c5-b44a-5de3444264bd",
   "metadata": {},
   "outputs": [],
   "source": [
    "from PIL import Image, ImageDraw, ImageFont\n",
    "\n",
    "def add_text_overlay(image_path, output_path, text):\n",
    "    # Загрузить изображение\n",
    "    image = Image.open(image_path).convert(\"RGBA\")  # Работа с прозрачностью\n",
    "    image_width, image_height = image.size\n",
    "\n",
    "    # Настройки окна с текстом\n",
    "    window_width = image_width // 3\n",
    "    font_size = 14  # Увеличенный шрифт для улучшения читабельности\n",
    "    corner_radius = 20  # Радиус закругленных углов\n",
    "    top_padding = 30  # Отступ сверху\n",
    "    side_padding = 20  # Отступы слева и справа\n",
    "    bottom_padding = 20  # Отступ снизу\n",
    "\n",
    "    # Загрузка шрифта\n",
    "    try:\n",
    "        font = ImageFont.truetype(\"OpenSans.ttf\", font_size)\n",
    "    except OSError:\n",
    "        font = ImageFont.load_default()\n",
    "\n",
    "    # Разбить текст на строки\n",
    "    lines = []\n",
    "    words = text.split()\n",
    "    current_line = \"\"\n",
    "    max_text_width = window_width - 2 * side_padding\n",
    "\n",
    "    for word in words:\n",
    "        test_line = f\"{current_line} {word}\".strip()\n",
    "        test_width = font.getbbox(test_line)[2]  # Ширина строки\n",
    "\n",
    "        if test_width <= max_text_width:\n",
    "            current_line = test_line\n",
    "        else:\n",
    "            lines.append(current_line)\n",
    "            current_line = word\n",
    "    if current_line:\n",
    "        lines.append(current_line)\n",
    "\n",
    "    # Высота окна текста\n",
    "    line_height = font.getbbox(\"hg\")[3] + 5\n",
    "    window_height = line_height * len(lines) + top_padding + bottom_padding\n",
    "\n",
    "    # Создание изображения для текста\n",
    "    text_window = Image.new(\"RGBA\", (window_width, window_height), (255, 255, 255, 0))\n",
    "    draw = ImageDraw.Draw(text_window)\n",
    "\n",
    "    # Рисуем закругленный прямоугольник\n",
    "    draw.rounded_rectangle(\n",
    "        [(0, 0), (window_width, window_height)],\n",
    "        radius=corner_radius,\n",
    "        fill=(255, 255, 255, 255),  # Полупрозрачный белый\n",
    "    )\n",
    "\n",
    "    # Добавляем текст в окно\n",
    "    for i, line in enumerate(lines):\n",
    "        draw.text(\n",
    "            (side_padding, top_padding + i * line_height),\n",
    "            line,\n",
    "            font=font,\n",
    "            fill=(0, 0, 0, 255),  # Чёрный текст\n",
    "        )\n",
    "\n",
    "    # Позиция для текста\n",
    "    position_x = (image_width - window_width) // 2\n",
    "    position_y = int(image_height * 0.1)\n",
    "\n",
    "    # Объединяем изображения\n",
    "    combined = Image.alpha_composite(image, Image.new(\"RGBA\", image.size, (255, 255, 255, 0)))\n",
    "    combined.paste(text_window, (position_x, position_y), text_window)\n",
    "\n",
    "    # Сохранить результат\n",
    "    combined.convert(\"RGB\").save(output_path, \"JPEG\", quality=95)\n",
    "\n",
    "# Использование функции\n",
    "image_path = \"theme_tg.png\"\n",
    "output_path = \"output7776.jpg\"\n",
    "text = \"В результате недавних погодных явлений, местные жители столкнулись с временными неудобствами, связанными с повышением уровня воды. Однако, традиционные практики и обычаи помогают сообществу адаптироваться к изменившимся условиям.\"\n",
    "\n",
    "add_text_overlay(image_path, output_path, text)\n"
   ]
  },
  {
   "cell_type": "code",
   "execution_count": 27,
   "id": "96a75b50-d4ae-4fa4-b1a2-a5bb04f99fd0",
   "metadata": {},
   "outputs": [],
   "source": [
    "from PIL import Image, ImageDraw, ImageFont\n",
    "\n",
    "def add_text_overlay(image_path, output_path, text):\n",
    "    # Загрузить изображение\n",
    "    image = Image.open(image_path).convert(\"RGBA\")  # Работа с прозрачностью\n",
    "    image_width, image_height = image.size\n",
    "\n",
    "    # Настройки окна с текстом\n",
    "    window_width = image_width // 3\n",
    "    font_size = 14  # Увеличенный шрифт для улучшения читабельности\n",
    "    corner_radius = 20  # Радиус закругленных углов\n",
    "    top_padding = 30  # Отступ сверху\n",
    "    side_padding = 20  # Отступы слева и справа\n",
    "    bottom_padding = 20  # Отступ снизу\n",
    "\n",
    "    # Загрузка шрифта\n",
    "    try:\n",
    "        font = ImageFont.truetype(\"OpenSans.ttf\", font_size)\n",
    "    except OSError:\n",
    "        font = ImageFont.load_default()\n",
    "\n",
    "    # Разбить текст на строки\n",
    "    lines = []\n",
    "    words = text.split()\n",
    "    current_line = \"\"\n",
    "    max_text_width = window_width - 2 * side_padding\n",
    "\n",
    "    for word in words:\n",
    "        test_line = f\"{current_line} {word}\".strip()\n",
    "        test_width = font.getbbox(test_line)[2]  # Ширина строки\n",
    "\n",
    "        if test_width <= max_text_width:\n",
    "            current_line = test_line\n",
    "        else:\n",
    "            lines.append(current_line)\n",
    "            current_line = word\n",
    "    if current_line:\n",
    "        lines.append(current_line)\n",
    "\n",
    "    # Высота окна текста\n",
    "    line_height = font.getbbox(\"hg\")[3] + 5\n",
    "    window_height = line_height * len(lines) + top_padding + bottom_padding\n",
    "\n",
    "    # Создание изображения для текста\n",
    "    text_window = Image.new(\"RGBA\", (window_width, window_height), (255, 255, 255, 0))\n",
    "    draw = ImageDraw.Draw(text_window)\n",
    "\n",
    "    # Рисуем прямоугольник с закругленными углами (кроме левого верхнего)\n",
    "    # Начнем с рисования обычного прямоугольника с закругленными углами\n",
    "    draw.rounded_rectangle(\n",
    "        [(0, 0), (window_width, window_height)],\n",
    "        radius=corner_radius,\n",
    "        fill=(255, 255, 255, 255),  # Полупрозрачный белый\n",
    "    )\n",
    "\n",
    "    # Перекрываем левый верхний угол, чтобы он был острым\n",
    "    draw.rectangle(\n",
    "        [(0, 0), (corner_radius, corner_radius)],\n",
    "        fill=(255, 255, 255, 255)\n",
    "    )\n",
    "\n",
    "    # Добавляем текст в окно\n",
    "    for i, line in enumerate(lines):\n",
    "        draw.text(\n",
    "            (side_padding, top_padding + i * line_height),\n",
    "            line,\n",
    "            font=font,\n",
    "            fill=(0, 0, 0, 255),  # Чёрный текст\n",
    "        )\n",
    "\n",
    "    # Позиция для текста\n",
    "    position_x = (image_width - window_width) // 2\n",
    "    position_y = int(image_height * 0.1)\n",
    "\n",
    "    # Объединяем изображения\n",
    "    combined = Image.alpha_composite(image, Image.new(\"RGBA\", image.size, (255, 255, 255, 0)))\n",
    "    combined.paste(text_window, (position_x, position_y), text_window)\n",
    "\n",
    "    # Сохранить результат\n",
    "    combined.convert(\"RGB\").save(output_path, \"JPEG\", quality=95)\n",
    "\n",
    "# Использование функции\n",
    "image_path = \"theme_tg.png\"\n",
    "output_path = \"output999.jpg\"\n",
    "text = \"В результате недавних погодных явлений, местные жители столкнулись с временными неудобствами, связанными с повышением уровня воды. Однако, традиционные практики и обычаи помогают сообществу адаптироваться к изменившимся условиям.\"\n",
    "\n",
    "add_text_overlay(image_path, output_path, text)\n"
   ]
  },
  {
   "cell_type": "code",
   "execution_count": 109,
   "id": "6e6d5de3-6ab7-46c2-879b-73fe37e2ad5d",
   "metadata": {},
   "outputs": [],
   "source": [
    "from PIL import Image, ImageDraw, ImageFont\n",
    "\n",
    "def add_text_overlay(image_path, output_path, text, logo_path):\n",
    "    # Загрузить изображение\n",
    "    image = Image.open(image_path).convert(\"RGBA\")  # Работа с прозрачностью\n",
    "    image_width, image_height = image.size\n",
    "\n",
    "    # Настройки окна с текстом\n",
    "    window_width = image_width // 3\n",
    "    font_size = 15  # Увеличенный шрифт для улучшения читабельности\n",
    "    corner_radius = 20  # Радиус закругленных углов\n",
    "    top_padding = 35  # Отступ сверху\n",
    "    side_padding = 20  # Отступы слева и справа\n",
    "    bottom_padding = 20  # Отступ снизу\n",
    "\n",
    "    # Загрузка шрифта\n",
    "    try:\n",
    "        font = ImageFont.truetype(\"OpenSans.ttf\", font_size)\n",
    "    except OSError:\n",
    "        font = ImageFont.load_default()\n",
    "\n",
    "    # Разбить текст на строки\n",
    "    lines = []\n",
    "    words = text.split()\n",
    "    current_line = \"\"\n",
    "    max_text_width = window_width - 2 * side_padding\n",
    "\n",
    "    for word in words:\n",
    "        test_line = f\"{current_line} {word}\".strip()\n",
    "        test_width = font.getbbox(test_line)[2]  # Ширина строки\n",
    "\n",
    "        if test_width <= max_text_width:\n",
    "            current_line = test_line\n",
    "        else:\n",
    "            lines.append(current_line)\n",
    "            current_line = word\n",
    "    if current_line:\n",
    "        lines.append(current_line)\n",
    "\n",
    "    # Высота окна текста\n",
    "    line_height = font.getbbox(\"hg\")[3] + 5\n",
    "    window_height = line_height * len(lines) + top_padding + bottom_padding\n",
    "\n",
    "    # Создание изображения для текста\n",
    "    text_window = Image.new(\"RGBA\", (window_width, window_height), (255, 255, 255, 0))\n",
    "    draw = ImageDraw.Draw(text_window)\n",
    "\n",
    "    # Рисуем прямоугольник с закругленными углами (кроме левого верхнего)\n",
    "    draw.rounded_rectangle(\n",
    "        [(0, 0), (window_width, window_height)],\n",
    "        radius=corner_radius,\n",
    "        fill=(30, 30, 30, 255),  # Полупрозрачный белый\n",
    "    )\n",
    "\n",
    "    # Перекрываем левый верхний угол, чтобы он был острым\n",
    "    draw.rectangle(\n",
    "        [(0, 0), (corner_radius, corner_radius)],\n",
    "        fill=(30, 30, 30, 255)\n",
    "    )\n",
    "\n",
    "    # Добавляем текст в окно\n",
    "    for i, line in enumerate(lines):\n",
    "        draw.text(\n",
    "            (side_padding, top_padding + i * line_height),\n",
    "            line,\n",
    "            font=font,\n",
    "            fill=(255, 255, 255, 255),  # Чёрный текст\n",
    "        )\n",
    "\n",
    "    # Загрузить и уменьшить логотип\n",
    "    logo = Image.open(logo_path).convert(\"RGBA\")\n",
    "    logo_size = int(corner_radius * 1.5)  # Новый уменьшенный размер логотипа\n",
    "    logo = logo.resize((logo_size, logo_size), Image.LANCZOS)\n",
    "\n",
    "    # Позиция логотипа (в правом верхнем углу окна)\n",
    "    logo_x = window_width - logo_size - corner_radius // 2\n",
    "    logo_y = corner_radius // 2\n",
    "    text_window.paste(logo, (logo_x, logo_y), logo)\n",
    "\n",
    "    # Позиция для окна текста\n",
    "    position_x = (image_width - window_width) // 2\n",
    "    position_y = int(image_height * 0.1)\n",
    "\n",
    "    # Объединяем изображения\n",
    "    combined = Image.alpha_composite(image, Image.new(\"RGBA\", image.size, (255, 255, 255, 0)))\n",
    "    combined.paste(text_window, (position_x, position_y), text_window)\n",
    "\n",
    "    # Сохранить результат\n",
    "    combined.convert(\"RGB\").save(output_path, \"JPEG\", quality=1000)\n",
    "\n",
    "# Использование функции\n",
    "image_path = \"fone.PNG\"\n",
    "output_path = \"output11111.jpg\"\n",
    "text = \"Из-за изменений климата наводнения становятся все более частыми и разрушительными. Ваш дом и жизнь могут оказаться под угрозой уже завтра. Если мы не предпримем меры, последствия будут катастрофическими и необратимыми для будущих поколений. \"\n",
    "logo_path = \"icoone-removebg.png\"\n",
    "\n",
    "add_text_overlay(image_path, output_path, text, logo_path)\n"
   ]
  },
  {
   "cell_type": "raw",
   "id": "1ee68ae3-21bb-4133-b363-87b34546e2dd",
   "metadata": {},
   "source": [
    "***ФИНАЛ***"
   ]
  },
  {
   "cell_type": "code",
   "execution_count": 113,
   "id": "7159ae60-9e95-43de-bc1a-dc42adf65cd1",
   "metadata": {},
   "outputs": [],
   "source": [
    "\n",
    "\n",
    "from PIL import Image, ImageDraw, ImageFont\n",
    "\n",
    "def add_text_overlay(image_path, output_path, text, logo_path, photo_path):\n",
    "    # Загрузить изображение\n",
    "    image = Image.open(image_path).convert(\"RGBA\")  # Работа с прозрачностью\n",
    "    image_width, image_height = image.size\n",
    "\n",
    "    # Настройки окна с текстом\n",
    "    window_width = image_width // 3\n",
    "    font_size = 15  # Увеличенный шрифт для улучшения читабельности\n",
    "    corner_radius = 20  # Радиус закругленных углов\n",
    "    top_padding = 35  # Отступ сверху\n",
    "    side_padding = 20  # Отступы слева и справа\n",
    "    bottom_padding = 20  # Отступ снизу\n",
    "\n",
    "    # Загрузка шрифта\n",
    "    try:\n",
    "        font = ImageFont.truetype(\"OpenSans-Regular.ttf\", font_size)\n",
    "    except OSError:\n",
    "        font = ImageFont.load_default()\n",
    "\n",
    "    # Разбить текст на строки\n",
    "    lines = []\n",
    "    words = text.split()\n",
    "    current_line = \"\"\n",
    "    max_text_width = window_width - 2 * side_padding\n",
    "\n",
    "    for word in words:\n",
    "        test_line = f\"{current_line} {word}\".strip()\n",
    "        test_width = font.getbbox(test_line)[2]  # Ширина строки\n",
    "\n",
    "        if test_width <= max_text_width:\n",
    "            current_line = test_line\n",
    "        else:\n",
    "            lines.append(current_line)\n",
    "            current_line = word\n",
    "    if current_line:\n",
    "        lines.append(current_line)\n",
    "\n",
    "    # Высота окна текста\n",
    "    line_height = font.getbbox(\"hg\")[3] + 5\n",
    "    window_height = line_height * len(lines) + top_padding + bottom_padding\n",
    "\n",
    "    # Создание изображения для текста\n",
    "    text_window = Image.new(\"RGBA\", (window_width, window_height), (255, 255, 255, 0))\n",
    "    draw = ImageDraw.Draw(text_window)\n",
    "\n",
    "    # Рисуем прямоугольник с закругленными углами (кроме левого верхнего)\n",
    "    draw.rounded_rectangle(\n",
    "        [(0, 0), (window_width, window_height)],\n",
    "        radius=corner_radius,\n",
    "        fill=(30, 30, 30, 255),  # Полупрозрачный белый\n",
    "    )\n",
    "\n",
    "    # Перекрываем левый верхний угол, чтобы он был острым\n",
    "    draw.rectangle(\n",
    "        [(0, 0), (corner_radius, corner_radius)],\n",
    "        fill=(30, 30, 30, 255)\n",
    "    )\n",
    "\n",
    "    # Добавляем текст в окно\n",
    "    for i, line in enumerate(lines):\n",
    "        draw.text(\n",
    "            (side_padding, top_padding + i * line_height),\n",
    "            line,\n",
    "            font=font,\n",
    "            fill=(255, 255, 255, 255),  # Белый текст\n",
    "        )\n",
    "\n",
    "    # Загрузить и уменьшить логотип\n",
    "    logo = Image.open(logo_path).convert(\"RGBA\")\n",
    "    logo_size = int(corner_radius * 1.5)  # Новый уменьшенный размер логотипа\n",
    "    logo = logo.resize((logo_size, logo_size), Image.LANCZOS)\n",
    "\n",
    "    # Позиция логотипа (в правом верхнем углу окна)\n",
    "    logo_x = window_width - logo_size - corner_radius // 2\n",
    "    logo_y = corner_radius // 2\n",
    "    text_window.paste(logo, (logo_x, logo_y), logo)\n",
    "\n",
    "    # Загрузить фотографию и уменьшить её в 4 раза\n",
    "    photo = Image.open(photo_path).convert(\"RGBA\")\n",
    "    original_photo_width, original_photo_height = photo.size\n",
    "    photo_size = (original_photo_width // 4, original_photo_height // 4)  # Уменьшение в 4 раза\n",
    "    photo = photo.resize(photo_size, Image.LANCZOS)\n",
    "\n",
    "\n",
    "    # Создать новое изображение для текстового окна и фотографии\n",
    "    combined_window_width = window_width + photo.size[0]\n",
    "    combined_window_height = max(window_height, photo.size[1])\n",
    "    combined_window = Image.new(\"RGBA\", (combined_window_width, combined_window_height), (255, 255, 255, 0))\n",
    "\n",
    "    # Разместить фотографию\n",
    "    combined_window.paste(photo, (0, 0), photo)\n",
    "\n",
    "    # Разместить текстовое окно\n",
    "    combined_window.paste(text_window, (photo.size[0], 0), text_window)\n",
    "\n",
    "    # Позиция для окна с текстом и фотографией\n",
    "    position_x = (image_width - combined_window_width) // 2\n",
    "    position_y = int(image_height * 0.1)\n",
    "\n",
    "    # Объединяем изображения\n",
    "    combined = Image.alpha_composite(image, Image.new(\"RGBA\", image.size, (255, 255, 255, 0)))\n",
    "    combined.paste(combined_window, (position_x, position_y), combined_window)\n",
    "\n",
    "    # Сохранить результат\n",
    "    combined.convert(\"RGB\").save(output_path, \"JPEG\", quality=100)\n",
    "\n",
    "# Использование функции\n",
    "image_path = \"fone.PNG\"\n",
    "output_path = \"финалСкрин.jpg\"\n",
    "text = \"Из-за изменений климата наводнения становятся все более частыми и разрушительными. Ваш дом и жизнь могут оказаться под угрозой уже завтра. Если мы не предпримем меры, последствия будут катастрофическими и необратимыми для будущих поколений.\"\n",
    "logo_path = \"icoone-removebg.png\"\n",
    "photo_path = \"lol4_resized.png\"\n",
    "\n",
    "add_text_overlay(image_path, output_path, text, logo_path, photo_path)\n"
   ]
  },
  {
   "cell_type": "code",
   "execution_count": 20,
   "id": "8588a666-fe1b-4635-b175-179c776d9d66",
   "metadata": {},
   "outputs": [
    {
     "name": "stdout",
     "output_type": "stream",
     "text": [
      "Изображение сохранено: output_images/1_1_size.jpg\n",
      "Изображение сохранено: output_images/1_2_emerg.jpg\n",
      "Изображение сохранено: output_images/1_3_people.jpg\n",
      "Изображение сохранено: output_images/1_4_econ.jpg\n",
      "Изображение сохранено: output_images/1_5_risk.jpg\n",
      "Изображение сохранено: output_images/1_6_polit.jpg\n",
      "Изображение сохранено: output_images/1_7_recover.jpg\n",
      "Изображение сохранено: output_images/1_8_climlong.jpg\n",
      "Изображение сохранено: output_images/1_9_inequal.jpg\n",
      "Изображение сохранено: output_images/1_10_coord.jpg\n",
      "Изображение сохранено: output_images/1_11_media.jpg\n",
      "Изображение сохранено: output_images/1_12_evac.jpg\n",
      "Изображение сохранено: output_images/1_13_infeco.jpg\n",
      "Изображение сохранено: output_images/1_14_recover.jpg\n",
      "Изображение сохранено: output_images/1_15_size.jpg\n",
      "Изображение сохранено: output_images/1_16_emerg.jpg\n",
      "Изображение сохранено: output_images/1_17_risk.jpg\n",
      "Изображение сохранено: output_images/1_18_polit.jpg\n",
      "Изображение сохранено: output_images/1_19_recover.jpg\n",
      "Изображение сохранено: output_images/1_20_evac.jpg\n",
      "Изображение сохранено: output_images/2_21_size.jpg\n",
      "Изображение сохранено: output_images/2_22_emerg.jpg\n",
      "Изображение сохранено: output_images/2_23_people.jpg\n",
      "Изображение сохранено: output_images/2_24_econ.jpg\n",
      "Изображение сохранено: output_images/2_25_risk.jpg\n",
      "Изображение сохранено: output_images/2_26_polit.jpg\n",
      "Изображение сохранено: output_images/2_27_recover.jpg\n",
      "Изображение сохранено: output_images/2_28_climlong.jpg\n",
      "Изображение сохранено: output_images/2_29_inequal.jpg\n",
      "Изображение сохранено: output_images/2_30_coord.jpg\n",
      "Изображение сохранено: output_images/2_31_media.jpg\n",
      "Изображение сохранено: output_images/2_32_evac.jpg\n",
      "Изображение сохранено: output_images/2_33_infeco.jpg\n",
      "Изображение сохранено: output_images/2_34_recover.jpg\n",
      "Изображение сохранено: output_images/2_35_climlong.jpg\n",
      "Изображение сохранено: output_images/2_36_infeco.jpg\n",
      "Изображение сохранено: output_images/2_37_recover.jpg\n",
      "Изображение сохранено: output_images/2_38_media.jpg\n",
      "Изображение сохранено: output_images/2_39_econ.jpg\n",
      "Изображение сохранено: output_images/2_40_inequal.jpg\n",
      "Изображение сохранено: output_images/3_41_size.jpg\n",
      "Изображение сохранено: output_images/3_42_emerg.jpg\n",
      "Изображение сохранено: output_images/3_43_people.jpg\n",
      "Изображение сохранено: output_images/3_44_econ.jpg\n",
      "Изображение сохранено: output_images/3_45_risk.jpg\n",
      "Изображение сохранено: output_images/3_46_polit.jpg\n",
      "Изображение сохранено: output_images/3_47_recover.jpg\n",
      "Изображение сохранено: output_images/3_48_climlong.jpg\n",
      "Изображение сохранено: output_images/3_49_inequal.jpg\n",
      "Изображение сохранено: output_images/3_50_coord.jpg\n",
      "Изображение сохранено: output_images/3_51_media.jpg\n",
      "Изображение сохранено: output_images/3_52_evac.jpg\n",
      "Изображение сохранено: output_images/3_53_infeco.jpg\n",
      "Изображение сохранено: output_images/3_54_recover.jpg\n",
      "Изображение сохранено: output_images/3_55_size.jpg\n",
      "Изображение сохранено: output_images/3_56_emerg.jpg\n",
      "Изображение сохранено: output_images/3_57_polit.jpg\n",
      "Изображение сохранено: output_images/3_58_inequal.jpg\n",
      "Изображение сохранено: output_images/3_59_recover.jpg\n",
      "Изображение сохранено: output_images/3_60_inequal.jpg\n",
      "Изображение сохранено: output_images/4_61_size.jpg\n",
      "Изображение сохранено: output_images/4_62_emerg.jpg\n",
      "Изображение сохранено: output_images/4_63_people.jpg\n",
      "Изображение сохранено: output_images/4_64_econ.jpg\n",
      "Изображение сохранено: output_images/4_65_risk.jpg\n",
      "Изображение сохранено: output_images/4_66_polit.jpg\n",
      "Изображение сохранено: output_images/4_67_recover.jpg\n",
      "Изображение сохранено: output_images/4_68_climlong.jpg\n",
      "Изображение сохранено: output_images/4_69_inequal.jpg\n",
      "Изображение сохранено: output_images/4_70_coord.jpg\n",
      "Изображение сохранено: output_images/4_71_media.jpg\n",
      "Изображение сохранено: output_images/4_72_evac.jpg\n",
      "Изображение сохранено: output_images/4_73_infeco.jpg\n",
      "Изображение сохранено: output_images/4_74_recover.jpg\n",
      "Изображение сохранено: output_images/4_75_econ.jpg\n",
      "Изображение сохранено: output_images/4_76_risk.jpg\n",
      "Изображение сохранено: output_images/4_77_recover.jpg\n",
      "Изображение сохранено: output_images/4_78_media.jpg\n",
      "Изображение сохранено: output_images/4_79_econ.jpg\n",
      "Изображение сохранено: output_images/4_80_coord.jpg\n",
      "Изображение сохранено: output_images/5_81_size.jpg\n",
      "Изображение сохранено: output_images/5_82_emerg.jpg\n",
      "Изображение сохранено: output_images/5_83_people.jpg\n",
      "Изображение сохранено: output_images/5_84_econ.jpg\n",
      "Изображение сохранено: output_images/5_85_risk.jpg\n",
      "Изображение сохранено: output_images/5_86_polit.jpg\n",
      "Изображение сохранено: output_images/5_87_recover.jpg\n",
      "Изображение сохранено: output_images/5_88_climlong.jpg\n",
      "Изображение сохранено: output_images/5_89_inequal.jpg\n",
      "Изображение сохранено: output_images/5_90_coord.jpg\n",
      "Изображение сохранено: output_images/5_91_media.jpg\n",
      "Изображение сохранено: output_images/5_92_evac.jpg\n",
      "Изображение сохранено: output_images/5_93_infeco.jpg\n",
      "Изображение сохранено: output_images/5_94_recover.jpg\n",
      "Изображение сохранено: output_images/5_95_evac.jpg\n",
      "Изображение сохранено: output_images/5_96_infeco.jpg\n",
      "Изображение сохранено: output_images/5_97_climlong.jpg\n",
      "Изображение сохранено: output_images/5_98_evac.jpg\n",
      "Изображение сохранено: output_images/5_99_coord.jpg\n",
      "Изображение сохранено: output_images/5_100_size.jpg\n",
      "Изображение сохранено: output_images/6_101_size.jpg\n",
      "Изображение сохранено: output_images/6_102_emerg.jpg\n",
      "Изображение сохранено: output_images/6_103_people.jpg\n",
      "Изображение сохранено: output_images/6_104_econ.jpg\n",
      "Изображение сохранено: output_images/6_105_risk.jpg\n",
      "Изображение сохранено: output_images/6_106_polit.jpg\n",
      "Изображение сохранено: output_images/6_107_recover.jpg\n",
      "Изображение сохранено: output_images/6_108_climlong.jpg\n",
      "Изображение сохранено: output_images/6_109_inequal.jpg\n",
      "Изображение сохранено: output_images/6_110_coord.jpg\n",
      "Изображение сохранено: output_images/6_111_media.jpg\n",
      "Изображение сохранено: output_images/6_112_evac.jpg\n",
      "Изображение сохранено: output_images/6_113_infeco.jpg\n",
      "Изображение сохранено: output_images/6_114_recover.jpg\n",
      "Изображение сохранено: output_images/6_115_people.jpg\n",
      "Изображение сохранено: output_images/6_116_coord.jpg\n",
      "Изображение сохранено: output_images/6_117_people.jpg\n",
      "Изображение сохранено: output_images/6_118_climlong.jpg\n",
      "Изображение сохранено: output_images/6_119_infeco.jpg\n",
      "Изображение сохранено: output_images/6_120_risk.jpg\n",
      "Изображение сохранено: output_images/output_1.jpg\n",
      "Изображение сохранено: output_images/output_2.jpg\n",
      "Изображение сохранено: output_images/output_3.jpg\n",
      "Изображение сохранено: output_images/output_4.jpg\n",
      "Изображение сохранено: output_images/output_5.jpg\n",
      "Изображение сохранено: output_images/output_6.jpg\n",
      "Изображение сохранено: output_images/output_7.jpg\n",
      "Изображение сохранено: output_images/output_8.jpg\n",
      "Изображение сохранено: output_images/output_9.jpg\n",
      "Изображение сохранено: output_images/output_10.jpg\n",
      "Изображение сохранено: output_images/output_11.jpg\n",
      "Изображение сохранено: output_images/output_12.jpg\n",
      "Изображение сохранено: output_images/output_13.jpg\n",
      "Изображение сохранено: output_images/output_14.jpg\n",
      "Изображение сохранено: output_images/output_15.jpg\n",
      "Изображение сохранено: output_images/output_16.jpg\n",
      "Изображение сохранено: output_images/output_17.jpg\n",
      "Изображение сохранено: output_images/output_18.jpg\n",
      "Изображение сохранено: output_images/output_19.jpg\n",
      "Изображение сохранено: output_images/output_20.jpg\n",
      "Изображение сохранено: output_images/output_21.jpg\n",
      "Изображение сохранено: output_images/output_22.jpg\n",
      "Изображение сохранено: output_images/output_23.jpg\n",
      "Изображение сохранено: output_images/output_24.jpg\n",
      "Изображение сохранено: output_images/output_25.jpg\n",
      "Изображение сохранено: output_images/output_26.jpg\n",
      "Изображение сохранено: output_images/output_27.jpg\n",
      "Изображение сохранено: output_images/output_28.jpg\n",
      "Изображение сохранено: output_images/output_29.jpg\n",
      "Изображение сохранено: output_images/output_30.jpg\n",
      "Изображение сохранено: output_images/output_31.jpg\n",
      "Изображение сохранено: output_images/output_32.jpg\n",
      "Изображение сохранено: output_images/output_33.jpg\n",
      "Изображение сохранено: output_images/output_34.jpg\n",
      "Изображение сохранено: output_images/output_35.jpg\n",
      "Изображение сохранено: output_images/output_36.jpg\n",
      "Изображение сохранено: output_images/output_37.jpg\n",
      "Изображение сохранено: output_images/output_38.jpg\n",
      "Изображение сохранено: output_images/output_39.jpg\n",
      "Изображение сохранено: output_images/output_40.jpg\n",
      "Изображение сохранено: output_images/output_41.jpg\n",
      "Изображение сохранено: output_images/output_42.jpg\n",
      "Изображение сохранено: output_images/output_43.jpg\n",
      "Изображение сохранено: output_images/output_44.jpg\n",
      "Изображение сохранено: output_images/output_45.jpg\n",
      "Изображение сохранено: output_images/output_46.jpg\n",
      "Изображение сохранено: output_images/output_47.jpg\n",
      "Изображение сохранено: output_images/output_48.jpg\n",
      "Изображение сохранено: output_images/output_49.jpg\n",
      "Изображение сохранено: output_images/output_50.jpg\n",
      "Изображение сохранено: output_images/output_51.jpg\n",
      "Изображение сохранено: output_images/output_52.jpg\n",
      "Изображение сохранено: output_images/output_53.jpg\n",
      "Изображение сохранено: output_images/output_54.jpg\n",
      "Изображение сохранено: output_images/output_55.jpg\n",
      "Изображение сохранено: output_images/output_56.jpg\n",
      "Изображение сохранено: output_images/output_57.jpg\n",
      "Изображение сохранено: output_images/output_58.jpg\n",
      "Изображение сохранено: output_images/output_59.jpg\n",
      "Изображение сохранено: output_images/output_60.jpg\n",
      "Изображение сохранено: output_images/output_61.jpg\n",
      "Изображение сохранено: output_images/output_62.jpg\n",
      "Изображение сохранено: output_images/output_63.jpg\n",
      "Изображение сохранено: output_images/output_64.jpg\n",
      "Изображение сохранено: output_images/output_65.jpg\n",
      "Изображение сохранено: output_images/output_66.jpg\n",
      "Изображение сохранено: output_images/output_67.jpg\n",
      "Изображение сохранено: output_images/output_68.jpg\n",
      "Изображение сохранено: output_images/output_69.jpg\n",
      "Изображение сохранено: output_images/output_70.jpg\n",
      "Изображение сохранено: output_images/output_71.jpg\n",
      "Изображение сохранено: output_images/output_72.jpg\n",
      "Изображение сохранено: output_images/output_73.jpg\n",
      "Изображение сохранено: output_images/output_74.jpg\n",
      "Изображение сохранено: output_images/output_75.jpg\n",
      "Изображение сохранено: output_images/output_76.jpg\n",
      "Изображение сохранено: output_images/output_77.jpg\n",
      "Изображение сохранено: output_images/output_78.jpg\n",
      "Изображение сохранено: output_images/output_79.jpg\n",
      "Изображение сохранено: output_images/output_80.jpg\n",
      "Изображение сохранено: output_images/output_81.jpg\n",
      "Изображение сохранено: output_images/output_82.jpg\n",
      "Изображение сохранено: output_images/output_83.jpg\n",
      "Изображение сохранено: output_images/output_84.jpg\n",
      "Изображение сохранено: output_images/output_85.jpg\n",
      "Изображение сохранено: output_images/output_86.jpg\n",
      "Изображение сохранено: output_images/output_87.jpg\n",
      "Изображение сохранено: output_images/output_88.jpg\n",
      "Изображение сохранено: output_images/output_89.jpg\n",
      "Изображение сохранено: output_images/output_90.jpg\n",
      "Изображение сохранено: output_images/output_91.jpg\n",
      "Изображение сохранено: output_images/output_92.jpg\n",
      "Изображение сохранено: output_images/output_93.jpg\n",
      "Изображение сохранено: output_images/output_94.jpg\n",
      "Изображение сохранено: output_images/output_95.jpg\n",
      "Изображение сохранено: output_images/output_96.jpg\n",
      "Изображение сохранено: output_images/output_97.jpg\n",
      "Изображение сохранено: output_images/output_98.jpg\n",
      "Изображение сохранено: output_images/output_99.jpg\n",
      "Изображение сохранено: output_images/output_100.jpg\n",
      "Изображение сохранено: output_images/output_101.jpg\n",
      "Изображение сохранено: output_images/output_102.jpg\n",
      "Изображение сохранено: output_images/output_103.jpg\n",
      "Изображение сохранено: output_images/output_104.jpg\n",
      "Изображение сохранено: output_images/output_105.jpg\n",
      "Изображение сохранено: output_images/output_106.jpg\n",
      "Изображение сохранено: output_images/output_107.jpg\n",
      "Изображение сохранено: output_images/output_108.jpg\n",
      "Изображение сохранено: output_images/output_109.jpg\n",
      "Изображение сохранено: output_images/output_110.jpg\n",
      "Изображение сохранено: output_images/output_111.jpg\n",
      "Изображение сохранено: output_images/output_112.jpg\n",
      "Изображение сохранено: output_images/output_113.jpg\n",
      "Изображение сохранено: output_images/output_114.jpg\n",
      "Изображение сохранено: output_images/output_115.jpg\n",
      "Изображение сохранено: output_images/output_116.jpg\n",
      "Изображение сохранено: output_images/output_117.jpg\n",
      "Изображение сохранено: output_images/output_118.jpg\n",
      "Изображение сохранено: output_images/output_119.jpg\n",
      "Изображение сохранено: output_images/output_120.jpg\n"
     ]
    }
   ],
   "source": [
    "import os\n",
    "import pandas as pd\n",
    "from PIL import Image, ImageDraw, ImageFont\n",
    "\n",
    "def add_text_overlay(image_path, output_path, text, logo_path, photo_path):\n",
    "    # Загрузить изображение\n",
    "    image = Image.open(image_path).convert(\"RGBA\")\n",
    "    image_width, image_height = image.size\n",
    "\n",
    "    # Настройки окна с текстом\n",
    "    window_width = image_width // 3\n",
    "    font_size = 15\n",
    "    corner_radius = 20\n",
    "    top_padding = 35\n",
    "    side_padding = 20\n",
    "    bottom_padding = 20\n",
    "\n",
    "    # Загрузка шрифта\n",
    "    try:\n",
    "        font = ImageFont.truetype(\"OpenSans-Regular.ttf\", font_size)\n",
    "    except OSError:\n",
    "        font = ImageFont.load_default()\n",
    "\n",
    "    # Разбить текст на строки\n",
    "    lines = []\n",
    "    words = text.split()\n",
    "    current_line = \"\"\n",
    "    max_text_width = window_width - 2 * side_padding\n",
    "\n",
    "    for word in words:\n",
    "        test_line = f\"{current_line} {word}\".strip()\n",
    "        test_width = font.getbbox(test_line)[2]\n",
    "\n",
    "        if test_width <= max_text_width:\n",
    "            current_line = test_line\n",
    "        else:\n",
    "            lines.append(current_line)\n",
    "            current_line = word\n",
    "    if current_line:\n",
    "        lines.append(current_line)\n",
    "\n",
    "    # Высота окна текста\n",
    "    line_height = font.getbbox(\"hg\")[3] + 5\n",
    "    window_height = line_height * len(lines) + top_padding + bottom_padding\n",
    "\n",
    "    # Создание изображения для текста\n",
    "    text_window = Image.new(\"RGBA\", (window_width, window_height), (255, 255, 255, 0))\n",
    "    draw = ImageDraw.Draw(text_window)\n",
    "\n",
    "    draw.rounded_rectangle(\n",
    "        [(0, 0), (window_width, window_height)],\n",
    "        radius=corner_radius,\n",
    "        fill=(30, 30, 30, 255),\n",
    "    )\n",
    "    draw.rectangle(\n",
    "        [(0, 0), (corner_radius, corner_radius)],\n",
    "        fill=(30, 30, 30, 255)\n",
    "    )\n",
    "\n",
    "    for i, line in enumerate(lines):\n",
    "        draw.text(\n",
    "            (side_padding, top_padding + i * line_height),\n",
    "            line,\n",
    "            font=font,\n",
    "            fill=(255, 255, 255, 255),\n",
    "        )\n",
    "\n",
    "    # Загрузить и уменьшить логотип\n",
    "    logo = Image.open(logo_path).convert(\"RGBA\")\n",
    "    logo_size = int(corner_radius * 1.5)\n",
    "    logo = logo.resize((logo_size, logo_size), Image.LANCZOS)\n",
    "\n",
    "    logo_x = window_width - logo_size - corner_radius // 2\n",
    "    logo_y = corner_radius // 2\n",
    "    text_window.paste(logo, (logo_x, logo_y), logo)\n",
    "\n",
    "    # Загрузить фотографию и уменьшить её в 4 раза\n",
    "    photo = Image.open(photo_path).convert(\"RGBA\")\n",
    "    photo_size = (photo.size[0] // 4, photo.size[1] // 4)\n",
    "    photo = photo.resize(photo_size, Image.LANCZOS)\n",
    "\n",
    "    combined_window_width = window_width + photo.size[0]\n",
    "    combined_window_height = max(window_height, photo.size[1])\n",
    "    combined_window = Image.new(\"RGBA\", (combined_window_width, combined_window_height), (255, 255, 255, 0))\n",
    "\n",
    "    combined_window.paste(photo, (0, 0), photo)\n",
    "    combined_window.paste(text_window, (photo.size[0], 0), text_window)\n",
    "\n",
    "    position_x = (image_width - combined_window_width) // 2\n",
    "    position_y = int(image_height * 0.1)\n",
    "\n",
    "    combined = Image.alpha_composite(image, Image.new(\"RGBA\", image.size, (255, 255, 255, 0)))\n",
    "    combined.paste(combined_window, (position_x, position_y), combined_window)\n",
    "\n",
    "    combined.convert(\"RGB\").save(output_path, \"JPEG\", quality=100)\n",
    "\n",
    "\n",
    "def process_csv_and_generate_images(csv_path, output_folder, image_path, logo_path, photo_path):\n",
    "    os.makedirs(output_folder, exist_ok=True)\n",
    "\n",
    "    data = pd.read_csv(csv_path)\n",
    "\n",
    "    for idx, row in data.iterrows():\n",
    "        text = row['news']\n",
    "        name = row['combined']\n",
    "        output_path = os.path.join(output_folder, f\"{name}.jpg\")  # Используем значение из столбца name\n",
    "        add_text_overlay(image_path, output_path, text, logo_path, photo_path)\n",
    "        print(f\"Изображение сохранено: {output_path}\")\n",
    "\n",
    "   \n",
    "    data = pd.read_csv(csv_path)\n",
    "\n",
    "    for idx, row in data.iterrows():\n",
    "        text = row['news']\n",
    "        output_path = os.path.join(output_folder, f\"output_{idx + 1}.jpg\")\n",
    "        add_text_overlay(image_path, output_path, text, logo_path, photo_path)\n",
    "        print(f\"Изображение сохранено: {output_path}\")\n",
    "\n",
    "\n",
    "csv_path = \"нейтральные префото финал.csv\"\n",
    "output_folder = \"output_images\"\n",
    "image_path = \"fone.PNG\"\n",
    "logo_path = \"icoone-removebg.png\"\n",
    "photo_path = \"lol4_resized.png\"\n",
    "\n",
    "process_csv_and_generate_images(csv_path, output_folder, image_path, logo_path, photo_path)\n"
   ]
  },
  {
   "cell_type": "code",
   "execution_count": 103,
   "id": "df6639f5-69d7-45b0-b477-4df9453d0df1",
   "metadata": {},
   "outputs": [
    {
     "name": "stdout",
     "output_type": "stream",
     "text": [
      "Изображение уменьшено и сохранено как lol4_resized.png\n"
     ]
    }
   ],
   "source": [
    "from PIL import Image\n",
    "\n",
    "# Открыть изображение\n",
    "input_image_path = \"lol3.png\"\n",
    "output_image_path = \"lol4_resized.png\"\n",
    "\n",
    "# Открыть изображение\n",
    "image = Image.open(input_image_path)\n",
    "\n",
    "# Вычислить новые размеры (уменьшение в 4 раза)\n",
    "new_size = (image.width // 5, image.height // 5)\n",
    "\n",
    "# Изменить размер изображения\n",
    "resized_image = image.resize(new_size, Image.LANCZOS)  # Используем LANCZOS вместо ANTIALIAS\n",
    "\n",
    "# Сохранить уменьшенное изображение\n",
    "resized_image.save(output_image_path)\n",
    "\n",
    "print(f\"Изображение уменьшено и сохранено как {output_image_path}\")\n"
   ]
  },
  {
   "cell_type": "code",
   "execution_count": 95,
   "id": "6b9c4788-fe10-46bd-8c7e-d2ee48ab01e1",
   "metadata": {},
   "outputs": [
    {
     "name": "stdout",
     "output_type": "stream",
     "text": [
      "Requirement already satisfied: pillow in /opt/anaconda3/lib/python3.11/site-packages (11.0.0)\n",
      "Note: you may need to restart the kernel to use updated packages.\n"
     ]
    }
   ],
   "source": [
    "pip install pillow\n"
   ]
  },
  {
   "cell_type": "code",
   "execution_count": 49,
   "id": "0557109d-67cf-40fd-9592-3f9939fea255",
   "metadata": {},
   "outputs": [
    {
     "data": {
      "text/plain": [
       "[(4, 6, 0.32193158953722334),\n",
       " (2, 6, 0.3080260303687636),\n",
       " (3, 6, 0.2465277777777778),\n",
       " (0, 6, 0.23045267489711935),\n",
       " (10, 12, 0.22822822822822822),\n",
       " (1, 8, 0.20634920634920634),\n",
       " (4, 12, 0.20234604105571846),\n",
       " (5, 6, 0.1986754966887417),\n",
       " (8, 10, 0.18374558303886926),\n",
       " (5, 13, 0.15492957746478872)]"
      ]
     },
     "execution_count": 49,
     "metadata": {},
     "output_type": "execute_result"
    }
   ],
   "source": [
    "from difflib import SequenceMatcher\n",
    "\n",
    "# Заданные тексты\n",
    "texts = [\n",
    "    \"Целые города могут быть поглощены волнами! Наводнение грозит катастрофическими последствиями для тысяч людей, оставляя их без крова и средств к существованию. Вода стремительно поднимается, разрушая дома и дороги. Спасатели работают на пределе возможностей, но многие жители остаются в опасной зоне.\",\n",
    "    \"Мир на грани катастрофы! Наводнение захлестнуло регионы, оставив тысячи людей без крова и средств к существованию. Водяной хаос не оставляет шансов на спасение! СМИ и социальные сети заполонили шокирующими кадрами разрушений, подогревая панику и распространяя недостоверные данные. Власти призывают к спокойствию, но информация разлетается быстрее, чем вода.\",\n",
    "    \"Катастрофа века: наводнение разрушает города, оставляя жителей в отчаянии! Вода стремительно поднимается, угрожая затопить всё на своём пути. Местные власти в панике: координация спасательных операций на грани провала. Уровень воды продолжает расти, угрожая новым бедствиям.\",\n",
    "    \"Наводнение, способное перевернуть политическую арену! Беспрецедентный уровень воды затопил целые города, оставив тысячи без крова. Политики обвиняют друг друга в бездействии, а социальные сети кипят от негодования. Это стихийное бедствие может стать началом конца для действующего правительства, если не будут предприняты срочные меры. Граждане требуют немедленных действий и прозрачности!\",\n",
    "    \"Катастрофа, которой не было равных! Наводнение развернулось с небывалой мощью, сметая всё на своём пути. Города и деревни уходят под воду. Это крупнейшее наводнение в истории региона. Инфраструктура разрушена, спасатели работают на пределе возможностей, но вода продолжает прибывать, угрожая новым разрушением.\",\n",
    "    \"Города на грани затопления! Катастрофическое наводнение угрожает целым регионам, люди готовятся к неминуемой эвакуации. Вода поднимается с небывалой скоростью, оставляя власти без шансов на реализацию спасительных планов. Время уходит – жизнь тысяч висит на волоске!\",\n",
    "    \"Климатические изменения приведут к еще более разрушительным катаклизмам. Вода смывает всё на своём пути, а долгосрочные последствия могут быть катастрофическими для экосистем и экономики.\",\n",
    "    \"Климатические изменения ускоряют катастрофу, а последствия могут быть непоправимыми для планеты! Жертвы стихии растут с каждым часом, спасатели не успевают эвакуировать пострадавших. Природа словно мстит человечеству за его ошибки!\",\n",
    "    \"Наводнение века захлестнуло город, сметая всё на своём пути! СМИ и социальные сети раздувают панику, распространяя шокирующие кадры и громкие заголовки. \\\"Катастрофа небывалых масштабов!\\\" - кричат заголовки, заставляя людей терять самообладание и забывать о здравом смысле.\",\n",
    "    \"Катастрофическое наводнение накрывает страну! Города уходят под воду, жители спасаются на крышах домов, а политические лидеры в панике ищут виноватых. Власти обещают немедленную помощь, но социальные сети уже кипят возмущением: люди требуют действий, а не слов. Последствия могут быть разрушительными для экономики и общества и только время покажет, справится ли страна с этой колоссальной угрозой.\",\n",
    "    \"Катастрофа, которая потрясла весь мир! Наводнение, сравнимое с библейским потопом, захлестнуло целые города, уничтожая всё на своём пути. Улицы превратились в реки, а дома — в руины. Спасатели работают на пределе возможностей, пытаясь справиться с последствиями этой беспрецедентной катастрофы.\",\n",
    "    \"Катастрофическое наводнение угрожает смыть целые города с лица земли! Вода стремительно поднимается, создавая хаос и разрушение. Экстренные службы борются с небывалыми трудностями в координации действий, что может привести к трагическим последствиям. Жители в панике покидают свои дома, спасаясь от стихии, которая не знает пощады. Ситуация может выйти из-под контроля, если не будут приняты срочные меры!\",\n",
    "    \"Катастрофа века! Наводнение грозит стереть с лица земли целые города, вынуждая тысячи людей покинуть свои дома. Эвакуационные планы находятся под угрозой срыва из-за нехватки ресурсов и хаоса на дорогах. Если ситуация не изменится, последствия будут разрушительными. Жители в панике, а спасатели работают на пределе возможностей, чтобы предотвратить неминуемую катастрофу.\",\n",
    "    \"Земля уходит из-под ног! Катастрофическое наводнение захлестнуло целые города, заставляя тысячи людей бежать из своих домов! Улицы превратились в реки, а спасатели работают круглосуточно, чтобы спасти застрявших на крышах. Вода угрожает разрушить все на своем пути, оставляя жителей в ужасе и отчаянии.\"\n",
    "]\n",
    "\n",
    "\n",
    "# Функция для расчета схожести между текстами\n",
    "def calculate_similarity(text1, text2):\n",
    "    return SequenceMatcher(None, text1, text2).ratio()\n",
    "\n",
    "# Сравнение всех текстов попарно\n",
    "n = len(texts)\n",
    "similarity_results = []\n",
    "\n",
    "for i in range(n):\n",
    "    for j in range(i + 1, n):\n",
    "        similarity = calculate_similarity(texts[i], texts[j])\n",
    "        similarity_results.append((i, j, similarity))\n",
    "\n",
    "# Отбор наиболее схожих пар\n",
    "similarity_results = sorted(similarity_results, key=lambda x: x[2], reverse=True)\n",
    "similarity_results[:10]  # Топ-10 самых похожих пар\n"
   ]
  },
  {
   "cell_type": "code",
   "execution_count": 51,
   "id": "49954ade-837b-4934-9d79-22f4b930f34d",
   "metadata": {},
   "outputs": [
    {
     "name": "stdout",
     "output_type": "stream",
     "text": [
      "Requirement already satisfied: pandas in /opt/anaconda3/lib/python3.11/site-packages (2.1.4)\n",
      "Requirement already satisfied: rich in /opt/anaconda3/lib/python3.11/site-packages (13.3.5)\n",
      "Requirement already satisfied: numpy<2,>=1.23.2 in /opt/anaconda3/lib/python3.11/site-packages (from pandas) (1.26.4)\n",
      "Requirement already satisfied: python-dateutil>=2.8.2 in /opt/anaconda3/lib/python3.11/site-packages (from pandas) (2.8.2)\n",
      "Requirement already satisfied: pytz>=2020.1 in /opt/anaconda3/lib/python3.11/site-packages (from pandas) (2023.3.post1)\n",
      "Requirement already satisfied: tzdata>=2022.1 in /opt/anaconda3/lib/python3.11/site-packages (from pandas) (2023.3)\n",
      "Requirement already satisfied: markdown-it-py<3.0.0,>=2.2.0 in /opt/anaconda3/lib/python3.11/site-packages (from rich) (2.2.0)\n",
      "Requirement already satisfied: pygments<3.0.0,>=2.13.0 in /opt/anaconda3/lib/python3.11/site-packages (from rich) (2.15.1)\n",
      "Requirement already satisfied: mdurl~=0.1 in /opt/anaconda3/lib/python3.11/site-packages (from markdown-it-py<3.0.0,>=2.2.0->rich) (0.1.0)\n",
      "Requirement already satisfied: six>=1.5 in /opt/anaconda3/lib/python3.11/site-packages (from python-dateutil>=2.8.2->pandas) (1.16.0)\n",
      "Note: you may need to restart the kernel to use updated packages.\n"
     ]
    }
   ],
   "source": [
    "pip install pandas rich\n"
   ]
  },
  {
   "cell_type": "code",
   "execution_count": 153,
   "id": "b9d19fb4-fa1a-43ca-a28f-45dc2373031c",
   "metadata": {},
   "outputs": [
    {
     "data": {
      "text/html": [
       "<pre style=\"white-space:pre;overflow-x:auto;line-height:normal;font-family:Menlo,'DejaVu Sans Mono',consolas,'Courier New',monospace\"><span style=\"font-weight: bold\">Наиболее похожие тексты:</span>\n",
       "</pre>\n"
      ],
      "text/plain": [
       "\u001b[1mНаиболее похожие тексты:\u001b[0m\n"
      ]
     },
     "metadata": {},
     "output_type": "display_data"
    },
    {
     "data": {
      "text/html": [
       "<pre style=\"white-space:pre;overflow-x:auto;line-height:normal;font-family:Menlo,'DejaVu Sans Mono',consolas,'Courier New',monospace\">\n",
       "<span style=\"font-weight: bold\">Пара текстов (</span><span style=\"color: #008080; text-decoration-color: #008080; font-weight: bold\">1</span><span style=\"font-weight: bold\">, </span><span style=\"color: #008080; text-decoration-color: #008080; font-weight: bold\">13</span><span style=\"font-weight: bold\">) с коэффициентом схожести </span><span style=\"color: #008080; text-decoration-color: #008080; font-weight: bold\">0.31</span><span style=\"font-weight: bold\">:</span>\n",
       "</pre>\n"
      ],
      "text/plain": [
       "\n",
       "\u001b[1mПара текстов \u001b[0m\u001b[1m(\u001b[0m\u001b[1;36m1\u001b[0m\u001b[1m, \u001b[0m\u001b[1;36m13\u001b[0m\u001b[1m)\u001b[0m\u001b[1m с коэффициентом схожести \u001b[0m\u001b[1;36m0.31\u001b[0m\u001b[1m:\u001b[0m\n"
      ]
     },
     "metadata": {},
     "output_type": "display_data"
    },
    {
     "data": {
      "text/html": [
       "<pre style=\"white-space:pre;overflow-x:auto;line-height:normal;font-family:Menlo,'DejaVu Sans Mono',consolas,'Courier New',monospace\"><span style=\"color: #000080; text-decoration-color: #000080\">Текст </span><span style=\"color: #000080; text-decoration-color: #000080; font-weight: bold\">1</span><span style=\"color: #000080; text-decoration-color: #000080\">:</span> <span style=\"color: #800000; text-decoration-color: #800000\">Обрушившаеся</span> на <span style=\"color: #800000; text-decoration-color: #800000\">регион</span> <span style=\"color: #800000; text-decoration-color: #800000\">наводнение,</span> <span style=\"color: #800000; text-decoration-color: #800000\">несет</span> <span style=\"color: #800000; text-decoration-color: #800000\">в</span> <span style=\"color: #800000; text-decoration-color: #800000\">себе</span> <span style=\"color: #800000; text-decoration-color: #800000\">угрозу</span> <span style=\"color: #800000; text-decoration-color: #800000\">разрушения</span> <span style=\"color: #800000; text-decoration-color: #800000\">домов</span> и <span style=\"color: #800000; text-decoration-color: #800000\">потери</span> <span style=\"color: #800000; text-decoration-color: #800000\">имущества.</span> <span style=\"color: #800000; text-decoration-color: #800000\">Синоптики</span> \n",
       "<span style=\"color: #800000; text-decoration-color: #800000\">предупреждают:</span> <span style=\"color: #800000; text-decoration-color: #800000\">если</span> не предпринять срочные меры, <span style=\"color: #800000; text-decoration-color: #800000\">последствия</span> <span style=\"color: #800000; text-decoration-color: #800000\">могут</span> <span style=\"color: #800000; text-decoration-color: #800000\">быть</span> <span style=\"color: #800000; text-decoration-color: #800000\">катастрофическими.</span> <span style=\"color: #800000; text-decoration-color: #800000\">Каждый</span> <span style=\"color: #800000; text-decoration-color: #800000\">день</span> <span style=\"color: #800000; text-decoration-color: #800000\">промедления</span> \n",
       "увеличивает риск <span style=\"color: #800000; text-decoration-color: #800000\">непоправимых</span> <span style=\"color: #800000; text-decoration-color: #800000\">потерь.</span>\n",
       "</pre>\n"
      ],
      "text/plain": [
       "\u001b[34mТекст \u001b[0m\u001b[1;34m1\u001b[0m\u001b[34m:\u001b[0m \u001b[31mОбрушившаеся\u001b[0m на \u001b[31mрегион\u001b[0m \u001b[31mнаводнение,\u001b[0m \u001b[31mнесет\u001b[0m \u001b[31mв\u001b[0m \u001b[31mсебе\u001b[0m \u001b[31mугрозу\u001b[0m \u001b[31mразрушения\u001b[0m \u001b[31mдомов\u001b[0m и \u001b[31mпотери\u001b[0m \u001b[31mимущества.\u001b[0m \u001b[31mСиноптики\u001b[0m \n",
       "\u001b[31mпредупреждают:\u001b[0m \u001b[31mесли\u001b[0m не предпринять срочные меры, \u001b[31mпоследствия\u001b[0m \u001b[31mмогут\u001b[0m \u001b[31mбыть\u001b[0m \u001b[31mкатастрофическими.\u001b[0m \u001b[31mКаждый\u001b[0m \u001b[31mдень\u001b[0m \u001b[31mпромедления\u001b[0m \n",
       "увеличивает риск \u001b[31mнепоправимых\u001b[0m \u001b[31mпотерь.\u001b[0m\n"
      ]
     },
     "metadata": {},
     "output_type": "display_data"
    },
    {
     "data": {
      "text/html": [
       "<pre style=\"white-space:pre;overflow-x:auto;line-height:normal;font-family:Menlo,'DejaVu Sans Mono',consolas,'Courier New',monospace\"><span style=\"color: #008000; text-decoration-color: #008000\">Текст </span><span style=\"color: #008000; text-decoration-color: #008000; font-weight: bold\">2</span><span style=\"color: #008000; text-decoration-color: #008000\">:</span> <span style=\"color: #800000; text-decoration-color: #800000\">Наводнение,</span> <span style=\"color: #800000; text-decoration-color: #800000\">обрушившееся</span> на <span style=\"color: #800000; text-decoration-color: #800000\">регион,</span> <span style=\"color: #800000; text-decoration-color: #800000\">уже</span> <span style=\"color: #800000; text-decoration-color: #800000\">унесло</span> <span style=\"color: #800000; text-decoration-color: #800000\">несколько</span> <span style=\"color: #800000; text-decoration-color: #800000\">жизней</span> и <span style=\"color: #800000; text-decoration-color: #800000\">разрушило</span> <span style=\"color: #800000; text-decoration-color: #800000\">сотни</span> <span style=\"color: #800000; text-decoration-color: #800000\">домов.</span> <span style=\"color: #800000; text-decoration-color: #800000\">Если</span> не \n",
       "предпринять срочные меры, <span style=\"color: #800000; text-decoration-color: #800000\">ситуация</span> <span style=\"color: #800000; text-decoration-color: #800000\">может</span> <span style=\"color: #800000; text-decoration-color: #800000\">выйти</span> <span style=\"color: #800000; text-decoration-color: #800000\">из-под</span> <span style=\"color: #800000; text-decoration-color: #800000\">контроля,</span> <span style=\"color: #800000; text-decoration-color: #800000\">и</span> <span style=\"color: #800000; text-decoration-color: #800000\">катастрофа</span> <span style=\"color: #800000; text-decoration-color: #800000\">станет</span> <span style=\"color: #800000; text-decoration-color: #800000\">неизбежной.</span> <span style=\"color: #800000; text-decoration-color: #800000\">Каждое</span> <span style=\"color: #800000; text-decoration-color: #800000\">промедление</span> \n",
       "увеличивает риск <span style=\"color: #800000; text-decoration-color: #800000\">для</span> <span style=\"color: #800000; text-decoration-color: #800000\">вас</span> <span style=\"color: #800000; text-decoration-color: #800000\">и</span> <span style=\"color: #800000; text-decoration-color: #800000\">ваших</span> <span style=\"color: #800000; text-decoration-color: #800000\">близких.</span>\n",
       "</pre>\n"
      ],
      "text/plain": [
       "\u001b[32mТекст \u001b[0m\u001b[1;32m2\u001b[0m\u001b[32m:\u001b[0m \u001b[31mНаводнение,\u001b[0m \u001b[31mобрушившееся\u001b[0m на \u001b[31mрегион,\u001b[0m \u001b[31mуже\u001b[0m \u001b[31mунесло\u001b[0m \u001b[31mнесколько\u001b[0m \u001b[31mжизней\u001b[0m и \u001b[31mразрушило\u001b[0m \u001b[31mсотни\u001b[0m \u001b[31mдомов.\u001b[0m \u001b[31mЕсли\u001b[0m не \n",
       "предпринять срочные меры, \u001b[31mситуация\u001b[0m \u001b[31mможет\u001b[0m \u001b[31mвыйти\u001b[0m \u001b[31mиз-под\u001b[0m \u001b[31mконтроля,\u001b[0m \u001b[31mи\u001b[0m \u001b[31mкатастрофа\u001b[0m \u001b[31mстанет\u001b[0m \u001b[31mнеизбежной.\u001b[0m \u001b[31mКаждое\u001b[0m \u001b[31mпромедление\u001b[0m \n",
       "увеличивает риск \u001b[31mдля\u001b[0m \u001b[31mвас\u001b[0m \u001b[31mи\u001b[0m \u001b[31mваших\u001b[0m \u001b[31mблизких.\u001b[0m\n"
      ]
     },
     "metadata": {},
     "output_type": "display_data"
    },
    {
     "data": {
      "text/html": [
       "<pre style=\"white-space:pre;overflow-x:auto;line-height:normal;font-family:Menlo,'DejaVu Sans Mono',consolas,'Courier New',monospace\">\n",
       "<span style=\"font-weight: bold\">Пара текстов (</span><span style=\"color: #008080; text-decoration-color: #008080; font-weight: bold\">2</span><span style=\"font-weight: bold\">, </span><span style=\"color: #008080; text-decoration-color: #008080; font-weight: bold\">5</span><span style=\"font-weight: bold\">) с коэффициентом схожести </span><span style=\"color: #008080; text-decoration-color: #008080; font-weight: bold\">0.28</span><span style=\"font-weight: bold\">:</span>\n",
       "</pre>\n"
      ],
      "text/plain": [
       "\n",
       "\u001b[1mПара текстов \u001b[0m\u001b[1m(\u001b[0m\u001b[1;36m2\u001b[0m\u001b[1m, \u001b[0m\u001b[1;36m5\u001b[0m\u001b[1m)\u001b[0m\u001b[1m с коэффициентом схожести \u001b[0m\u001b[1;36m0.28\u001b[0m\u001b[1m:\u001b[0m\n"
      ]
     },
     "metadata": {},
     "output_type": "display_data"
    },
    {
     "data": {
      "text/html": [
       "<pre style=\"white-space:pre;overflow-x:auto;line-height:normal;font-family:Menlo,'DejaVu Sans Mono',consolas,'Courier New',monospace\"><span style=\"color: #000080; text-decoration-color: #000080\">Текст </span><span style=\"color: #000080; text-decoration-color: #000080; font-weight: bold\">1</span><span style=\"color: #000080; text-decoration-color: #000080\">:</span> Из-за стремительного подъема уровня <span style=\"color: #800000; text-decoration-color: #800000\">воды,</span> <span style=\"color: #800000; text-decoration-color: #800000\">жители</span> <span style=\"color: #800000; text-decoration-color: #800000\">прибрежных</span> <span style=\"color: #800000; text-decoration-color: #800000\">районов</span> оказались <span style=\"color: #800000; text-decoration-color: #800000\">в</span> <span style=\"color: #800000; text-decoration-color: #800000\">смертельной</span> <span style=\"color: #800000; text-decoration-color: #800000\">опасности.</span> <span style=\"color: #800000; text-decoration-color: #800000\">Без</span>\n",
       "<span style=\"color: #800000; text-decoration-color: #800000\">четких</span> <span style=\"color: #800000; text-decoration-color: #800000\">эвакуационных</span> <span style=\"color: #800000; text-decoration-color: #800000\">планов,</span> <span style=\"color: #800000; text-decoration-color: #800000\">ваши</span> <span style=\"color: #800000; text-decoration-color: #800000\">семьи</span> могут <span style=\"color: #800000; text-decoration-color: #800000\">быть</span> <span style=\"color: #800000; text-decoration-color: #800000\">отрезаны</span> <span style=\"color: #800000; text-decoration-color: #800000\">от</span> <span style=\"color: #800000; text-decoration-color: #800000\">помощи.</span> <span style=\"color: #800000; text-decoration-color: #800000\">Необходимо</span> <span style=\"color: #800000; text-decoration-color: #800000\">срочно</span> принять меры, <span style=\"color: #800000; text-decoration-color: #800000\">иначе</span> \n",
       "последствия <span style=\"color: #800000; text-decoration-color: #800000\">могут</span> <span style=\"color: #800000; text-decoration-color: #800000\">быть</span> <span style=\"color: #800000; text-decoration-color: #800000\">катастрофическими.</span>\n",
       "</pre>\n"
      ],
      "text/plain": [
       "\u001b[34mТекст \u001b[0m\u001b[1;34m1\u001b[0m\u001b[34m:\u001b[0m Из-за стремительного подъема уровня \u001b[31mводы,\u001b[0m \u001b[31mжители\u001b[0m \u001b[31mприбрежных\u001b[0m \u001b[31mрайонов\u001b[0m оказались \u001b[31mв\u001b[0m \u001b[31mсмертельной\u001b[0m \u001b[31mопасности.\u001b[0m \u001b[31mБез\u001b[0m\n",
       "\u001b[31mчетких\u001b[0m \u001b[31mэвакуационных\u001b[0m \u001b[31mпланов,\u001b[0m \u001b[31mваши\u001b[0m \u001b[31mсемьи\u001b[0m могут \u001b[31mбыть\u001b[0m \u001b[31mотрезаны\u001b[0m \u001b[31mот\u001b[0m \u001b[31mпомощи.\u001b[0m \u001b[31mНеобходимо\u001b[0m \u001b[31mсрочно\u001b[0m принять меры, \u001b[31mиначе\u001b[0m \n",
       "последствия \u001b[31mмогут\u001b[0m \u001b[31mбыть\u001b[0m \u001b[31mкатастрофическими.\u001b[0m\n"
      ]
     },
     "metadata": {},
     "output_type": "display_data"
    },
    {
     "data": {
      "text/html": [
       "<pre style=\"white-space:pre;overflow-x:auto;line-height:normal;font-family:Menlo,'DejaVu Sans Mono',consolas,'Courier New',monospace\"><span style=\"color: #008000; text-decoration-color: #008000\">Текст </span><span style=\"color: #008000; text-decoration-color: #008000; font-weight: bold\">2</span><span style=\"color: #008000; text-decoration-color: #008000\">:</span> Из-за стремительного подъема уровня <span style=\"color: #800000; text-decoration-color: #800000\">воды</span> <span style=\"color: #800000; text-decoration-color: #800000\">многие</span> <span style=\"color: #800000; text-decoration-color: #800000\">районы</span> оказались <span style=\"color: #800000; text-decoration-color: #800000\">под</span> <span style=\"color: #800000; text-decoration-color: #800000\">угрозой</span> <span style=\"color: #800000; text-decoration-color: #800000\">наводнения.</span> <span style=\"color: #800000; text-decoration-color: #800000\">Уязвимые</span> <span style=\"color: #800000; text-decoration-color: #800000\">слои</span> \n",
       "<span style=\"color: #800000; text-decoration-color: #800000\">населения,</span> <span style=\"color: #800000; text-decoration-color: #800000\">не</span> <span style=\"color: #800000; text-decoration-color: #800000\">имеющие</span> <span style=\"color: #800000; text-decoration-color: #800000\">доступа</span> <span style=\"color: #800000; text-decoration-color: #800000\">к</span> <span style=\"color: #800000; text-decoration-color: #800000\">необходимым</span> <span style=\"color: #800000; text-decoration-color: #800000\">ресурсам,</span> могут <span style=\"color: #800000; text-decoration-color: #800000\">пострадать</span> <span style=\"color: #800000; text-decoration-color: #800000\">больше</span> <span style=\"color: #800000; text-decoration-color: #800000\">всего.</span> <span style=\"color: #800000; text-decoration-color: #800000\">Если</span> <span style=\"color: #800000; text-decoration-color: #800000\">не</span> принять <span style=\"color: #800000; text-decoration-color: #800000\">срочные</span> меры, \n",
       "<span style=\"color: #800000; text-decoration-color: #800000\">социальное</span> <span style=\"color: #800000; text-decoration-color: #800000\">неравенство</span> <span style=\"color: #800000; text-decoration-color: #800000\">лишь</span> <span style=\"color: #800000; text-decoration-color: #800000\">усугубит</span> последствия <span style=\"color: #800000; text-decoration-color: #800000\">катастрофы.</span>\n",
       "</pre>\n"
      ],
      "text/plain": [
       "\u001b[32mТекст \u001b[0m\u001b[1;32m2\u001b[0m\u001b[32m:\u001b[0m Из-за стремительного подъема уровня \u001b[31mводы\u001b[0m \u001b[31mмногие\u001b[0m \u001b[31mрайоны\u001b[0m оказались \u001b[31mпод\u001b[0m \u001b[31mугрозой\u001b[0m \u001b[31mнаводнения.\u001b[0m \u001b[31mУязвимые\u001b[0m \u001b[31mслои\u001b[0m \n",
       "\u001b[31mнаселения,\u001b[0m \u001b[31mне\u001b[0m \u001b[31mимеющие\u001b[0m \u001b[31mдоступа\u001b[0m \u001b[31mк\u001b[0m \u001b[31mнеобходимым\u001b[0m \u001b[31mресурсам,\u001b[0m могут \u001b[31mпострадать\u001b[0m \u001b[31mбольше\u001b[0m \u001b[31mвсего.\u001b[0m \u001b[31mЕсли\u001b[0m \u001b[31mне\u001b[0m принять \u001b[31mсрочные\u001b[0m меры, \n",
       "\u001b[31mсоциальное\u001b[0m \u001b[31mнеравенство\u001b[0m \u001b[31mлишь\u001b[0m \u001b[31mусугубит\u001b[0m последствия \u001b[31mкатастрофы.\u001b[0m\n"
      ]
     },
     "metadata": {},
     "output_type": "display_data"
    },
    {
     "data": {
      "text/html": [
       "<pre style=\"white-space:pre;overflow-x:auto;line-height:normal;font-family:Menlo,'DejaVu Sans Mono',consolas,'Courier New',monospace\">\n",
       "<span style=\"font-weight: bold\">Пара текстов (</span><span style=\"color: #008080; text-decoration-color: #008080; font-weight: bold\">4</span><span style=\"font-weight: bold\">, </span><span style=\"color: #008080; text-decoration-color: #008080; font-weight: bold\">12</span><span style=\"font-weight: bold\">) с коэффициентом схожести </span><span style=\"color: #008080; text-decoration-color: #008080; font-weight: bold\">0.19</span><span style=\"font-weight: bold\">:</span>\n",
       "</pre>\n"
      ],
      "text/plain": [
       "\n",
       "\u001b[1mПара текстов \u001b[0m\u001b[1m(\u001b[0m\u001b[1;36m4\u001b[0m\u001b[1m, \u001b[0m\u001b[1;36m12\u001b[0m\u001b[1m)\u001b[0m\u001b[1m с коэффициентом схожести \u001b[0m\u001b[1;36m0.19\u001b[0m\u001b[1m:\u001b[0m\n"
      ]
     },
     "metadata": {},
     "output_type": "display_data"
    },
    {
     "data": {
      "text/html": [
       "<pre style=\"white-space:pre;overflow-x:auto;line-height:normal;font-family:Menlo,'DejaVu Sans Mono',consolas,'Courier New',monospace\"><span style=\"color: #000080; text-decoration-color: #000080\">Текст </span><span style=\"color: #000080; text-decoration-color: #000080; font-weight: bold\">1</span><span style=\"color: #000080; text-decoration-color: #000080\">:</span> Наводнения становятся <span style=\"color: #800000; text-decoration-color: #800000\">все</span> более <span style=\"color: #800000; text-decoration-color: #800000\">частыми,</span> <span style=\"color: #800000; text-decoration-color: #800000\">и</span> <span style=\"color: #800000; text-decoration-color: #800000\">это</span> <span style=\"color: #800000; text-decoration-color: #800000\">несет</span> <span style=\"color: #800000; text-decoration-color: #800000\">угрозу</span> <span style=\"color: #800000; text-decoration-color: #800000\">вашему</span> <span style=\"color: #800000; text-decoration-color: #800000\">финансовому</span> <span style=\"color: #800000; text-decoration-color: #800000\">благополучию.</span> <span style=\"color: #800000; text-decoration-color: #800000\">Разрушенные</span> \n",
       "<span style=\"color: #800000; text-decoration-color: #800000\">дома</span> <span style=\"color: #800000; text-decoration-color: #800000\">и</span> <span style=\"color: #800000; text-decoration-color: #800000\">потерянное</span> <span style=\"color: #800000; text-decoration-color: #800000\">имущество</span> <span style=\"color: #800000; text-decoration-color: #800000\">могут</span> <span style=\"color: #800000; text-decoration-color: #800000\">оставить</span> <span style=\"color: #800000; text-decoration-color: #800000\">вас</span> <span style=\"color: #800000; text-decoration-color: #800000\">без</span> <span style=\"color: #800000; text-decoration-color: #800000\">средств</span> <span style=\"color: #800000; text-decoration-color: #800000\">к</span> <span style=\"color: #800000; text-decoration-color: #800000\">существованию.</span> Если не <span style=\"color: #800000; text-decoration-color: #800000\">принять</span> срочные меры, \n",
       "<span style=\"color: #800000; text-decoration-color: #800000\">экономические</span> <span style=\"color: #800000; text-decoration-color: #800000\">потери</span> будут <span style=\"color: #800000; text-decoration-color: #800000\">катастрофическими</span> и <span style=\"color: #800000; text-decoration-color: #800000\">необратимыми.</span>\n",
       "</pre>\n"
      ],
      "text/plain": [
       "\u001b[34mТекст \u001b[0m\u001b[1;34m1\u001b[0m\u001b[34m:\u001b[0m Наводнения становятся \u001b[31mвсе\u001b[0m более \u001b[31mчастыми,\u001b[0m \u001b[31mи\u001b[0m \u001b[31mэто\u001b[0m \u001b[31mнесет\u001b[0m \u001b[31mугрозу\u001b[0m \u001b[31mвашему\u001b[0m \u001b[31mфинансовому\u001b[0m \u001b[31mблагополучию.\u001b[0m \u001b[31mРазрушенные\u001b[0m \n",
       "\u001b[31mдома\u001b[0m \u001b[31mи\u001b[0m \u001b[31mпотерянное\u001b[0m \u001b[31mимущество\u001b[0m \u001b[31mмогут\u001b[0m \u001b[31mоставить\u001b[0m \u001b[31mвас\u001b[0m \u001b[31mбез\u001b[0m \u001b[31mсредств\u001b[0m \u001b[31mк\u001b[0m \u001b[31mсуществованию.\u001b[0m Если не \u001b[31mпринять\u001b[0m срочные меры, \n",
       "\u001b[31mэкономические\u001b[0m \u001b[31mпотери\u001b[0m будут \u001b[31mкатастрофическими\u001b[0m и \u001b[31mнеобратимыми.\u001b[0m\n"
      ]
     },
     "metadata": {},
     "output_type": "display_data"
    },
    {
     "data": {
      "text/html": [
       "<pre style=\"white-space:pre;overflow-x:auto;line-height:normal;font-family:Menlo,'DejaVu Sans Mono',consolas,'Courier New',monospace\"><span style=\"color: #008000; text-decoration-color: #008000\">Текст </span><span style=\"color: #008000; text-decoration-color: #008000; font-weight: bold\">2</span><span style=\"color: #008000; text-decoration-color: #008000\">:</span> Наводнения становятся <span style=\"color: #800000; text-decoration-color: #800000\">всё</span> более <span style=\"color: #800000; text-decoration-color: #800000\">частыми</span> <span style=\"color: #800000; text-decoration-color: #800000\">из-за</span> <span style=\"color: #800000; text-decoration-color: #800000\">климатических</span> <span style=\"color: #800000; text-decoration-color: #800000\">изменений.</span> Если не <span style=\"color: #800000; text-decoration-color: #800000\">предпринять</span> срочные меры, \n",
       "<span style=\"color: #800000; text-decoration-color: #800000\">ваш</span> <span style=\"color: #800000; text-decoration-color: #800000\">дом</span> <span style=\"color: #800000; text-decoration-color: #800000\">может</span> <span style=\"color: #800000; text-decoration-color: #800000\">оказаться</span> <span style=\"color: #800000; text-decoration-color: #800000\">под</span> <span style=\"color: #800000; text-decoration-color: #800000\">водой,</span> <span style=\"color: #800000; text-decoration-color: #800000\">а</span> <span style=\"color: #800000; text-decoration-color: #800000\">жизнь</span> <span style=\"color: #800000; text-decoration-color: #800000\">—</span> <span style=\"color: #800000; text-decoration-color: #800000\">в</span> <span style=\"color: #800000; text-decoration-color: #800000\">опасности.</span> <span style=\"color: #800000; text-decoration-color: #800000\">Последствия</span> <span style=\"color: #800000; text-decoration-color: #800000\">таких</span> <span style=\"color: #800000; text-decoration-color: #800000\">катастроф</span> будут <span style=\"color: #800000; text-decoration-color: #800000\">долгосрочными</span> и \n",
       "<span style=\"color: #800000; text-decoration-color: #800000\">разрушительными</span> <span style=\"color: #800000; text-decoration-color: #800000\">для</span> <span style=\"color: #800000; text-decoration-color: #800000\">всех</span> <span style=\"color: #800000; text-decoration-color: #800000\">нас.</span>\n",
       "</pre>\n"
      ],
      "text/plain": [
       "\u001b[32mТекст \u001b[0m\u001b[1;32m2\u001b[0m\u001b[32m:\u001b[0m Наводнения становятся \u001b[31mвсё\u001b[0m более \u001b[31mчастыми\u001b[0m \u001b[31mиз-за\u001b[0m \u001b[31mклиматических\u001b[0m \u001b[31mизменений.\u001b[0m Если не \u001b[31mпредпринять\u001b[0m срочные меры, \n",
       "\u001b[31mваш\u001b[0m \u001b[31mдом\u001b[0m \u001b[31mможет\u001b[0m \u001b[31mоказаться\u001b[0m \u001b[31mпод\u001b[0m \u001b[31mводой,\u001b[0m \u001b[31mа\u001b[0m \u001b[31mжизнь\u001b[0m \u001b[31m—\u001b[0m \u001b[31mв\u001b[0m \u001b[31mопасности.\u001b[0m \u001b[31mПоследствия\u001b[0m \u001b[31mтаких\u001b[0m \u001b[31mкатастроф\u001b[0m будут \u001b[31mдолгосрочными\u001b[0m и \n",
       "\u001b[31mразрушительными\u001b[0m \u001b[31mдля\u001b[0m \u001b[31mвсех\u001b[0m \u001b[31mнас.\u001b[0m\n"
      ]
     },
     "metadata": {},
     "output_type": "display_data"
    },
    {
     "data": {
      "text/html": [
       "<pre style=\"white-space:pre;overflow-x:auto;line-height:normal;font-family:Menlo,'DejaVu Sans Mono',consolas,'Courier New',monospace\">\n",
       "<span style=\"font-weight: bold\">Пара текстов (</span><span style=\"color: #008080; text-decoration-color: #008080; font-weight: bold\">8</span><span style=\"font-weight: bold\">, </span><span style=\"color: #008080; text-decoration-color: #008080; font-weight: bold\">13</span><span style=\"font-weight: bold\">) с коэффициентом схожести </span><span style=\"color: #008080; text-decoration-color: #008080; font-weight: bold\">0.18</span><span style=\"font-weight: bold\">:</span>\n",
       "</pre>\n"
      ],
      "text/plain": [
       "\n",
       "\u001b[1mПара текстов \u001b[0m\u001b[1m(\u001b[0m\u001b[1;36m8\u001b[0m\u001b[1m, \u001b[0m\u001b[1;36m13\u001b[0m\u001b[1m)\u001b[0m\u001b[1m с коэффициентом схожести \u001b[0m\u001b[1;36m0.18\u001b[0m\u001b[1m:\u001b[0m\n"
      ]
     },
     "metadata": {},
     "output_type": "display_data"
    },
    {
     "data": {
      "text/html": [
       "<pre style=\"white-space:pre;overflow-x:auto;line-height:normal;font-family:Menlo,'DejaVu Sans Mono',consolas,'Courier New',monospace\"><span style=\"color: #000080; text-decoration-color: #000080\">Текст </span><span style=\"color: #000080; text-decoration-color: #000080; font-weight: bold\">1</span><span style=\"color: #000080; text-decoration-color: #000080\">:</span> Наводнение, обрушившееся на регион, <span style=\"color: #800000; text-decoration-color: #800000\">угрожает</span> <span style=\"color: #800000; text-decoration-color: #800000\">жизням</span> <span style=\"color: #800000; text-decoration-color: #800000\">тысяч</span> <span style=\"color: #800000; text-decoration-color: #800000\">людей.</span> Если не <span style=\"color: #800000; text-decoration-color: #800000\">принять</span> срочные меры, <span style=\"color: #800000; text-decoration-color: #800000\">уровень</span> \n",
       "<span style=\"color: #800000; text-decoration-color: #800000\">воды</span> <span style=\"color: #800000; text-decoration-color: #800000\">продолжит</span> <span style=\"color: #800000; text-decoration-color: #800000\">расти,</span> <span style=\"color: #800000; text-decoration-color: #800000\">оставляя</span> <span style=\"color: #800000; text-decoration-color: #800000\">жителей</span> <span style=\"color: #800000; text-decoration-color: #800000\">без</span> <span style=\"color: #800000; text-decoration-color: #800000\">крова</span> и <span style=\"color: #800000; text-decoration-color: #800000\">доступа</span> <span style=\"color: #800000; text-decoration-color: #800000\">к</span> <span style=\"color: #800000; text-decoration-color: #800000\">основным</span> <span style=\"color: #800000; text-decoration-color: #800000\">ресурсам.</span> <span style=\"color: #800000; text-decoration-color: #800000\">Каждый</span> <span style=\"color: #800000; text-decoration-color: #800000\">день</span> <span style=\"color: #800000; text-decoration-color: #800000\">промедления</span> <span style=\"color: #800000; text-decoration-color: #800000\">может</span> \n",
       "<span style=\"color: #800000; text-decoration-color: #800000\">обернуться</span> <span style=\"color: #800000; text-decoration-color: #800000\">трагедией</span> для <span style=\"color: #800000; text-decoration-color: #800000\">вашего</span> <span style=\"color: #800000; text-decoration-color: #800000\">дома</span> и <span style=\"color: #800000; text-decoration-color: #800000\">семьи.</span>\n",
       "</pre>\n"
      ],
      "text/plain": [
       "\u001b[34mТекст \u001b[0m\u001b[1;34m1\u001b[0m\u001b[34m:\u001b[0m Наводнение, обрушившееся на регион, \u001b[31mугрожает\u001b[0m \u001b[31mжизням\u001b[0m \u001b[31mтысяч\u001b[0m \u001b[31mлюдей.\u001b[0m Если не \u001b[31mпринять\u001b[0m срочные меры, \u001b[31mуровень\u001b[0m \n",
       "\u001b[31mводы\u001b[0m \u001b[31mпродолжит\u001b[0m \u001b[31mрасти,\u001b[0m \u001b[31mоставляя\u001b[0m \u001b[31mжителей\u001b[0m \u001b[31mбез\u001b[0m \u001b[31mкрова\u001b[0m и \u001b[31mдоступа\u001b[0m \u001b[31mк\u001b[0m \u001b[31mосновным\u001b[0m \u001b[31mресурсам.\u001b[0m \u001b[31mКаждый\u001b[0m \u001b[31mдень\u001b[0m \u001b[31mпромедления\u001b[0m \u001b[31mможет\u001b[0m \n",
       "\u001b[31mобернуться\u001b[0m \u001b[31mтрагедией\u001b[0m для \u001b[31mвашего\u001b[0m \u001b[31mдома\u001b[0m и \u001b[31mсемьи.\u001b[0m\n"
      ]
     },
     "metadata": {},
     "output_type": "display_data"
    },
    {
     "data": {
      "text/html": [
       "<pre style=\"white-space:pre;overflow-x:auto;line-height:normal;font-family:Menlo,'DejaVu Sans Mono',consolas,'Courier New',monospace\"><span style=\"color: #008000; text-decoration-color: #008000\">Текст </span><span style=\"color: #008000; text-decoration-color: #008000; font-weight: bold\">2</span><span style=\"color: #008000; text-decoration-color: #008000\">:</span> Наводнение, обрушившееся на регион, <span style=\"color: #800000; text-decoration-color: #800000\">уже</span> <span style=\"color: #800000; text-decoration-color: #800000\">унесло</span> <span style=\"color: #800000; text-decoration-color: #800000\">несколько</span> <span style=\"color: #800000; text-decoration-color: #800000\">жизней</span> <span style=\"color: #800000; text-decoration-color: #800000\">и</span> <span style=\"color: #800000; text-decoration-color: #800000\">разрушило</span> <span style=\"color: #800000; text-decoration-color: #800000\">сотни</span> <span style=\"color: #800000; text-decoration-color: #800000\">домов.</span> Если не \n",
       "<span style=\"color: #800000; text-decoration-color: #800000\">предпринять</span> срочные меры, <span style=\"color: #800000; text-decoration-color: #800000\">ситуация</span> <span style=\"color: #800000; text-decoration-color: #800000\">может</span> <span style=\"color: #800000; text-decoration-color: #800000\">выйти</span> <span style=\"color: #800000; text-decoration-color: #800000\">из-под</span> <span style=\"color: #800000; text-decoration-color: #800000\">контроля,</span> и <span style=\"color: #800000; text-decoration-color: #800000\">катастрофа</span> <span style=\"color: #800000; text-decoration-color: #800000\">станет</span> <span style=\"color: #800000; text-decoration-color: #800000\">неизбежной.</span> <span style=\"color: #800000; text-decoration-color: #800000\">Каждое</span> <span style=\"color: #800000; text-decoration-color: #800000\">промедление</span> \n",
       "<span style=\"color: #800000; text-decoration-color: #800000\">увеличивает</span> <span style=\"color: #800000; text-decoration-color: #800000\">риск</span> для <span style=\"color: #800000; text-decoration-color: #800000\">вас</span> и <span style=\"color: #800000; text-decoration-color: #800000\">ваших</span> <span style=\"color: #800000; text-decoration-color: #800000\">близких.</span>\n",
       "</pre>\n"
      ],
      "text/plain": [
       "\u001b[32mТекст \u001b[0m\u001b[1;32m2\u001b[0m\u001b[32m:\u001b[0m Наводнение, обрушившееся на регион, \u001b[31mуже\u001b[0m \u001b[31mунесло\u001b[0m \u001b[31mнесколько\u001b[0m \u001b[31mжизней\u001b[0m \u001b[31mи\u001b[0m \u001b[31mразрушило\u001b[0m \u001b[31mсотни\u001b[0m \u001b[31mдомов.\u001b[0m Если не \n",
       "\u001b[31mпредпринять\u001b[0m срочные меры, \u001b[31mситуация\u001b[0m \u001b[31mможет\u001b[0m \u001b[31mвыйти\u001b[0m \u001b[31mиз-под\u001b[0m \u001b[31mконтроля,\u001b[0m и \u001b[31mкатастрофа\u001b[0m \u001b[31mстанет\u001b[0m \u001b[31mнеизбежной.\u001b[0m \u001b[31mКаждое\u001b[0m \u001b[31mпромедление\u001b[0m \n",
       "\u001b[31mувеличивает\u001b[0m \u001b[31mриск\u001b[0m для \u001b[31mвас\u001b[0m и \u001b[31mваших\u001b[0m \u001b[31mблизких.\u001b[0m\n"
      ]
     },
     "metadata": {},
     "output_type": "display_data"
    },
    {
     "data": {
      "text/html": [
       "<pre style=\"white-space:pre;overflow-x:auto;line-height:normal;font-family:Menlo,'DejaVu Sans Mono',consolas,'Courier New',monospace\">\n",
       "<span style=\"font-weight: bold\">Пара текстов (</span><span style=\"color: #008080; text-decoration-color: #008080; font-weight: bold\">3</span><span style=\"font-weight: bold\">, </span><span style=\"color: #008080; text-decoration-color: #008080; font-weight: bold\">7</span><span style=\"font-weight: bold\">) с коэффициентом схожести </span><span style=\"color: #008080; text-decoration-color: #008080; font-weight: bold\">0.17</span><span style=\"font-weight: bold\">:</span>\n",
       "</pre>\n"
      ],
      "text/plain": [
       "\n",
       "\u001b[1mПара текстов \u001b[0m\u001b[1m(\u001b[0m\u001b[1;36m3\u001b[0m\u001b[1m, \u001b[0m\u001b[1;36m7\u001b[0m\u001b[1m)\u001b[0m\u001b[1m с коэффициентом схожести \u001b[0m\u001b[1;36m0.17\u001b[0m\u001b[1m:\u001b[0m\n"
      ]
     },
     "metadata": {},
     "output_type": "display_data"
    },
    {
     "data": {
      "text/html": [
       "<pre style=\"white-space:pre;overflow-x:auto;line-height:normal;font-family:Menlo,'DejaVu Sans Mono',consolas,'Courier New',monospace\"><span style=\"color: #000080; text-decoration-color: #000080\">Текст </span><span style=\"color: #000080; text-decoration-color: #000080; font-weight: bold\">1</span><span style=\"color: #000080; text-decoration-color: #000080\">:</span> Из-за <span style=\"color: #800000; text-decoration-color: #800000\">увеличившихся</span> <span style=\"color: #800000; text-decoration-color: #800000\">ливней</span> <span style=\"color: #800000; text-decoration-color: #800000\">уровень</span> <span style=\"color: #800000; text-decoration-color: #800000\">воды</span> в <span style=\"color: #800000; text-decoration-color: #800000\">реках</span> <span style=\"color: #800000; text-decoration-color: #800000\">стремительно</span> <span style=\"color: #800000; text-decoration-color: #800000\">растет,</span> <span style=\"color: #800000; text-decoration-color: #800000\">угрожая</span> <span style=\"color: #800000; text-decoration-color: #800000\">затоплением</span> <span style=\"color: #800000; text-decoration-color: #800000\">целым</span> <span style=\"color: #800000; text-decoration-color: #800000\">районам.</span> \n",
       "Если не <span style=\"color: #800000; text-decoration-color: #800000\">принять</span> <span style=\"color: #800000; text-decoration-color: #800000\">срочные</span> меры, <span style=\"color: #800000; text-decoration-color: #800000\">наводнение</span> может стать <span style=\"color: #800000; text-decoration-color: #800000\">самым</span> <span style=\"color: #800000; text-decoration-color: #800000\">разрушительным</span> <span style=\"color: #800000; text-decoration-color: #800000\">за</span> <span style=\"color: #800000; text-decoration-color: #800000\">десятилетие,</span> <span style=\"color: #800000; text-decoration-color: #800000\">оставив</span> <span style=\"color: #800000; text-decoration-color: #800000\">тысячи</span> <span style=\"color: #800000; text-decoration-color: #800000\">людей</span> <span style=\"color: #800000; text-decoration-color: #800000\">без</span> \n",
       "<span style=\"color: #800000; text-decoration-color: #800000\">крова</span> <span style=\"color: #800000; text-decoration-color: #800000\">и</span> <span style=\"color: #800000; text-decoration-color: #800000\">средств</span> <span style=\"color: #800000; text-decoration-color: #800000\">к</span> <span style=\"color: #800000; text-decoration-color: #800000\">существованию.</span>\n",
       "</pre>\n"
      ],
      "text/plain": [
       "\u001b[34mТекст \u001b[0m\u001b[1;34m1\u001b[0m\u001b[34m:\u001b[0m Из-за \u001b[31mувеличившихся\u001b[0m \u001b[31mливней\u001b[0m \u001b[31mуровень\u001b[0m \u001b[31mводы\u001b[0m в \u001b[31mреках\u001b[0m \u001b[31mстремительно\u001b[0m \u001b[31mрастет,\u001b[0m \u001b[31mугрожая\u001b[0m \u001b[31mзатоплением\u001b[0m \u001b[31mцелым\u001b[0m \u001b[31mрайонам.\u001b[0m \n",
       "Если не \u001b[31mпринять\u001b[0m \u001b[31mсрочные\u001b[0m меры, \u001b[31mнаводнение\u001b[0m может стать \u001b[31mсамым\u001b[0m \u001b[31mразрушительным\u001b[0m \u001b[31mза\u001b[0m \u001b[31mдесятилетие,\u001b[0m \u001b[31mоставив\u001b[0m \u001b[31mтысячи\u001b[0m \u001b[31mлюдей\u001b[0m \u001b[31mбез\u001b[0m \n",
       "\u001b[31mкрова\u001b[0m \u001b[31mи\u001b[0m \u001b[31mсредств\u001b[0m \u001b[31mк\u001b[0m \u001b[31mсуществованию.\u001b[0m\n"
      ]
     },
     "metadata": {},
     "output_type": "display_data"
    },
    {
     "data": {
      "text/html": [
       "<pre style=\"white-space:pre;overflow-x:auto;line-height:normal;font-family:Menlo,'DejaVu Sans Mono',consolas,'Courier New',monospace\"><span style=\"color: #008000; text-decoration-color: #008000\">Текст </span><span style=\"color: #008000; text-decoration-color: #008000; font-weight: bold\">2</span><span style=\"color: #008000; text-decoration-color: #008000\">:</span> Из-за <span style=\"color: #800000; text-decoration-color: #800000\">участившихся</span> <span style=\"color: #800000; text-decoration-color: #800000\">наводнений,</span> <span style=\"color: #800000; text-decoration-color: #800000\">которые</span> <span style=\"color: #800000; text-decoration-color: #800000\">угрожают</span> <span style=\"color: #800000; text-decoration-color: #800000\">нашим</span> <span style=\"color: #800000; text-decoration-color: #800000\">городам,</span> <span style=\"color: #800000; text-decoration-color: #800000\">каждый</span> <span style=\"color: #800000; text-decoration-color: #800000\">житель</span> <span style=\"color: #800000; text-decoration-color: #800000\">может</span> <span style=\"color: #800000; text-decoration-color: #800000\">оказаться</span> в <span style=\"color: #800000; text-decoration-color: #800000\">опасности.</span> \n",
       "Если не <span style=\"color: #800000; text-decoration-color: #800000\">предпринять</span> меры, <span style=\"color: #800000; text-decoration-color: #800000\">тысячи</span> <span style=\"color: #800000; text-decoration-color: #800000\">людей</span> <span style=\"color: #800000; text-decoration-color: #800000\">рискуют</span> <span style=\"color: #800000; text-decoration-color: #800000\">потерять</span> <span style=\"color: #800000; text-decoration-color: #800000\">свои</span> <span style=\"color: #800000; text-decoration-color: #800000\">дома</span> <span style=\"color: #800000; text-decoration-color: #800000\">и</span> <span style=\"color: #800000; text-decoration-color: #800000\">жизни.</span> <span style=\"color: #800000; text-decoration-color: #800000\">Сегодня</span> <span style=\"color: #800000; text-decoration-color: #800000\">это</span> <span style=\"color: #800000; text-decoration-color: #800000\">лишь</span> <span style=\"color: #800000; text-decoration-color: #800000\">предупреждение,</span> <span style=\"color: #800000; text-decoration-color: #800000\">но</span> \n",
       "<span style=\"color: #800000; text-decoration-color: #800000\">завтра</span> <span style=\"color: #800000; text-decoration-color: #800000\">бедствие</span> может стать <span style=\"color: #800000; text-decoration-color: #800000\">реальностью.</span>\n",
       "</pre>\n"
      ],
      "text/plain": [
       "\u001b[32mТекст \u001b[0m\u001b[1;32m2\u001b[0m\u001b[32m:\u001b[0m Из-за \u001b[31mучастившихся\u001b[0m \u001b[31mнаводнений,\u001b[0m \u001b[31mкоторые\u001b[0m \u001b[31mугрожают\u001b[0m \u001b[31mнашим\u001b[0m \u001b[31mгородам,\u001b[0m \u001b[31mкаждый\u001b[0m \u001b[31mжитель\u001b[0m \u001b[31mможет\u001b[0m \u001b[31mоказаться\u001b[0m в \u001b[31mопасности.\u001b[0m \n",
       "Если не \u001b[31mпредпринять\u001b[0m меры, \u001b[31mтысячи\u001b[0m \u001b[31mлюдей\u001b[0m \u001b[31mрискуют\u001b[0m \u001b[31mпотерять\u001b[0m \u001b[31mсвои\u001b[0m \u001b[31mдома\u001b[0m \u001b[31mи\u001b[0m \u001b[31mжизни.\u001b[0m \u001b[31mСегодня\u001b[0m \u001b[31mэто\u001b[0m \u001b[31mлишь\u001b[0m \u001b[31mпредупреждение,\u001b[0m \u001b[31mно\u001b[0m \n",
       "\u001b[31mзавтра\u001b[0m \u001b[31mбедствие\u001b[0m может стать \u001b[31mреальностью.\u001b[0m\n"
      ]
     },
     "metadata": {},
     "output_type": "display_data"
    },
    {
     "data": {
      "text/html": [
       "<pre style=\"white-space:pre;overflow-x:auto;line-height:normal;font-family:Menlo,'DejaVu Sans Mono',consolas,'Courier New',monospace\">\n",
       "<span style=\"font-weight: bold\">Пара текстов (</span><span style=\"color: #008080; text-decoration-color: #008080; font-weight: bold\">12</span><span style=\"font-weight: bold\">, </span><span style=\"color: #008080; text-decoration-color: #008080; font-weight: bold\">14</span><span style=\"font-weight: bold\">) с коэффициентом схожести </span><span style=\"color: #008080; text-decoration-color: #008080; font-weight: bold\">0.14</span><span style=\"font-weight: bold\">:</span>\n",
       "</pre>\n"
      ],
      "text/plain": [
       "\n",
       "\u001b[1mПара текстов \u001b[0m\u001b[1m(\u001b[0m\u001b[1;36m12\u001b[0m\u001b[1m, \u001b[0m\u001b[1;36m14\u001b[0m\u001b[1m)\u001b[0m\u001b[1m с коэффициентом схожести \u001b[0m\u001b[1;36m0.14\u001b[0m\u001b[1m:\u001b[0m\n"
      ]
     },
     "metadata": {},
     "output_type": "display_data"
    },
    {
     "data": {
      "text/html": [
       "<pre style=\"white-space:pre;overflow-x:auto;line-height:normal;font-family:Menlo,'DejaVu Sans Mono',consolas,'Courier New',monospace\"><span style=\"color: #000080; text-decoration-color: #000080\">Текст </span><span style=\"color: #000080; text-decoration-color: #000080; font-weight: bold\">1</span><span style=\"color: #000080; text-decoration-color: #000080\">:</span> <span style=\"color: #800000; text-decoration-color: #800000\">Наводнения</span> <span style=\"color: #800000; text-decoration-color: #800000\">становятся</span> <span style=\"color: #800000; text-decoration-color: #800000\">всё</span> <span style=\"color: #800000; text-decoration-color: #800000\">более</span> <span style=\"color: #800000; text-decoration-color: #800000\">частыми</span> <span style=\"color: #800000; text-decoration-color: #800000\">из-за</span> <span style=\"color: #800000; text-decoration-color: #800000\">климатических</span> <span style=\"color: #800000; text-decoration-color: #800000\">изменений.</span> Если не <span style=\"color: #800000; text-decoration-color: #800000\">предпринять</span> <span style=\"color: #800000; text-decoration-color: #800000\">срочные</span> меры, \n",
       "<span style=\"color: #800000; text-decoration-color: #800000\">ваш</span> <span style=\"color: #800000; text-decoration-color: #800000\">дом</span> может <span style=\"color: #800000; text-decoration-color: #800000\">оказаться</span> <span style=\"color: #800000; text-decoration-color: #800000\">под</span> <span style=\"color: #800000; text-decoration-color: #800000\">водой,</span> <span style=\"color: #800000; text-decoration-color: #800000\">а</span> <span style=\"color: #800000; text-decoration-color: #800000\">жизнь</span> <span style=\"color: #800000; text-decoration-color: #800000\">—</span> <span style=\"color: #800000; text-decoration-color: #800000\">в</span> <span style=\"color: #800000; text-decoration-color: #800000\">опасности.</span> <span style=\"color: #800000; text-decoration-color: #800000\">Последствия</span> <span style=\"color: #800000; text-decoration-color: #800000\">таких</span> <span style=\"color: #800000; text-decoration-color: #800000\">катастроф</span> <span style=\"color: #800000; text-decoration-color: #800000\">будут</span> <span style=\"color: #800000; text-decoration-color: #800000\">долгосрочными</span> <span style=\"color: #800000; text-decoration-color: #800000\">и</span> \n",
       "<span style=\"color: #800000; text-decoration-color: #800000\">разрушительными</span> <span style=\"color: #800000; text-decoration-color: #800000\">для</span> <span style=\"color: #800000; text-decoration-color: #800000\">всех</span> <span style=\"color: #800000; text-decoration-color: #800000\">нас.</span>\n",
       "</pre>\n"
      ],
      "text/plain": [
       "\u001b[34mТекст \u001b[0m\u001b[1;34m1\u001b[0m\u001b[34m:\u001b[0m \u001b[31mНаводнения\u001b[0m \u001b[31mстановятся\u001b[0m \u001b[31mвсё\u001b[0m \u001b[31mболее\u001b[0m \u001b[31mчастыми\u001b[0m \u001b[31mиз-за\u001b[0m \u001b[31mклиматических\u001b[0m \u001b[31mизменений.\u001b[0m Если не \u001b[31mпредпринять\u001b[0m \u001b[31mсрочные\u001b[0m меры, \n",
       "\u001b[31mваш\u001b[0m \u001b[31mдом\u001b[0m может \u001b[31mоказаться\u001b[0m \u001b[31mпод\u001b[0m \u001b[31mводой,\u001b[0m \u001b[31mа\u001b[0m \u001b[31mжизнь\u001b[0m \u001b[31m—\u001b[0m \u001b[31mв\u001b[0m \u001b[31mопасности.\u001b[0m \u001b[31mПоследствия\u001b[0m \u001b[31mтаких\u001b[0m \u001b[31mкатастроф\u001b[0m \u001b[31mбудут\u001b[0m \u001b[31mдолгосрочными\u001b[0m \u001b[31mи\u001b[0m \n",
       "\u001b[31mразрушительными\u001b[0m \u001b[31mдля\u001b[0m \u001b[31mвсех\u001b[0m \u001b[31mнас.\u001b[0m\n"
      ]
     },
     "metadata": {},
     "output_type": "display_data"
    },
    {
     "data": {
      "text/html": [
       "<pre style=\"white-space:pre;overflow-x:auto;line-height:normal;font-family:Menlo,'DejaVu Sans Mono',consolas,'Courier New',monospace\"><span style=\"color: #008000; text-decoration-color: #008000\">Текст </span><span style=\"color: #008000; text-decoration-color: #008000; font-weight: bold\">2</span><span style=\"color: #008000; text-decoration-color: #008000\">:</span> <span style=\"color: #800000; text-decoration-color: #800000\">Из-за</span> <span style=\"color: #800000; text-decoration-color: #800000\">непрекращающихся</span> <span style=\"color: #800000; text-decoration-color: #800000\">ливней</span> <span style=\"color: #800000; text-decoration-color: #800000\">уровень</span> <span style=\"color: #800000; text-decoration-color: #800000\">воды</span> <span style=\"color: #800000; text-decoration-color: #800000\">в</span> <span style=\"color: #800000; text-decoration-color: #800000\">реках</span> <span style=\"color: #800000; text-decoration-color: #800000\">достиг</span> <span style=\"color: #800000; text-decoration-color: #800000\">критической</span> <span style=\"color: #800000; text-decoration-color: #800000\">отметки.</span> <span style=\"color: #800000; text-decoration-color: #800000\">Экономические</span> <span style=\"color: #800000; text-decoration-color: #800000\">потери</span> <span style=\"color: #800000; text-decoration-color: #800000\">могут</span> \n",
       "<span style=\"color: #800000; text-decoration-color: #800000\">стать</span> <span style=\"color: #800000; text-decoration-color: #800000\">катастрофическими:</span> <span style=\"color: #800000; text-decoration-color: #800000\">затопление</span> <span style=\"color: #800000; text-decoration-color: #800000\">угрожает</span> <span style=\"color: #800000; text-decoration-color: #800000\">домам</span> <span style=\"color: #800000; text-decoration-color: #800000\">и</span> <span style=\"color: #800000; text-decoration-color: #800000\">предприятиям,</span> <span style=\"color: #800000; text-decoration-color: #800000\">лишая</span> <span style=\"color: #800000; text-decoration-color: #800000\">тысячи</span> <span style=\"color: #800000; text-decoration-color: #800000\">людей</span> <span style=\"color: #800000; text-decoration-color: #800000\">средств</span> <span style=\"color: #800000; text-decoration-color: #800000\">к</span> <span style=\"color: #800000; text-decoration-color: #800000\">существованию.</span> Если\n",
       "не <span style=\"color: #800000; text-decoration-color: #800000\">принять</span> меры, <span style=\"color: #800000; text-decoration-color: #800000\">ущерб</span> может <span style=\"color: #800000; text-decoration-color: #800000\">стать</span> <span style=\"color: #800000; text-decoration-color: #800000\">необратимым.</span>\n",
       "</pre>\n"
      ],
      "text/plain": [
       "\u001b[32mТекст \u001b[0m\u001b[1;32m2\u001b[0m\u001b[32m:\u001b[0m \u001b[31mИз-за\u001b[0m \u001b[31mнепрекращающихся\u001b[0m \u001b[31mливней\u001b[0m \u001b[31mуровень\u001b[0m \u001b[31mводы\u001b[0m \u001b[31mв\u001b[0m \u001b[31mреках\u001b[0m \u001b[31mдостиг\u001b[0m \u001b[31mкритической\u001b[0m \u001b[31mотметки.\u001b[0m \u001b[31mЭкономические\u001b[0m \u001b[31mпотери\u001b[0m \u001b[31mмогут\u001b[0m \n",
       "\u001b[31mстать\u001b[0m \u001b[31mкатастрофическими:\u001b[0m \u001b[31mзатопление\u001b[0m \u001b[31mугрожает\u001b[0m \u001b[31mдомам\u001b[0m \u001b[31mи\u001b[0m \u001b[31mпредприятиям,\u001b[0m \u001b[31mлишая\u001b[0m \u001b[31mтысячи\u001b[0m \u001b[31mлюдей\u001b[0m \u001b[31mсредств\u001b[0m \u001b[31mк\u001b[0m \u001b[31mсуществованию.\u001b[0m Если\n",
       "не \u001b[31mпринять\u001b[0m меры, \u001b[31mущерб\u001b[0m может \u001b[31mстать\u001b[0m \u001b[31mнеобратимым.\u001b[0m\n"
      ]
     },
     "metadata": {},
     "output_type": "display_data"
    },
    {
     "data": {
      "text/html": [
       "<pre style=\"white-space:pre;overflow-x:auto;line-height:normal;font-family:Menlo,'DejaVu Sans Mono',consolas,'Courier New',monospace\">\n",
       "<span style=\"font-weight: bold\">Пара текстов (</span><span style=\"color: #008080; text-decoration-color: #008080; font-weight: bold\">10</span><span style=\"font-weight: bold\">, </span><span style=\"color: #008080; text-decoration-color: #008080; font-weight: bold\">14</span><span style=\"font-weight: bold\">) с коэффициентом схожести </span><span style=\"color: #008080; text-decoration-color: #008080; font-weight: bold\">0.13</span><span style=\"font-weight: bold\">:</span>\n",
       "</pre>\n"
      ],
      "text/plain": [
       "\n",
       "\u001b[1mПара текстов \u001b[0m\u001b[1m(\u001b[0m\u001b[1;36m10\u001b[0m\u001b[1m, \u001b[0m\u001b[1;36m14\u001b[0m\u001b[1m)\u001b[0m\u001b[1m с коэффициентом схожести \u001b[0m\u001b[1;36m0.13\u001b[0m\u001b[1m:\u001b[0m\n"
      ]
     },
     "metadata": {},
     "output_type": "display_data"
    },
    {
     "data": {
      "text/html": [
       "<pre style=\"white-space:pre;overflow-x:auto;line-height:normal;font-family:Menlo,'DejaVu Sans Mono',consolas,'Courier New',monospace\"><span style=\"color: #000080; text-decoration-color: #000080\">Текст </span><span style=\"color: #000080; text-decoration-color: #000080; font-weight: bold\">1</span><span style=\"color: #000080; text-decoration-color: #000080\">:</span> Из-за <span style=\"color: #800000; text-decoration-color: #800000\">увеличения</span> <span style=\"color: #800000; text-decoration-color: #800000\">числа</span> <span style=\"color: #800000; text-decoration-color: #800000\">наводнений,</span> <span style=\"color: #800000; text-decoration-color: #800000\">вызванных</span> <span style=\"color: #800000; text-decoration-color: #800000\">изменением</span> <span style=\"color: #800000; text-decoration-color: #800000\">климата,</span> <span style=\"color: #800000; text-decoration-color: #800000\">наиболее</span> <span style=\"color: #800000; text-decoration-color: #800000\">уязвимые</span> <span style=\"color: #800000; text-decoration-color: #800000\">слои</span> <span style=\"color: #800000; text-decoration-color: #800000\">населения</span> \n",
       "<span style=\"color: #800000; text-decoration-color: #800000\">оказываются</span> <span style=\"color: #800000; text-decoration-color: #800000\">под</span> <span style=\"color: #800000; text-decoration-color: #800000\">угрозой.</span> <span style=\"color: #800000; text-decoration-color: #800000\">Без</span> <span style=\"color: #800000; text-decoration-color: #800000\">своевременных</span> <span style=\"color: #800000; text-decoration-color: #800000\">мер</span> <span style=\"color: #800000; text-decoration-color: #800000\">ситуация</span> <span style=\"color: #800000; text-decoration-color: #800000\">может</span> <span style=\"color: #800000; text-decoration-color: #800000\">усугубиться,</span> и <span style=\"color: #800000; text-decoration-color: #800000\">бедные</span> <span style=\"color: #800000; text-decoration-color: #800000\">районы</span> <span style=\"color: #800000; text-decoration-color: #800000\">пострадают</span> <span style=\"color: #800000; text-decoration-color: #800000\">больше</span> <span style=\"color: #800000; text-decoration-color: #800000\">всего,</span>\n",
       "<span style=\"color: #800000; text-decoration-color: #800000\">оставляя</span> тысячи людей <span style=\"color: #800000; text-decoration-color: #800000\">без</span> <span style=\"color: #800000; text-decoration-color: #800000\">крова</span> <span style=\"color: #800000; text-decoration-color: #800000\">и</span> средств к существованию.\n",
       "</pre>\n"
      ],
      "text/plain": [
       "\u001b[34mТекст \u001b[0m\u001b[1;34m1\u001b[0m\u001b[34m:\u001b[0m Из-за \u001b[31mувеличения\u001b[0m \u001b[31mчисла\u001b[0m \u001b[31mнаводнений,\u001b[0m \u001b[31mвызванных\u001b[0m \u001b[31mизменением\u001b[0m \u001b[31mклимата,\u001b[0m \u001b[31mнаиболее\u001b[0m \u001b[31mуязвимые\u001b[0m \u001b[31mслои\u001b[0m \u001b[31mнаселения\u001b[0m \n",
       "\u001b[31mоказываются\u001b[0m \u001b[31mпод\u001b[0m \u001b[31mугрозой.\u001b[0m \u001b[31mБез\u001b[0m \u001b[31mсвоевременных\u001b[0m \u001b[31mмер\u001b[0m \u001b[31mситуация\u001b[0m \u001b[31mможет\u001b[0m \u001b[31mусугубиться,\u001b[0m и \u001b[31mбедные\u001b[0m \u001b[31mрайоны\u001b[0m \u001b[31mпострадают\u001b[0m \u001b[31mбольше\u001b[0m \u001b[31mвсего,\u001b[0m\n",
       "\u001b[31mоставляя\u001b[0m тысячи людей \u001b[31mбез\u001b[0m \u001b[31mкрова\u001b[0m \u001b[31mи\u001b[0m средств к существованию.\n"
      ]
     },
     "metadata": {},
     "output_type": "display_data"
    },
    {
     "data": {
      "text/html": [
       "<pre style=\"white-space:pre;overflow-x:auto;line-height:normal;font-family:Menlo,'DejaVu Sans Mono',consolas,'Courier New',monospace\"><span style=\"color: #008000; text-decoration-color: #008000\">Текст </span><span style=\"color: #008000; text-decoration-color: #008000; font-weight: bold\">2</span><span style=\"color: #008000; text-decoration-color: #008000\">:</span> Из-за <span style=\"color: #800000; text-decoration-color: #800000\">непрекращающихся</span> <span style=\"color: #800000; text-decoration-color: #800000\">ливней</span> <span style=\"color: #800000; text-decoration-color: #800000\">уровень</span> <span style=\"color: #800000; text-decoration-color: #800000\">воды</span> <span style=\"color: #800000; text-decoration-color: #800000\">в</span> <span style=\"color: #800000; text-decoration-color: #800000\">реках</span> <span style=\"color: #800000; text-decoration-color: #800000\">достиг</span> <span style=\"color: #800000; text-decoration-color: #800000\">критической</span> <span style=\"color: #800000; text-decoration-color: #800000\">отметки.</span> <span style=\"color: #800000; text-decoration-color: #800000\">Экономические</span> <span style=\"color: #800000; text-decoration-color: #800000\">потери</span> <span style=\"color: #800000; text-decoration-color: #800000\">могут</span> \n",
       "<span style=\"color: #800000; text-decoration-color: #800000\">стать</span> <span style=\"color: #800000; text-decoration-color: #800000\">катастрофическими:</span> <span style=\"color: #800000; text-decoration-color: #800000\">затопление</span> <span style=\"color: #800000; text-decoration-color: #800000\">угрожает</span> <span style=\"color: #800000; text-decoration-color: #800000\">домам</span> и <span style=\"color: #800000; text-decoration-color: #800000\">предприятиям,</span> <span style=\"color: #800000; text-decoration-color: #800000\">лишая</span> тысячи людей средств к существованию. <span style=\"color: #800000; text-decoration-color: #800000\">Если</span>\n",
       "<span style=\"color: #800000; text-decoration-color: #800000\">не</span> <span style=\"color: #800000; text-decoration-color: #800000\">принять</span> <span style=\"color: #800000; text-decoration-color: #800000\">меры,</span> <span style=\"color: #800000; text-decoration-color: #800000\">ущерб</span> <span style=\"color: #800000; text-decoration-color: #800000\">может</span> <span style=\"color: #800000; text-decoration-color: #800000\">стать</span> <span style=\"color: #800000; text-decoration-color: #800000\">необратимым.</span>\n",
       "</pre>\n"
      ],
      "text/plain": [
       "\u001b[32mТекст \u001b[0m\u001b[1;32m2\u001b[0m\u001b[32m:\u001b[0m Из-за \u001b[31mнепрекращающихся\u001b[0m \u001b[31mливней\u001b[0m \u001b[31mуровень\u001b[0m \u001b[31mводы\u001b[0m \u001b[31mв\u001b[0m \u001b[31mреках\u001b[0m \u001b[31mдостиг\u001b[0m \u001b[31mкритической\u001b[0m \u001b[31mотметки.\u001b[0m \u001b[31mЭкономические\u001b[0m \u001b[31mпотери\u001b[0m \u001b[31mмогут\u001b[0m \n",
       "\u001b[31mстать\u001b[0m \u001b[31mкатастрофическими:\u001b[0m \u001b[31mзатопление\u001b[0m \u001b[31mугрожает\u001b[0m \u001b[31mдомам\u001b[0m и \u001b[31mпредприятиям,\u001b[0m \u001b[31mлишая\u001b[0m тысячи людей средств к существованию. \u001b[31mЕсли\u001b[0m\n",
       "\u001b[31mне\u001b[0m \u001b[31mпринять\u001b[0m \u001b[31mмеры,\u001b[0m \u001b[31mущерб\u001b[0m \u001b[31mможет\u001b[0m \u001b[31mстать\u001b[0m \u001b[31mнеобратимым.\u001b[0m\n"
      ]
     },
     "metadata": {},
     "output_type": "display_data"
    },
    {
     "data": {
      "text/html": [
       "<pre style=\"white-space:pre;overflow-x:auto;line-height:normal;font-family:Menlo,'DejaVu Sans Mono',consolas,'Courier New',monospace\">\n",
       "<span style=\"font-weight: bold\">Пара текстов (</span><span style=\"color: #008080; text-decoration-color: #008080; font-weight: bold\">3</span><span style=\"font-weight: bold\">, </span><span style=\"color: #008080; text-decoration-color: #008080; font-weight: bold\">14</span><span style=\"font-weight: bold\">) с коэффициентом схожести </span><span style=\"color: #008080; text-decoration-color: #008080; font-weight: bold\">0.13</span><span style=\"font-weight: bold\">:</span>\n",
       "</pre>\n"
      ],
      "text/plain": [
       "\n",
       "\u001b[1mПара текстов \u001b[0m\u001b[1m(\u001b[0m\u001b[1;36m3\u001b[0m\u001b[1m, \u001b[0m\u001b[1;36m14\u001b[0m\u001b[1m)\u001b[0m\u001b[1m с коэффициентом схожести \u001b[0m\u001b[1;36m0.13\u001b[0m\u001b[1m:\u001b[0m\n"
      ]
     },
     "metadata": {},
     "output_type": "display_data"
    },
    {
     "data": {
      "text/html": [
       "<pre style=\"white-space:pre;overflow-x:auto;line-height:normal;font-family:Menlo,'DejaVu Sans Mono',consolas,'Courier New',monospace\"><span style=\"color: #000080; text-decoration-color: #000080\">Текст </span><span style=\"color: #000080; text-decoration-color: #000080; font-weight: bold\">1</span><span style=\"color: #000080; text-decoration-color: #000080\">:</span> Из-за <span style=\"color: #800000; text-decoration-color: #800000\">увеличившихся</span> ливней уровень воды в реках <span style=\"color: #800000; text-decoration-color: #800000\">стремительно</span> <span style=\"color: #800000; text-decoration-color: #800000\">растет,</span> <span style=\"color: #800000; text-decoration-color: #800000\">угрожая</span> <span style=\"color: #800000; text-decoration-color: #800000\">затоплением</span> <span style=\"color: #800000; text-decoration-color: #800000\">целым</span> <span style=\"color: #800000; text-decoration-color: #800000\">районам.</span> \n",
       "Если не принять <span style=\"color: #800000; text-decoration-color: #800000\">срочные</span> меры, <span style=\"color: #800000; text-decoration-color: #800000\">наводнение</span> может стать <span style=\"color: #800000; text-decoration-color: #800000\">самым</span> <span style=\"color: #800000; text-decoration-color: #800000\">разрушительным</span> <span style=\"color: #800000; text-decoration-color: #800000\">за</span> <span style=\"color: #800000; text-decoration-color: #800000\">десятилетие,</span> <span style=\"color: #800000; text-decoration-color: #800000\">оставив</span> <span style=\"color: #800000; text-decoration-color: #800000\">тысячи</span> <span style=\"color: #800000; text-decoration-color: #800000\">людей</span> <span style=\"color: #800000; text-decoration-color: #800000\">без</span> \n",
       "<span style=\"color: #800000; text-decoration-color: #800000\">крова</span> <span style=\"color: #800000; text-decoration-color: #800000\">и</span> <span style=\"color: #800000; text-decoration-color: #800000\">средств</span> <span style=\"color: #800000; text-decoration-color: #800000\">к</span> <span style=\"color: #800000; text-decoration-color: #800000\">существованию.</span>\n",
       "</pre>\n"
      ],
      "text/plain": [
       "\u001b[34mТекст \u001b[0m\u001b[1;34m1\u001b[0m\u001b[34m:\u001b[0m Из-за \u001b[31mувеличившихся\u001b[0m ливней уровень воды в реках \u001b[31mстремительно\u001b[0m \u001b[31mрастет,\u001b[0m \u001b[31mугрожая\u001b[0m \u001b[31mзатоплением\u001b[0m \u001b[31mцелым\u001b[0m \u001b[31mрайонам.\u001b[0m \n",
       "Если не принять \u001b[31mсрочные\u001b[0m меры, \u001b[31mнаводнение\u001b[0m может стать \u001b[31mсамым\u001b[0m \u001b[31mразрушительным\u001b[0m \u001b[31mза\u001b[0m \u001b[31mдесятилетие,\u001b[0m \u001b[31mоставив\u001b[0m \u001b[31mтысячи\u001b[0m \u001b[31mлюдей\u001b[0m \u001b[31mбез\u001b[0m \n",
       "\u001b[31mкрова\u001b[0m \u001b[31mи\u001b[0m \u001b[31mсредств\u001b[0m \u001b[31mк\u001b[0m \u001b[31mсуществованию.\u001b[0m\n"
      ]
     },
     "metadata": {},
     "output_type": "display_data"
    },
    {
     "data": {
      "text/html": [
       "<pre style=\"white-space:pre;overflow-x:auto;line-height:normal;font-family:Menlo,'DejaVu Sans Mono',consolas,'Courier New',monospace\"><span style=\"color: #008000; text-decoration-color: #008000\">Текст </span><span style=\"color: #008000; text-decoration-color: #008000; font-weight: bold\">2</span><span style=\"color: #008000; text-decoration-color: #008000\">:</span> Из-за <span style=\"color: #800000; text-decoration-color: #800000\">непрекращающихся</span> ливней уровень воды в реках <span style=\"color: #800000; text-decoration-color: #800000\">достиг</span> <span style=\"color: #800000; text-decoration-color: #800000\">критической</span> <span style=\"color: #800000; text-decoration-color: #800000\">отметки.</span> <span style=\"color: #800000; text-decoration-color: #800000\">Экономические</span> <span style=\"color: #800000; text-decoration-color: #800000\">потери</span> <span style=\"color: #800000; text-decoration-color: #800000\">могут</span> \n",
       "<span style=\"color: #800000; text-decoration-color: #800000\">стать</span> <span style=\"color: #800000; text-decoration-color: #800000\">катастрофическими:</span> <span style=\"color: #800000; text-decoration-color: #800000\">затопление</span> <span style=\"color: #800000; text-decoration-color: #800000\">угрожает</span> <span style=\"color: #800000; text-decoration-color: #800000\">домам</span> <span style=\"color: #800000; text-decoration-color: #800000\">и</span> <span style=\"color: #800000; text-decoration-color: #800000\">предприятиям,</span> <span style=\"color: #800000; text-decoration-color: #800000\">лишая</span> <span style=\"color: #800000; text-decoration-color: #800000\">тысячи</span> <span style=\"color: #800000; text-decoration-color: #800000\">людей</span> <span style=\"color: #800000; text-decoration-color: #800000\">средств</span> <span style=\"color: #800000; text-decoration-color: #800000\">к</span> <span style=\"color: #800000; text-decoration-color: #800000\">существованию.</span> Если\n",
       "не принять меры, <span style=\"color: #800000; text-decoration-color: #800000\">ущерб</span> может стать <span style=\"color: #800000; text-decoration-color: #800000\">необратимым.</span>\n",
       "</pre>\n"
      ],
      "text/plain": [
       "\u001b[32mТекст \u001b[0m\u001b[1;32m2\u001b[0m\u001b[32m:\u001b[0m Из-за \u001b[31mнепрекращающихся\u001b[0m ливней уровень воды в реках \u001b[31mдостиг\u001b[0m \u001b[31mкритической\u001b[0m \u001b[31mотметки.\u001b[0m \u001b[31mЭкономические\u001b[0m \u001b[31mпотери\u001b[0m \u001b[31mмогут\u001b[0m \n",
       "\u001b[31mстать\u001b[0m \u001b[31mкатастрофическими:\u001b[0m \u001b[31mзатопление\u001b[0m \u001b[31mугрожает\u001b[0m \u001b[31mдомам\u001b[0m \u001b[31mи\u001b[0m \u001b[31mпредприятиям,\u001b[0m \u001b[31mлишая\u001b[0m \u001b[31mтысячи\u001b[0m \u001b[31mлюдей\u001b[0m \u001b[31mсредств\u001b[0m \u001b[31mк\u001b[0m \u001b[31mсуществованию.\u001b[0m Если\n",
       "не принять меры, \u001b[31mущерб\u001b[0m может стать \u001b[31mнеобратимым.\u001b[0m\n"
      ]
     },
     "metadata": {},
     "output_type": "display_data"
    },
    {
     "data": {
      "text/html": [
       "<pre style=\"white-space:pre;overflow-x:auto;line-height:normal;font-family:Menlo,'DejaVu Sans Mono',consolas,'Courier New',monospace\">\n",
       "<span style=\"font-weight: bold\">Пара текстов (</span><span style=\"color: #008080; text-decoration-color: #008080; font-weight: bold\">6</span><span style=\"font-weight: bold\">, </span><span style=\"color: #008080; text-decoration-color: #008080; font-weight: bold\">12</span><span style=\"font-weight: bold\">) с коэффициентом схожести </span><span style=\"color: #008080; text-decoration-color: #008080; font-weight: bold\">0.12</span><span style=\"font-weight: bold\">:</span>\n",
       "</pre>\n"
      ],
      "text/plain": [
       "\n",
       "\u001b[1mПара текстов \u001b[0m\u001b[1m(\u001b[0m\u001b[1;36m6\u001b[0m\u001b[1m, \u001b[0m\u001b[1;36m12\u001b[0m\u001b[1m)\u001b[0m\u001b[1m с коэффициентом схожести \u001b[0m\u001b[1;36m0.12\u001b[0m\u001b[1m:\u001b[0m\n"
      ]
     },
     "metadata": {},
     "output_type": "display_data"
    },
    {
     "data": {
      "text/html": [
       "<pre style=\"white-space:pre;overflow-x:auto;line-height:normal;font-family:Menlo,'DejaVu Sans Mono',consolas,'Courier New',monospace\"><span style=\"color: #000080; text-decoration-color: #000080\">Текст </span><span style=\"color: #000080; text-decoration-color: #000080; font-weight: bold\">1</span><span style=\"color: #000080; text-decoration-color: #000080\">:</span> <span style=\"color: #800000; text-decoration-color: #800000\">Вода</span> <span style=\"color: #800000; text-decoration-color: #800000\">продолжает</span> <span style=\"color: #800000; text-decoration-color: #800000\">стремительно</span> <span style=\"color: #800000; text-decoration-color: #800000\">подниматься,</span> и <span style=\"color: #800000; text-decoration-color: #800000\">если</span> <span style=\"color: #800000; text-decoration-color: #800000\">меры</span> <span style=\"color: #800000; text-decoration-color: #800000\">не</span> <span style=\"color: #800000; text-decoration-color: #800000\">будут</span> <span style=\"color: #800000; text-decoration-color: #800000\">приняты</span> <span style=\"color: #800000; text-decoration-color: #800000\">немедленно,</span> <span style=\"color: #800000; text-decoration-color: #800000\">наводнения</span> <span style=\"color: #800000; text-decoration-color: #800000\">станут</span> \n",
       "<span style=\"color: #800000; text-decoration-color: #800000\">обычным</span> <span style=\"color: #800000; text-decoration-color: #800000\">явлением.</span> <span style=\"color: #800000; text-decoration-color: #800000\">Климатические</span> <span style=\"color: #800000; text-decoration-color: #800000\">изменения</span> <span style=\"color: #800000; text-decoration-color: #800000\">уже</span> <span style=\"color: #800000; text-decoration-color: #800000\">сейчас</span> <span style=\"color: #800000; text-decoration-color: #800000\">грозят</span> разрушительными <span style=\"color: #800000; text-decoration-color: #800000\">последствиями</span> для <span style=\"color: #800000; text-decoration-color: #800000\">наших</span> <span style=\"color: #800000; text-decoration-color: #800000\">домов</span> <span style=\"color: #800000; text-decoration-color: #800000\">и</span> <span style=\"color: #800000; text-decoration-color: #800000\">жизней.</span>\n",
       "<span style=\"color: #800000; text-decoration-color: #800000\">Завтра</span> <span style=\"color: #800000; text-decoration-color: #800000\">может</span> <span style=\"color: #800000; text-decoration-color: #800000\">быть</span> <span style=\"color: #800000; text-decoration-color: #800000\">поздно</span> <span style=\"color: #800000; text-decoration-color: #800000\">для</span> <span style=\"color: #800000; text-decoration-color: #800000\">спасения</span> <span style=\"color: #800000; text-decoration-color: #800000\">вашего</span> <span style=\"color: #800000; text-decoration-color: #800000\">будущего.</span>\n",
       "</pre>\n"
      ],
      "text/plain": [
       "\u001b[34mТекст \u001b[0m\u001b[1;34m1\u001b[0m\u001b[34m:\u001b[0m \u001b[31mВода\u001b[0m \u001b[31mпродолжает\u001b[0m \u001b[31mстремительно\u001b[0m \u001b[31mподниматься,\u001b[0m и \u001b[31mесли\u001b[0m \u001b[31mмеры\u001b[0m \u001b[31mне\u001b[0m \u001b[31mбудут\u001b[0m \u001b[31mприняты\u001b[0m \u001b[31mнемедленно,\u001b[0m \u001b[31mнаводнения\u001b[0m \u001b[31mстанут\u001b[0m \n",
       "\u001b[31mобычным\u001b[0m \u001b[31mявлением.\u001b[0m \u001b[31mКлиматические\u001b[0m \u001b[31mизменения\u001b[0m \u001b[31mуже\u001b[0m \u001b[31mсейчас\u001b[0m \u001b[31mгрозят\u001b[0m разрушительными \u001b[31mпоследствиями\u001b[0m для \u001b[31mнаших\u001b[0m \u001b[31mдомов\u001b[0m \u001b[31mи\u001b[0m \u001b[31mжизней.\u001b[0m\n",
       "\u001b[31mЗавтра\u001b[0m \u001b[31mможет\u001b[0m \u001b[31mбыть\u001b[0m \u001b[31mпоздно\u001b[0m \u001b[31mдля\u001b[0m \u001b[31mспасения\u001b[0m \u001b[31mвашего\u001b[0m \u001b[31mбудущего.\u001b[0m\n"
      ]
     },
     "metadata": {},
     "output_type": "display_data"
    },
    {
     "data": {
      "text/html": [
       "<pre style=\"white-space:pre;overflow-x:auto;line-height:normal;font-family:Menlo,'DejaVu Sans Mono',consolas,'Courier New',monospace\"><span style=\"color: #008000; text-decoration-color: #008000\">Текст </span><span style=\"color: #008000; text-decoration-color: #008000; font-weight: bold\">2</span><span style=\"color: #008000; text-decoration-color: #008000\">:</span> <span style=\"color: #800000; text-decoration-color: #800000\">Наводнения</span> <span style=\"color: #800000; text-decoration-color: #800000\">становятся</span> <span style=\"color: #800000; text-decoration-color: #800000\">всё</span> <span style=\"color: #800000; text-decoration-color: #800000\">более</span> <span style=\"color: #800000; text-decoration-color: #800000\">частыми</span> <span style=\"color: #800000; text-decoration-color: #800000\">из-за</span> <span style=\"color: #800000; text-decoration-color: #800000\">климатических</span> <span style=\"color: #800000; text-decoration-color: #800000\">изменений.</span> <span style=\"color: #800000; text-decoration-color: #800000\">Если</span> <span style=\"color: #800000; text-decoration-color: #800000\">не</span> <span style=\"color: #800000; text-decoration-color: #800000\">предпринять</span> <span style=\"color: #800000; text-decoration-color: #800000\">срочные</span> <span style=\"color: #800000; text-decoration-color: #800000\">меры,</span> \n",
       "<span style=\"color: #800000; text-decoration-color: #800000\">ваш</span> <span style=\"color: #800000; text-decoration-color: #800000\">дом</span> <span style=\"color: #800000; text-decoration-color: #800000\">может</span> <span style=\"color: #800000; text-decoration-color: #800000\">оказаться</span> <span style=\"color: #800000; text-decoration-color: #800000\">под</span> <span style=\"color: #800000; text-decoration-color: #800000\">водой,</span> <span style=\"color: #800000; text-decoration-color: #800000\">а</span> <span style=\"color: #800000; text-decoration-color: #800000\">жизнь</span> <span style=\"color: #800000; text-decoration-color: #800000\">—</span> <span style=\"color: #800000; text-decoration-color: #800000\">в</span> <span style=\"color: #800000; text-decoration-color: #800000\">опасности.</span> <span style=\"color: #800000; text-decoration-color: #800000\">Последствия</span> <span style=\"color: #800000; text-decoration-color: #800000\">таких</span> <span style=\"color: #800000; text-decoration-color: #800000\">катастроф</span> <span style=\"color: #800000; text-decoration-color: #800000\">будут</span> <span style=\"color: #800000; text-decoration-color: #800000\">долгосрочными</span> и \n",
       "разрушительными для <span style=\"color: #800000; text-decoration-color: #800000\">всех</span> <span style=\"color: #800000; text-decoration-color: #800000\">нас.</span>\n",
       "</pre>\n"
      ],
      "text/plain": [
       "\u001b[32mТекст \u001b[0m\u001b[1;32m2\u001b[0m\u001b[32m:\u001b[0m \u001b[31mНаводнения\u001b[0m \u001b[31mстановятся\u001b[0m \u001b[31mвсё\u001b[0m \u001b[31mболее\u001b[0m \u001b[31mчастыми\u001b[0m \u001b[31mиз-за\u001b[0m \u001b[31mклиматических\u001b[0m \u001b[31mизменений.\u001b[0m \u001b[31mЕсли\u001b[0m \u001b[31mне\u001b[0m \u001b[31mпредпринять\u001b[0m \u001b[31mсрочные\u001b[0m \u001b[31mмеры,\u001b[0m \n",
       "\u001b[31mваш\u001b[0m \u001b[31mдом\u001b[0m \u001b[31mможет\u001b[0m \u001b[31mоказаться\u001b[0m \u001b[31mпод\u001b[0m \u001b[31mводой,\u001b[0m \u001b[31mа\u001b[0m \u001b[31mжизнь\u001b[0m \u001b[31m—\u001b[0m \u001b[31mв\u001b[0m \u001b[31mопасности.\u001b[0m \u001b[31mПоследствия\u001b[0m \u001b[31mтаких\u001b[0m \u001b[31mкатастроф\u001b[0m \u001b[31mбудут\u001b[0m \u001b[31mдолгосрочными\u001b[0m и \n",
       "разрушительными для \u001b[31mвсех\u001b[0m \u001b[31mнас.\u001b[0m\n"
      ]
     },
     "metadata": {},
     "output_type": "display_data"
    },
    {
     "data": {
      "text/html": [
       "<pre style=\"white-space:pre;overflow-x:auto;line-height:normal;font-family:Menlo,'DejaVu Sans Mono',consolas,'Courier New',monospace\">\n",
       "<span style=\"font-weight: bold\">Пара текстов (</span><span style=\"color: #008080; text-decoration-color: #008080; font-weight: bold\">5</span><span style=\"font-weight: bold\">, </span><span style=\"color: #008080; text-decoration-color: #008080; font-weight: bold\">9</span><span style=\"font-weight: bold\">) с коэффициентом схожести </span><span style=\"color: #008080; text-decoration-color: #008080; font-weight: bold\">0.11</span><span style=\"font-weight: bold\">:</span>\n",
       "</pre>\n"
      ],
      "text/plain": [
       "\n",
       "\u001b[1mПара текстов \u001b[0m\u001b[1m(\u001b[0m\u001b[1;36m5\u001b[0m\u001b[1m, \u001b[0m\u001b[1;36m9\u001b[0m\u001b[1m)\u001b[0m\u001b[1m с коэффициентом схожести \u001b[0m\u001b[1;36m0.11\u001b[0m\u001b[1m:\u001b[0m\n"
      ]
     },
     "metadata": {},
     "output_type": "display_data"
    },
    {
     "data": {
      "text/html": [
       "<pre style=\"white-space:pre;overflow-x:auto;line-height:normal;font-family:Menlo,'DejaVu Sans Mono',consolas,'Courier New',monospace\"><span style=\"color: #000080; text-decoration-color: #000080\">Текст </span><span style=\"color: #000080; text-decoration-color: #000080; font-weight: bold\">1</span><span style=\"color: #000080; text-decoration-color: #000080\">:</span> Из-за <span style=\"color: #800000; text-decoration-color: #800000\">стремительного</span> <span style=\"color: #800000; text-decoration-color: #800000\">подъема</span> <span style=\"color: #800000; text-decoration-color: #800000\">уровня</span> воды <span style=\"color: #800000; text-decoration-color: #800000\">многие</span> <span style=\"color: #800000; text-decoration-color: #800000\">районы</span> <span style=\"color: #800000; text-decoration-color: #800000\">оказались</span> <span style=\"color: #800000; text-decoration-color: #800000\">под</span> <span style=\"color: #800000; text-decoration-color: #800000\">угрозой</span> <span style=\"color: #800000; text-decoration-color: #800000\">наводнения.</span> <span style=\"color: #800000; text-decoration-color: #800000\">Уязвимые</span> <span style=\"color: #800000; text-decoration-color: #800000\">слои</span> \n",
       "<span style=\"color: #800000; text-decoration-color: #800000\">населения,</span> <span style=\"color: #800000; text-decoration-color: #800000\">не</span> <span style=\"color: #800000; text-decoration-color: #800000\">имеющие</span> <span style=\"color: #800000; text-decoration-color: #800000\">доступа</span> <span style=\"color: #800000; text-decoration-color: #800000\">к</span> <span style=\"color: #800000; text-decoration-color: #800000\">необходимым</span> <span style=\"color: #800000; text-decoration-color: #800000\">ресурсам,</span> <span style=\"color: #800000; text-decoration-color: #800000\">могут</span> <span style=\"color: #800000; text-decoration-color: #800000\">пострадать</span> <span style=\"color: #800000; text-decoration-color: #800000\">больше</span> <span style=\"color: #800000; text-decoration-color: #800000\">всего.</span> Если не принять срочные <span style=\"color: #800000; text-decoration-color: #800000\">меры,</span> \n",
       "<span style=\"color: #800000; text-decoration-color: #800000\">социальное</span> <span style=\"color: #800000; text-decoration-color: #800000\">неравенство</span> <span style=\"color: #800000; text-decoration-color: #800000\">лишь</span> <span style=\"color: #800000; text-decoration-color: #800000\">усугубит</span> <span style=\"color: #800000; text-decoration-color: #800000\">последствия</span> <span style=\"color: #800000; text-decoration-color: #800000\">катастрофы.</span>\n",
       "</pre>\n"
      ],
      "text/plain": [
       "\u001b[34mТекст \u001b[0m\u001b[1;34m1\u001b[0m\u001b[34m:\u001b[0m Из-за \u001b[31mстремительного\u001b[0m \u001b[31mподъема\u001b[0m \u001b[31mуровня\u001b[0m воды \u001b[31mмногие\u001b[0m \u001b[31mрайоны\u001b[0m \u001b[31mоказались\u001b[0m \u001b[31mпод\u001b[0m \u001b[31mугрозой\u001b[0m \u001b[31mнаводнения.\u001b[0m \u001b[31mУязвимые\u001b[0m \u001b[31mслои\u001b[0m \n",
       "\u001b[31mнаселения,\u001b[0m \u001b[31mне\u001b[0m \u001b[31mимеющие\u001b[0m \u001b[31mдоступа\u001b[0m \u001b[31mк\u001b[0m \u001b[31mнеобходимым\u001b[0m \u001b[31mресурсам,\u001b[0m \u001b[31mмогут\u001b[0m \u001b[31mпострадать\u001b[0m \u001b[31mбольше\u001b[0m \u001b[31mвсего.\u001b[0m Если не принять срочные \u001b[31mмеры,\u001b[0m \n",
       "\u001b[31mсоциальное\u001b[0m \u001b[31mнеравенство\u001b[0m \u001b[31mлишь\u001b[0m \u001b[31mусугубит\u001b[0m \u001b[31mпоследствия\u001b[0m \u001b[31mкатастрофы.\u001b[0m\n"
      ]
     },
     "metadata": {},
     "output_type": "display_data"
    },
    {
     "data": {
      "text/html": [
       "<pre style=\"white-space:pre;overflow-x:auto;line-height:normal;font-family:Menlo,'DejaVu Sans Mono',consolas,'Courier New',monospace\"><span style=\"color: #008000; text-decoration-color: #008000\">Текст </span><span style=\"color: #008000; text-decoration-color: #008000; font-weight: bold\">2</span><span style=\"color: #008000; text-decoration-color: #008000\">:</span> Из-за <span style=\"color: #800000; text-decoration-color: #800000\">обильных</span> <span style=\"color: #800000; text-decoration-color: #800000\">дождей</span> <span style=\"color: #800000; text-decoration-color: #800000\">уровень</span> воды <span style=\"color: #800000; text-decoration-color: #800000\">в</span> <span style=\"color: #800000; text-decoration-color: #800000\">реках</span> <span style=\"color: #800000; text-decoration-color: #800000\">стремительно</span> <span style=\"color: #800000; text-decoration-color: #800000\">растет,</span> <span style=\"color: #800000; text-decoration-color: #800000\">угрожая</span> <span style=\"color: #800000; text-decoration-color: #800000\">затоплением</span> <span style=\"color: #800000; text-decoration-color: #800000\">близлежащих</span> <span style=\"color: #800000; text-decoration-color: #800000\">населенных</span>\n",
       "<span style=\"color: #800000; text-decoration-color: #800000\">пунктов.</span> Если не принять срочные <span style=\"color: #800000; text-decoration-color: #800000\">меры</span> <span style=\"color: #800000; text-decoration-color: #800000\">по</span> <span style=\"color: #800000; text-decoration-color: #800000\">эвакуации,</span> <span style=\"color: #800000; text-decoration-color: #800000\">сотни</span> <span style=\"color: #800000; text-decoration-color: #800000\">жизней</span> <span style=\"color: #800000; text-decoration-color: #800000\">окажутся</span> <span style=\"color: #800000; text-decoration-color: #800000\">под</span> <span style=\"color: #800000; text-decoration-color: #800000\">угрозой.</span> <span style=\"color: #800000; text-decoration-color: #800000\">Не</span> <span style=\"color: #800000; text-decoration-color: #800000\">ждите,</span> <span style=\"color: #800000; text-decoration-color: #800000\">пока</span> <span style=\"color: #800000; text-decoration-color: #800000\">бедствие</span> \n",
       "<span style=\"color: #800000; text-decoration-color: #800000\">станет</span> <span style=\"color: #800000; text-decoration-color: #800000\">реальностью,</span> <span style=\"color: #800000; text-decoration-color: #800000\">действуйте</span> <span style=\"color: #800000; text-decoration-color: #800000\">сейчас!</span>\n",
       "</pre>\n"
      ],
      "text/plain": [
       "\u001b[32mТекст \u001b[0m\u001b[1;32m2\u001b[0m\u001b[32m:\u001b[0m Из-за \u001b[31mобильных\u001b[0m \u001b[31mдождей\u001b[0m \u001b[31mуровень\u001b[0m воды \u001b[31mв\u001b[0m \u001b[31mреках\u001b[0m \u001b[31mстремительно\u001b[0m \u001b[31mрастет,\u001b[0m \u001b[31mугрожая\u001b[0m \u001b[31mзатоплением\u001b[0m \u001b[31mблизлежащих\u001b[0m \u001b[31mнаселенных\u001b[0m\n",
       "\u001b[31mпунктов.\u001b[0m Если не принять срочные \u001b[31mмеры\u001b[0m \u001b[31mпо\u001b[0m \u001b[31mэвакуации,\u001b[0m \u001b[31mсотни\u001b[0m \u001b[31mжизней\u001b[0m \u001b[31mокажутся\u001b[0m \u001b[31mпод\u001b[0m \u001b[31mугрозой.\u001b[0m \u001b[31mНе\u001b[0m \u001b[31mждите,\u001b[0m \u001b[31mпока\u001b[0m \u001b[31mбедствие\u001b[0m \n",
       "\u001b[31mстанет\u001b[0m \u001b[31mреальностью,\u001b[0m \u001b[31mдействуйте\u001b[0m \u001b[31mсейчас!\u001b[0m\n"
      ]
     },
     "metadata": {},
     "output_type": "display_data"
    },
    {
     "data": {
      "text/html": [
       "<pre style=\"white-space:pre;overflow-x:auto;line-height:normal;font-family:Menlo,'DejaVu Sans Mono',consolas,'Courier New',monospace\">\n",
       "<span style=\"font-weight: bold\">Пара текстов (</span><span style=\"color: #008080; text-decoration-color: #008080; font-weight: bold\">9</span><span style=\"font-weight: bold\">, </span><span style=\"color: #008080; text-decoration-color: #008080; font-weight: bold\">11</span><span style=\"font-weight: bold\">) с коэффициентом схожести </span><span style=\"color: #008080; text-decoration-color: #008080; font-weight: bold\">0.10</span><span style=\"font-weight: bold\">:</span>\n",
       "</pre>\n"
      ],
      "text/plain": [
       "\n",
       "\u001b[1mПара текстов \u001b[0m\u001b[1m(\u001b[0m\u001b[1;36m9\u001b[0m\u001b[1m, \u001b[0m\u001b[1;36m11\u001b[0m\u001b[1m)\u001b[0m\u001b[1m с коэффициентом схожести \u001b[0m\u001b[1;36m0.10\u001b[0m\u001b[1m:\u001b[0m\n"
      ]
     },
     "metadata": {},
     "output_type": "display_data"
    },
    {
     "data": {
      "text/html": [
       "<pre style=\"white-space:pre;overflow-x:auto;line-height:normal;font-family:Menlo,'DejaVu Sans Mono',consolas,'Courier New',monospace\"><span style=\"color: #000080; text-decoration-color: #000080\">Текст </span><span style=\"color: #000080; text-decoration-color: #000080; font-weight: bold\">1</span><span style=\"color: #000080; text-decoration-color: #000080\">:</span> <span style=\"color: #800000; text-decoration-color: #800000\">Из-за</span> <span style=\"color: #800000; text-decoration-color: #800000\">обильных</span> <span style=\"color: #800000; text-decoration-color: #800000\">дождей</span> <span style=\"color: #800000; text-decoration-color: #800000\">уровень</span> воды в реках <span style=\"color: #800000; text-decoration-color: #800000\">стремительно</span> <span style=\"color: #800000; text-decoration-color: #800000\">растет,</span> <span style=\"color: #800000; text-decoration-color: #800000\">угрожая</span> <span style=\"color: #800000; text-decoration-color: #800000\">затоплением</span> <span style=\"color: #800000; text-decoration-color: #800000\">близлежащих</span> <span style=\"color: #800000; text-decoration-color: #800000\">населенных</span>\n",
       "пунктов. Если не <span style=\"color: #800000; text-decoration-color: #800000\">принять</span> срочные <span style=\"color: #800000; text-decoration-color: #800000\">меры</span> <span style=\"color: #800000; text-decoration-color: #800000\">по</span> <span style=\"color: #800000; text-decoration-color: #800000\">эвакуации,</span> <span style=\"color: #800000; text-decoration-color: #800000\">сотни</span> <span style=\"color: #800000; text-decoration-color: #800000\">жизней</span> окажутся под угрозой. <span style=\"color: #800000; text-decoration-color: #800000\">Не</span> <span style=\"color: #800000; text-decoration-color: #800000\">ждите,</span> <span style=\"color: #800000; text-decoration-color: #800000\">пока</span> <span style=\"color: #800000; text-decoration-color: #800000\">бедствие</span> \n",
       "<span style=\"color: #800000; text-decoration-color: #800000\">станет</span> <span style=\"color: #800000; text-decoration-color: #800000\">реальностью,</span> <span style=\"color: #800000; text-decoration-color: #800000\">действуйте</span> <span style=\"color: #800000; text-decoration-color: #800000\">сейчас!</span>\n",
       "</pre>\n"
      ],
      "text/plain": [
       "\u001b[34mТекст \u001b[0m\u001b[1;34m1\u001b[0m\u001b[34m:\u001b[0m \u001b[31mИз-за\u001b[0m \u001b[31mобильных\u001b[0m \u001b[31mдождей\u001b[0m \u001b[31mуровень\u001b[0m воды в реках \u001b[31mстремительно\u001b[0m \u001b[31mрастет,\u001b[0m \u001b[31mугрожая\u001b[0m \u001b[31mзатоплением\u001b[0m \u001b[31mблизлежащих\u001b[0m \u001b[31mнаселенных\u001b[0m\n",
       "пунктов. Если не \u001b[31mпринять\u001b[0m срочные \u001b[31mмеры\u001b[0m \u001b[31mпо\u001b[0m \u001b[31mэвакуации,\u001b[0m \u001b[31mсотни\u001b[0m \u001b[31mжизней\u001b[0m окажутся под угрозой. \u001b[31mНе\u001b[0m \u001b[31mждите,\u001b[0m \u001b[31mпока\u001b[0m \u001b[31mбедствие\u001b[0m \n",
       "\u001b[31mстанет\u001b[0m \u001b[31mреальностью,\u001b[0m \u001b[31mдействуйте\u001b[0m \u001b[31mсейчас!\u001b[0m\n"
      ]
     },
     "metadata": {},
     "output_type": "display_data"
    },
    {
     "data": {
      "text/html": [
       "<pre style=\"white-space:pre;overflow-x:auto;line-height:normal;font-family:Menlo,'DejaVu Sans Mono',consolas,'Courier New',monospace\"><span style=\"color: #008000; text-decoration-color: #008000\">Текст </span><span style=\"color: #008000; text-decoration-color: #008000; font-weight: bold\">2</span><span style=\"color: #008000; text-decoration-color: #008000\">:</span> <span style=\"color: #800000; text-decoration-color: #800000\">Уровень</span> воды в реках <span style=\"color: #800000; text-decoration-color: #800000\">продолжает</span> <span style=\"color: #800000; text-decoration-color: #800000\">расти,</span> <span style=\"color: #800000; text-decoration-color: #800000\">и</span> <span style=\"color: #800000; text-decoration-color: #800000\">эксперты</span> <span style=\"color: #800000; text-decoration-color: #800000\">предупреждают:</span> <span style=\"color: #800000; text-decoration-color: #800000\">в</span> <span style=\"color: #800000; text-decoration-color: #800000\">ближайшие</span> <span style=\"color: #800000; text-decoration-color: #800000\">дни</span> <span style=\"color: #800000; text-decoration-color: #800000\">наводнение</span> <span style=\"color: #800000; text-decoration-color: #800000\">может</span> <span style=\"color: #800000; text-decoration-color: #800000\">стать</span> \n",
       "<span style=\"color: #800000; text-decoration-color: #800000\">ещё</span> <span style=\"color: #800000; text-decoration-color: #800000\">более</span> <span style=\"color: #800000; text-decoration-color: #800000\">масштабным</span> <span style=\"color: #800000; text-decoration-color: #800000\">и</span> <span style=\"color: #800000; text-decoration-color: #800000\">уничтожить</span> <span style=\"color: #800000; text-decoration-color: #800000\">несколько</span> <span style=\"color: #800000; text-decoration-color: #800000\">населённых</span> пунктов. Если не <span style=\"color: #800000; text-decoration-color: #800000\">предпринять</span> срочные <span style=\"color: #800000; text-decoration-color: #800000\">меры,</span> <span style=\"color: #800000; text-decoration-color: #800000\">ваши</span> <span style=\"color: #800000; text-decoration-color: #800000\">дома</span> <span style=\"color: #800000; text-decoration-color: #800000\">и</span> <span style=\"color: #800000; text-decoration-color: #800000\">жизни</span>\n",
       "окажутся под угрозой. <span style=\"color: #800000; text-decoration-color: #800000\">Прогнозы</span> <span style=\"color: #800000; text-decoration-color: #800000\">неутешительны,</span> <span style=\"color: #800000; text-decoration-color: #800000\">и</span> <span style=\"color: #800000; text-decoration-color: #800000\">последствия</span> <span style=\"color: #800000; text-decoration-color: #800000\">могут</span> <span style=\"color: #800000; text-decoration-color: #800000\">быть</span> <span style=\"color: #800000; text-decoration-color: #800000\">катастрофическими.</span>\n",
       "</pre>\n"
      ],
      "text/plain": [
       "\u001b[32mТекст \u001b[0m\u001b[1;32m2\u001b[0m\u001b[32m:\u001b[0m \u001b[31mУровень\u001b[0m воды в реках \u001b[31mпродолжает\u001b[0m \u001b[31mрасти,\u001b[0m \u001b[31mи\u001b[0m \u001b[31mэксперты\u001b[0m \u001b[31mпредупреждают:\u001b[0m \u001b[31mв\u001b[0m \u001b[31mближайшие\u001b[0m \u001b[31mдни\u001b[0m \u001b[31mнаводнение\u001b[0m \u001b[31mможет\u001b[0m \u001b[31mстать\u001b[0m \n",
       "\u001b[31mещё\u001b[0m \u001b[31mболее\u001b[0m \u001b[31mмасштабным\u001b[0m \u001b[31mи\u001b[0m \u001b[31mуничтожить\u001b[0m \u001b[31mнесколько\u001b[0m \u001b[31mнаселённых\u001b[0m пунктов. Если не \u001b[31mпредпринять\u001b[0m срочные \u001b[31mмеры,\u001b[0m \u001b[31mваши\u001b[0m \u001b[31mдома\u001b[0m \u001b[31mи\u001b[0m \u001b[31mжизни\u001b[0m\n",
       "окажутся под угрозой. \u001b[31mПрогнозы\u001b[0m \u001b[31mнеутешительны,\u001b[0m \u001b[31mи\u001b[0m \u001b[31mпоследствия\u001b[0m \u001b[31mмогут\u001b[0m \u001b[31mбыть\u001b[0m \u001b[31mкатастрофическими.\u001b[0m\n"
      ]
     },
     "metadata": {},
     "output_type": "display_data"
    },
    {
     "data": {
      "text/html": [
       "<pre style=\"white-space:pre;overflow-x:auto;line-height:normal;font-family:Menlo,'DejaVu Sans Mono',consolas,'Courier New',monospace\">\n",
       "<span style=\"font-weight: bold\">Пара текстов (</span><span style=\"color: #008080; text-decoration-color: #008080; font-weight: bold\">10</span><span style=\"font-weight: bold\">, </span><span style=\"color: #008080; text-decoration-color: #008080; font-weight: bold\">11</span><span style=\"font-weight: bold\">) с коэффициентом схожести </span><span style=\"color: #008080; text-decoration-color: #008080; font-weight: bold\">0.10</span><span style=\"font-weight: bold\">:</span>\n",
       "</pre>\n"
      ],
      "text/plain": [
       "\n",
       "\u001b[1mПара текстов \u001b[0m\u001b[1m(\u001b[0m\u001b[1;36m10\u001b[0m\u001b[1m, \u001b[0m\u001b[1;36m11\u001b[0m\u001b[1m)\u001b[0m\u001b[1m с коэффициентом схожести \u001b[0m\u001b[1;36m0.10\u001b[0m\u001b[1m:\u001b[0m\n"
      ]
     },
     "metadata": {},
     "output_type": "display_data"
    },
    {
     "data": {
      "text/html": [
       "<pre style=\"white-space:pre;overflow-x:auto;line-height:normal;font-family:Menlo,'DejaVu Sans Mono',consolas,'Courier New',monospace\"><span style=\"color: #000080; text-decoration-color: #000080\">Текст </span><span style=\"color: #000080; text-decoration-color: #000080; font-weight: bold\">1</span><span style=\"color: #000080; text-decoration-color: #000080\">:</span> <span style=\"color: #800000; text-decoration-color: #800000\">Из-за</span> <span style=\"color: #800000; text-decoration-color: #800000\">увеличения</span> <span style=\"color: #800000; text-decoration-color: #800000\">числа</span> <span style=\"color: #800000; text-decoration-color: #800000\">наводнений,</span> <span style=\"color: #800000; text-decoration-color: #800000\">вызванных</span> <span style=\"color: #800000; text-decoration-color: #800000\">изменением</span> <span style=\"color: #800000; text-decoration-color: #800000\">климата,</span> <span style=\"color: #800000; text-decoration-color: #800000\">наиболее</span> <span style=\"color: #800000; text-decoration-color: #800000\">уязвимые</span> <span style=\"color: #800000; text-decoration-color: #800000\">слои</span> <span style=\"color: #800000; text-decoration-color: #800000\">населения</span> \n",
       "<span style=\"color: #800000; text-decoration-color: #800000\">оказываются</span> под угрозой. <span style=\"color: #800000; text-decoration-color: #800000\">Без</span> <span style=\"color: #800000; text-decoration-color: #800000\">своевременных</span> <span style=\"color: #800000; text-decoration-color: #800000\">мер</span> <span style=\"color: #800000; text-decoration-color: #800000\">ситуация</span> <span style=\"color: #800000; text-decoration-color: #800000\">может</span> <span style=\"color: #800000; text-decoration-color: #800000\">усугубиться,</span> и <span style=\"color: #800000; text-decoration-color: #800000\">бедные</span> <span style=\"color: #800000; text-decoration-color: #800000\">районы</span> <span style=\"color: #800000; text-decoration-color: #800000\">пострадают</span> <span style=\"color: #800000; text-decoration-color: #800000\">больше</span> <span style=\"color: #800000; text-decoration-color: #800000\">всего,</span>\n",
       "<span style=\"color: #800000; text-decoration-color: #800000\">оставляя</span> <span style=\"color: #800000; text-decoration-color: #800000\">тысячи</span> <span style=\"color: #800000; text-decoration-color: #800000\">людей</span> <span style=\"color: #800000; text-decoration-color: #800000\">без</span> <span style=\"color: #800000; text-decoration-color: #800000\">крова</span> <span style=\"color: #800000; text-decoration-color: #800000\">и</span> <span style=\"color: #800000; text-decoration-color: #800000\">средств</span> <span style=\"color: #800000; text-decoration-color: #800000\">к</span> <span style=\"color: #800000; text-decoration-color: #800000\">существованию.</span>\n",
       "</pre>\n"
      ],
      "text/plain": [
       "\u001b[34mТекст \u001b[0m\u001b[1;34m1\u001b[0m\u001b[34m:\u001b[0m \u001b[31mИз-за\u001b[0m \u001b[31mувеличения\u001b[0m \u001b[31mчисла\u001b[0m \u001b[31mнаводнений,\u001b[0m \u001b[31mвызванных\u001b[0m \u001b[31mизменением\u001b[0m \u001b[31mклимата,\u001b[0m \u001b[31mнаиболее\u001b[0m \u001b[31mуязвимые\u001b[0m \u001b[31mслои\u001b[0m \u001b[31mнаселения\u001b[0m \n",
       "\u001b[31mоказываются\u001b[0m под угрозой. \u001b[31mБез\u001b[0m \u001b[31mсвоевременных\u001b[0m \u001b[31mмер\u001b[0m \u001b[31mситуация\u001b[0m \u001b[31mможет\u001b[0m \u001b[31mусугубиться,\u001b[0m и \u001b[31mбедные\u001b[0m \u001b[31mрайоны\u001b[0m \u001b[31mпострадают\u001b[0m \u001b[31mбольше\u001b[0m \u001b[31mвсего,\u001b[0m\n",
       "\u001b[31mоставляя\u001b[0m \u001b[31mтысячи\u001b[0m \u001b[31mлюдей\u001b[0m \u001b[31mбез\u001b[0m \u001b[31mкрова\u001b[0m \u001b[31mи\u001b[0m \u001b[31mсредств\u001b[0m \u001b[31mк\u001b[0m \u001b[31mсуществованию.\u001b[0m\n"
      ]
     },
     "metadata": {},
     "output_type": "display_data"
    },
    {
     "data": {
      "text/html": [
       "<pre style=\"white-space:pre;overflow-x:auto;line-height:normal;font-family:Menlo,'DejaVu Sans Mono',consolas,'Courier New',monospace\"><span style=\"color: #008000; text-decoration-color: #008000\">Текст </span><span style=\"color: #008000; text-decoration-color: #008000; font-weight: bold\">2</span><span style=\"color: #008000; text-decoration-color: #008000\">:</span> <span style=\"color: #800000; text-decoration-color: #800000\">Уровень</span> <span style=\"color: #800000; text-decoration-color: #800000\">воды</span> <span style=\"color: #800000; text-decoration-color: #800000\">в</span> <span style=\"color: #800000; text-decoration-color: #800000\">реках</span> <span style=\"color: #800000; text-decoration-color: #800000\">продолжает</span> <span style=\"color: #800000; text-decoration-color: #800000\">расти,</span> <span style=\"color: #800000; text-decoration-color: #800000\">и</span> <span style=\"color: #800000; text-decoration-color: #800000\">эксперты</span> <span style=\"color: #800000; text-decoration-color: #800000\">предупреждают:</span> <span style=\"color: #800000; text-decoration-color: #800000\">в</span> <span style=\"color: #800000; text-decoration-color: #800000\">ближайшие</span> <span style=\"color: #800000; text-decoration-color: #800000\">дни</span> <span style=\"color: #800000; text-decoration-color: #800000\">наводнение</span> <span style=\"color: #800000; text-decoration-color: #800000\">может</span> <span style=\"color: #800000; text-decoration-color: #800000\">стать</span> \n",
       "<span style=\"color: #800000; text-decoration-color: #800000\">ещё</span> <span style=\"color: #800000; text-decoration-color: #800000\">более</span> <span style=\"color: #800000; text-decoration-color: #800000\">масштабным</span> <span style=\"color: #800000; text-decoration-color: #800000\">и</span> <span style=\"color: #800000; text-decoration-color: #800000\">уничтожить</span> <span style=\"color: #800000; text-decoration-color: #800000\">несколько</span> <span style=\"color: #800000; text-decoration-color: #800000\">населённых</span> <span style=\"color: #800000; text-decoration-color: #800000\">пунктов.</span> <span style=\"color: #800000; text-decoration-color: #800000\">Если</span> <span style=\"color: #800000; text-decoration-color: #800000\">не</span> <span style=\"color: #800000; text-decoration-color: #800000\">предпринять</span> <span style=\"color: #800000; text-decoration-color: #800000\">срочные</span> <span style=\"color: #800000; text-decoration-color: #800000\">меры,</span> <span style=\"color: #800000; text-decoration-color: #800000\">ваши</span> <span style=\"color: #800000; text-decoration-color: #800000\">дома</span> <span style=\"color: #800000; text-decoration-color: #800000\">и</span> <span style=\"color: #800000; text-decoration-color: #800000\">жизни</span>\n",
       "<span style=\"color: #800000; text-decoration-color: #800000\">окажутся</span> под угрозой. <span style=\"color: #800000; text-decoration-color: #800000\">Прогнозы</span> <span style=\"color: #800000; text-decoration-color: #800000\">неутешительны,</span> и <span style=\"color: #800000; text-decoration-color: #800000\">последствия</span> <span style=\"color: #800000; text-decoration-color: #800000\">могут</span> <span style=\"color: #800000; text-decoration-color: #800000\">быть</span> <span style=\"color: #800000; text-decoration-color: #800000\">катастрофическими.</span>\n",
       "</pre>\n"
      ],
      "text/plain": [
       "\u001b[32mТекст \u001b[0m\u001b[1;32m2\u001b[0m\u001b[32m:\u001b[0m \u001b[31mУровень\u001b[0m \u001b[31mводы\u001b[0m \u001b[31mв\u001b[0m \u001b[31mреках\u001b[0m \u001b[31mпродолжает\u001b[0m \u001b[31mрасти,\u001b[0m \u001b[31mи\u001b[0m \u001b[31mэксперты\u001b[0m \u001b[31mпредупреждают:\u001b[0m \u001b[31mв\u001b[0m \u001b[31mближайшие\u001b[0m \u001b[31mдни\u001b[0m \u001b[31mнаводнение\u001b[0m \u001b[31mможет\u001b[0m \u001b[31mстать\u001b[0m \n",
       "\u001b[31mещё\u001b[0m \u001b[31mболее\u001b[0m \u001b[31mмасштабным\u001b[0m \u001b[31mи\u001b[0m \u001b[31mуничтожить\u001b[0m \u001b[31mнесколько\u001b[0m \u001b[31mнаселённых\u001b[0m \u001b[31mпунктов.\u001b[0m \u001b[31mЕсли\u001b[0m \u001b[31mне\u001b[0m \u001b[31mпредпринять\u001b[0m \u001b[31mсрочные\u001b[0m \u001b[31mмеры,\u001b[0m \u001b[31mваши\u001b[0m \u001b[31mдома\u001b[0m \u001b[31mи\u001b[0m \u001b[31mжизни\u001b[0m\n",
       "\u001b[31mокажутся\u001b[0m под угрозой. \u001b[31mПрогнозы\u001b[0m \u001b[31mнеутешительны,\u001b[0m и \u001b[31mпоследствия\u001b[0m \u001b[31mмогут\u001b[0m \u001b[31mбыть\u001b[0m \u001b[31mкатастрофическими.\u001b[0m\n"
      ]
     },
     "metadata": {},
     "output_type": "display_data"
    },
    {
     "data": {
      "text/html": [
       "<pre style=\"white-space:pre;overflow-x:auto;line-height:normal;font-family:Menlo,'DejaVu Sans Mono',consolas,'Courier New',monospace\">\n",
       "<span style=\"font-weight: bold\">Пара текстов (</span><span style=\"color: #008080; text-decoration-color: #008080; font-weight: bold\">2</span><span style=\"font-weight: bold\">, </span><span style=\"color: #008080; text-decoration-color: #008080; font-weight: bold\">9</span><span style=\"font-weight: bold\">) с коэффициентом схожести </span><span style=\"color: #008080; text-decoration-color: #008080; font-weight: bold\">0.10</span><span style=\"font-weight: bold\">:</span>\n",
       "</pre>\n"
      ],
      "text/plain": [
       "\n",
       "\u001b[1mПара текстов \u001b[0m\u001b[1m(\u001b[0m\u001b[1;36m2\u001b[0m\u001b[1m, \u001b[0m\u001b[1;36m9\u001b[0m\u001b[1m)\u001b[0m\u001b[1m с коэффициентом схожести \u001b[0m\u001b[1;36m0.10\u001b[0m\u001b[1m:\u001b[0m\n"
      ]
     },
     "metadata": {},
     "output_type": "display_data"
    },
    {
     "data": {
      "text/html": [
       "<pre style=\"white-space:pre;overflow-x:auto;line-height:normal;font-family:Menlo,'DejaVu Sans Mono',consolas,'Courier New',monospace\"><span style=\"color: #000080; text-decoration-color: #000080\">Текст </span><span style=\"color: #000080; text-decoration-color: #000080; font-weight: bold\">1</span><span style=\"color: #000080; text-decoration-color: #000080\">:</span> Из-за <span style=\"color: #800000; text-decoration-color: #800000\">стремительного</span> <span style=\"color: #800000; text-decoration-color: #800000\">подъема</span> <span style=\"color: #800000; text-decoration-color: #800000\">уровня</span> <span style=\"color: #800000; text-decoration-color: #800000\">воды,</span> <span style=\"color: #800000; text-decoration-color: #800000\">жители</span> <span style=\"color: #800000; text-decoration-color: #800000\">прибрежных</span> <span style=\"color: #800000; text-decoration-color: #800000\">районов</span> <span style=\"color: #800000; text-decoration-color: #800000\">оказались</span> в <span style=\"color: #800000; text-decoration-color: #800000\">смертельной</span> <span style=\"color: #800000; text-decoration-color: #800000\">опасности.</span> <span style=\"color: #800000; text-decoration-color: #800000\">Без</span>\n",
       "<span style=\"color: #800000; text-decoration-color: #800000\">четких</span> <span style=\"color: #800000; text-decoration-color: #800000\">эвакуационных</span> <span style=\"color: #800000; text-decoration-color: #800000\">планов,</span> <span style=\"color: #800000; text-decoration-color: #800000\">ваши</span> <span style=\"color: #800000; text-decoration-color: #800000\">семьи</span> <span style=\"color: #800000; text-decoration-color: #800000\">могут</span> <span style=\"color: #800000; text-decoration-color: #800000\">быть</span> <span style=\"color: #800000; text-decoration-color: #800000\">отрезаны</span> <span style=\"color: #800000; text-decoration-color: #800000\">от</span> <span style=\"color: #800000; text-decoration-color: #800000\">помощи.</span> <span style=\"color: #800000; text-decoration-color: #800000\">Необходимо</span> <span style=\"color: #800000; text-decoration-color: #800000\">срочно</span> принять <span style=\"color: #800000; text-decoration-color: #800000\">меры,</span> <span style=\"color: #800000; text-decoration-color: #800000\">иначе</span> \n",
       "<span style=\"color: #800000; text-decoration-color: #800000\">последствия</span> <span style=\"color: #800000; text-decoration-color: #800000\">могут</span> <span style=\"color: #800000; text-decoration-color: #800000\">быть</span> <span style=\"color: #800000; text-decoration-color: #800000\">катастрофическими.</span>\n",
       "</pre>\n"
      ],
      "text/plain": [
       "\u001b[34mТекст \u001b[0m\u001b[1;34m1\u001b[0m\u001b[34m:\u001b[0m Из-за \u001b[31mстремительного\u001b[0m \u001b[31mподъема\u001b[0m \u001b[31mуровня\u001b[0m \u001b[31mводы,\u001b[0m \u001b[31mжители\u001b[0m \u001b[31mприбрежных\u001b[0m \u001b[31mрайонов\u001b[0m \u001b[31mоказались\u001b[0m в \u001b[31mсмертельной\u001b[0m \u001b[31mопасности.\u001b[0m \u001b[31mБез\u001b[0m\n",
       "\u001b[31mчетких\u001b[0m \u001b[31mэвакуационных\u001b[0m \u001b[31mпланов,\u001b[0m \u001b[31mваши\u001b[0m \u001b[31mсемьи\u001b[0m \u001b[31mмогут\u001b[0m \u001b[31mбыть\u001b[0m \u001b[31mотрезаны\u001b[0m \u001b[31mот\u001b[0m \u001b[31mпомощи.\u001b[0m \u001b[31mНеобходимо\u001b[0m \u001b[31mсрочно\u001b[0m принять \u001b[31mмеры,\u001b[0m \u001b[31mиначе\u001b[0m \n",
       "\u001b[31mпоследствия\u001b[0m \u001b[31mмогут\u001b[0m \u001b[31mбыть\u001b[0m \u001b[31mкатастрофическими.\u001b[0m\n"
      ]
     },
     "metadata": {},
     "output_type": "display_data"
    },
    {
     "data": {
      "text/html": [
       "<pre style=\"white-space:pre;overflow-x:auto;line-height:normal;font-family:Menlo,'DejaVu Sans Mono',consolas,'Courier New',monospace\"><span style=\"color: #008000; text-decoration-color: #008000\">Текст </span><span style=\"color: #008000; text-decoration-color: #008000; font-weight: bold\">2</span><span style=\"color: #008000; text-decoration-color: #008000\">:</span> Из-за <span style=\"color: #800000; text-decoration-color: #800000\">обильных</span> <span style=\"color: #800000; text-decoration-color: #800000\">дождей</span> <span style=\"color: #800000; text-decoration-color: #800000\">уровень</span> <span style=\"color: #800000; text-decoration-color: #800000\">воды</span> в <span style=\"color: #800000; text-decoration-color: #800000\">реках</span> <span style=\"color: #800000; text-decoration-color: #800000\">стремительно</span> <span style=\"color: #800000; text-decoration-color: #800000\">растет,</span> <span style=\"color: #800000; text-decoration-color: #800000\">угрожая</span> <span style=\"color: #800000; text-decoration-color: #800000\">затоплением</span> <span style=\"color: #800000; text-decoration-color: #800000\">близлежащих</span> <span style=\"color: #800000; text-decoration-color: #800000\">населенных</span>\n",
       "<span style=\"color: #800000; text-decoration-color: #800000\">пунктов.</span> <span style=\"color: #800000; text-decoration-color: #800000\">Если</span> <span style=\"color: #800000; text-decoration-color: #800000\">не</span> принять <span style=\"color: #800000; text-decoration-color: #800000\">срочные</span> <span style=\"color: #800000; text-decoration-color: #800000\">меры</span> <span style=\"color: #800000; text-decoration-color: #800000\">по</span> <span style=\"color: #800000; text-decoration-color: #800000\">эвакуации,</span> <span style=\"color: #800000; text-decoration-color: #800000\">сотни</span> <span style=\"color: #800000; text-decoration-color: #800000\">жизней</span> <span style=\"color: #800000; text-decoration-color: #800000\">окажутся</span> <span style=\"color: #800000; text-decoration-color: #800000\">под</span> <span style=\"color: #800000; text-decoration-color: #800000\">угрозой.</span> <span style=\"color: #800000; text-decoration-color: #800000\">Не</span> <span style=\"color: #800000; text-decoration-color: #800000\">ждите,</span> <span style=\"color: #800000; text-decoration-color: #800000\">пока</span> <span style=\"color: #800000; text-decoration-color: #800000\">бедствие</span> \n",
       "<span style=\"color: #800000; text-decoration-color: #800000\">станет</span> <span style=\"color: #800000; text-decoration-color: #800000\">реальностью,</span> <span style=\"color: #800000; text-decoration-color: #800000\">действуйте</span> <span style=\"color: #800000; text-decoration-color: #800000\">сейчас!</span>\n",
       "</pre>\n"
      ],
      "text/plain": [
       "\u001b[32mТекст \u001b[0m\u001b[1;32m2\u001b[0m\u001b[32m:\u001b[0m Из-за \u001b[31mобильных\u001b[0m \u001b[31mдождей\u001b[0m \u001b[31mуровень\u001b[0m \u001b[31mводы\u001b[0m в \u001b[31mреках\u001b[0m \u001b[31mстремительно\u001b[0m \u001b[31mрастет,\u001b[0m \u001b[31mугрожая\u001b[0m \u001b[31mзатоплением\u001b[0m \u001b[31mблизлежащих\u001b[0m \u001b[31mнаселенных\u001b[0m\n",
       "\u001b[31mпунктов.\u001b[0m \u001b[31mЕсли\u001b[0m \u001b[31mне\u001b[0m принять \u001b[31mсрочные\u001b[0m \u001b[31mмеры\u001b[0m \u001b[31mпо\u001b[0m \u001b[31mэвакуации,\u001b[0m \u001b[31mсотни\u001b[0m \u001b[31mжизней\u001b[0m \u001b[31mокажутся\u001b[0m \u001b[31mпод\u001b[0m \u001b[31mугрозой.\u001b[0m \u001b[31mНе\u001b[0m \u001b[31mждите,\u001b[0m \u001b[31mпока\u001b[0m \u001b[31mбедствие\u001b[0m \n",
       "\u001b[31mстанет\u001b[0m \u001b[31mреальностью,\u001b[0m \u001b[31mдействуйте\u001b[0m \u001b[31mсейчас!\u001b[0m\n"
      ]
     },
     "metadata": {},
     "output_type": "display_data"
    },
    {
     "data": {
      "text/html": [
       "<pre style=\"white-space:pre;overflow-x:auto;line-height:normal;font-family:Menlo,'DejaVu Sans Mono',consolas,'Courier New',monospace\">\n",
       "<span style=\"font-weight: bold\">Пара текстов (</span><span style=\"color: #008080; text-decoration-color: #008080; font-weight: bold\">3</span><span style=\"font-weight: bold\">, </span><span style=\"color: #008080; text-decoration-color: #008080; font-weight: bold\">12</span><span style=\"font-weight: bold\">) с коэффициентом схожести </span><span style=\"color: #008080; text-decoration-color: #008080; font-weight: bold\">0.10</span><span style=\"font-weight: bold\">:</span>\n",
       "</pre>\n"
      ],
      "text/plain": [
       "\n",
       "\u001b[1mПара текстов \u001b[0m\u001b[1m(\u001b[0m\u001b[1;36m3\u001b[0m\u001b[1m, \u001b[0m\u001b[1;36m12\u001b[0m\u001b[1m)\u001b[0m\u001b[1m с коэффициентом схожести \u001b[0m\u001b[1;36m0.10\u001b[0m\u001b[1m:\u001b[0m\n"
      ]
     },
     "metadata": {},
     "output_type": "display_data"
    },
    {
     "data": {
      "text/html": [
       "<pre style=\"white-space:pre;overflow-x:auto;line-height:normal;font-family:Menlo,'DejaVu Sans Mono',consolas,'Courier New',monospace\"><span style=\"color: #000080; text-decoration-color: #000080\">Текст </span><span style=\"color: #000080; text-decoration-color: #000080; font-weight: bold\">1</span><span style=\"color: #000080; text-decoration-color: #000080\">:</span> <span style=\"color: #800000; text-decoration-color: #800000\">Из-за</span> <span style=\"color: #800000; text-decoration-color: #800000\">увеличившихся</span> <span style=\"color: #800000; text-decoration-color: #800000\">ливней</span> <span style=\"color: #800000; text-decoration-color: #800000\">уровень</span> <span style=\"color: #800000; text-decoration-color: #800000\">воды</span> <span style=\"color: #800000; text-decoration-color: #800000\">в</span> <span style=\"color: #800000; text-decoration-color: #800000\">реках</span> <span style=\"color: #800000; text-decoration-color: #800000\">стремительно</span> <span style=\"color: #800000; text-decoration-color: #800000\">растет,</span> <span style=\"color: #800000; text-decoration-color: #800000\">угрожая</span> <span style=\"color: #800000; text-decoration-color: #800000\">затоплением</span> <span style=\"color: #800000; text-decoration-color: #800000\">целым</span> <span style=\"color: #800000; text-decoration-color: #800000\">районам.</span> \n",
       "Если не <span style=\"color: #800000; text-decoration-color: #800000\">принять</span> срочные меры, <span style=\"color: #800000; text-decoration-color: #800000\">наводнение</span> может <span style=\"color: #800000; text-decoration-color: #800000\">стать</span> <span style=\"color: #800000; text-decoration-color: #800000\">самым</span> <span style=\"color: #800000; text-decoration-color: #800000\">разрушительным</span> <span style=\"color: #800000; text-decoration-color: #800000\">за</span> <span style=\"color: #800000; text-decoration-color: #800000\">десятилетие,</span> <span style=\"color: #800000; text-decoration-color: #800000\">оставив</span> <span style=\"color: #800000; text-decoration-color: #800000\">тысячи</span> <span style=\"color: #800000; text-decoration-color: #800000\">людей</span> <span style=\"color: #800000; text-decoration-color: #800000\">без</span> \n",
       "<span style=\"color: #800000; text-decoration-color: #800000\">крова</span> и <span style=\"color: #800000; text-decoration-color: #800000\">средств</span> <span style=\"color: #800000; text-decoration-color: #800000\">к</span> <span style=\"color: #800000; text-decoration-color: #800000\">существованию.</span>\n",
       "</pre>\n"
      ],
      "text/plain": [
       "\u001b[34mТекст \u001b[0m\u001b[1;34m1\u001b[0m\u001b[34m:\u001b[0m \u001b[31mИз-за\u001b[0m \u001b[31mувеличившихся\u001b[0m \u001b[31mливней\u001b[0m \u001b[31mуровень\u001b[0m \u001b[31mводы\u001b[0m \u001b[31mв\u001b[0m \u001b[31mреках\u001b[0m \u001b[31mстремительно\u001b[0m \u001b[31mрастет,\u001b[0m \u001b[31mугрожая\u001b[0m \u001b[31mзатоплением\u001b[0m \u001b[31mцелым\u001b[0m \u001b[31mрайонам.\u001b[0m \n",
       "Если не \u001b[31mпринять\u001b[0m срочные меры, \u001b[31mнаводнение\u001b[0m может \u001b[31mстать\u001b[0m \u001b[31mсамым\u001b[0m \u001b[31mразрушительным\u001b[0m \u001b[31mза\u001b[0m \u001b[31mдесятилетие,\u001b[0m \u001b[31mоставив\u001b[0m \u001b[31mтысячи\u001b[0m \u001b[31mлюдей\u001b[0m \u001b[31mбез\u001b[0m \n",
       "\u001b[31mкрова\u001b[0m и \u001b[31mсредств\u001b[0m \u001b[31mк\u001b[0m \u001b[31mсуществованию.\u001b[0m\n"
      ]
     },
     "metadata": {},
     "output_type": "display_data"
    },
    {
     "data": {
      "text/html": [
       "<pre style=\"white-space:pre;overflow-x:auto;line-height:normal;font-family:Menlo,'DejaVu Sans Mono',consolas,'Courier New',monospace\"><span style=\"color: #008000; text-decoration-color: #008000\">Текст </span><span style=\"color: #008000; text-decoration-color: #008000; font-weight: bold\">2</span><span style=\"color: #008000; text-decoration-color: #008000\">:</span> <span style=\"color: #800000; text-decoration-color: #800000\">Наводнения</span> <span style=\"color: #800000; text-decoration-color: #800000\">становятся</span> <span style=\"color: #800000; text-decoration-color: #800000\">всё</span> <span style=\"color: #800000; text-decoration-color: #800000\">более</span> <span style=\"color: #800000; text-decoration-color: #800000\">частыми</span> <span style=\"color: #800000; text-decoration-color: #800000\">из-за</span> <span style=\"color: #800000; text-decoration-color: #800000\">климатических</span> <span style=\"color: #800000; text-decoration-color: #800000\">изменений.</span> Если не <span style=\"color: #800000; text-decoration-color: #800000\">предпринять</span> срочные меры, \n",
       "<span style=\"color: #800000; text-decoration-color: #800000\">ваш</span> <span style=\"color: #800000; text-decoration-color: #800000\">дом</span> может <span style=\"color: #800000; text-decoration-color: #800000\">оказаться</span> <span style=\"color: #800000; text-decoration-color: #800000\">под</span> <span style=\"color: #800000; text-decoration-color: #800000\">водой,</span> <span style=\"color: #800000; text-decoration-color: #800000\">а</span> <span style=\"color: #800000; text-decoration-color: #800000\">жизнь</span> <span style=\"color: #800000; text-decoration-color: #800000\">—</span> <span style=\"color: #800000; text-decoration-color: #800000\">в</span> <span style=\"color: #800000; text-decoration-color: #800000\">опасности.</span> <span style=\"color: #800000; text-decoration-color: #800000\">Последствия</span> <span style=\"color: #800000; text-decoration-color: #800000\">таких</span> <span style=\"color: #800000; text-decoration-color: #800000\">катастроф</span> <span style=\"color: #800000; text-decoration-color: #800000\">будут</span> <span style=\"color: #800000; text-decoration-color: #800000\">долгосрочными</span> и \n",
       "<span style=\"color: #800000; text-decoration-color: #800000\">разрушительными</span> <span style=\"color: #800000; text-decoration-color: #800000\">для</span> <span style=\"color: #800000; text-decoration-color: #800000\">всех</span> <span style=\"color: #800000; text-decoration-color: #800000\">нас.</span>\n",
       "</pre>\n"
      ],
      "text/plain": [
       "\u001b[32mТекст \u001b[0m\u001b[1;32m2\u001b[0m\u001b[32m:\u001b[0m \u001b[31mНаводнения\u001b[0m \u001b[31mстановятся\u001b[0m \u001b[31mвсё\u001b[0m \u001b[31mболее\u001b[0m \u001b[31mчастыми\u001b[0m \u001b[31mиз-за\u001b[0m \u001b[31mклиматических\u001b[0m \u001b[31mизменений.\u001b[0m Если не \u001b[31mпредпринять\u001b[0m срочные меры, \n",
       "\u001b[31mваш\u001b[0m \u001b[31mдом\u001b[0m может \u001b[31mоказаться\u001b[0m \u001b[31mпод\u001b[0m \u001b[31mводой,\u001b[0m \u001b[31mа\u001b[0m \u001b[31mжизнь\u001b[0m \u001b[31m—\u001b[0m \u001b[31mв\u001b[0m \u001b[31mопасности.\u001b[0m \u001b[31mПоследствия\u001b[0m \u001b[31mтаких\u001b[0m \u001b[31mкатастроф\u001b[0m \u001b[31mбудут\u001b[0m \u001b[31mдолгосрочными\u001b[0m и \n",
       "\u001b[31mразрушительными\u001b[0m \u001b[31mдля\u001b[0m \u001b[31mвсех\u001b[0m \u001b[31mнас.\u001b[0m\n"
      ]
     },
     "metadata": {},
     "output_type": "display_data"
    },
    {
     "data": {
      "text/html": [
       "<pre style=\"white-space:pre;overflow-x:auto;line-height:normal;font-family:Menlo,'DejaVu Sans Mono',consolas,'Courier New',monospace\">\n",
       "<span style=\"font-weight: bold\">Пара текстов (</span><span style=\"color: #008080; text-decoration-color: #008080; font-weight: bold\">6</span><span style=\"font-weight: bold\">, </span><span style=\"color: #008080; text-decoration-color: #008080; font-weight: bold\">9</span><span style=\"font-weight: bold\">) с коэффициентом схожести </span><span style=\"color: #008080; text-decoration-color: #008080; font-weight: bold\">0.09</span><span style=\"font-weight: bold\">:</span>\n",
       "</pre>\n"
      ],
      "text/plain": [
       "\n",
       "\u001b[1mПара текстов \u001b[0m\u001b[1m(\u001b[0m\u001b[1;36m6\u001b[0m\u001b[1m, \u001b[0m\u001b[1;36m9\u001b[0m\u001b[1m)\u001b[0m\u001b[1m с коэффициентом схожести \u001b[0m\u001b[1;36m0.09\u001b[0m\u001b[1m:\u001b[0m\n"
      ]
     },
     "metadata": {},
     "output_type": "display_data"
    },
    {
     "data": {
      "text/html": [
       "<pre style=\"white-space:pre;overflow-x:auto;line-height:normal;font-family:Menlo,'DejaVu Sans Mono',consolas,'Courier New',monospace\"><span style=\"color: #000080; text-decoration-color: #000080\">Текст </span><span style=\"color: #000080; text-decoration-color: #000080; font-weight: bold\">1</span><span style=\"color: #000080; text-decoration-color: #000080\">:</span> <span style=\"color: #800000; text-decoration-color: #800000\">Вода</span> <span style=\"color: #800000; text-decoration-color: #800000\">продолжает</span> стремительно <span style=\"color: #800000; text-decoration-color: #800000\">подниматься,</span> <span style=\"color: #800000; text-decoration-color: #800000\">и</span> <span style=\"color: #800000; text-decoration-color: #800000\">если</span> меры <span style=\"color: #800000; text-decoration-color: #800000\">не</span> <span style=\"color: #800000; text-decoration-color: #800000\">будут</span> <span style=\"color: #800000; text-decoration-color: #800000\">приняты</span> <span style=\"color: #800000; text-decoration-color: #800000\">немедленно,</span> <span style=\"color: #800000; text-decoration-color: #800000\">наводнения</span> <span style=\"color: #800000; text-decoration-color: #800000\">станут</span> \n",
       "<span style=\"color: #800000; text-decoration-color: #800000\">обычным</span> <span style=\"color: #800000; text-decoration-color: #800000\">явлением.</span> <span style=\"color: #800000; text-decoration-color: #800000\">Климатические</span> <span style=\"color: #800000; text-decoration-color: #800000\">изменения</span> <span style=\"color: #800000; text-decoration-color: #800000\">уже</span> <span style=\"color: #800000; text-decoration-color: #800000\">сейчас</span> <span style=\"color: #800000; text-decoration-color: #800000\">грозят</span> <span style=\"color: #800000; text-decoration-color: #800000\">разрушительными</span> <span style=\"color: #800000; text-decoration-color: #800000\">последствиями</span> <span style=\"color: #800000; text-decoration-color: #800000\">для</span> <span style=\"color: #800000; text-decoration-color: #800000\">наших</span> <span style=\"color: #800000; text-decoration-color: #800000\">домов</span> <span style=\"color: #800000; text-decoration-color: #800000\">и</span> <span style=\"color: #800000; text-decoration-color: #800000\">жизней.</span>\n",
       "<span style=\"color: #800000; text-decoration-color: #800000\">Завтра</span> <span style=\"color: #800000; text-decoration-color: #800000\">может</span> <span style=\"color: #800000; text-decoration-color: #800000\">быть</span> <span style=\"color: #800000; text-decoration-color: #800000\">поздно</span> <span style=\"color: #800000; text-decoration-color: #800000\">для</span> <span style=\"color: #800000; text-decoration-color: #800000\">спасения</span> <span style=\"color: #800000; text-decoration-color: #800000\">вашего</span> <span style=\"color: #800000; text-decoration-color: #800000\">будущего.</span>\n",
       "</pre>\n"
      ],
      "text/plain": [
       "\u001b[34mТекст \u001b[0m\u001b[1;34m1\u001b[0m\u001b[34m:\u001b[0m \u001b[31mВода\u001b[0m \u001b[31mпродолжает\u001b[0m стремительно \u001b[31mподниматься,\u001b[0m \u001b[31mи\u001b[0m \u001b[31mесли\u001b[0m меры \u001b[31mне\u001b[0m \u001b[31mбудут\u001b[0m \u001b[31mприняты\u001b[0m \u001b[31mнемедленно,\u001b[0m \u001b[31mнаводнения\u001b[0m \u001b[31mстанут\u001b[0m \n",
       "\u001b[31mобычным\u001b[0m \u001b[31mявлением.\u001b[0m \u001b[31mКлиматические\u001b[0m \u001b[31mизменения\u001b[0m \u001b[31mуже\u001b[0m \u001b[31mсейчас\u001b[0m \u001b[31mгрозят\u001b[0m \u001b[31mразрушительными\u001b[0m \u001b[31mпоследствиями\u001b[0m \u001b[31mдля\u001b[0m \u001b[31mнаших\u001b[0m \u001b[31mдомов\u001b[0m \u001b[31mи\u001b[0m \u001b[31mжизней.\u001b[0m\n",
       "\u001b[31mЗавтра\u001b[0m \u001b[31mможет\u001b[0m \u001b[31mбыть\u001b[0m \u001b[31mпоздно\u001b[0m \u001b[31mдля\u001b[0m \u001b[31mспасения\u001b[0m \u001b[31mвашего\u001b[0m \u001b[31mбудущего.\u001b[0m\n"
      ]
     },
     "metadata": {},
     "output_type": "display_data"
    },
    {
     "data": {
      "text/html": [
       "<pre style=\"white-space:pre;overflow-x:auto;line-height:normal;font-family:Menlo,'DejaVu Sans Mono',consolas,'Courier New',monospace\"><span style=\"color: #008000; text-decoration-color: #008000\">Текст </span><span style=\"color: #008000; text-decoration-color: #008000; font-weight: bold\">2</span><span style=\"color: #008000; text-decoration-color: #008000\">:</span> <span style=\"color: #800000; text-decoration-color: #800000\">Из-за</span> <span style=\"color: #800000; text-decoration-color: #800000\">обильных</span> <span style=\"color: #800000; text-decoration-color: #800000\">дождей</span> <span style=\"color: #800000; text-decoration-color: #800000\">уровень</span> <span style=\"color: #800000; text-decoration-color: #800000\">воды</span> <span style=\"color: #800000; text-decoration-color: #800000\">в</span> <span style=\"color: #800000; text-decoration-color: #800000\">реках</span> стремительно <span style=\"color: #800000; text-decoration-color: #800000\">растет,</span> <span style=\"color: #800000; text-decoration-color: #800000\">угрожая</span> <span style=\"color: #800000; text-decoration-color: #800000\">затоплением</span> <span style=\"color: #800000; text-decoration-color: #800000\">близлежащих</span> <span style=\"color: #800000; text-decoration-color: #800000\">населенных</span>\n",
       "<span style=\"color: #800000; text-decoration-color: #800000\">пунктов.</span> <span style=\"color: #800000; text-decoration-color: #800000\">Если</span> <span style=\"color: #800000; text-decoration-color: #800000\">не</span> <span style=\"color: #800000; text-decoration-color: #800000\">принять</span> <span style=\"color: #800000; text-decoration-color: #800000\">срочные</span> меры <span style=\"color: #800000; text-decoration-color: #800000\">по</span> <span style=\"color: #800000; text-decoration-color: #800000\">эвакуации,</span> <span style=\"color: #800000; text-decoration-color: #800000\">сотни</span> <span style=\"color: #800000; text-decoration-color: #800000\">жизней</span> <span style=\"color: #800000; text-decoration-color: #800000\">окажутся</span> <span style=\"color: #800000; text-decoration-color: #800000\">под</span> <span style=\"color: #800000; text-decoration-color: #800000\">угрозой.</span> <span style=\"color: #800000; text-decoration-color: #800000\">Не</span> <span style=\"color: #800000; text-decoration-color: #800000\">ждите,</span> <span style=\"color: #800000; text-decoration-color: #800000\">пока</span> <span style=\"color: #800000; text-decoration-color: #800000\">бедствие</span> \n",
       "<span style=\"color: #800000; text-decoration-color: #800000\">станет</span> <span style=\"color: #800000; text-decoration-color: #800000\">реальностью,</span> <span style=\"color: #800000; text-decoration-color: #800000\">действуйте</span> <span style=\"color: #800000; text-decoration-color: #800000\">сейчас!</span>\n",
       "</pre>\n"
      ],
      "text/plain": [
       "\u001b[32mТекст \u001b[0m\u001b[1;32m2\u001b[0m\u001b[32m:\u001b[0m \u001b[31mИз-за\u001b[0m \u001b[31mобильных\u001b[0m \u001b[31mдождей\u001b[0m \u001b[31mуровень\u001b[0m \u001b[31mводы\u001b[0m \u001b[31mв\u001b[0m \u001b[31mреках\u001b[0m стремительно \u001b[31mрастет,\u001b[0m \u001b[31mугрожая\u001b[0m \u001b[31mзатоплением\u001b[0m \u001b[31mблизлежащих\u001b[0m \u001b[31mнаселенных\u001b[0m\n",
       "\u001b[31mпунктов.\u001b[0m \u001b[31mЕсли\u001b[0m \u001b[31mне\u001b[0m \u001b[31mпринять\u001b[0m \u001b[31mсрочные\u001b[0m меры \u001b[31mпо\u001b[0m \u001b[31mэвакуации,\u001b[0m \u001b[31mсотни\u001b[0m \u001b[31mжизней\u001b[0m \u001b[31mокажутся\u001b[0m \u001b[31mпод\u001b[0m \u001b[31mугрозой.\u001b[0m \u001b[31mНе\u001b[0m \u001b[31mждите,\u001b[0m \u001b[31mпока\u001b[0m \u001b[31mбедствие\u001b[0m \n",
       "\u001b[31mстанет\u001b[0m \u001b[31mреальностью,\u001b[0m \u001b[31mдействуйте\u001b[0m \u001b[31mсейчас!\u001b[0m\n"
      ]
     },
     "metadata": {},
     "output_type": "display_data"
    },
    {
     "data": {
      "text/html": [
       "<pre style=\"white-space:pre;overflow-x:auto;line-height:normal;font-family:Menlo,'DejaVu Sans Mono',consolas,'Courier New',monospace\">\n",
       "<span style=\"font-weight: bold\">Пара текстов (</span><span style=\"color: #008080; text-decoration-color: #008080; font-weight: bold\">12</span><span style=\"font-weight: bold\">, </span><span style=\"color: #008080; text-decoration-color: #008080; font-weight: bold\">13</span><span style=\"font-weight: bold\">) с коэффициентом схожести </span><span style=\"color: #008080; text-decoration-color: #008080; font-weight: bold\">0.09</span><span style=\"font-weight: bold\">:</span>\n",
       "</pre>\n"
      ],
      "text/plain": [
       "\n",
       "\u001b[1mПара текстов \u001b[0m\u001b[1m(\u001b[0m\u001b[1;36m12\u001b[0m\u001b[1m, \u001b[0m\u001b[1;36m13\u001b[0m\u001b[1m)\u001b[0m\u001b[1m с коэффициентом схожести \u001b[0m\u001b[1;36m0.09\u001b[0m\u001b[1m:\u001b[0m\n"
      ]
     },
     "metadata": {},
     "output_type": "display_data"
    },
    {
     "data": {
      "text/html": [
       "<pre style=\"white-space:pre;overflow-x:auto;line-height:normal;font-family:Menlo,'DejaVu Sans Mono',consolas,'Courier New',monospace\"><span style=\"color: #000080; text-decoration-color: #000080\">Текст </span><span style=\"color: #000080; text-decoration-color: #000080; font-weight: bold\">1</span><span style=\"color: #000080; text-decoration-color: #000080\">:</span> <span style=\"color: #800000; text-decoration-color: #800000\">Наводнения</span> <span style=\"color: #800000; text-decoration-color: #800000\">становятся</span> <span style=\"color: #800000; text-decoration-color: #800000\">всё</span> <span style=\"color: #800000; text-decoration-color: #800000\">более</span> <span style=\"color: #800000; text-decoration-color: #800000\">частыми</span> <span style=\"color: #800000; text-decoration-color: #800000\">из-за</span> <span style=\"color: #800000; text-decoration-color: #800000\">климатических</span> <span style=\"color: #800000; text-decoration-color: #800000\">изменений.</span> Если не предпринять срочные меры, \n",
       "<span style=\"color: #800000; text-decoration-color: #800000\">ваш</span> <span style=\"color: #800000; text-decoration-color: #800000\">дом</span> может <span style=\"color: #800000; text-decoration-color: #800000\">оказаться</span> <span style=\"color: #800000; text-decoration-color: #800000\">под</span> <span style=\"color: #800000; text-decoration-color: #800000\">водой,</span> <span style=\"color: #800000; text-decoration-color: #800000\">а</span> <span style=\"color: #800000; text-decoration-color: #800000\">жизнь</span> <span style=\"color: #800000; text-decoration-color: #800000\">—</span> <span style=\"color: #800000; text-decoration-color: #800000\">в</span> <span style=\"color: #800000; text-decoration-color: #800000\">опасности.</span> <span style=\"color: #800000; text-decoration-color: #800000\">Последствия</span> <span style=\"color: #800000; text-decoration-color: #800000\">таких</span> <span style=\"color: #800000; text-decoration-color: #800000\">катастроф</span> <span style=\"color: #800000; text-decoration-color: #800000\">будут</span> <span style=\"color: #800000; text-decoration-color: #800000\">долгосрочными</span> и \n",
       "<span style=\"color: #800000; text-decoration-color: #800000\">разрушительными</span> для <span style=\"color: #800000; text-decoration-color: #800000\">всех</span> <span style=\"color: #800000; text-decoration-color: #800000\">нас.</span>\n",
       "</pre>\n"
      ],
      "text/plain": [
       "\u001b[34mТекст \u001b[0m\u001b[1;34m1\u001b[0m\u001b[34m:\u001b[0m \u001b[31mНаводнения\u001b[0m \u001b[31mстановятся\u001b[0m \u001b[31mвсё\u001b[0m \u001b[31mболее\u001b[0m \u001b[31mчастыми\u001b[0m \u001b[31mиз-за\u001b[0m \u001b[31mклиматических\u001b[0m \u001b[31mизменений.\u001b[0m Если не предпринять срочные меры, \n",
       "\u001b[31mваш\u001b[0m \u001b[31mдом\u001b[0m может \u001b[31mоказаться\u001b[0m \u001b[31mпод\u001b[0m \u001b[31mводой,\u001b[0m \u001b[31mа\u001b[0m \u001b[31mжизнь\u001b[0m \u001b[31m—\u001b[0m \u001b[31mв\u001b[0m \u001b[31mопасности.\u001b[0m \u001b[31mПоследствия\u001b[0m \u001b[31mтаких\u001b[0m \u001b[31mкатастроф\u001b[0m \u001b[31mбудут\u001b[0m \u001b[31mдолгосрочными\u001b[0m и \n",
       "\u001b[31mразрушительными\u001b[0m для \u001b[31mвсех\u001b[0m \u001b[31mнас.\u001b[0m\n"
      ]
     },
     "metadata": {},
     "output_type": "display_data"
    },
    {
     "data": {
      "text/html": [
       "<pre style=\"white-space:pre;overflow-x:auto;line-height:normal;font-family:Menlo,'DejaVu Sans Mono',consolas,'Courier New',monospace\"><span style=\"color: #008000; text-decoration-color: #008000\">Текст </span><span style=\"color: #008000; text-decoration-color: #008000; font-weight: bold\">2</span><span style=\"color: #008000; text-decoration-color: #008000\">:</span> <span style=\"color: #800000; text-decoration-color: #800000\">Наводнение,</span> <span style=\"color: #800000; text-decoration-color: #800000\">обрушившееся</span> <span style=\"color: #800000; text-decoration-color: #800000\">на</span> <span style=\"color: #800000; text-decoration-color: #800000\">регион,</span> <span style=\"color: #800000; text-decoration-color: #800000\">уже</span> <span style=\"color: #800000; text-decoration-color: #800000\">унесло</span> <span style=\"color: #800000; text-decoration-color: #800000\">несколько</span> <span style=\"color: #800000; text-decoration-color: #800000\">жизней</span> <span style=\"color: #800000; text-decoration-color: #800000\">и</span> <span style=\"color: #800000; text-decoration-color: #800000\">разрушило</span> <span style=\"color: #800000; text-decoration-color: #800000\">сотни</span> <span style=\"color: #800000; text-decoration-color: #800000\">домов.</span> Если не \n",
       "предпринять срочные меры, <span style=\"color: #800000; text-decoration-color: #800000\">ситуация</span> может <span style=\"color: #800000; text-decoration-color: #800000\">выйти</span> <span style=\"color: #800000; text-decoration-color: #800000\">из-под</span> <span style=\"color: #800000; text-decoration-color: #800000\">контроля,</span> и <span style=\"color: #800000; text-decoration-color: #800000\">катастрофа</span> <span style=\"color: #800000; text-decoration-color: #800000\">станет</span> <span style=\"color: #800000; text-decoration-color: #800000\">неизбежной.</span> <span style=\"color: #800000; text-decoration-color: #800000\">Каждое</span> <span style=\"color: #800000; text-decoration-color: #800000\">промедление</span> \n",
       "<span style=\"color: #800000; text-decoration-color: #800000\">увеличивает</span> <span style=\"color: #800000; text-decoration-color: #800000\">риск</span> для <span style=\"color: #800000; text-decoration-color: #800000\">вас</span> <span style=\"color: #800000; text-decoration-color: #800000\">и</span> <span style=\"color: #800000; text-decoration-color: #800000\">ваших</span> <span style=\"color: #800000; text-decoration-color: #800000\">близких.</span>\n",
       "</pre>\n"
      ],
      "text/plain": [
       "\u001b[32mТекст \u001b[0m\u001b[1;32m2\u001b[0m\u001b[32m:\u001b[0m \u001b[31mНаводнение,\u001b[0m \u001b[31mобрушившееся\u001b[0m \u001b[31mна\u001b[0m \u001b[31mрегион,\u001b[0m \u001b[31mуже\u001b[0m \u001b[31mунесло\u001b[0m \u001b[31mнесколько\u001b[0m \u001b[31mжизней\u001b[0m \u001b[31mи\u001b[0m \u001b[31mразрушило\u001b[0m \u001b[31mсотни\u001b[0m \u001b[31mдомов.\u001b[0m Если не \n",
       "предпринять срочные меры, \u001b[31mситуация\u001b[0m может \u001b[31mвыйти\u001b[0m \u001b[31mиз-под\u001b[0m \u001b[31mконтроля,\u001b[0m и \u001b[31mкатастрофа\u001b[0m \u001b[31mстанет\u001b[0m \u001b[31mнеизбежной.\u001b[0m \u001b[31mКаждое\u001b[0m \u001b[31mпромедление\u001b[0m \n",
       "\u001b[31mувеличивает\u001b[0m \u001b[31mриск\u001b[0m для \u001b[31mвас\u001b[0m \u001b[31mи\u001b[0m \u001b[31mваших\u001b[0m \u001b[31mблизких.\u001b[0m\n"
      ]
     },
     "metadata": {},
     "output_type": "display_data"
    },
    {
     "data": {
      "text/html": [
       "<pre style=\"white-space:pre;overflow-x:auto;line-height:normal;font-family:Menlo,'DejaVu Sans Mono',consolas,'Courier New',monospace\">\n",
       "<span style=\"font-weight: bold\">Пара текстов (</span><span style=\"color: #008080; text-decoration-color: #008080; font-weight: bold\">5</span><span style=\"font-weight: bold\">, </span><span style=\"color: #008080; text-decoration-color: #008080; font-weight: bold\">10</span><span style=\"font-weight: bold\">) с коэффициентом схожести </span><span style=\"color: #008080; text-decoration-color: #008080; font-weight: bold\">0.09</span><span style=\"font-weight: bold\">:</span>\n",
       "</pre>\n"
      ],
      "text/plain": [
       "\n",
       "\u001b[1mПара текстов \u001b[0m\u001b[1m(\u001b[0m\u001b[1;36m5\u001b[0m\u001b[1m, \u001b[0m\u001b[1;36m10\u001b[0m\u001b[1m)\u001b[0m\u001b[1m с коэффициентом схожести \u001b[0m\u001b[1;36m0.09\u001b[0m\u001b[1m:\u001b[0m\n"
      ]
     },
     "metadata": {},
     "output_type": "display_data"
    },
    {
     "data": {
      "text/html": [
       "<pre style=\"white-space:pre;overflow-x:auto;line-height:normal;font-family:Menlo,'DejaVu Sans Mono',consolas,'Courier New',monospace\"><span style=\"color: #000080; text-decoration-color: #000080\">Текст </span><span style=\"color: #000080; text-decoration-color: #000080; font-weight: bold\">1</span><span style=\"color: #000080; text-decoration-color: #000080\">:</span> Из-за <span style=\"color: #800000; text-decoration-color: #800000\">стремительного</span> <span style=\"color: #800000; text-decoration-color: #800000\">подъема</span> <span style=\"color: #800000; text-decoration-color: #800000\">уровня</span> <span style=\"color: #800000; text-decoration-color: #800000\">воды</span> <span style=\"color: #800000; text-decoration-color: #800000\">многие</span> районы <span style=\"color: #800000; text-decoration-color: #800000\">оказались</span> <span style=\"color: #800000; text-decoration-color: #800000\">под</span> <span style=\"color: #800000; text-decoration-color: #800000\">угрозой</span> <span style=\"color: #800000; text-decoration-color: #800000\">наводнения.</span> <span style=\"color: #800000; text-decoration-color: #800000\">Уязвимые</span> <span style=\"color: #800000; text-decoration-color: #800000\">слои</span> \n",
       "<span style=\"color: #800000; text-decoration-color: #800000\">населения,</span> <span style=\"color: #800000; text-decoration-color: #800000\">не</span> <span style=\"color: #800000; text-decoration-color: #800000\">имеющие</span> <span style=\"color: #800000; text-decoration-color: #800000\">доступа</span> к <span style=\"color: #800000; text-decoration-color: #800000\">необходимым</span> <span style=\"color: #800000; text-decoration-color: #800000\">ресурсам,</span> <span style=\"color: #800000; text-decoration-color: #800000\">могут</span> <span style=\"color: #800000; text-decoration-color: #800000\">пострадать</span> <span style=\"color: #800000; text-decoration-color: #800000\">больше</span> <span style=\"color: #800000; text-decoration-color: #800000\">всего.</span> <span style=\"color: #800000; text-decoration-color: #800000\">Если</span> <span style=\"color: #800000; text-decoration-color: #800000\">не</span> <span style=\"color: #800000; text-decoration-color: #800000\">принять</span> <span style=\"color: #800000; text-decoration-color: #800000\">срочные</span> <span style=\"color: #800000; text-decoration-color: #800000\">меры,</span> \n",
       "<span style=\"color: #800000; text-decoration-color: #800000\">социальное</span> <span style=\"color: #800000; text-decoration-color: #800000\">неравенство</span> <span style=\"color: #800000; text-decoration-color: #800000\">лишь</span> <span style=\"color: #800000; text-decoration-color: #800000\">усугубит</span> <span style=\"color: #800000; text-decoration-color: #800000\">последствия</span> <span style=\"color: #800000; text-decoration-color: #800000\">катастрофы.</span>\n",
       "</pre>\n"
      ],
      "text/plain": [
       "\u001b[34mТекст \u001b[0m\u001b[1;34m1\u001b[0m\u001b[34m:\u001b[0m Из-за \u001b[31mстремительного\u001b[0m \u001b[31mподъема\u001b[0m \u001b[31mуровня\u001b[0m \u001b[31mводы\u001b[0m \u001b[31mмногие\u001b[0m районы \u001b[31mоказались\u001b[0m \u001b[31mпод\u001b[0m \u001b[31mугрозой\u001b[0m \u001b[31mнаводнения.\u001b[0m \u001b[31mУязвимые\u001b[0m \u001b[31mслои\u001b[0m \n",
       "\u001b[31mнаселения,\u001b[0m \u001b[31mне\u001b[0m \u001b[31mимеющие\u001b[0m \u001b[31mдоступа\u001b[0m к \u001b[31mнеобходимым\u001b[0m \u001b[31mресурсам,\u001b[0m \u001b[31mмогут\u001b[0m \u001b[31mпострадать\u001b[0m \u001b[31mбольше\u001b[0m \u001b[31mвсего.\u001b[0m \u001b[31mЕсли\u001b[0m \u001b[31mне\u001b[0m \u001b[31mпринять\u001b[0m \u001b[31mсрочные\u001b[0m \u001b[31mмеры,\u001b[0m \n",
       "\u001b[31mсоциальное\u001b[0m \u001b[31mнеравенство\u001b[0m \u001b[31mлишь\u001b[0m \u001b[31mусугубит\u001b[0m \u001b[31mпоследствия\u001b[0m \u001b[31mкатастрофы.\u001b[0m\n"
      ]
     },
     "metadata": {},
     "output_type": "display_data"
    },
    {
     "data": {
      "text/html": [
       "<pre style=\"white-space:pre;overflow-x:auto;line-height:normal;font-family:Menlo,'DejaVu Sans Mono',consolas,'Courier New',monospace\"><span style=\"color: #008000; text-decoration-color: #008000\">Текст </span><span style=\"color: #008000; text-decoration-color: #008000; font-weight: bold\">2</span><span style=\"color: #008000; text-decoration-color: #008000\">:</span> Из-за <span style=\"color: #800000; text-decoration-color: #800000\">увеличения</span> <span style=\"color: #800000; text-decoration-color: #800000\">числа</span> <span style=\"color: #800000; text-decoration-color: #800000\">наводнений,</span> <span style=\"color: #800000; text-decoration-color: #800000\">вызванных</span> <span style=\"color: #800000; text-decoration-color: #800000\">изменением</span> <span style=\"color: #800000; text-decoration-color: #800000\">климата,</span> <span style=\"color: #800000; text-decoration-color: #800000\">наиболее</span> <span style=\"color: #800000; text-decoration-color: #800000\">уязвимые</span> <span style=\"color: #800000; text-decoration-color: #800000\">слои</span> <span style=\"color: #800000; text-decoration-color: #800000\">населения</span> \n",
       "<span style=\"color: #800000; text-decoration-color: #800000\">оказываются</span> <span style=\"color: #800000; text-decoration-color: #800000\">под</span> <span style=\"color: #800000; text-decoration-color: #800000\">угрозой.</span> <span style=\"color: #800000; text-decoration-color: #800000\">Без</span> <span style=\"color: #800000; text-decoration-color: #800000\">своевременных</span> <span style=\"color: #800000; text-decoration-color: #800000\">мер</span> <span style=\"color: #800000; text-decoration-color: #800000\">ситуация</span> <span style=\"color: #800000; text-decoration-color: #800000\">может</span> <span style=\"color: #800000; text-decoration-color: #800000\">усугубиться,</span> <span style=\"color: #800000; text-decoration-color: #800000\">и</span> <span style=\"color: #800000; text-decoration-color: #800000\">бедные</span> районы <span style=\"color: #800000; text-decoration-color: #800000\">пострадают</span> <span style=\"color: #800000; text-decoration-color: #800000\">больше</span> <span style=\"color: #800000; text-decoration-color: #800000\">всего,</span>\n",
       "<span style=\"color: #800000; text-decoration-color: #800000\">оставляя</span> <span style=\"color: #800000; text-decoration-color: #800000\">тысячи</span> <span style=\"color: #800000; text-decoration-color: #800000\">людей</span> <span style=\"color: #800000; text-decoration-color: #800000\">без</span> <span style=\"color: #800000; text-decoration-color: #800000\">крова</span> <span style=\"color: #800000; text-decoration-color: #800000\">и</span> <span style=\"color: #800000; text-decoration-color: #800000\">средств</span> к <span style=\"color: #800000; text-decoration-color: #800000\">существованию.</span>\n",
       "</pre>\n"
      ],
      "text/plain": [
       "\u001b[32mТекст \u001b[0m\u001b[1;32m2\u001b[0m\u001b[32m:\u001b[0m Из-за \u001b[31mувеличения\u001b[0m \u001b[31mчисла\u001b[0m \u001b[31mнаводнений,\u001b[0m \u001b[31mвызванных\u001b[0m \u001b[31mизменением\u001b[0m \u001b[31mклимата,\u001b[0m \u001b[31mнаиболее\u001b[0m \u001b[31mуязвимые\u001b[0m \u001b[31mслои\u001b[0m \u001b[31mнаселения\u001b[0m \n",
       "\u001b[31mоказываются\u001b[0m \u001b[31mпод\u001b[0m \u001b[31mугрозой.\u001b[0m \u001b[31mБез\u001b[0m \u001b[31mсвоевременных\u001b[0m \u001b[31mмер\u001b[0m \u001b[31mситуация\u001b[0m \u001b[31mможет\u001b[0m \u001b[31mусугубиться,\u001b[0m \u001b[31mи\u001b[0m \u001b[31mбедные\u001b[0m районы \u001b[31mпострадают\u001b[0m \u001b[31mбольше\u001b[0m \u001b[31mвсего,\u001b[0m\n",
       "\u001b[31mоставляя\u001b[0m \u001b[31mтысячи\u001b[0m \u001b[31mлюдей\u001b[0m \u001b[31mбез\u001b[0m \u001b[31mкрова\u001b[0m \u001b[31mи\u001b[0m \u001b[31mсредств\u001b[0m к \u001b[31mсуществованию.\u001b[0m\n"
      ]
     },
     "metadata": {},
     "output_type": "display_data"
    },
    {
     "data": {
      "text/html": [
       "<pre style=\"white-space:pre;overflow-x:auto;line-height:normal;font-family:Menlo,'DejaVu Sans Mono',consolas,'Courier New',monospace\">\n",
       "<span style=\"font-weight: bold\">Пара текстов (</span><span style=\"color: #008080; text-decoration-color: #008080; font-weight: bold\">3</span><span style=\"font-weight: bold\">, </span><span style=\"color: #008080; text-decoration-color: #008080; font-weight: bold\">9</span><span style=\"font-weight: bold\">) с коэффициентом схожести </span><span style=\"color: #008080; text-decoration-color: #008080; font-weight: bold\">0.07</span><span style=\"font-weight: bold\">:</span>\n",
       "</pre>\n"
      ],
      "text/plain": [
       "\n",
       "\u001b[1mПара текстов \u001b[0m\u001b[1m(\u001b[0m\u001b[1;36m3\u001b[0m\u001b[1m, \u001b[0m\u001b[1;36m9\u001b[0m\u001b[1m)\u001b[0m\u001b[1m с коэффициентом схожести \u001b[0m\u001b[1;36m0.07\u001b[0m\u001b[1m:\u001b[0m\n"
      ]
     },
     "metadata": {},
     "output_type": "display_data"
    },
    {
     "data": {
      "text/html": [
       "<pre style=\"white-space:pre;overflow-x:auto;line-height:normal;font-family:Menlo,'DejaVu Sans Mono',consolas,'Courier New',monospace\"><span style=\"color: #000080; text-decoration-color: #000080\">Текст </span><span style=\"color: #000080; text-decoration-color: #000080; font-weight: bold\">1</span><span style=\"color: #000080; text-decoration-color: #000080\">:</span> Из-за <span style=\"color: #800000; text-decoration-color: #800000\">увеличившихся</span> <span style=\"color: #800000; text-decoration-color: #800000\">ливней</span> уровень воды в реках стремительно растет, угрожая затоплением <span style=\"color: #800000; text-decoration-color: #800000\">целым</span> <span style=\"color: #800000; text-decoration-color: #800000\">районам.</span> \n",
       "Если не принять срочные <span style=\"color: #800000; text-decoration-color: #800000\">меры,</span> <span style=\"color: #800000; text-decoration-color: #800000\">наводнение</span> <span style=\"color: #800000; text-decoration-color: #800000\">может</span> <span style=\"color: #800000; text-decoration-color: #800000\">стать</span> <span style=\"color: #800000; text-decoration-color: #800000\">самым</span> <span style=\"color: #800000; text-decoration-color: #800000\">разрушительным</span> <span style=\"color: #800000; text-decoration-color: #800000\">за</span> <span style=\"color: #800000; text-decoration-color: #800000\">десятилетие,</span> <span style=\"color: #800000; text-decoration-color: #800000\">оставив</span> <span style=\"color: #800000; text-decoration-color: #800000\">тысячи</span> <span style=\"color: #800000; text-decoration-color: #800000\">людей</span> <span style=\"color: #800000; text-decoration-color: #800000\">без</span> \n",
       "<span style=\"color: #800000; text-decoration-color: #800000\">крова</span> <span style=\"color: #800000; text-decoration-color: #800000\">и</span> <span style=\"color: #800000; text-decoration-color: #800000\">средств</span> <span style=\"color: #800000; text-decoration-color: #800000\">к</span> <span style=\"color: #800000; text-decoration-color: #800000\">существованию.</span>\n",
       "</pre>\n"
      ],
      "text/plain": [
       "\u001b[34mТекст \u001b[0m\u001b[1;34m1\u001b[0m\u001b[34m:\u001b[0m Из-за \u001b[31mувеличившихся\u001b[0m \u001b[31mливней\u001b[0m уровень воды в реках стремительно растет, угрожая затоплением \u001b[31mцелым\u001b[0m \u001b[31mрайонам.\u001b[0m \n",
       "Если не принять срочные \u001b[31mмеры,\u001b[0m \u001b[31mнаводнение\u001b[0m \u001b[31mможет\u001b[0m \u001b[31mстать\u001b[0m \u001b[31mсамым\u001b[0m \u001b[31mразрушительным\u001b[0m \u001b[31mза\u001b[0m \u001b[31mдесятилетие,\u001b[0m \u001b[31mоставив\u001b[0m \u001b[31mтысячи\u001b[0m \u001b[31mлюдей\u001b[0m \u001b[31mбез\u001b[0m \n",
       "\u001b[31mкрова\u001b[0m \u001b[31mи\u001b[0m \u001b[31mсредств\u001b[0m \u001b[31mк\u001b[0m \u001b[31mсуществованию.\u001b[0m\n"
      ]
     },
     "metadata": {},
     "output_type": "display_data"
    },
    {
     "data": {
      "text/html": [
       "<pre style=\"white-space:pre;overflow-x:auto;line-height:normal;font-family:Menlo,'DejaVu Sans Mono',consolas,'Courier New',monospace\"><span style=\"color: #008000; text-decoration-color: #008000\">Текст </span><span style=\"color: #008000; text-decoration-color: #008000; font-weight: bold\">2</span><span style=\"color: #008000; text-decoration-color: #008000\">:</span> Из-за <span style=\"color: #800000; text-decoration-color: #800000\">обильных</span> <span style=\"color: #800000; text-decoration-color: #800000\">дождей</span> уровень воды в реках стремительно растет, угрожая затоплением <span style=\"color: #800000; text-decoration-color: #800000\">близлежащих</span> <span style=\"color: #800000; text-decoration-color: #800000\">населенных</span>\n",
       "<span style=\"color: #800000; text-decoration-color: #800000\">пунктов.</span> Если не принять срочные <span style=\"color: #800000; text-decoration-color: #800000\">меры</span> <span style=\"color: #800000; text-decoration-color: #800000\">по</span> <span style=\"color: #800000; text-decoration-color: #800000\">эвакуации,</span> <span style=\"color: #800000; text-decoration-color: #800000\">сотни</span> <span style=\"color: #800000; text-decoration-color: #800000\">жизней</span> <span style=\"color: #800000; text-decoration-color: #800000\">окажутся</span> <span style=\"color: #800000; text-decoration-color: #800000\">под</span> <span style=\"color: #800000; text-decoration-color: #800000\">угрозой.</span> <span style=\"color: #800000; text-decoration-color: #800000\">Не</span> <span style=\"color: #800000; text-decoration-color: #800000\">ждите,</span> <span style=\"color: #800000; text-decoration-color: #800000\">пока</span> <span style=\"color: #800000; text-decoration-color: #800000\">бедствие</span> \n",
       "<span style=\"color: #800000; text-decoration-color: #800000\">станет</span> <span style=\"color: #800000; text-decoration-color: #800000\">реальностью,</span> <span style=\"color: #800000; text-decoration-color: #800000\">действуйте</span> <span style=\"color: #800000; text-decoration-color: #800000\">сейчас!</span>\n",
       "</pre>\n"
      ],
      "text/plain": [
       "\u001b[32mТекст \u001b[0m\u001b[1;32m2\u001b[0m\u001b[32m:\u001b[0m Из-за \u001b[31mобильных\u001b[0m \u001b[31mдождей\u001b[0m уровень воды в реках стремительно растет, угрожая затоплением \u001b[31mблизлежащих\u001b[0m \u001b[31mнаселенных\u001b[0m\n",
       "\u001b[31mпунктов.\u001b[0m Если не принять срочные \u001b[31mмеры\u001b[0m \u001b[31mпо\u001b[0m \u001b[31mэвакуации,\u001b[0m \u001b[31mсотни\u001b[0m \u001b[31mжизней\u001b[0m \u001b[31mокажутся\u001b[0m \u001b[31mпод\u001b[0m \u001b[31mугрозой.\u001b[0m \u001b[31mНе\u001b[0m \u001b[31mждите,\u001b[0m \u001b[31mпока\u001b[0m \u001b[31mбедствие\u001b[0m \n",
       "\u001b[31mстанет\u001b[0m \u001b[31mреальностью,\u001b[0m \u001b[31mдействуйте\u001b[0m \u001b[31mсейчас!\u001b[0m\n"
      ]
     },
     "metadata": {},
     "output_type": "display_data"
    },
    {
     "data": {
      "text/html": [
       "<pre style=\"white-space:pre;overflow-x:auto;line-height:normal;font-family:Menlo,'DejaVu Sans Mono',consolas,'Courier New',monospace\">\n",
       "<span style=\"font-weight: bold\">Пара текстов (</span><span style=\"color: #008080; text-decoration-color: #008080; font-weight: bold\">4</span><span style=\"font-weight: bold\">, </span><span style=\"color: #008080; text-decoration-color: #008080; font-weight: bold\">8</span><span style=\"font-weight: bold\">) с коэффициентом схожести </span><span style=\"color: #008080; text-decoration-color: #008080; font-weight: bold\">0.07</span><span style=\"font-weight: bold\">:</span>\n",
       "</pre>\n"
      ],
      "text/plain": [
       "\n",
       "\u001b[1mПара текстов \u001b[0m\u001b[1m(\u001b[0m\u001b[1;36m4\u001b[0m\u001b[1m, \u001b[0m\u001b[1;36m8\u001b[0m\u001b[1m)\u001b[0m\u001b[1m с коэффициентом схожести \u001b[0m\u001b[1;36m0.07\u001b[0m\u001b[1m:\u001b[0m\n"
      ]
     },
     "metadata": {},
     "output_type": "display_data"
    },
    {
     "data": {
      "text/html": [
       "<pre style=\"white-space:pre;overflow-x:auto;line-height:normal;font-family:Menlo,'DejaVu Sans Mono',consolas,'Courier New',monospace\"><span style=\"color: #000080; text-decoration-color: #000080\">Текст </span><span style=\"color: #000080; text-decoration-color: #000080; font-weight: bold\">1</span><span style=\"color: #000080; text-decoration-color: #000080\">:</span> <span style=\"color: #800000; text-decoration-color: #800000\">Наводнения</span> <span style=\"color: #800000; text-decoration-color: #800000\">становятся</span> <span style=\"color: #800000; text-decoration-color: #800000\">все</span> <span style=\"color: #800000; text-decoration-color: #800000\">более</span> <span style=\"color: #800000; text-decoration-color: #800000\">частыми,</span> <span style=\"color: #800000; text-decoration-color: #800000\">и</span> <span style=\"color: #800000; text-decoration-color: #800000\">это</span> <span style=\"color: #800000; text-decoration-color: #800000\">несет</span> <span style=\"color: #800000; text-decoration-color: #800000\">угрозу</span> <span style=\"color: #800000; text-decoration-color: #800000\">вашему</span> <span style=\"color: #800000; text-decoration-color: #800000\">финансовому</span> <span style=\"color: #800000; text-decoration-color: #800000\">благополучию.</span> <span style=\"color: #800000; text-decoration-color: #800000\">Разрушенные</span> \n",
       "<span style=\"color: #800000; text-decoration-color: #800000\">дома</span> <span style=\"color: #800000; text-decoration-color: #800000\">и</span> <span style=\"color: #800000; text-decoration-color: #800000\">потерянное</span> <span style=\"color: #800000; text-decoration-color: #800000\">имущество</span> <span style=\"color: #800000; text-decoration-color: #800000\">могут</span> <span style=\"color: #800000; text-decoration-color: #800000\">оставить</span> <span style=\"color: #800000; text-decoration-color: #800000\">вас</span> <span style=\"color: #800000; text-decoration-color: #800000\">без</span> <span style=\"color: #800000; text-decoration-color: #800000\">средств</span> <span style=\"color: #800000; text-decoration-color: #800000\">к</span> <span style=\"color: #800000; text-decoration-color: #800000\">существованию.</span> Если не принять срочные меры, \n",
       "<span style=\"color: #800000; text-decoration-color: #800000\">экономические</span> <span style=\"color: #800000; text-decoration-color: #800000\">потери</span> <span style=\"color: #800000; text-decoration-color: #800000\">будут</span> <span style=\"color: #800000; text-decoration-color: #800000\">катастрофическими</span> и <span style=\"color: #800000; text-decoration-color: #800000\">необратимыми.</span>\n",
       "</pre>\n"
      ],
      "text/plain": [
       "\u001b[34mТекст \u001b[0m\u001b[1;34m1\u001b[0m\u001b[34m:\u001b[0m \u001b[31mНаводнения\u001b[0m \u001b[31mстановятся\u001b[0m \u001b[31mвсе\u001b[0m \u001b[31mболее\u001b[0m \u001b[31mчастыми,\u001b[0m \u001b[31mи\u001b[0m \u001b[31mэто\u001b[0m \u001b[31mнесет\u001b[0m \u001b[31mугрозу\u001b[0m \u001b[31mвашему\u001b[0m \u001b[31mфинансовому\u001b[0m \u001b[31mблагополучию.\u001b[0m \u001b[31mРазрушенные\u001b[0m \n",
       "\u001b[31mдома\u001b[0m \u001b[31mи\u001b[0m \u001b[31mпотерянное\u001b[0m \u001b[31mимущество\u001b[0m \u001b[31mмогут\u001b[0m \u001b[31mоставить\u001b[0m \u001b[31mвас\u001b[0m \u001b[31mбез\u001b[0m \u001b[31mсредств\u001b[0m \u001b[31mк\u001b[0m \u001b[31mсуществованию.\u001b[0m Если не принять срочные меры, \n",
       "\u001b[31mэкономические\u001b[0m \u001b[31mпотери\u001b[0m \u001b[31mбудут\u001b[0m \u001b[31mкатастрофическими\u001b[0m и \u001b[31mнеобратимыми.\u001b[0m\n"
      ]
     },
     "metadata": {},
     "output_type": "display_data"
    },
    {
     "data": {
      "text/html": [
       "<pre style=\"white-space:pre;overflow-x:auto;line-height:normal;font-family:Menlo,'DejaVu Sans Mono',consolas,'Courier New',monospace\"><span style=\"color: #008000; text-decoration-color: #008000\">Текст </span><span style=\"color: #008000; text-decoration-color: #008000; font-weight: bold\">2</span><span style=\"color: #008000; text-decoration-color: #008000\">:</span> <span style=\"color: #800000; text-decoration-color: #800000\">Наводнение,</span> <span style=\"color: #800000; text-decoration-color: #800000\">обрушившееся</span> <span style=\"color: #800000; text-decoration-color: #800000\">на</span> <span style=\"color: #800000; text-decoration-color: #800000\">регион,</span> <span style=\"color: #800000; text-decoration-color: #800000\">угрожает</span> <span style=\"color: #800000; text-decoration-color: #800000\">жизням</span> <span style=\"color: #800000; text-decoration-color: #800000\">тысяч</span> <span style=\"color: #800000; text-decoration-color: #800000\">людей.</span> Если не принять срочные меры, <span style=\"color: #800000; text-decoration-color: #800000\">уровень</span> \n",
       "<span style=\"color: #800000; text-decoration-color: #800000\">воды</span> <span style=\"color: #800000; text-decoration-color: #800000\">продолжит</span> <span style=\"color: #800000; text-decoration-color: #800000\">расти,</span> <span style=\"color: #800000; text-decoration-color: #800000\">оставляя</span> <span style=\"color: #800000; text-decoration-color: #800000\">жителей</span> <span style=\"color: #800000; text-decoration-color: #800000\">без</span> <span style=\"color: #800000; text-decoration-color: #800000\">крова</span> и <span style=\"color: #800000; text-decoration-color: #800000\">доступа</span> <span style=\"color: #800000; text-decoration-color: #800000\">к</span> <span style=\"color: #800000; text-decoration-color: #800000\">основным</span> <span style=\"color: #800000; text-decoration-color: #800000\">ресурсам.</span> <span style=\"color: #800000; text-decoration-color: #800000\">Каждый</span> <span style=\"color: #800000; text-decoration-color: #800000\">день</span> <span style=\"color: #800000; text-decoration-color: #800000\">промедления</span> <span style=\"color: #800000; text-decoration-color: #800000\">может</span> \n",
       "<span style=\"color: #800000; text-decoration-color: #800000\">обернуться</span> <span style=\"color: #800000; text-decoration-color: #800000\">трагедией</span> <span style=\"color: #800000; text-decoration-color: #800000\">для</span> <span style=\"color: #800000; text-decoration-color: #800000\">вашего</span> <span style=\"color: #800000; text-decoration-color: #800000\">дома</span> <span style=\"color: #800000; text-decoration-color: #800000\">и</span> <span style=\"color: #800000; text-decoration-color: #800000\">семьи.</span>\n",
       "</pre>\n"
      ],
      "text/plain": [
       "\u001b[32mТекст \u001b[0m\u001b[1;32m2\u001b[0m\u001b[32m:\u001b[0m \u001b[31mНаводнение,\u001b[0m \u001b[31mобрушившееся\u001b[0m \u001b[31mна\u001b[0m \u001b[31mрегион,\u001b[0m \u001b[31mугрожает\u001b[0m \u001b[31mжизням\u001b[0m \u001b[31mтысяч\u001b[0m \u001b[31mлюдей.\u001b[0m Если не принять срочные меры, \u001b[31mуровень\u001b[0m \n",
       "\u001b[31mводы\u001b[0m \u001b[31mпродолжит\u001b[0m \u001b[31mрасти,\u001b[0m \u001b[31mоставляя\u001b[0m \u001b[31mжителей\u001b[0m \u001b[31mбез\u001b[0m \u001b[31mкрова\u001b[0m и \u001b[31mдоступа\u001b[0m \u001b[31mк\u001b[0m \u001b[31mосновным\u001b[0m \u001b[31mресурсам.\u001b[0m \u001b[31mКаждый\u001b[0m \u001b[31mдень\u001b[0m \u001b[31mпромедления\u001b[0m \u001b[31mможет\u001b[0m \n",
       "\u001b[31mобернуться\u001b[0m \u001b[31mтрагедией\u001b[0m \u001b[31mдля\u001b[0m \u001b[31mвашего\u001b[0m \u001b[31mдома\u001b[0m \u001b[31mи\u001b[0m \u001b[31mсемьи.\u001b[0m\n"
      ]
     },
     "metadata": {},
     "output_type": "display_data"
    },
    {
     "data": {
      "text/html": [
       "<pre style=\"white-space:pre;overflow-x:auto;line-height:normal;font-family:Menlo,'DejaVu Sans Mono',consolas,'Courier New',monospace\">\n",
       "<span style=\"font-weight: bold\">Пара текстов (</span><span style=\"color: #008080; text-decoration-color: #008080; font-weight: bold\">8</span><span style=\"font-weight: bold\">, </span><span style=\"color: #008080; text-decoration-color: #008080; font-weight: bold\">12</span><span style=\"font-weight: bold\">) с коэффициентом схожести </span><span style=\"color: #008080; text-decoration-color: #008080; font-weight: bold\">0.07</span><span style=\"font-weight: bold\">:</span>\n",
       "</pre>\n"
      ],
      "text/plain": [
       "\n",
       "\u001b[1mПара текстов \u001b[0m\u001b[1m(\u001b[0m\u001b[1;36m8\u001b[0m\u001b[1m, \u001b[0m\u001b[1;36m12\u001b[0m\u001b[1m)\u001b[0m\u001b[1m с коэффициентом схожести \u001b[0m\u001b[1;36m0.07\u001b[0m\u001b[1m:\u001b[0m\n"
      ]
     },
     "metadata": {},
     "output_type": "display_data"
    },
    {
     "data": {
      "text/html": [
       "<pre style=\"white-space:pre;overflow-x:auto;line-height:normal;font-family:Menlo,'DejaVu Sans Mono',consolas,'Courier New',monospace\"><span style=\"color: #000080; text-decoration-color: #000080\">Текст </span><span style=\"color: #000080; text-decoration-color: #000080; font-weight: bold\">1</span><span style=\"color: #000080; text-decoration-color: #000080\">:</span> <span style=\"color: #800000; text-decoration-color: #800000\">Наводнение,</span> <span style=\"color: #800000; text-decoration-color: #800000\">обрушившееся</span> <span style=\"color: #800000; text-decoration-color: #800000\">на</span> <span style=\"color: #800000; text-decoration-color: #800000\">регион,</span> <span style=\"color: #800000; text-decoration-color: #800000\">угрожает</span> <span style=\"color: #800000; text-decoration-color: #800000\">жизням</span> <span style=\"color: #800000; text-decoration-color: #800000\">тысяч</span> <span style=\"color: #800000; text-decoration-color: #800000\">людей.</span> Если не <span style=\"color: #800000; text-decoration-color: #800000\">принять</span> срочные меры, <span style=\"color: #800000; text-decoration-color: #800000\">уровень</span> \n",
       "<span style=\"color: #800000; text-decoration-color: #800000\">воды</span> <span style=\"color: #800000; text-decoration-color: #800000\">продолжит</span> <span style=\"color: #800000; text-decoration-color: #800000\">расти,</span> <span style=\"color: #800000; text-decoration-color: #800000\">оставляя</span> <span style=\"color: #800000; text-decoration-color: #800000\">жителей</span> <span style=\"color: #800000; text-decoration-color: #800000\">без</span> <span style=\"color: #800000; text-decoration-color: #800000\">крова</span> и <span style=\"color: #800000; text-decoration-color: #800000\">доступа</span> <span style=\"color: #800000; text-decoration-color: #800000\">к</span> <span style=\"color: #800000; text-decoration-color: #800000\">основным</span> <span style=\"color: #800000; text-decoration-color: #800000\">ресурсам.</span> <span style=\"color: #800000; text-decoration-color: #800000\">Каждый</span> <span style=\"color: #800000; text-decoration-color: #800000\">день</span> <span style=\"color: #800000; text-decoration-color: #800000\">промедления</span> <span style=\"color: #800000; text-decoration-color: #800000\">может</span> \n",
       "<span style=\"color: #800000; text-decoration-color: #800000\">обернуться</span> <span style=\"color: #800000; text-decoration-color: #800000\">трагедией</span> для <span style=\"color: #800000; text-decoration-color: #800000\">вашего</span> <span style=\"color: #800000; text-decoration-color: #800000\">дома</span> <span style=\"color: #800000; text-decoration-color: #800000\">и</span> <span style=\"color: #800000; text-decoration-color: #800000\">семьи.</span>\n",
       "</pre>\n"
      ],
      "text/plain": [
       "\u001b[34mТекст \u001b[0m\u001b[1;34m1\u001b[0m\u001b[34m:\u001b[0m \u001b[31mНаводнение,\u001b[0m \u001b[31mобрушившееся\u001b[0m \u001b[31mна\u001b[0m \u001b[31mрегион,\u001b[0m \u001b[31mугрожает\u001b[0m \u001b[31mжизням\u001b[0m \u001b[31mтысяч\u001b[0m \u001b[31mлюдей.\u001b[0m Если не \u001b[31mпринять\u001b[0m срочные меры, \u001b[31mуровень\u001b[0m \n",
       "\u001b[31mводы\u001b[0m \u001b[31mпродолжит\u001b[0m \u001b[31mрасти,\u001b[0m \u001b[31mоставляя\u001b[0m \u001b[31mжителей\u001b[0m \u001b[31mбез\u001b[0m \u001b[31mкрова\u001b[0m и \u001b[31mдоступа\u001b[0m \u001b[31mк\u001b[0m \u001b[31mосновным\u001b[0m \u001b[31mресурсам.\u001b[0m \u001b[31mКаждый\u001b[0m \u001b[31mдень\u001b[0m \u001b[31mпромедления\u001b[0m \u001b[31mможет\u001b[0m \n",
       "\u001b[31mобернуться\u001b[0m \u001b[31mтрагедией\u001b[0m для \u001b[31mвашего\u001b[0m \u001b[31mдома\u001b[0m \u001b[31mи\u001b[0m \u001b[31mсемьи.\u001b[0m\n"
      ]
     },
     "metadata": {},
     "output_type": "display_data"
    },
    {
     "data": {
      "text/html": [
       "<pre style=\"white-space:pre;overflow-x:auto;line-height:normal;font-family:Menlo,'DejaVu Sans Mono',consolas,'Courier New',monospace\"><span style=\"color: #008000; text-decoration-color: #008000\">Текст </span><span style=\"color: #008000; text-decoration-color: #008000; font-weight: bold\">2</span><span style=\"color: #008000; text-decoration-color: #008000\">:</span> <span style=\"color: #800000; text-decoration-color: #800000\">Наводнения</span> <span style=\"color: #800000; text-decoration-color: #800000\">становятся</span> <span style=\"color: #800000; text-decoration-color: #800000\">всё</span> <span style=\"color: #800000; text-decoration-color: #800000\">более</span> <span style=\"color: #800000; text-decoration-color: #800000\">частыми</span> <span style=\"color: #800000; text-decoration-color: #800000\">из-за</span> <span style=\"color: #800000; text-decoration-color: #800000\">климатических</span> <span style=\"color: #800000; text-decoration-color: #800000\">изменений.</span> Если не <span style=\"color: #800000; text-decoration-color: #800000\">предпринять</span> срочные меры, \n",
       "<span style=\"color: #800000; text-decoration-color: #800000\">ваш</span> <span style=\"color: #800000; text-decoration-color: #800000\">дом</span> <span style=\"color: #800000; text-decoration-color: #800000\">может</span> <span style=\"color: #800000; text-decoration-color: #800000\">оказаться</span> <span style=\"color: #800000; text-decoration-color: #800000\">под</span> <span style=\"color: #800000; text-decoration-color: #800000\">водой,</span> <span style=\"color: #800000; text-decoration-color: #800000\">а</span> <span style=\"color: #800000; text-decoration-color: #800000\">жизнь</span> <span style=\"color: #800000; text-decoration-color: #800000\">—</span> <span style=\"color: #800000; text-decoration-color: #800000\">в</span> <span style=\"color: #800000; text-decoration-color: #800000\">опасности.</span> <span style=\"color: #800000; text-decoration-color: #800000\">Последствия</span> <span style=\"color: #800000; text-decoration-color: #800000\">таких</span> <span style=\"color: #800000; text-decoration-color: #800000\">катастроф</span> <span style=\"color: #800000; text-decoration-color: #800000\">будут</span> <span style=\"color: #800000; text-decoration-color: #800000\">долгосрочными</span> и \n",
       "<span style=\"color: #800000; text-decoration-color: #800000\">разрушительными</span> для <span style=\"color: #800000; text-decoration-color: #800000\">всех</span> <span style=\"color: #800000; text-decoration-color: #800000\">нас.</span>\n",
       "</pre>\n"
      ],
      "text/plain": [
       "\u001b[32mТекст \u001b[0m\u001b[1;32m2\u001b[0m\u001b[32m:\u001b[0m \u001b[31mНаводнения\u001b[0m \u001b[31mстановятся\u001b[0m \u001b[31mвсё\u001b[0m \u001b[31mболее\u001b[0m \u001b[31mчастыми\u001b[0m \u001b[31mиз-за\u001b[0m \u001b[31mклиматических\u001b[0m \u001b[31mизменений.\u001b[0m Если не \u001b[31mпредпринять\u001b[0m срочные меры, \n",
       "\u001b[31mваш\u001b[0m \u001b[31mдом\u001b[0m \u001b[31mможет\u001b[0m \u001b[31mоказаться\u001b[0m \u001b[31mпод\u001b[0m \u001b[31mводой,\u001b[0m \u001b[31mа\u001b[0m \u001b[31mжизнь\u001b[0m \u001b[31m—\u001b[0m \u001b[31mв\u001b[0m \u001b[31mопасности.\u001b[0m \u001b[31mПоследствия\u001b[0m \u001b[31mтаких\u001b[0m \u001b[31mкатастроф\u001b[0m \u001b[31mбудут\u001b[0m \u001b[31mдолгосрочными\u001b[0m и \n",
       "\u001b[31mразрушительными\u001b[0m для \u001b[31mвсех\u001b[0m \u001b[31mнас.\u001b[0m\n"
      ]
     },
     "metadata": {},
     "output_type": "display_data"
    },
    {
     "data": {
      "text/html": [
       "<pre style=\"white-space:pre;overflow-x:auto;line-height:normal;font-family:Menlo,'DejaVu Sans Mono',consolas,'Courier New',monospace\">\n",
       "<span style=\"font-weight: bold\">Пара текстов (</span><span style=\"color: #008080; text-decoration-color: #008080; font-weight: bold\">7</span><span style=\"font-weight: bold\">, </span><span style=\"color: #008080; text-decoration-color: #008080; font-weight: bold\">9</span><span style=\"font-weight: bold\">) с коэффициентом схожести </span><span style=\"color: #008080; text-decoration-color: #008080; font-weight: bold\">0.07</span><span style=\"font-weight: bold\">:</span>\n",
       "</pre>\n"
      ],
      "text/plain": [
       "\n",
       "\u001b[1mПара текстов \u001b[0m\u001b[1m(\u001b[0m\u001b[1;36m7\u001b[0m\u001b[1m, \u001b[0m\u001b[1;36m9\u001b[0m\u001b[1m)\u001b[0m\u001b[1m с коэффициентом схожести \u001b[0m\u001b[1;36m0.07\u001b[0m\u001b[1m:\u001b[0m\n"
      ]
     },
     "metadata": {},
     "output_type": "display_data"
    },
    {
     "data": {
      "text/html": [
       "<pre style=\"white-space:pre;overflow-x:auto;line-height:normal;font-family:Menlo,'DejaVu Sans Mono',consolas,'Courier New',monospace\"><span style=\"color: #000080; text-decoration-color: #000080\">Текст </span><span style=\"color: #000080; text-decoration-color: #000080; font-weight: bold\">1</span><span style=\"color: #000080; text-decoration-color: #000080\">:</span> Из-за <span style=\"color: #800000; text-decoration-color: #800000\">участившихся</span> <span style=\"color: #800000; text-decoration-color: #800000\">наводнений,</span> <span style=\"color: #800000; text-decoration-color: #800000\">которые</span> <span style=\"color: #800000; text-decoration-color: #800000\">угрожают</span> <span style=\"color: #800000; text-decoration-color: #800000\">нашим</span> <span style=\"color: #800000; text-decoration-color: #800000\">городам,</span> <span style=\"color: #800000; text-decoration-color: #800000\">каждый</span> <span style=\"color: #800000; text-decoration-color: #800000\">житель</span> <span style=\"color: #800000; text-decoration-color: #800000\">может</span> <span style=\"color: #800000; text-decoration-color: #800000\">оказаться</span> в <span style=\"color: #800000; text-decoration-color: #800000\">опасности.</span> \n",
       "Если не <span style=\"color: #800000; text-decoration-color: #800000\">предпринять</span> <span style=\"color: #800000; text-decoration-color: #800000\">меры,</span> <span style=\"color: #800000; text-decoration-color: #800000\">тысячи</span> <span style=\"color: #800000; text-decoration-color: #800000\">людей</span> <span style=\"color: #800000; text-decoration-color: #800000\">рискуют</span> <span style=\"color: #800000; text-decoration-color: #800000\">потерять</span> <span style=\"color: #800000; text-decoration-color: #800000\">свои</span> <span style=\"color: #800000; text-decoration-color: #800000\">дома</span> <span style=\"color: #800000; text-decoration-color: #800000\">и</span> <span style=\"color: #800000; text-decoration-color: #800000\">жизни.</span> <span style=\"color: #800000; text-decoration-color: #800000\">Сегодня</span> <span style=\"color: #800000; text-decoration-color: #800000\">это</span> <span style=\"color: #800000; text-decoration-color: #800000\">лишь</span> <span style=\"color: #800000; text-decoration-color: #800000\">предупреждение,</span> <span style=\"color: #800000; text-decoration-color: #800000\">но</span> \n",
       "<span style=\"color: #800000; text-decoration-color: #800000\">завтра</span> бедствие <span style=\"color: #800000; text-decoration-color: #800000\">может</span> <span style=\"color: #800000; text-decoration-color: #800000\">стать</span> <span style=\"color: #800000; text-decoration-color: #800000\">реальностью.</span>\n",
       "</pre>\n"
      ],
      "text/plain": [
       "\u001b[34mТекст \u001b[0m\u001b[1;34m1\u001b[0m\u001b[34m:\u001b[0m Из-за \u001b[31mучастившихся\u001b[0m \u001b[31mнаводнений,\u001b[0m \u001b[31mкоторые\u001b[0m \u001b[31mугрожают\u001b[0m \u001b[31mнашим\u001b[0m \u001b[31mгородам,\u001b[0m \u001b[31mкаждый\u001b[0m \u001b[31mжитель\u001b[0m \u001b[31mможет\u001b[0m \u001b[31mоказаться\u001b[0m в \u001b[31mопасности.\u001b[0m \n",
       "Если не \u001b[31mпредпринять\u001b[0m \u001b[31mмеры,\u001b[0m \u001b[31mтысячи\u001b[0m \u001b[31mлюдей\u001b[0m \u001b[31mрискуют\u001b[0m \u001b[31mпотерять\u001b[0m \u001b[31mсвои\u001b[0m \u001b[31mдома\u001b[0m \u001b[31mи\u001b[0m \u001b[31mжизни.\u001b[0m \u001b[31mСегодня\u001b[0m \u001b[31mэто\u001b[0m \u001b[31mлишь\u001b[0m \u001b[31mпредупреждение,\u001b[0m \u001b[31mно\u001b[0m \n",
       "\u001b[31mзавтра\u001b[0m бедствие \u001b[31mможет\u001b[0m \u001b[31mстать\u001b[0m \u001b[31mреальностью.\u001b[0m\n"
      ]
     },
     "metadata": {},
     "output_type": "display_data"
    },
    {
     "data": {
      "text/html": [
       "<pre style=\"white-space:pre;overflow-x:auto;line-height:normal;font-family:Menlo,'DejaVu Sans Mono',consolas,'Courier New',monospace\"><span style=\"color: #008000; text-decoration-color: #008000\">Текст </span><span style=\"color: #008000; text-decoration-color: #008000; font-weight: bold\">2</span><span style=\"color: #008000; text-decoration-color: #008000\">:</span> Из-за <span style=\"color: #800000; text-decoration-color: #800000\">обильных</span> <span style=\"color: #800000; text-decoration-color: #800000\">дождей</span> <span style=\"color: #800000; text-decoration-color: #800000\">уровень</span> <span style=\"color: #800000; text-decoration-color: #800000\">воды</span> в <span style=\"color: #800000; text-decoration-color: #800000\">реках</span> <span style=\"color: #800000; text-decoration-color: #800000\">стремительно</span> <span style=\"color: #800000; text-decoration-color: #800000\">растет,</span> <span style=\"color: #800000; text-decoration-color: #800000\">угрожая</span> <span style=\"color: #800000; text-decoration-color: #800000\">затоплением</span> <span style=\"color: #800000; text-decoration-color: #800000\">близлежащих</span> <span style=\"color: #800000; text-decoration-color: #800000\">населенных</span>\n",
       "<span style=\"color: #800000; text-decoration-color: #800000\">пунктов.</span> Если не <span style=\"color: #800000; text-decoration-color: #800000\">принять</span> <span style=\"color: #800000; text-decoration-color: #800000\">срочные</span> <span style=\"color: #800000; text-decoration-color: #800000\">меры</span> <span style=\"color: #800000; text-decoration-color: #800000\">по</span> <span style=\"color: #800000; text-decoration-color: #800000\">эвакуации,</span> <span style=\"color: #800000; text-decoration-color: #800000\">сотни</span> <span style=\"color: #800000; text-decoration-color: #800000\">жизней</span> <span style=\"color: #800000; text-decoration-color: #800000\">окажутся</span> <span style=\"color: #800000; text-decoration-color: #800000\">под</span> <span style=\"color: #800000; text-decoration-color: #800000\">угрозой.</span> <span style=\"color: #800000; text-decoration-color: #800000\">Не</span> <span style=\"color: #800000; text-decoration-color: #800000\">ждите,</span> <span style=\"color: #800000; text-decoration-color: #800000\">пока</span> бедствие \n",
       "<span style=\"color: #800000; text-decoration-color: #800000\">станет</span> <span style=\"color: #800000; text-decoration-color: #800000\">реальностью,</span> <span style=\"color: #800000; text-decoration-color: #800000\">действуйте</span> <span style=\"color: #800000; text-decoration-color: #800000\">сейчас!</span>\n",
       "</pre>\n"
      ],
      "text/plain": [
       "\u001b[32mТекст \u001b[0m\u001b[1;32m2\u001b[0m\u001b[32m:\u001b[0m Из-за \u001b[31mобильных\u001b[0m \u001b[31mдождей\u001b[0m \u001b[31mуровень\u001b[0m \u001b[31mводы\u001b[0m в \u001b[31mреках\u001b[0m \u001b[31mстремительно\u001b[0m \u001b[31mрастет,\u001b[0m \u001b[31mугрожая\u001b[0m \u001b[31mзатоплением\u001b[0m \u001b[31mблизлежащих\u001b[0m \u001b[31mнаселенных\u001b[0m\n",
       "\u001b[31mпунктов.\u001b[0m Если не \u001b[31mпринять\u001b[0m \u001b[31mсрочные\u001b[0m \u001b[31mмеры\u001b[0m \u001b[31mпо\u001b[0m \u001b[31mэвакуации,\u001b[0m \u001b[31mсотни\u001b[0m \u001b[31mжизней\u001b[0m \u001b[31mокажутся\u001b[0m \u001b[31mпод\u001b[0m \u001b[31mугрозой.\u001b[0m \u001b[31mНе\u001b[0m \u001b[31mждите,\u001b[0m \u001b[31mпока\u001b[0m бедствие \n",
       "\u001b[31mстанет\u001b[0m \u001b[31mреальностью,\u001b[0m \u001b[31mдействуйте\u001b[0m \u001b[31mсейчас!\u001b[0m\n"
      ]
     },
     "metadata": {},
     "output_type": "display_data"
    },
    {
     "data": {
      "text/html": [
       "<pre style=\"white-space:pre;overflow-x:auto;line-height:normal;font-family:Menlo,'DejaVu Sans Mono',consolas,'Courier New',monospace\">\n",
       "<span style=\"font-weight: bold\">Пара текстов (</span><span style=\"color: #008080; text-decoration-color: #008080; font-weight: bold\">4</span><span style=\"font-weight: bold\">, </span><span style=\"color: #008080; text-decoration-color: #008080; font-weight: bold\">13</span><span style=\"font-weight: bold\">) с коэффициентом схожести </span><span style=\"color: #008080; text-decoration-color: #008080; font-weight: bold\">0.06</span><span style=\"font-weight: bold\">:</span>\n",
       "</pre>\n"
      ],
      "text/plain": [
       "\n",
       "\u001b[1mПара текстов \u001b[0m\u001b[1m(\u001b[0m\u001b[1;36m4\u001b[0m\u001b[1m, \u001b[0m\u001b[1;36m13\u001b[0m\u001b[1m)\u001b[0m\u001b[1m с коэффициентом схожести \u001b[0m\u001b[1;36m0.06\u001b[0m\u001b[1m:\u001b[0m\n"
      ]
     },
     "metadata": {},
     "output_type": "display_data"
    },
    {
     "data": {
      "text/html": [
       "<pre style=\"white-space:pre;overflow-x:auto;line-height:normal;font-family:Menlo,'DejaVu Sans Mono',consolas,'Courier New',monospace\"><span style=\"color: #000080; text-decoration-color: #000080\">Текст </span><span style=\"color: #000080; text-decoration-color: #000080; font-weight: bold\">1</span><span style=\"color: #000080; text-decoration-color: #000080\">:</span> <span style=\"color: #800000; text-decoration-color: #800000\">Наводнения</span> <span style=\"color: #800000; text-decoration-color: #800000\">становятся</span> <span style=\"color: #800000; text-decoration-color: #800000\">все</span> <span style=\"color: #800000; text-decoration-color: #800000\">более</span> <span style=\"color: #800000; text-decoration-color: #800000\">частыми,</span> и <span style=\"color: #800000; text-decoration-color: #800000\">это</span> <span style=\"color: #800000; text-decoration-color: #800000\">несет</span> <span style=\"color: #800000; text-decoration-color: #800000\">угрозу</span> <span style=\"color: #800000; text-decoration-color: #800000\">вашему</span> <span style=\"color: #800000; text-decoration-color: #800000\">финансовому</span> <span style=\"color: #800000; text-decoration-color: #800000\">благополучию.</span> <span style=\"color: #800000; text-decoration-color: #800000\">Разрушенные</span> \n",
       "<span style=\"color: #800000; text-decoration-color: #800000\">дома</span> <span style=\"color: #800000; text-decoration-color: #800000\">и</span> <span style=\"color: #800000; text-decoration-color: #800000\">потерянное</span> <span style=\"color: #800000; text-decoration-color: #800000\">имущество</span> <span style=\"color: #800000; text-decoration-color: #800000\">могут</span> <span style=\"color: #800000; text-decoration-color: #800000\">оставить</span> <span style=\"color: #800000; text-decoration-color: #800000\">вас</span> <span style=\"color: #800000; text-decoration-color: #800000\">без</span> <span style=\"color: #800000; text-decoration-color: #800000\">средств</span> <span style=\"color: #800000; text-decoration-color: #800000\">к</span> <span style=\"color: #800000; text-decoration-color: #800000\">существованию.</span> Если не <span style=\"color: #800000; text-decoration-color: #800000\">принять</span> срочные меры, \n",
       "<span style=\"color: #800000; text-decoration-color: #800000\">экономические</span> <span style=\"color: #800000; text-decoration-color: #800000\">потери</span> <span style=\"color: #800000; text-decoration-color: #800000\">будут</span> <span style=\"color: #800000; text-decoration-color: #800000\">катастрофическими</span> и <span style=\"color: #800000; text-decoration-color: #800000\">необратимыми.</span>\n",
       "</pre>\n"
      ],
      "text/plain": [
       "\u001b[34mТекст \u001b[0m\u001b[1;34m1\u001b[0m\u001b[34m:\u001b[0m \u001b[31mНаводнения\u001b[0m \u001b[31mстановятся\u001b[0m \u001b[31mвсе\u001b[0m \u001b[31mболее\u001b[0m \u001b[31mчастыми,\u001b[0m и \u001b[31mэто\u001b[0m \u001b[31mнесет\u001b[0m \u001b[31mугрозу\u001b[0m \u001b[31mвашему\u001b[0m \u001b[31mфинансовому\u001b[0m \u001b[31mблагополучию.\u001b[0m \u001b[31mРазрушенные\u001b[0m \n",
       "\u001b[31mдома\u001b[0m \u001b[31mи\u001b[0m \u001b[31mпотерянное\u001b[0m \u001b[31mимущество\u001b[0m \u001b[31mмогут\u001b[0m \u001b[31mоставить\u001b[0m \u001b[31mвас\u001b[0m \u001b[31mбез\u001b[0m \u001b[31mсредств\u001b[0m \u001b[31mк\u001b[0m \u001b[31mсуществованию.\u001b[0m Если не \u001b[31mпринять\u001b[0m срочные меры, \n",
       "\u001b[31mэкономические\u001b[0m \u001b[31mпотери\u001b[0m \u001b[31mбудут\u001b[0m \u001b[31mкатастрофическими\u001b[0m и \u001b[31mнеобратимыми.\u001b[0m\n"
      ]
     },
     "metadata": {},
     "output_type": "display_data"
    },
    {
     "data": {
      "text/html": [
       "<pre style=\"white-space:pre;overflow-x:auto;line-height:normal;font-family:Menlo,'DejaVu Sans Mono',consolas,'Courier New',monospace\"><span style=\"color: #008000; text-decoration-color: #008000\">Текст </span><span style=\"color: #008000; text-decoration-color: #008000; font-weight: bold\">2</span><span style=\"color: #008000; text-decoration-color: #008000\">:</span> <span style=\"color: #800000; text-decoration-color: #800000\">Наводнение,</span> <span style=\"color: #800000; text-decoration-color: #800000\">обрушившееся</span> <span style=\"color: #800000; text-decoration-color: #800000\">на</span> <span style=\"color: #800000; text-decoration-color: #800000\">регион,</span> <span style=\"color: #800000; text-decoration-color: #800000\">уже</span> <span style=\"color: #800000; text-decoration-color: #800000\">унесло</span> <span style=\"color: #800000; text-decoration-color: #800000\">несколько</span> <span style=\"color: #800000; text-decoration-color: #800000\">жизней</span> и <span style=\"color: #800000; text-decoration-color: #800000\">разрушило</span> <span style=\"color: #800000; text-decoration-color: #800000\">сотни</span> <span style=\"color: #800000; text-decoration-color: #800000\">домов.</span> Если не \n",
       "<span style=\"color: #800000; text-decoration-color: #800000\">предпринять</span> срочные меры, <span style=\"color: #800000; text-decoration-color: #800000\">ситуация</span> <span style=\"color: #800000; text-decoration-color: #800000\">может</span> <span style=\"color: #800000; text-decoration-color: #800000\">выйти</span> <span style=\"color: #800000; text-decoration-color: #800000\">из-под</span> <span style=\"color: #800000; text-decoration-color: #800000\">контроля,</span> и <span style=\"color: #800000; text-decoration-color: #800000\">катастрофа</span> <span style=\"color: #800000; text-decoration-color: #800000\">станет</span> <span style=\"color: #800000; text-decoration-color: #800000\">неизбежной.</span> <span style=\"color: #800000; text-decoration-color: #800000\">Каждое</span> <span style=\"color: #800000; text-decoration-color: #800000\">промедление</span> \n",
       "<span style=\"color: #800000; text-decoration-color: #800000\">увеличивает</span> <span style=\"color: #800000; text-decoration-color: #800000\">риск</span> <span style=\"color: #800000; text-decoration-color: #800000\">для</span> <span style=\"color: #800000; text-decoration-color: #800000\">вас</span> <span style=\"color: #800000; text-decoration-color: #800000\">и</span> <span style=\"color: #800000; text-decoration-color: #800000\">ваших</span> <span style=\"color: #800000; text-decoration-color: #800000\">близких.</span>\n",
       "</pre>\n"
      ],
      "text/plain": [
       "\u001b[32mТекст \u001b[0m\u001b[1;32m2\u001b[0m\u001b[32m:\u001b[0m \u001b[31mНаводнение,\u001b[0m \u001b[31mобрушившееся\u001b[0m \u001b[31mна\u001b[0m \u001b[31mрегион,\u001b[0m \u001b[31mуже\u001b[0m \u001b[31mунесло\u001b[0m \u001b[31mнесколько\u001b[0m \u001b[31mжизней\u001b[0m и \u001b[31mразрушило\u001b[0m \u001b[31mсотни\u001b[0m \u001b[31mдомов.\u001b[0m Если не \n",
       "\u001b[31mпредпринять\u001b[0m срочные меры, \u001b[31mситуация\u001b[0m \u001b[31mможет\u001b[0m \u001b[31mвыйти\u001b[0m \u001b[31mиз-под\u001b[0m \u001b[31mконтроля,\u001b[0m и \u001b[31mкатастрофа\u001b[0m \u001b[31mстанет\u001b[0m \u001b[31mнеизбежной.\u001b[0m \u001b[31mКаждое\u001b[0m \u001b[31mпромедление\u001b[0m \n",
       "\u001b[31mувеличивает\u001b[0m \u001b[31mриск\u001b[0m \u001b[31mдля\u001b[0m \u001b[31mвас\u001b[0m \u001b[31mи\u001b[0m \u001b[31mваших\u001b[0m \u001b[31mблизких.\u001b[0m\n"
      ]
     },
     "metadata": {},
     "output_type": "display_data"
    },
    {
     "data": {
      "text/html": [
       "<pre style=\"white-space:pre;overflow-x:auto;line-height:normal;font-family:Menlo,'DejaVu Sans Mono',consolas,'Courier New',monospace\">\n",
       "<span style=\"font-weight: bold\">Пара текстов (</span><span style=\"color: #008080; text-decoration-color: #008080; font-weight: bold\">9</span><span style=\"font-weight: bold\">, </span><span style=\"color: #008080; text-decoration-color: #008080; font-weight: bold\">12</span><span style=\"font-weight: bold\">) с коэффициентом схожести </span><span style=\"color: #008080; text-decoration-color: #008080; font-weight: bold\">0.06</span><span style=\"font-weight: bold\">:</span>\n",
       "</pre>\n"
      ],
      "text/plain": [
       "\n",
       "\u001b[1mПара текстов \u001b[0m\u001b[1m(\u001b[0m\u001b[1;36m9\u001b[0m\u001b[1m, \u001b[0m\u001b[1;36m12\u001b[0m\u001b[1m)\u001b[0m\u001b[1m с коэффициентом схожести \u001b[0m\u001b[1;36m0.06\u001b[0m\u001b[1m:\u001b[0m\n"
      ]
     },
     "metadata": {},
     "output_type": "display_data"
    },
    {
     "data": {
      "text/html": [
       "<pre style=\"white-space:pre;overflow-x:auto;line-height:normal;font-family:Menlo,'DejaVu Sans Mono',consolas,'Courier New',monospace\"><span style=\"color: #000080; text-decoration-color: #000080\">Текст </span><span style=\"color: #000080; text-decoration-color: #000080; font-weight: bold\">1</span><span style=\"color: #000080; text-decoration-color: #000080\">:</span> <span style=\"color: #800000; text-decoration-color: #800000\">Из-за</span> <span style=\"color: #800000; text-decoration-color: #800000\">обильных</span> <span style=\"color: #800000; text-decoration-color: #800000\">дождей</span> <span style=\"color: #800000; text-decoration-color: #800000\">уровень</span> <span style=\"color: #800000; text-decoration-color: #800000\">воды</span> <span style=\"color: #800000; text-decoration-color: #800000\">в</span> <span style=\"color: #800000; text-decoration-color: #800000\">реках</span> <span style=\"color: #800000; text-decoration-color: #800000\">стремительно</span> <span style=\"color: #800000; text-decoration-color: #800000\">растет,</span> <span style=\"color: #800000; text-decoration-color: #800000\">угрожая</span> <span style=\"color: #800000; text-decoration-color: #800000\">затоплением</span> <span style=\"color: #800000; text-decoration-color: #800000\">близлежащих</span> <span style=\"color: #800000; text-decoration-color: #800000\">населенных</span>\n",
       "<span style=\"color: #800000; text-decoration-color: #800000\">пунктов.</span> Если не <span style=\"color: #800000; text-decoration-color: #800000\">принять</span> срочные <span style=\"color: #800000; text-decoration-color: #800000\">меры</span> <span style=\"color: #800000; text-decoration-color: #800000\">по</span> <span style=\"color: #800000; text-decoration-color: #800000\">эвакуации,</span> <span style=\"color: #800000; text-decoration-color: #800000\">сотни</span> <span style=\"color: #800000; text-decoration-color: #800000\">жизней</span> <span style=\"color: #800000; text-decoration-color: #800000\">окажутся</span> под <span style=\"color: #800000; text-decoration-color: #800000\">угрозой.</span> <span style=\"color: #800000; text-decoration-color: #800000\">Не</span> <span style=\"color: #800000; text-decoration-color: #800000\">ждите,</span> <span style=\"color: #800000; text-decoration-color: #800000\">пока</span> <span style=\"color: #800000; text-decoration-color: #800000\">бедствие</span> \n",
       "<span style=\"color: #800000; text-decoration-color: #800000\">станет</span> <span style=\"color: #800000; text-decoration-color: #800000\">реальностью,</span> <span style=\"color: #800000; text-decoration-color: #800000\">действуйте</span> <span style=\"color: #800000; text-decoration-color: #800000\">сейчас!</span>\n",
       "</pre>\n"
      ],
      "text/plain": [
       "\u001b[34mТекст \u001b[0m\u001b[1;34m1\u001b[0m\u001b[34m:\u001b[0m \u001b[31mИз-за\u001b[0m \u001b[31mобильных\u001b[0m \u001b[31mдождей\u001b[0m \u001b[31mуровень\u001b[0m \u001b[31mводы\u001b[0m \u001b[31mв\u001b[0m \u001b[31mреках\u001b[0m \u001b[31mстремительно\u001b[0m \u001b[31mрастет,\u001b[0m \u001b[31mугрожая\u001b[0m \u001b[31mзатоплением\u001b[0m \u001b[31mблизлежащих\u001b[0m \u001b[31mнаселенных\u001b[0m\n",
       "\u001b[31mпунктов.\u001b[0m Если не \u001b[31mпринять\u001b[0m срочные \u001b[31mмеры\u001b[0m \u001b[31mпо\u001b[0m \u001b[31mэвакуации,\u001b[0m \u001b[31mсотни\u001b[0m \u001b[31mжизней\u001b[0m \u001b[31mокажутся\u001b[0m под \u001b[31mугрозой.\u001b[0m \u001b[31mНе\u001b[0m \u001b[31mждите,\u001b[0m \u001b[31mпока\u001b[0m \u001b[31mбедствие\u001b[0m \n",
       "\u001b[31mстанет\u001b[0m \u001b[31mреальностью,\u001b[0m \u001b[31mдействуйте\u001b[0m \u001b[31mсейчас!\u001b[0m\n"
      ]
     },
     "metadata": {},
     "output_type": "display_data"
    },
    {
     "data": {
      "text/html": [
       "<pre style=\"white-space:pre;overflow-x:auto;line-height:normal;font-family:Menlo,'DejaVu Sans Mono',consolas,'Courier New',monospace\"><span style=\"color: #008000; text-decoration-color: #008000\">Текст </span><span style=\"color: #008000; text-decoration-color: #008000; font-weight: bold\">2</span><span style=\"color: #008000; text-decoration-color: #008000\">:</span> <span style=\"color: #800000; text-decoration-color: #800000\">Наводнения</span> <span style=\"color: #800000; text-decoration-color: #800000\">становятся</span> <span style=\"color: #800000; text-decoration-color: #800000\">всё</span> <span style=\"color: #800000; text-decoration-color: #800000\">более</span> <span style=\"color: #800000; text-decoration-color: #800000\">частыми</span> <span style=\"color: #800000; text-decoration-color: #800000\">из-за</span> <span style=\"color: #800000; text-decoration-color: #800000\">климатических</span> <span style=\"color: #800000; text-decoration-color: #800000\">изменений.</span> Если не <span style=\"color: #800000; text-decoration-color: #800000\">предпринять</span> срочные <span style=\"color: #800000; text-decoration-color: #800000\">меры,</span> \n",
       "<span style=\"color: #800000; text-decoration-color: #800000\">ваш</span> <span style=\"color: #800000; text-decoration-color: #800000\">дом</span> <span style=\"color: #800000; text-decoration-color: #800000\">может</span> <span style=\"color: #800000; text-decoration-color: #800000\">оказаться</span> под <span style=\"color: #800000; text-decoration-color: #800000\">водой,</span> <span style=\"color: #800000; text-decoration-color: #800000\">а</span> <span style=\"color: #800000; text-decoration-color: #800000\">жизнь</span> <span style=\"color: #800000; text-decoration-color: #800000\">—</span> <span style=\"color: #800000; text-decoration-color: #800000\">в</span> <span style=\"color: #800000; text-decoration-color: #800000\">опасности.</span> <span style=\"color: #800000; text-decoration-color: #800000\">Последствия</span> <span style=\"color: #800000; text-decoration-color: #800000\">таких</span> <span style=\"color: #800000; text-decoration-color: #800000\">катастроф</span> <span style=\"color: #800000; text-decoration-color: #800000\">будут</span> <span style=\"color: #800000; text-decoration-color: #800000\">долгосрочными</span> <span style=\"color: #800000; text-decoration-color: #800000\">и</span> \n",
       "<span style=\"color: #800000; text-decoration-color: #800000\">разрушительными</span> <span style=\"color: #800000; text-decoration-color: #800000\">для</span> <span style=\"color: #800000; text-decoration-color: #800000\">всех</span> <span style=\"color: #800000; text-decoration-color: #800000\">нас.</span>\n",
       "</pre>\n"
      ],
      "text/plain": [
       "\u001b[32mТекст \u001b[0m\u001b[1;32m2\u001b[0m\u001b[32m:\u001b[0m \u001b[31mНаводнения\u001b[0m \u001b[31mстановятся\u001b[0m \u001b[31mвсё\u001b[0m \u001b[31mболее\u001b[0m \u001b[31mчастыми\u001b[0m \u001b[31mиз-за\u001b[0m \u001b[31mклиматических\u001b[0m \u001b[31mизменений.\u001b[0m Если не \u001b[31mпредпринять\u001b[0m срочные \u001b[31mмеры,\u001b[0m \n",
       "\u001b[31mваш\u001b[0m \u001b[31mдом\u001b[0m \u001b[31mможет\u001b[0m \u001b[31mоказаться\u001b[0m под \u001b[31mводой,\u001b[0m \u001b[31mа\u001b[0m \u001b[31mжизнь\u001b[0m \u001b[31m—\u001b[0m \u001b[31mв\u001b[0m \u001b[31mопасности.\u001b[0m \u001b[31mПоследствия\u001b[0m \u001b[31mтаких\u001b[0m \u001b[31mкатастроф\u001b[0m \u001b[31mбудут\u001b[0m \u001b[31mдолгосрочными\u001b[0m \u001b[31mи\u001b[0m \n",
       "\u001b[31mразрушительными\u001b[0m \u001b[31mдля\u001b[0m \u001b[31mвсех\u001b[0m \u001b[31mнас.\u001b[0m\n"
      ]
     },
     "metadata": {},
     "output_type": "display_data"
    },
    {
     "data": {
      "text/html": [
       "<pre style=\"white-space:pre;overflow-x:auto;line-height:normal;font-family:Menlo,'DejaVu Sans Mono',consolas,'Courier New',monospace\">\n",
       "<span style=\"font-weight: bold\">Пара текстов (</span><span style=\"color: #008080; text-decoration-color: #008080; font-weight: bold\">3</span><span style=\"font-weight: bold\">, </span><span style=\"color: #008080; text-decoration-color: #008080; font-weight: bold\">13</span><span style=\"font-weight: bold\">) с коэффициентом схожести </span><span style=\"color: #008080; text-decoration-color: #008080; font-weight: bold\">0.06</span><span style=\"font-weight: bold\">:</span>\n",
       "</pre>\n"
      ],
      "text/plain": [
       "\n",
       "\u001b[1mПара текстов \u001b[0m\u001b[1m(\u001b[0m\u001b[1;36m3\u001b[0m\u001b[1m, \u001b[0m\u001b[1;36m13\u001b[0m\u001b[1m)\u001b[0m\u001b[1m с коэффициентом схожести \u001b[0m\u001b[1;36m0.06\u001b[0m\u001b[1m:\u001b[0m\n"
      ]
     },
     "metadata": {},
     "output_type": "display_data"
    },
    {
     "data": {
      "text/html": [
       "<pre style=\"white-space:pre;overflow-x:auto;line-height:normal;font-family:Menlo,'DejaVu Sans Mono',consolas,'Courier New',monospace\"><span style=\"color: #000080; text-decoration-color: #000080\">Текст </span><span style=\"color: #000080; text-decoration-color: #000080; font-weight: bold\">1</span><span style=\"color: #000080; text-decoration-color: #000080\">:</span> <span style=\"color: #800000; text-decoration-color: #800000\">Из-за</span> <span style=\"color: #800000; text-decoration-color: #800000\">увеличившихся</span> <span style=\"color: #800000; text-decoration-color: #800000\">ливней</span> <span style=\"color: #800000; text-decoration-color: #800000\">уровень</span> <span style=\"color: #800000; text-decoration-color: #800000\">воды</span> <span style=\"color: #800000; text-decoration-color: #800000\">в</span> <span style=\"color: #800000; text-decoration-color: #800000\">реках</span> <span style=\"color: #800000; text-decoration-color: #800000\">стремительно</span> <span style=\"color: #800000; text-decoration-color: #800000\">растет,</span> <span style=\"color: #800000; text-decoration-color: #800000\">угрожая</span> <span style=\"color: #800000; text-decoration-color: #800000\">затоплением</span> <span style=\"color: #800000; text-decoration-color: #800000\">целым</span> <span style=\"color: #800000; text-decoration-color: #800000\">районам.</span> \n",
       "Если не <span style=\"color: #800000; text-decoration-color: #800000\">принять</span> срочные меры, <span style=\"color: #800000; text-decoration-color: #800000\">наводнение</span> может <span style=\"color: #800000; text-decoration-color: #800000\">стать</span> <span style=\"color: #800000; text-decoration-color: #800000\">самым</span> <span style=\"color: #800000; text-decoration-color: #800000\">разрушительным</span> <span style=\"color: #800000; text-decoration-color: #800000\">за</span> <span style=\"color: #800000; text-decoration-color: #800000\">десятилетие,</span> <span style=\"color: #800000; text-decoration-color: #800000\">оставив</span> <span style=\"color: #800000; text-decoration-color: #800000\">тысячи</span> <span style=\"color: #800000; text-decoration-color: #800000\">людей</span> <span style=\"color: #800000; text-decoration-color: #800000\">без</span> \n",
       "<span style=\"color: #800000; text-decoration-color: #800000\">крова</span> и <span style=\"color: #800000; text-decoration-color: #800000\">средств</span> <span style=\"color: #800000; text-decoration-color: #800000\">к</span> <span style=\"color: #800000; text-decoration-color: #800000\">существованию.</span>\n",
       "</pre>\n"
      ],
      "text/plain": [
       "\u001b[34mТекст \u001b[0m\u001b[1;34m1\u001b[0m\u001b[34m:\u001b[0m \u001b[31mИз-за\u001b[0m \u001b[31mувеличившихся\u001b[0m \u001b[31mливней\u001b[0m \u001b[31mуровень\u001b[0m \u001b[31mводы\u001b[0m \u001b[31mв\u001b[0m \u001b[31mреках\u001b[0m \u001b[31mстремительно\u001b[0m \u001b[31mрастет,\u001b[0m \u001b[31mугрожая\u001b[0m \u001b[31mзатоплением\u001b[0m \u001b[31mцелым\u001b[0m \u001b[31mрайонам.\u001b[0m \n",
       "Если не \u001b[31mпринять\u001b[0m срочные меры, \u001b[31mнаводнение\u001b[0m может \u001b[31mстать\u001b[0m \u001b[31mсамым\u001b[0m \u001b[31mразрушительным\u001b[0m \u001b[31mза\u001b[0m \u001b[31mдесятилетие,\u001b[0m \u001b[31mоставив\u001b[0m \u001b[31mтысячи\u001b[0m \u001b[31mлюдей\u001b[0m \u001b[31mбез\u001b[0m \n",
       "\u001b[31mкрова\u001b[0m и \u001b[31mсредств\u001b[0m \u001b[31mк\u001b[0m \u001b[31mсуществованию.\u001b[0m\n"
      ]
     },
     "metadata": {},
     "output_type": "display_data"
    },
    {
     "data": {
      "text/html": [
       "<pre style=\"white-space:pre;overflow-x:auto;line-height:normal;font-family:Menlo,'DejaVu Sans Mono',consolas,'Courier New',monospace\"><span style=\"color: #008000; text-decoration-color: #008000\">Текст </span><span style=\"color: #008000; text-decoration-color: #008000; font-weight: bold\">2</span><span style=\"color: #008000; text-decoration-color: #008000\">:</span> <span style=\"color: #800000; text-decoration-color: #800000\">Наводнение,</span> <span style=\"color: #800000; text-decoration-color: #800000\">обрушившееся</span> <span style=\"color: #800000; text-decoration-color: #800000\">на</span> <span style=\"color: #800000; text-decoration-color: #800000\">регион,</span> <span style=\"color: #800000; text-decoration-color: #800000\">уже</span> <span style=\"color: #800000; text-decoration-color: #800000\">унесло</span> <span style=\"color: #800000; text-decoration-color: #800000\">несколько</span> <span style=\"color: #800000; text-decoration-color: #800000\">жизней</span> <span style=\"color: #800000; text-decoration-color: #800000\">и</span> <span style=\"color: #800000; text-decoration-color: #800000\">разрушило</span> <span style=\"color: #800000; text-decoration-color: #800000\">сотни</span> <span style=\"color: #800000; text-decoration-color: #800000\">домов.</span> Если не \n",
       "<span style=\"color: #800000; text-decoration-color: #800000\">предпринять</span> срочные меры, <span style=\"color: #800000; text-decoration-color: #800000\">ситуация</span> может <span style=\"color: #800000; text-decoration-color: #800000\">выйти</span> <span style=\"color: #800000; text-decoration-color: #800000\">из-под</span> <span style=\"color: #800000; text-decoration-color: #800000\">контроля,</span> и <span style=\"color: #800000; text-decoration-color: #800000\">катастрофа</span> <span style=\"color: #800000; text-decoration-color: #800000\">станет</span> <span style=\"color: #800000; text-decoration-color: #800000\">неизбежной.</span> <span style=\"color: #800000; text-decoration-color: #800000\">Каждое</span> <span style=\"color: #800000; text-decoration-color: #800000\">промедление</span> \n",
       "<span style=\"color: #800000; text-decoration-color: #800000\">увеличивает</span> <span style=\"color: #800000; text-decoration-color: #800000\">риск</span> <span style=\"color: #800000; text-decoration-color: #800000\">для</span> <span style=\"color: #800000; text-decoration-color: #800000\">вас</span> <span style=\"color: #800000; text-decoration-color: #800000\">и</span> <span style=\"color: #800000; text-decoration-color: #800000\">ваших</span> <span style=\"color: #800000; text-decoration-color: #800000\">близких.</span>\n",
       "</pre>\n"
      ],
      "text/plain": [
       "\u001b[32mТекст \u001b[0m\u001b[1;32m2\u001b[0m\u001b[32m:\u001b[0m \u001b[31mНаводнение,\u001b[0m \u001b[31mобрушившееся\u001b[0m \u001b[31mна\u001b[0m \u001b[31mрегион,\u001b[0m \u001b[31mуже\u001b[0m \u001b[31mунесло\u001b[0m \u001b[31mнесколько\u001b[0m \u001b[31mжизней\u001b[0m \u001b[31mи\u001b[0m \u001b[31mразрушило\u001b[0m \u001b[31mсотни\u001b[0m \u001b[31mдомов.\u001b[0m Если не \n",
       "\u001b[31mпредпринять\u001b[0m срочные меры, \u001b[31mситуация\u001b[0m может \u001b[31mвыйти\u001b[0m \u001b[31mиз-под\u001b[0m \u001b[31mконтроля,\u001b[0m и \u001b[31mкатастрофа\u001b[0m \u001b[31mстанет\u001b[0m \u001b[31mнеизбежной.\u001b[0m \u001b[31mКаждое\u001b[0m \u001b[31mпромедление\u001b[0m \n",
       "\u001b[31mувеличивает\u001b[0m \u001b[31mриск\u001b[0m \u001b[31mдля\u001b[0m \u001b[31mвас\u001b[0m \u001b[31mи\u001b[0m \u001b[31mваших\u001b[0m \u001b[31mблизких.\u001b[0m\n"
      ]
     },
     "metadata": {},
     "output_type": "display_data"
    },
    {
     "data": {
      "text/html": [
       "<pre style=\"white-space:pre;overflow-x:auto;line-height:normal;font-family:Menlo,'DejaVu Sans Mono',consolas,'Courier New',monospace\">\n",
       "<span style=\"font-weight: bold\">Пара текстов (</span><span style=\"color: #008080; text-decoration-color: #008080; font-weight: bold\">5</span><span style=\"font-weight: bold\">, </span><span style=\"color: #008080; text-decoration-color: #008080; font-weight: bold\">14</span><span style=\"font-weight: bold\">) с коэффициентом схожести </span><span style=\"color: #008080; text-decoration-color: #008080; font-weight: bold\">0.06</span><span style=\"font-weight: bold\">:</span>\n",
       "</pre>\n"
      ],
      "text/plain": [
       "\n",
       "\u001b[1mПара текстов \u001b[0m\u001b[1m(\u001b[0m\u001b[1;36m5\u001b[0m\u001b[1m, \u001b[0m\u001b[1;36m14\u001b[0m\u001b[1m)\u001b[0m\u001b[1m с коэффициентом схожести \u001b[0m\u001b[1;36m0.06\u001b[0m\u001b[1m:\u001b[0m\n"
      ]
     },
     "metadata": {},
     "output_type": "display_data"
    },
    {
     "data": {
      "text/html": [
       "<pre style=\"white-space:pre;overflow-x:auto;line-height:normal;font-family:Menlo,'DejaVu Sans Mono',consolas,'Courier New',monospace\"><span style=\"color: #000080; text-decoration-color: #000080\">Текст </span><span style=\"color: #000080; text-decoration-color: #000080; font-weight: bold\">1</span><span style=\"color: #000080; text-decoration-color: #000080\">:</span> Из-за <span style=\"color: #800000; text-decoration-color: #800000\">стремительного</span> <span style=\"color: #800000; text-decoration-color: #800000\">подъема</span> <span style=\"color: #800000; text-decoration-color: #800000\">уровня</span> воды <span style=\"color: #800000; text-decoration-color: #800000\">многие</span> <span style=\"color: #800000; text-decoration-color: #800000\">районы</span> <span style=\"color: #800000; text-decoration-color: #800000\">оказались</span> <span style=\"color: #800000; text-decoration-color: #800000\">под</span> <span style=\"color: #800000; text-decoration-color: #800000\">угрозой</span> <span style=\"color: #800000; text-decoration-color: #800000\">наводнения.</span> <span style=\"color: #800000; text-decoration-color: #800000\">Уязвимые</span> <span style=\"color: #800000; text-decoration-color: #800000\">слои</span> \n",
       "<span style=\"color: #800000; text-decoration-color: #800000\">населения,</span> <span style=\"color: #800000; text-decoration-color: #800000\">не</span> <span style=\"color: #800000; text-decoration-color: #800000\">имеющие</span> <span style=\"color: #800000; text-decoration-color: #800000\">доступа</span> к <span style=\"color: #800000; text-decoration-color: #800000\">необходимым</span> <span style=\"color: #800000; text-decoration-color: #800000\">ресурсам,</span> <span style=\"color: #800000; text-decoration-color: #800000\">могут</span> <span style=\"color: #800000; text-decoration-color: #800000\">пострадать</span> <span style=\"color: #800000; text-decoration-color: #800000\">больше</span> <span style=\"color: #800000; text-decoration-color: #800000\">всего.</span> Если не принять <span style=\"color: #800000; text-decoration-color: #800000\">срочные</span> меры, \n",
       "<span style=\"color: #800000; text-decoration-color: #800000\">социальное</span> <span style=\"color: #800000; text-decoration-color: #800000\">неравенство</span> <span style=\"color: #800000; text-decoration-color: #800000\">лишь</span> <span style=\"color: #800000; text-decoration-color: #800000\">усугубит</span> <span style=\"color: #800000; text-decoration-color: #800000\">последствия</span> <span style=\"color: #800000; text-decoration-color: #800000\">катастрофы.</span>\n",
       "</pre>\n"
      ],
      "text/plain": [
       "\u001b[34mТекст \u001b[0m\u001b[1;34m1\u001b[0m\u001b[34m:\u001b[0m Из-за \u001b[31mстремительного\u001b[0m \u001b[31mподъема\u001b[0m \u001b[31mуровня\u001b[0m воды \u001b[31mмногие\u001b[0m \u001b[31mрайоны\u001b[0m \u001b[31mоказались\u001b[0m \u001b[31mпод\u001b[0m \u001b[31mугрозой\u001b[0m \u001b[31mнаводнения.\u001b[0m \u001b[31mУязвимые\u001b[0m \u001b[31mслои\u001b[0m \n",
       "\u001b[31mнаселения,\u001b[0m \u001b[31mне\u001b[0m \u001b[31mимеющие\u001b[0m \u001b[31mдоступа\u001b[0m к \u001b[31mнеобходимым\u001b[0m \u001b[31mресурсам,\u001b[0m \u001b[31mмогут\u001b[0m \u001b[31mпострадать\u001b[0m \u001b[31mбольше\u001b[0m \u001b[31mвсего.\u001b[0m Если не принять \u001b[31mсрочные\u001b[0m меры, \n",
       "\u001b[31mсоциальное\u001b[0m \u001b[31mнеравенство\u001b[0m \u001b[31mлишь\u001b[0m \u001b[31mусугубит\u001b[0m \u001b[31mпоследствия\u001b[0m \u001b[31mкатастрофы.\u001b[0m\n"
      ]
     },
     "metadata": {},
     "output_type": "display_data"
    },
    {
     "data": {
      "text/html": [
       "<pre style=\"white-space:pre;overflow-x:auto;line-height:normal;font-family:Menlo,'DejaVu Sans Mono',consolas,'Courier New',monospace\"><span style=\"color: #008000; text-decoration-color: #008000\">Текст </span><span style=\"color: #008000; text-decoration-color: #008000; font-weight: bold\">2</span><span style=\"color: #008000; text-decoration-color: #008000\">:</span> Из-за <span style=\"color: #800000; text-decoration-color: #800000\">непрекращающихся</span> <span style=\"color: #800000; text-decoration-color: #800000\">ливней</span> <span style=\"color: #800000; text-decoration-color: #800000\">уровень</span> воды <span style=\"color: #800000; text-decoration-color: #800000\">в</span> <span style=\"color: #800000; text-decoration-color: #800000\">реках</span> <span style=\"color: #800000; text-decoration-color: #800000\">достиг</span> <span style=\"color: #800000; text-decoration-color: #800000\">критической</span> <span style=\"color: #800000; text-decoration-color: #800000\">отметки.</span> <span style=\"color: #800000; text-decoration-color: #800000\">Экономические</span> <span style=\"color: #800000; text-decoration-color: #800000\">потери</span> <span style=\"color: #800000; text-decoration-color: #800000\">могут</span> \n",
       "<span style=\"color: #800000; text-decoration-color: #800000\">стать</span> <span style=\"color: #800000; text-decoration-color: #800000\">катастрофическими:</span> <span style=\"color: #800000; text-decoration-color: #800000\">затопление</span> <span style=\"color: #800000; text-decoration-color: #800000\">угрожает</span> <span style=\"color: #800000; text-decoration-color: #800000\">домам</span> <span style=\"color: #800000; text-decoration-color: #800000\">и</span> <span style=\"color: #800000; text-decoration-color: #800000\">предприятиям,</span> <span style=\"color: #800000; text-decoration-color: #800000\">лишая</span> <span style=\"color: #800000; text-decoration-color: #800000\">тысячи</span> <span style=\"color: #800000; text-decoration-color: #800000\">людей</span> <span style=\"color: #800000; text-decoration-color: #800000\">средств</span> к <span style=\"color: #800000; text-decoration-color: #800000\">существованию.</span> Если\n",
       "не принять меры, <span style=\"color: #800000; text-decoration-color: #800000\">ущерб</span> <span style=\"color: #800000; text-decoration-color: #800000\">может</span> <span style=\"color: #800000; text-decoration-color: #800000\">стать</span> <span style=\"color: #800000; text-decoration-color: #800000\">необратимым.</span>\n",
       "</pre>\n"
      ],
      "text/plain": [
       "\u001b[32mТекст \u001b[0m\u001b[1;32m2\u001b[0m\u001b[32m:\u001b[0m Из-за \u001b[31mнепрекращающихся\u001b[0m \u001b[31mливней\u001b[0m \u001b[31mуровень\u001b[0m воды \u001b[31mв\u001b[0m \u001b[31mреках\u001b[0m \u001b[31mдостиг\u001b[0m \u001b[31mкритической\u001b[0m \u001b[31mотметки.\u001b[0m \u001b[31mЭкономические\u001b[0m \u001b[31mпотери\u001b[0m \u001b[31mмогут\u001b[0m \n",
       "\u001b[31mстать\u001b[0m \u001b[31mкатастрофическими:\u001b[0m \u001b[31mзатопление\u001b[0m \u001b[31mугрожает\u001b[0m \u001b[31mдомам\u001b[0m \u001b[31mи\u001b[0m \u001b[31mпредприятиям,\u001b[0m \u001b[31mлишая\u001b[0m \u001b[31mтысячи\u001b[0m \u001b[31mлюдей\u001b[0m \u001b[31mсредств\u001b[0m к \u001b[31mсуществованию.\u001b[0m Если\n",
       "не принять меры, \u001b[31mущерб\u001b[0m \u001b[31mможет\u001b[0m \u001b[31mстать\u001b[0m \u001b[31mнеобратимым.\u001b[0m\n"
      ]
     },
     "metadata": {},
     "output_type": "display_data"
    },
    {
     "data": {
      "text/html": [
       "<pre style=\"white-space:pre;overflow-x:auto;line-height:normal;font-family:Menlo,'DejaVu Sans Mono',consolas,'Courier New',monospace\">\n",
       "<span style=\"font-weight: bold\">Пара текстов (</span><span style=\"color: #008080; text-decoration-color: #008080; font-weight: bold\">11</span><span style=\"font-weight: bold\">, </span><span style=\"color: #008080; text-decoration-color: #008080; font-weight: bold\">12</span><span style=\"font-weight: bold\">) с коэффициентом схожести </span><span style=\"color: #008080; text-decoration-color: #008080; font-weight: bold\">0.06</span><span style=\"font-weight: bold\">:</span>\n",
       "</pre>\n"
      ],
      "text/plain": [
       "\n",
       "\u001b[1mПара текстов \u001b[0m\u001b[1m(\u001b[0m\u001b[1;36m11\u001b[0m\u001b[1m, \u001b[0m\u001b[1;36m12\u001b[0m\u001b[1m)\u001b[0m\u001b[1m с коэффициентом схожести \u001b[0m\u001b[1;36m0.06\u001b[0m\u001b[1m:\u001b[0m\n"
      ]
     },
     "metadata": {},
     "output_type": "display_data"
    },
    {
     "data": {
      "text/html": [
       "<pre style=\"white-space:pre;overflow-x:auto;line-height:normal;font-family:Menlo,'DejaVu Sans Mono',consolas,'Courier New',monospace\"><span style=\"color: #000080; text-decoration-color: #000080\">Текст </span><span style=\"color: #000080; text-decoration-color: #000080; font-weight: bold\">1</span><span style=\"color: #000080; text-decoration-color: #000080\">:</span> <span style=\"color: #800000; text-decoration-color: #800000\">Уровень</span> <span style=\"color: #800000; text-decoration-color: #800000\">воды</span> <span style=\"color: #800000; text-decoration-color: #800000\">в</span> <span style=\"color: #800000; text-decoration-color: #800000\">реках</span> <span style=\"color: #800000; text-decoration-color: #800000\">продолжает</span> <span style=\"color: #800000; text-decoration-color: #800000\">расти,</span> <span style=\"color: #800000; text-decoration-color: #800000\">и</span> <span style=\"color: #800000; text-decoration-color: #800000\">эксперты</span> <span style=\"color: #800000; text-decoration-color: #800000\">предупреждают:</span> <span style=\"color: #800000; text-decoration-color: #800000\">в</span> <span style=\"color: #800000; text-decoration-color: #800000\">ближайшие</span> <span style=\"color: #800000; text-decoration-color: #800000\">дни</span> <span style=\"color: #800000; text-decoration-color: #800000\">наводнение</span> <span style=\"color: #800000; text-decoration-color: #800000\">может</span> <span style=\"color: #800000; text-decoration-color: #800000\">стать</span> \n",
       "<span style=\"color: #800000; text-decoration-color: #800000\">ещё</span> более <span style=\"color: #800000; text-decoration-color: #800000\">масштабным</span> <span style=\"color: #800000; text-decoration-color: #800000\">и</span> <span style=\"color: #800000; text-decoration-color: #800000\">уничтожить</span> <span style=\"color: #800000; text-decoration-color: #800000\">несколько</span> <span style=\"color: #800000; text-decoration-color: #800000\">населённых</span> <span style=\"color: #800000; text-decoration-color: #800000\">пунктов.</span> Если не предпринять срочные меры, <span style=\"color: #800000; text-decoration-color: #800000\">ваши</span> <span style=\"color: #800000; text-decoration-color: #800000\">дома</span> и <span style=\"color: #800000; text-decoration-color: #800000\">жизни</span>\n",
       "<span style=\"color: #800000; text-decoration-color: #800000\">окажутся</span> <span style=\"color: #800000; text-decoration-color: #800000\">под</span> <span style=\"color: #800000; text-decoration-color: #800000\">угрозой.</span> <span style=\"color: #800000; text-decoration-color: #800000\">Прогнозы</span> <span style=\"color: #800000; text-decoration-color: #800000\">неутешительны,</span> <span style=\"color: #800000; text-decoration-color: #800000\">и</span> <span style=\"color: #800000; text-decoration-color: #800000\">последствия</span> <span style=\"color: #800000; text-decoration-color: #800000\">могут</span> <span style=\"color: #800000; text-decoration-color: #800000\">быть</span> <span style=\"color: #800000; text-decoration-color: #800000\">катастрофическими.</span>\n",
       "</pre>\n"
      ],
      "text/plain": [
       "\u001b[34mТекст \u001b[0m\u001b[1;34m1\u001b[0m\u001b[34m:\u001b[0m \u001b[31mУровень\u001b[0m \u001b[31mводы\u001b[0m \u001b[31mв\u001b[0m \u001b[31mреках\u001b[0m \u001b[31mпродолжает\u001b[0m \u001b[31mрасти,\u001b[0m \u001b[31mи\u001b[0m \u001b[31mэксперты\u001b[0m \u001b[31mпредупреждают:\u001b[0m \u001b[31mв\u001b[0m \u001b[31mближайшие\u001b[0m \u001b[31mдни\u001b[0m \u001b[31mнаводнение\u001b[0m \u001b[31mможет\u001b[0m \u001b[31mстать\u001b[0m \n",
       "\u001b[31mещё\u001b[0m более \u001b[31mмасштабным\u001b[0m \u001b[31mи\u001b[0m \u001b[31mуничтожить\u001b[0m \u001b[31mнесколько\u001b[0m \u001b[31mнаселённых\u001b[0m \u001b[31mпунктов.\u001b[0m Если не предпринять срочные меры, \u001b[31mваши\u001b[0m \u001b[31mдома\u001b[0m и \u001b[31mжизни\u001b[0m\n",
       "\u001b[31mокажутся\u001b[0m \u001b[31mпод\u001b[0m \u001b[31mугрозой.\u001b[0m \u001b[31mПрогнозы\u001b[0m \u001b[31mнеутешительны,\u001b[0m \u001b[31mи\u001b[0m \u001b[31mпоследствия\u001b[0m \u001b[31mмогут\u001b[0m \u001b[31mбыть\u001b[0m \u001b[31mкатастрофическими.\u001b[0m\n"
      ]
     },
     "metadata": {},
     "output_type": "display_data"
    },
    {
     "data": {
      "text/html": [
       "<pre style=\"white-space:pre;overflow-x:auto;line-height:normal;font-family:Menlo,'DejaVu Sans Mono',consolas,'Courier New',monospace\"><span style=\"color: #008000; text-decoration-color: #008000\">Текст </span><span style=\"color: #008000; text-decoration-color: #008000; font-weight: bold\">2</span><span style=\"color: #008000; text-decoration-color: #008000\">:</span> <span style=\"color: #800000; text-decoration-color: #800000\">Наводнения</span> <span style=\"color: #800000; text-decoration-color: #800000\">становятся</span> <span style=\"color: #800000; text-decoration-color: #800000\">всё</span> более <span style=\"color: #800000; text-decoration-color: #800000\">частыми</span> <span style=\"color: #800000; text-decoration-color: #800000\">из-за</span> <span style=\"color: #800000; text-decoration-color: #800000\">климатических</span> <span style=\"color: #800000; text-decoration-color: #800000\">изменений.</span> Если не предпринять срочные меры, \n",
       "<span style=\"color: #800000; text-decoration-color: #800000\">ваш</span> <span style=\"color: #800000; text-decoration-color: #800000\">дом</span> <span style=\"color: #800000; text-decoration-color: #800000\">может</span> <span style=\"color: #800000; text-decoration-color: #800000\">оказаться</span> <span style=\"color: #800000; text-decoration-color: #800000\">под</span> <span style=\"color: #800000; text-decoration-color: #800000\">водой,</span> <span style=\"color: #800000; text-decoration-color: #800000\">а</span> <span style=\"color: #800000; text-decoration-color: #800000\">жизнь</span> <span style=\"color: #800000; text-decoration-color: #800000\">—</span> <span style=\"color: #800000; text-decoration-color: #800000\">в</span> <span style=\"color: #800000; text-decoration-color: #800000\">опасности.</span> <span style=\"color: #800000; text-decoration-color: #800000\">Последствия</span> <span style=\"color: #800000; text-decoration-color: #800000\">таких</span> <span style=\"color: #800000; text-decoration-color: #800000\">катастроф</span> <span style=\"color: #800000; text-decoration-color: #800000\">будут</span> <span style=\"color: #800000; text-decoration-color: #800000\">долгосрочными</span> и \n",
       "<span style=\"color: #800000; text-decoration-color: #800000\">разрушительными</span> <span style=\"color: #800000; text-decoration-color: #800000\">для</span> <span style=\"color: #800000; text-decoration-color: #800000\">всех</span> <span style=\"color: #800000; text-decoration-color: #800000\">нас.</span>\n",
       "</pre>\n"
      ],
      "text/plain": [
       "\u001b[32mТекст \u001b[0m\u001b[1;32m2\u001b[0m\u001b[32m:\u001b[0m \u001b[31mНаводнения\u001b[0m \u001b[31mстановятся\u001b[0m \u001b[31mвсё\u001b[0m более \u001b[31mчастыми\u001b[0m \u001b[31mиз-за\u001b[0m \u001b[31mклиматических\u001b[0m \u001b[31mизменений.\u001b[0m Если не предпринять срочные меры, \n",
       "\u001b[31mваш\u001b[0m \u001b[31mдом\u001b[0m \u001b[31mможет\u001b[0m \u001b[31mоказаться\u001b[0m \u001b[31mпод\u001b[0m \u001b[31mводой,\u001b[0m \u001b[31mа\u001b[0m \u001b[31mжизнь\u001b[0m \u001b[31m—\u001b[0m \u001b[31mв\u001b[0m \u001b[31mопасности.\u001b[0m \u001b[31mПоследствия\u001b[0m \u001b[31mтаких\u001b[0m \u001b[31mкатастроф\u001b[0m \u001b[31mбудут\u001b[0m \u001b[31mдолгосрочными\u001b[0m и \n",
       "\u001b[31mразрушительными\u001b[0m \u001b[31mдля\u001b[0m \u001b[31mвсех\u001b[0m \u001b[31mнас.\u001b[0m\n"
      ]
     },
     "metadata": {},
     "output_type": "display_data"
    },
    {
     "data": {
      "text/html": [
       "<pre style=\"white-space:pre;overflow-x:auto;line-height:normal;font-family:Menlo,'DejaVu Sans Mono',consolas,'Courier New',monospace\">\n",
       "<span style=\"font-weight: bold\">Пара текстов (</span><span style=\"color: #008080; text-decoration-color: #008080; font-weight: bold\">2</span><span style=\"font-weight: bold\">, </span><span style=\"color: #008080; text-decoration-color: #008080; font-weight: bold\">3</span><span style=\"font-weight: bold\">) с коэффициентом схожести </span><span style=\"color: #008080; text-decoration-color: #008080; font-weight: bold\">0.06</span><span style=\"font-weight: bold\">:</span>\n",
       "</pre>\n"
      ],
      "text/plain": [
       "\n",
       "\u001b[1mПара текстов \u001b[0m\u001b[1m(\u001b[0m\u001b[1;36m2\u001b[0m\u001b[1m, \u001b[0m\u001b[1;36m3\u001b[0m\u001b[1m)\u001b[0m\u001b[1m с коэффициентом схожести \u001b[0m\u001b[1;36m0.06\u001b[0m\u001b[1m:\u001b[0m\n"
      ]
     },
     "metadata": {},
     "output_type": "display_data"
    },
    {
     "data": {
      "text/html": [
       "<pre style=\"white-space:pre;overflow-x:auto;line-height:normal;font-family:Menlo,'DejaVu Sans Mono',consolas,'Courier New',monospace\"><span style=\"color: #000080; text-decoration-color: #000080\">Текст </span><span style=\"color: #000080; text-decoration-color: #000080; font-weight: bold\">1</span><span style=\"color: #000080; text-decoration-color: #000080\">:</span> Из-за <span style=\"color: #800000; text-decoration-color: #800000\">стремительного</span> <span style=\"color: #800000; text-decoration-color: #800000\">подъема</span> <span style=\"color: #800000; text-decoration-color: #800000\">уровня</span> <span style=\"color: #800000; text-decoration-color: #800000\">воды,</span> <span style=\"color: #800000; text-decoration-color: #800000\">жители</span> <span style=\"color: #800000; text-decoration-color: #800000\">прибрежных</span> <span style=\"color: #800000; text-decoration-color: #800000\">районов</span> <span style=\"color: #800000; text-decoration-color: #800000\">оказались</span> в <span style=\"color: #800000; text-decoration-color: #800000\">смертельной</span> <span style=\"color: #800000; text-decoration-color: #800000\">опасности.</span> <span style=\"color: #800000; text-decoration-color: #800000\">Без</span>\n",
       "<span style=\"color: #800000; text-decoration-color: #800000\">четких</span> <span style=\"color: #800000; text-decoration-color: #800000\">эвакуационных</span> <span style=\"color: #800000; text-decoration-color: #800000\">планов,</span> <span style=\"color: #800000; text-decoration-color: #800000\">ваши</span> <span style=\"color: #800000; text-decoration-color: #800000\">семьи</span> <span style=\"color: #800000; text-decoration-color: #800000\">могут</span> <span style=\"color: #800000; text-decoration-color: #800000\">быть</span> <span style=\"color: #800000; text-decoration-color: #800000\">отрезаны</span> <span style=\"color: #800000; text-decoration-color: #800000\">от</span> <span style=\"color: #800000; text-decoration-color: #800000\">помощи.</span> <span style=\"color: #800000; text-decoration-color: #800000\">Необходимо</span> <span style=\"color: #800000; text-decoration-color: #800000\">срочно</span> принять меры, <span style=\"color: #800000; text-decoration-color: #800000\">иначе</span> \n",
       "<span style=\"color: #800000; text-decoration-color: #800000\">последствия</span> <span style=\"color: #800000; text-decoration-color: #800000\">могут</span> <span style=\"color: #800000; text-decoration-color: #800000\">быть</span> <span style=\"color: #800000; text-decoration-color: #800000\">катастрофическими.</span>\n",
       "</pre>\n"
      ],
      "text/plain": [
       "\u001b[34mТекст \u001b[0m\u001b[1;34m1\u001b[0m\u001b[34m:\u001b[0m Из-за \u001b[31mстремительного\u001b[0m \u001b[31mподъема\u001b[0m \u001b[31mуровня\u001b[0m \u001b[31mводы,\u001b[0m \u001b[31mжители\u001b[0m \u001b[31mприбрежных\u001b[0m \u001b[31mрайонов\u001b[0m \u001b[31mоказались\u001b[0m в \u001b[31mсмертельной\u001b[0m \u001b[31mопасности.\u001b[0m \u001b[31mБез\u001b[0m\n",
       "\u001b[31mчетких\u001b[0m \u001b[31mэвакуационных\u001b[0m \u001b[31mпланов,\u001b[0m \u001b[31mваши\u001b[0m \u001b[31mсемьи\u001b[0m \u001b[31mмогут\u001b[0m \u001b[31mбыть\u001b[0m \u001b[31mотрезаны\u001b[0m \u001b[31mот\u001b[0m \u001b[31mпомощи.\u001b[0m \u001b[31mНеобходимо\u001b[0m \u001b[31mсрочно\u001b[0m принять меры, \u001b[31mиначе\u001b[0m \n",
       "\u001b[31mпоследствия\u001b[0m \u001b[31mмогут\u001b[0m \u001b[31mбыть\u001b[0m \u001b[31mкатастрофическими.\u001b[0m\n"
      ]
     },
     "metadata": {},
     "output_type": "display_data"
    },
    {
     "data": {
      "text/html": [
       "<pre style=\"white-space:pre;overflow-x:auto;line-height:normal;font-family:Menlo,'DejaVu Sans Mono',consolas,'Courier New',monospace\"><span style=\"color: #008000; text-decoration-color: #008000\">Текст </span><span style=\"color: #008000; text-decoration-color: #008000; font-weight: bold\">2</span><span style=\"color: #008000; text-decoration-color: #008000\">:</span> Из-за <span style=\"color: #800000; text-decoration-color: #800000\">увеличившихся</span> <span style=\"color: #800000; text-decoration-color: #800000\">ливней</span> <span style=\"color: #800000; text-decoration-color: #800000\">уровень</span> <span style=\"color: #800000; text-decoration-color: #800000\">воды</span> в <span style=\"color: #800000; text-decoration-color: #800000\">реках</span> <span style=\"color: #800000; text-decoration-color: #800000\">стремительно</span> <span style=\"color: #800000; text-decoration-color: #800000\">растет,</span> <span style=\"color: #800000; text-decoration-color: #800000\">угрожая</span> <span style=\"color: #800000; text-decoration-color: #800000\">затоплением</span> <span style=\"color: #800000; text-decoration-color: #800000\">целым</span> <span style=\"color: #800000; text-decoration-color: #800000\">районам.</span> \n",
       "<span style=\"color: #800000; text-decoration-color: #800000\">Если</span> <span style=\"color: #800000; text-decoration-color: #800000\">не</span> принять <span style=\"color: #800000; text-decoration-color: #800000\">срочные</span> меры, <span style=\"color: #800000; text-decoration-color: #800000\">наводнение</span> <span style=\"color: #800000; text-decoration-color: #800000\">может</span> <span style=\"color: #800000; text-decoration-color: #800000\">стать</span> <span style=\"color: #800000; text-decoration-color: #800000\">самым</span> <span style=\"color: #800000; text-decoration-color: #800000\">разрушительным</span> <span style=\"color: #800000; text-decoration-color: #800000\">за</span> <span style=\"color: #800000; text-decoration-color: #800000\">десятилетие,</span> <span style=\"color: #800000; text-decoration-color: #800000\">оставив</span> <span style=\"color: #800000; text-decoration-color: #800000\">тысячи</span> <span style=\"color: #800000; text-decoration-color: #800000\">людей</span> <span style=\"color: #800000; text-decoration-color: #800000\">без</span> \n",
       "<span style=\"color: #800000; text-decoration-color: #800000\">крова</span> <span style=\"color: #800000; text-decoration-color: #800000\">и</span> <span style=\"color: #800000; text-decoration-color: #800000\">средств</span> <span style=\"color: #800000; text-decoration-color: #800000\">к</span> <span style=\"color: #800000; text-decoration-color: #800000\">существованию.</span>\n",
       "</pre>\n"
      ],
      "text/plain": [
       "\u001b[32mТекст \u001b[0m\u001b[1;32m2\u001b[0m\u001b[32m:\u001b[0m Из-за \u001b[31mувеличившихся\u001b[0m \u001b[31mливней\u001b[0m \u001b[31mуровень\u001b[0m \u001b[31mводы\u001b[0m в \u001b[31mреках\u001b[0m \u001b[31mстремительно\u001b[0m \u001b[31mрастет,\u001b[0m \u001b[31mугрожая\u001b[0m \u001b[31mзатоплением\u001b[0m \u001b[31mцелым\u001b[0m \u001b[31mрайонам.\u001b[0m \n",
       "\u001b[31mЕсли\u001b[0m \u001b[31mне\u001b[0m принять \u001b[31mсрочные\u001b[0m меры, \u001b[31mнаводнение\u001b[0m \u001b[31mможет\u001b[0m \u001b[31mстать\u001b[0m \u001b[31mсамым\u001b[0m \u001b[31mразрушительным\u001b[0m \u001b[31mза\u001b[0m \u001b[31mдесятилетие,\u001b[0m \u001b[31mоставив\u001b[0m \u001b[31mтысячи\u001b[0m \u001b[31mлюдей\u001b[0m \u001b[31mбез\u001b[0m \n",
       "\u001b[31mкрова\u001b[0m \u001b[31mи\u001b[0m \u001b[31mсредств\u001b[0m \u001b[31mк\u001b[0m \u001b[31mсуществованию.\u001b[0m\n"
      ]
     },
     "metadata": {},
     "output_type": "display_data"
    },
    {
     "data": {
      "text/html": [
       "<pre style=\"white-space:pre;overflow-x:auto;line-height:normal;font-family:Menlo,'DejaVu Sans Mono',consolas,'Courier New',monospace\">\n",
       "<span style=\"font-weight: bold\">Пара текстов (</span><span style=\"color: #008080; text-decoration-color: #008080; font-weight: bold\">10</span><span style=\"font-weight: bold\">, </span><span style=\"color: #008080; text-decoration-color: #008080; font-weight: bold\">12</span><span style=\"font-weight: bold\">) с коэффициентом схожести </span><span style=\"color: #008080; text-decoration-color: #008080; font-weight: bold\">0.06</span><span style=\"font-weight: bold\">:</span>\n",
       "</pre>\n"
      ],
      "text/plain": [
       "\n",
       "\u001b[1mПара текстов \u001b[0m\u001b[1m(\u001b[0m\u001b[1;36m10\u001b[0m\u001b[1m, \u001b[0m\u001b[1;36m12\u001b[0m\u001b[1m)\u001b[0m\u001b[1m с коэффициентом схожести \u001b[0m\u001b[1;36m0.06\u001b[0m\u001b[1m:\u001b[0m\n"
      ]
     },
     "metadata": {},
     "output_type": "display_data"
    },
    {
     "data": {
      "text/html": [
       "<pre style=\"white-space:pre;overflow-x:auto;line-height:normal;font-family:Menlo,'DejaVu Sans Mono',consolas,'Courier New',monospace\"><span style=\"color: #000080; text-decoration-color: #000080\">Текст </span><span style=\"color: #000080; text-decoration-color: #000080; font-weight: bold\">1</span><span style=\"color: #000080; text-decoration-color: #000080\">:</span> <span style=\"color: #800000; text-decoration-color: #800000\">Из-за</span> <span style=\"color: #800000; text-decoration-color: #800000\">увеличения</span> <span style=\"color: #800000; text-decoration-color: #800000\">числа</span> <span style=\"color: #800000; text-decoration-color: #800000\">наводнений,</span> <span style=\"color: #800000; text-decoration-color: #800000\">вызванных</span> <span style=\"color: #800000; text-decoration-color: #800000\">изменением</span> <span style=\"color: #800000; text-decoration-color: #800000\">климата,</span> <span style=\"color: #800000; text-decoration-color: #800000\">наиболее</span> <span style=\"color: #800000; text-decoration-color: #800000\">уязвимые</span> <span style=\"color: #800000; text-decoration-color: #800000\">слои</span> <span style=\"color: #800000; text-decoration-color: #800000\">населения</span> \n",
       "<span style=\"color: #800000; text-decoration-color: #800000\">оказываются</span> под <span style=\"color: #800000; text-decoration-color: #800000\">угрозой.</span> <span style=\"color: #800000; text-decoration-color: #800000\">Без</span> <span style=\"color: #800000; text-decoration-color: #800000\">своевременных</span> <span style=\"color: #800000; text-decoration-color: #800000\">мер</span> <span style=\"color: #800000; text-decoration-color: #800000\">ситуация</span> <span style=\"color: #800000; text-decoration-color: #800000\">может</span> <span style=\"color: #800000; text-decoration-color: #800000\">усугубиться,</span> и <span style=\"color: #800000; text-decoration-color: #800000\">бедные</span> <span style=\"color: #800000; text-decoration-color: #800000\">районы</span> <span style=\"color: #800000; text-decoration-color: #800000\">пострадают</span> <span style=\"color: #800000; text-decoration-color: #800000\">больше</span> <span style=\"color: #800000; text-decoration-color: #800000\">всего,</span>\n",
       "<span style=\"color: #800000; text-decoration-color: #800000\">оставляя</span> <span style=\"color: #800000; text-decoration-color: #800000\">тысячи</span> <span style=\"color: #800000; text-decoration-color: #800000\">людей</span> <span style=\"color: #800000; text-decoration-color: #800000\">без</span> <span style=\"color: #800000; text-decoration-color: #800000\">крова</span> <span style=\"color: #800000; text-decoration-color: #800000\">и</span> <span style=\"color: #800000; text-decoration-color: #800000\">средств</span> <span style=\"color: #800000; text-decoration-color: #800000\">к</span> <span style=\"color: #800000; text-decoration-color: #800000\">существованию.</span>\n",
       "</pre>\n"
      ],
      "text/plain": [
       "\u001b[34mТекст \u001b[0m\u001b[1;34m1\u001b[0m\u001b[34m:\u001b[0m \u001b[31mИз-за\u001b[0m \u001b[31mувеличения\u001b[0m \u001b[31mчисла\u001b[0m \u001b[31mнаводнений,\u001b[0m \u001b[31mвызванных\u001b[0m \u001b[31mизменением\u001b[0m \u001b[31mклимата,\u001b[0m \u001b[31mнаиболее\u001b[0m \u001b[31mуязвимые\u001b[0m \u001b[31mслои\u001b[0m \u001b[31mнаселения\u001b[0m \n",
       "\u001b[31mоказываются\u001b[0m под \u001b[31mугрозой.\u001b[0m \u001b[31mБез\u001b[0m \u001b[31mсвоевременных\u001b[0m \u001b[31mмер\u001b[0m \u001b[31mситуация\u001b[0m \u001b[31mможет\u001b[0m \u001b[31mусугубиться,\u001b[0m и \u001b[31mбедные\u001b[0m \u001b[31mрайоны\u001b[0m \u001b[31mпострадают\u001b[0m \u001b[31mбольше\u001b[0m \u001b[31mвсего,\u001b[0m\n",
       "\u001b[31mоставляя\u001b[0m \u001b[31mтысячи\u001b[0m \u001b[31mлюдей\u001b[0m \u001b[31mбез\u001b[0m \u001b[31mкрова\u001b[0m \u001b[31mи\u001b[0m \u001b[31mсредств\u001b[0m \u001b[31mк\u001b[0m \u001b[31mсуществованию.\u001b[0m\n"
      ]
     },
     "metadata": {},
     "output_type": "display_data"
    },
    {
     "data": {
      "text/html": [
       "<pre style=\"white-space:pre;overflow-x:auto;line-height:normal;font-family:Menlo,'DejaVu Sans Mono',consolas,'Courier New',monospace\"><span style=\"color: #008000; text-decoration-color: #008000\">Текст </span><span style=\"color: #008000; text-decoration-color: #008000; font-weight: bold\">2</span><span style=\"color: #008000; text-decoration-color: #008000\">:</span> <span style=\"color: #800000; text-decoration-color: #800000\">Наводнения</span> <span style=\"color: #800000; text-decoration-color: #800000\">становятся</span> <span style=\"color: #800000; text-decoration-color: #800000\">всё</span> <span style=\"color: #800000; text-decoration-color: #800000\">более</span> <span style=\"color: #800000; text-decoration-color: #800000\">частыми</span> <span style=\"color: #800000; text-decoration-color: #800000\">из-за</span> <span style=\"color: #800000; text-decoration-color: #800000\">климатических</span> <span style=\"color: #800000; text-decoration-color: #800000\">изменений.</span> <span style=\"color: #800000; text-decoration-color: #800000\">Если</span> <span style=\"color: #800000; text-decoration-color: #800000\">не</span> <span style=\"color: #800000; text-decoration-color: #800000\">предпринять</span> <span style=\"color: #800000; text-decoration-color: #800000\">срочные</span> <span style=\"color: #800000; text-decoration-color: #800000\">меры,</span> \n",
       "<span style=\"color: #800000; text-decoration-color: #800000\">ваш</span> <span style=\"color: #800000; text-decoration-color: #800000\">дом</span> <span style=\"color: #800000; text-decoration-color: #800000\">может</span> <span style=\"color: #800000; text-decoration-color: #800000\">оказаться</span> под <span style=\"color: #800000; text-decoration-color: #800000\">водой,</span> <span style=\"color: #800000; text-decoration-color: #800000\">а</span> <span style=\"color: #800000; text-decoration-color: #800000\">жизнь</span> <span style=\"color: #800000; text-decoration-color: #800000\">—</span> <span style=\"color: #800000; text-decoration-color: #800000\">в</span> <span style=\"color: #800000; text-decoration-color: #800000\">опасности.</span> <span style=\"color: #800000; text-decoration-color: #800000\">Последствия</span> <span style=\"color: #800000; text-decoration-color: #800000\">таких</span> <span style=\"color: #800000; text-decoration-color: #800000\">катастроф</span> <span style=\"color: #800000; text-decoration-color: #800000\">будут</span> <span style=\"color: #800000; text-decoration-color: #800000\">долгосрочными</span> и \n",
       "<span style=\"color: #800000; text-decoration-color: #800000\">разрушительными</span> <span style=\"color: #800000; text-decoration-color: #800000\">для</span> <span style=\"color: #800000; text-decoration-color: #800000\">всех</span> <span style=\"color: #800000; text-decoration-color: #800000\">нас.</span>\n",
       "</pre>\n"
      ],
      "text/plain": [
       "\u001b[32mТекст \u001b[0m\u001b[1;32m2\u001b[0m\u001b[32m:\u001b[0m \u001b[31mНаводнения\u001b[0m \u001b[31mстановятся\u001b[0m \u001b[31mвсё\u001b[0m \u001b[31mболее\u001b[0m \u001b[31mчастыми\u001b[0m \u001b[31mиз-за\u001b[0m \u001b[31mклиматических\u001b[0m \u001b[31mизменений.\u001b[0m \u001b[31mЕсли\u001b[0m \u001b[31mне\u001b[0m \u001b[31mпредпринять\u001b[0m \u001b[31mсрочные\u001b[0m \u001b[31mмеры,\u001b[0m \n",
       "\u001b[31mваш\u001b[0m \u001b[31mдом\u001b[0m \u001b[31mможет\u001b[0m \u001b[31mоказаться\u001b[0m под \u001b[31mводой,\u001b[0m \u001b[31mа\u001b[0m \u001b[31mжизнь\u001b[0m \u001b[31m—\u001b[0m \u001b[31mв\u001b[0m \u001b[31mопасности.\u001b[0m \u001b[31mПоследствия\u001b[0m \u001b[31mтаких\u001b[0m \u001b[31mкатастроф\u001b[0m \u001b[31mбудут\u001b[0m \u001b[31mдолгосрочными\u001b[0m и \n",
       "\u001b[31mразрушительными\u001b[0m \u001b[31mдля\u001b[0m \u001b[31mвсех\u001b[0m \u001b[31mнас.\u001b[0m\n"
      ]
     },
     "metadata": {},
     "output_type": "display_data"
    },
    {
     "data": {
      "text/html": [
       "<pre style=\"white-space:pre;overflow-x:auto;line-height:normal;font-family:Menlo,'DejaVu Sans Mono',consolas,'Courier New',monospace\">\n",
       "<span style=\"font-weight: bold\">Пара текстов (</span><span style=\"color: #008080; text-decoration-color: #008080; font-weight: bold\">3</span><span style=\"font-weight: bold\">, </span><span style=\"color: #008080; text-decoration-color: #008080; font-weight: bold\">10</span><span style=\"font-weight: bold\">) с коэффициентом схожести </span><span style=\"color: #008080; text-decoration-color: #008080; font-weight: bold\">0.06</span><span style=\"font-weight: bold\">:</span>\n",
       "</pre>\n"
      ],
      "text/plain": [
       "\n",
       "\u001b[1mПара текстов \u001b[0m\u001b[1m(\u001b[0m\u001b[1;36m3\u001b[0m\u001b[1m, \u001b[0m\u001b[1;36m10\u001b[0m\u001b[1m)\u001b[0m\u001b[1m с коэффициентом схожести \u001b[0m\u001b[1;36m0.06\u001b[0m\u001b[1m:\u001b[0m\n"
      ]
     },
     "metadata": {},
     "output_type": "display_data"
    },
    {
     "data": {
      "text/html": [
       "<pre style=\"white-space:pre;overflow-x:auto;line-height:normal;font-family:Menlo,'DejaVu Sans Mono',consolas,'Courier New',monospace\"><span style=\"color: #000080; text-decoration-color: #000080\">Текст </span><span style=\"color: #000080; text-decoration-color: #000080; font-weight: bold\">1</span><span style=\"color: #000080; text-decoration-color: #000080\">:</span> Из-за <span style=\"color: #800000; text-decoration-color: #800000\">увеличившихся</span> <span style=\"color: #800000; text-decoration-color: #800000\">ливней</span> <span style=\"color: #800000; text-decoration-color: #800000\">уровень</span> <span style=\"color: #800000; text-decoration-color: #800000\">воды</span> <span style=\"color: #800000; text-decoration-color: #800000\">в</span> <span style=\"color: #800000; text-decoration-color: #800000\">реках</span> <span style=\"color: #800000; text-decoration-color: #800000\">стремительно</span> <span style=\"color: #800000; text-decoration-color: #800000\">растет,</span> <span style=\"color: #800000; text-decoration-color: #800000\">угрожая</span> <span style=\"color: #800000; text-decoration-color: #800000\">затоплением</span> <span style=\"color: #800000; text-decoration-color: #800000\">целым</span> <span style=\"color: #800000; text-decoration-color: #800000\">районам.</span> \n",
       "<span style=\"color: #800000; text-decoration-color: #800000\">Если</span> <span style=\"color: #800000; text-decoration-color: #800000\">не</span> <span style=\"color: #800000; text-decoration-color: #800000\">принять</span> <span style=\"color: #800000; text-decoration-color: #800000\">срочные</span> <span style=\"color: #800000; text-decoration-color: #800000\">меры,</span> <span style=\"color: #800000; text-decoration-color: #800000\">наводнение</span> может <span style=\"color: #800000; text-decoration-color: #800000\">стать</span> <span style=\"color: #800000; text-decoration-color: #800000\">самым</span> <span style=\"color: #800000; text-decoration-color: #800000\">разрушительным</span> <span style=\"color: #800000; text-decoration-color: #800000\">за</span> <span style=\"color: #800000; text-decoration-color: #800000\">десятилетие,</span> <span style=\"color: #800000; text-decoration-color: #800000\">оставив</span> тысячи людей без \n",
       "крова и средств к существованию.\n",
       "</pre>\n"
      ],
      "text/plain": [
       "\u001b[34mТекст \u001b[0m\u001b[1;34m1\u001b[0m\u001b[34m:\u001b[0m Из-за \u001b[31mувеличившихся\u001b[0m \u001b[31mливней\u001b[0m \u001b[31mуровень\u001b[0m \u001b[31mводы\u001b[0m \u001b[31mв\u001b[0m \u001b[31mреках\u001b[0m \u001b[31mстремительно\u001b[0m \u001b[31mрастет,\u001b[0m \u001b[31mугрожая\u001b[0m \u001b[31mзатоплением\u001b[0m \u001b[31mцелым\u001b[0m \u001b[31mрайонам.\u001b[0m \n",
       "\u001b[31mЕсли\u001b[0m \u001b[31mне\u001b[0m \u001b[31mпринять\u001b[0m \u001b[31mсрочные\u001b[0m \u001b[31mмеры,\u001b[0m \u001b[31mнаводнение\u001b[0m может \u001b[31mстать\u001b[0m \u001b[31mсамым\u001b[0m \u001b[31mразрушительным\u001b[0m \u001b[31mза\u001b[0m \u001b[31mдесятилетие,\u001b[0m \u001b[31mоставив\u001b[0m тысячи людей без \n",
       "крова и средств к существованию.\n"
      ]
     },
     "metadata": {},
     "output_type": "display_data"
    },
    {
     "data": {
      "text/html": [
       "<pre style=\"white-space:pre;overflow-x:auto;line-height:normal;font-family:Menlo,'DejaVu Sans Mono',consolas,'Courier New',monospace\"><span style=\"color: #008000; text-decoration-color: #008000\">Текст </span><span style=\"color: #008000; text-decoration-color: #008000; font-weight: bold\">2</span><span style=\"color: #008000; text-decoration-color: #008000\">:</span> Из-за <span style=\"color: #800000; text-decoration-color: #800000\">увеличения</span> <span style=\"color: #800000; text-decoration-color: #800000\">числа</span> <span style=\"color: #800000; text-decoration-color: #800000\">наводнений,</span> <span style=\"color: #800000; text-decoration-color: #800000\">вызванных</span> <span style=\"color: #800000; text-decoration-color: #800000\">изменением</span> <span style=\"color: #800000; text-decoration-color: #800000\">климата,</span> <span style=\"color: #800000; text-decoration-color: #800000\">наиболее</span> <span style=\"color: #800000; text-decoration-color: #800000\">уязвимые</span> <span style=\"color: #800000; text-decoration-color: #800000\">слои</span> <span style=\"color: #800000; text-decoration-color: #800000\">населения</span> \n",
       "<span style=\"color: #800000; text-decoration-color: #800000\">оказываются</span> <span style=\"color: #800000; text-decoration-color: #800000\">под</span> <span style=\"color: #800000; text-decoration-color: #800000\">угрозой.</span> <span style=\"color: #800000; text-decoration-color: #800000\">Без</span> <span style=\"color: #800000; text-decoration-color: #800000\">своевременных</span> <span style=\"color: #800000; text-decoration-color: #800000\">мер</span> <span style=\"color: #800000; text-decoration-color: #800000\">ситуация</span> может <span style=\"color: #800000; text-decoration-color: #800000\">усугубиться,</span> <span style=\"color: #800000; text-decoration-color: #800000\">и</span> <span style=\"color: #800000; text-decoration-color: #800000\">бедные</span> <span style=\"color: #800000; text-decoration-color: #800000\">районы</span> <span style=\"color: #800000; text-decoration-color: #800000\">пострадают</span> <span style=\"color: #800000; text-decoration-color: #800000\">больше</span> <span style=\"color: #800000; text-decoration-color: #800000\">всего,</span>\n",
       "<span style=\"color: #800000; text-decoration-color: #800000\">оставляя</span> тысячи людей без крова и средств к существованию.\n",
       "</pre>\n"
      ],
      "text/plain": [
       "\u001b[32mТекст \u001b[0m\u001b[1;32m2\u001b[0m\u001b[32m:\u001b[0m Из-за \u001b[31mувеличения\u001b[0m \u001b[31mчисла\u001b[0m \u001b[31mнаводнений,\u001b[0m \u001b[31mвызванных\u001b[0m \u001b[31mизменением\u001b[0m \u001b[31mклимата,\u001b[0m \u001b[31mнаиболее\u001b[0m \u001b[31mуязвимые\u001b[0m \u001b[31mслои\u001b[0m \u001b[31mнаселения\u001b[0m \n",
       "\u001b[31mоказываются\u001b[0m \u001b[31mпод\u001b[0m \u001b[31mугрозой.\u001b[0m \u001b[31mБез\u001b[0m \u001b[31mсвоевременных\u001b[0m \u001b[31mмер\u001b[0m \u001b[31mситуация\u001b[0m может \u001b[31mусугубиться,\u001b[0m \u001b[31mи\u001b[0m \u001b[31mбедные\u001b[0m \u001b[31mрайоны\u001b[0m \u001b[31mпострадают\u001b[0m \u001b[31mбольше\u001b[0m \u001b[31mвсего,\u001b[0m\n",
       "\u001b[31mоставляя\u001b[0m тысячи людей без крова и средств к существованию.\n"
      ]
     },
     "metadata": {},
     "output_type": "display_data"
    },
    {
     "data": {
      "text/html": [
       "<pre style=\"white-space:pre;overflow-x:auto;line-height:normal;font-family:Menlo,'DejaVu Sans Mono',consolas,'Courier New',monospace\">\n",
       "<span style=\"font-weight: bold\">Пара текстов (</span><span style=\"color: #008080; text-decoration-color: #008080; font-weight: bold\">7</span><span style=\"font-weight: bold\">, </span><span style=\"color: #008080; text-decoration-color: #008080; font-weight: bold\">12</span><span style=\"font-weight: bold\">) с коэффициентом схожести </span><span style=\"color: #008080; text-decoration-color: #008080; font-weight: bold\">0.06</span><span style=\"font-weight: bold\">:</span>\n",
       "</pre>\n"
      ],
      "text/plain": [
       "\n",
       "\u001b[1mПара текстов \u001b[0m\u001b[1m(\u001b[0m\u001b[1;36m7\u001b[0m\u001b[1m, \u001b[0m\u001b[1;36m12\u001b[0m\u001b[1m)\u001b[0m\u001b[1m с коэффициентом схожести \u001b[0m\u001b[1;36m0.06\u001b[0m\u001b[1m:\u001b[0m\n"
      ]
     },
     "metadata": {},
     "output_type": "display_data"
    },
    {
     "data": {
      "text/html": [
       "<pre style=\"white-space:pre;overflow-x:auto;line-height:normal;font-family:Menlo,'DejaVu Sans Mono',consolas,'Courier New',monospace\"><span style=\"color: #000080; text-decoration-color: #000080\">Текст </span><span style=\"color: #000080; text-decoration-color: #000080; font-weight: bold\">1</span><span style=\"color: #000080; text-decoration-color: #000080\">:</span> <span style=\"color: #800000; text-decoration-color: #800000\">Из-за</span> <span style=\"color: #800000; text-decoration-color: #800000\">участившихся</span> <span style=\"color: #800000; text-decoration-color: #800000\">наводнений,</span> <span style=\"color: #800000; text-decoration-color: #800000\">которые</span> <span style=\"color: #800000; text-decoration-color: #800000\">угрожают</span> <span style=\"color: #800000; text-decoration-color: #800000\">нашим</span> <span style=\"color: #800000; text-decoration-color: #800000\">городам,</span> <span style=\"color: #800000; text-decoration-color: #800000\">каждый</span> <span style=\"color: #800000; text-decoration-color: #800000\">житель</span> <span style=\"color: #800000; text-decoration-color: #800000\">может</span> <span style=\"color: #800000; text-decoration-color: #800000\">оказаться</span> <span style=\"color: #800000; text-decoration-color: #800000\">в</span> <span style=\"color: #800000; text-decoration-color: #800000\">опасности.</span> \n",
       "Если не предпринять меры, <span style=\"color: #800000; text-decoration-color: #800000\">тысячи</span> <span style=\"color: #800000; text-decoration-color: #800000\">людей</span> <span style=\"color: #800000; text-decoration-color: #800000\">рискуют</span> <span style=\"color: #800000; text-decoration-color: #800000\">потерять</span> <span style=\"color: #800000; text-decoration-color: #800000\">свои</span> <span style=\"color: #800000; text-decoration-color: #800000\">дома</span> и <span style=\"color: #800000; text-decoration-color: #800000\">жизни.</span> <span style=\"color: #800000; text-decoration-color: #800000\">Сегодня</span> <span style=\"color: #800000; text-decoration-color: #800000\">это</span> <span style=\"color: #800000; text-decoration-color: #800000\">лишь</span> <span style=\"color: #800000; text-decoration-color: #800000\">предупреждение,</span> <span style=\"color: #800000; text-decoration-color: #800000\">но</span> \n",
       "<span style=\"color: #800000; text-decoration-color: #800000\">завтра</span> <span style=\"color: #800000; text-decoration-color: #800000\">бедствие</span> <span style=\"color: #800000; text-decoration-color: #800000\">может</span> <span style=\"color: #800000; text-decoration-color: #800000\">стать</span> <span style=\"color: #800000; text-decoration-color: #800000\">реальностью.</span>\n",
       "</pre>\n"
      ],
      "text/plain": [
       "\u001b[34mТекст \u001b[0m\u001b[1;34m1\u001b[0m\u001b[34m:\u001b[0m \u001b[31mИз-за\u001b[0m \u001b[31mучастившихся\u001b[0m \u001b[31mнаводнений,\u001b[0m \u001b[31mкоторые\u001b[0m \u001b[31mугрожают\u001b[0m \u001b[31mнашим\u001b[0m \u001b[31mгородам,\u001b[0m \u001b[31mкаждый\u001b[0m \u001b[31mжитель\u001b[0m \u001b[31mможет\u001b[0m \u001b[31mоказаться\u001b[0m \u001b[31mв\u001b[0m \u001b[31mопасности.\u001b[0m \n",
       "Если не предпринять меры, \u001b[31mтысячи\u001b[0m \u001b[31mлюдей\u001b[0m \u001b[31mрискуют\u001b[0m \u001b[31mпотерять\u001b[0m \u001b[31mсвои\u001b[0m \u001b[31mдома\u001b[0m и \u001b[31mжизни.\u001b[0m \u001b[31mСегодня\u001b[0m \u001b[31mэто\u001b[0m \u001b[31mлишь\u001b[0m \u001b[31mпредупреждение,\u001b[0m \u001b[31mно\u001b[0m \n",
       "\u001b[31mзавтра\u001b[0m \u001b[31mбедствие\u001b[0m \u001b[31mможет\u001b[0m \u001b[31mстать\u001b[0m \u001b[31mреальностью.\u001b[0m\n"
      ]
     },
     "metadata": {},
     "output_type": "display_data"
    },
    {
     "data": {
      "text/html": [
       "<pre style=\"white-space:pre;overflow-x:auto;line-height:normal;font-family:Menlo,'DejaVu Sans Mono',consolas,'Courier New',monospace\"><span style=\"color: #008000; text-decoration-color: #008000\">Текст </span><span style=\"color: #008000; text-decoration-color: #008000; font-weight: bold\">2</span><span style=\"color: #008000; text-decoration-color: #008000\">:</span> <span style=\"color: #800000; text-decoration-color: #800000\">Наводнения</span> <span style=\"color: #800000; text-decoration-color: #800000\">становятся</span> <span style=\"color: #800000; text-decoration-color: #800000\">всё</span> <span style=\"color: #800000; text-decoration-color: #800000\">более</span> <span style=\"color: #800000; text-decoration-color: #800000\">частыми</span> <span style=\"color: #800000; text-decoration-color: #800000\">из-за</span> <span style=\"color: #800000; text-decoration-color: #800000\">климатических</span> <span style=\"color: #800000; text-decoration-color: #800000\">изменений.</span> Если не предпринять <span style=\"color: #800000; text-decoration-color: #800000\">срочные</span> меры, \n",
       "<span style=\"color: #800000; text-decoration-color: #800000\">ваш</span> <span style=\"color: #800000; text-decoration-color: #800000\">дом</span> <span style=\"color: #800000; text-decoration-color: #800000\">может</span> <span style=\"color: #800000; text-decoration-color: #800000\">оказаться</span> <span style=\"color: #800000; text-decoration-color: #800000\">под</span> <span style=\"color: #800000; text-decoration-color: #800000\">водой,</span> <span style=\"color: #800000; text-decoration-color: #800000\">а</span> <span style=\"color: #800000; text-decoration-color: #800000\">жизнь</span> <span style=\"color: #800000; text-decoration-color: #800000\">—</span> <span style=\"color: #800000; text-decoration-color: #800000\">в</span> <span style=\"color: #800000; text-decoration-color: #800000\">опасности.</span> <span style=\"color: #800000; text-decoration-color: #800000\">Последствия</span> <span style=\"color: #800000; text-decoration-color: #800000\">таких</span> <span style=\"color: #800000; text-decoration-color: #800000\">катастроф</span> <span style=\"color: #800000; text-decoration-color: #800000\">будут</span> <span style=\"color: #800000; text-decoration-color: #800000\">долгосрочными</span> и \n",
       "<span style=\"color: #800000; text-decoration-color: #800000\">разрушительными</span> <span style=\"color: #800000; text-decoration-color: #800000\">для</span> <span style=\"color: #800000; text-decoration-color: #800000\">всех</span> <span style=\"color: #800000; text-decoration-color: #800000\">нас.</span>\n",
       "</pre>\n"
      ],
      "text/plain": [
       "\u001b[32mТекст \u001b[0m\u001b[1;32m2\u001b[0m\u001b[32m:\u001b[0m \u001b[31mНаводнения\u001b[0m \u001b[31mстановятся\u001b[0m \u001b[31mвсё\u001b[0m \u001b[31mболее\u001b[0m \u001b[31mчастыми\u001b[0m \u001b[31mиз-за\u001b[0m \u001b[31mклиматических\u001b[0m \u001b[31mизменений.\u001b[0m Если не предпринять \u001b[31mсрочные\u001b[0m меры, \n",
       "\u001b[31mваш\u001b[0m \u001b[31mдом\u001b[0m \u001b[31mможет\u001b[0m \u001b[31mоказаться\u001b[0m \u001b[31mпод\u001b[0m \u001b[31mводой,\u001b[0m \u001b[31mа\u001b[0m \u001b[31mжизнь\u001b[0m \u001b[31m—\u001b[0m \u001b[31mв\u001b[0m \u001b[31mопасности.\u001b[0m \u001b[31mПоследствия\u001b[0m \u001b[31mтаких\u001b[0m \u001b[31mкатастроф\u001b[0m \u001b[31mбудут\u001b[0m \u001b[31mдолгосрочными\u001b[0m и \n",
       "\u001b[31mразрушительными\u001b[0m \u001b[31mдля\u001b[0m \u001b[31mвсех\u001b[0m \u001b[31mнас.\u001b[0m\n"
      ]
     },
     "metadata": {},
     "output_type": "display_data"
    },
    {
     "data": {
      "text/html": [
       "<pre style=\"white-space:pre;overflow-x:auto;line-height:normal;font-family:Menlo,'DejaVu Sans Mono',consolas,'Courier New',monospace\">\n",
       "<span style=\"font-weight: bold\">Пара текстов (</span><span style=\"color: #008080; text-decoration-color: #008080; font-weight: bold\">4</span><span style=\"font-weight: bold\">, </span><span style=\"color: #008080; text-decoration-color: #008080; font-weight: bold\">10</span><span style=\"font-weight: bold\">) с коэффициентом схожести </span><span style=\"color: #008080; text-decoration-color: #008080; font-weight: bold\">0.06</span><span style=\"font-weight: bold\">:</span>\n",
       "</pre>\n"
      ],
      "text/plain": [
       "\n",
       "\u001b[1mПара текстов \u001b[0m\u001b[1m(\u001b[0m\u001b[1;36m4\u001b[0m\u001b[1m, \u001b[0m\u001b[1;36m10\u001b[0m\u001b[1m)\u001b[0m\u001b[1m с коэффициентом схожести \u001b[0m\u001b[1;36m0.06\u001b[0m\u001b[1m:\u001b[0m\n"
      ]
     },
     "metadata": {},
     "output_type": "display_data"
    },
    {
     "data": {
      "text/html": [
       "<pre style=\"white-space:pre;overflow-x:auto;line-height:normal;font-family:Menlo,'DejaVu Sans Mono',consolas,'Courier New',monospace\"><span style=\"color: #000080; text-decoration-color: #000080\">Текст </span><span style=\"color: #000080; text-decoration-color: #000080; font-weight: bold\">1</span><span style=\"color: #000080; text-decoration-color: #000080\">:</span> <span style=\"color: #800000; text-decoration-color: #800000\">Наводнения</span> <span style=\"color: #800000; text-decoration-color: #800000\">становятся</span> <span style=\"color: #800000; text-decoration-color: #800000\">все</span> <span style=\"color: #800000; text-decoration-color: #800000\">более</span> <span style=\"color: #800000; text-decoration-color: #800000\">частыми,</span> и <span style=\"color: #800000; text-decoration-color: #800000\">это</span> <span style=\"color: #800000; text-decoration-color: #800000\">несет</span> <span style=\"color: #800000; text-decoration-color: #800000\">угрозу</span> <span style=\"color: #800000; text-decoration-color: #800000\">вашему</span> <span style=\"color: #800000; text-decoration-color: #800000\">финансовому</span> <span style=\"color: #800000; text-decoration-color: #800000\">благополучию.</span> <span style=\"color: #800000; text-decoration-color: #800000\">Разрушенные</span> \n",
       "<span style=\"color: #800000; text-decoration-color: #800000\">дома</span> и <span style=\"color: #800000; text-decoration-color: #800000\">потерянное</span> <span style=\"color: #800000; text-decoration-color: #800000\">имущество</span> <span style=\"color: #800000; text-decoration-color: #800000\">могут</span> <span style=\"color: #800000; text-decoration-color: #800000\">оставить</span> <span style=\"color: #800000; text-decoration-color: #800000\">вас</span> <span style=\"color: #800000; text-decoration-color: #800000\">без</span> средств к существованию. <span style=\"color: #800000; text-decoration-color: #800000\">Если</span> <span style=\"color: #800000; text-decoration-color: #800000\">не</span> <span style=\"color: #800000; text-decoration-color: #800000\">принять</span> <span style=\"color: #800000; text-decoration-color: #800000\">срочные</span> <span style=\"color: #800000; text-decoration-color: #800000\">меры,</span> \n",
       "<span style=\"color: #800000; text-decoration-color: #800000\">экономические</span> <span style=\"color: #800000; text-decoration-color: #800000\">потери</span> <span style=\"color: #800000; text-decoration-color: #800000\">будут</span> <span style=\"color: #800000; text-decoration-color: #800000\">катастрофическими</span> <span style=\"color: #800000; text-decoration-color: #800000\">и</span> <span style=\"color: #800000; text-decoration-color: #800000\">необратимыми.</span>\n",
       "</pre>\n"
      ],
      "text/plain": [
       "\u001b[34mТекст \u001b[0m\u001b[1;34m1\u001b[0m\u001b[34m:\u001b[0m \u001b[31mНаводнения\u001b[0m \u001b[31mстановятся\u001b[0m \u001b[31mвсе\u001b[0m \u001b[31mболее\u001b[0m \u001b[31mчастыми,\u001b[0m и \u001b[31mэто\u001b[0m \u001b[31mнесет\u001b[0m \u001b[31mугрозу\u001b[0m \u001b[31mвашему\u001b[0m \u001b[31mфинансовому\u001b[0m \u001b[31mблагополучию.\u001b[0m \u001b[31mРазрушенные\u001b[0m \n",
       "\u001b[31mдома\u001b[0m и \u001b[31mпотерянное\u001b[0m \u001b[31mимущество\u001b[0m \u001b[31mмогут\u001b[0m \u001b[31mоставить\u001b[0m \u001b[31mвас\u001b[0m \u001b[31mбез\u001b[0m средств к существованию. \u001b[31mЕсли\u001b[0m \u001b[31mне\u001b[0m \u001b[31mпринять\u001b[0m \u001b[31mсрочные\u001b[0m \u001b[31mмеры,\u001b[0m \n",
       "\u001b[31mэкономические\u001b[0m \u001b[31mпотери\u001b[0m \u001b[31mбудут\u001b[0m \u001b[31mкатастрофическими\u001b[0m \u001b[31mи\u001b[0m \u001b[31mнеобратимыми.\u001b[0m\n"
      ]
     },
     "metadata": {},
     "output_type": "display_data"
    },
    {
     "data": {
      "text/html": [
       "<pre style=\"white-space:pre;overflow-x:auto;line-height:normal;font-family:Menlo,'DejaVu Sans Mono',consolas,'Courier New',monospace\"><span style=\"color: #008000; text-decoration-color: #008000\">Текст </span><span style=\"color: #008000; text-decoration-color: #008000; font-weight: bold\">2</span><span style=\"color: #008000; text-decoration-color: #008000\">:</span> <span style=\"color: #800000; text-decoration-color: #800000\">Из-за</span> <span style=\"color: #800000; text-decoration-color: #800000\">увеличения</span> <span style=\"color: #800000; text-decoration-color: #800000\">числа</span> <span style=\"color: #800000; text-decoration-color: #800000\">наводнений,</span> <span style=\"color: #800000; text-decoration-color: #800000\">вызванных</span> <span style=\"color: #800000; text-decoration-color: #800000\">изменением</span> <span style=\"color: #800000; text-decoration-color: #800000\">климата,</span> <span style=\"color: #800000; text-decoration-color: #800000\">наиболее</span> <span style=\"color: #800000; text-decoration-color: #800000\">уязвимые</span> <span style=\"color: #800000; text-decoration-color: #800000\">слои</span> <span style=\"color: #800000; text-decoration-color: #800000\">населения</span> \n",
       "<span style=\"color: #800000; text-decoration-color: #800000\">оказываются</span> <span style=\"color: #800000; text-decoration-color: #800000\">под</span> <span style=\"color: #800000; text-decoration-color: #800000\">угрозой.</span> <span style=\"color: #800000; text-decoration-color: #800000\">Без</span> <span style=\"color: #800000; text-decoration-color: #800000\">своевременных</span> <span style=\"color: #800000; text-decoration-color: #800000\">мер</span> <span style=\"color: #800000; text-decoration-color: #800000\">ситуация</span> <span style=\"color: #800000; text-decoration-color: #800000\">может</span> <span style=\"color: #800000; text-decoration-color: #800000\">усугубиться,</span> и <span style=\"color: #800000; text-decoration-color: #800000\">бедные</span> <span style=\"color: #800000; text-decoration-color: #800000\">районы</span> <span style=\"color: #800000; text-decoration-color: #800000\">пострадают</span> <span style=\"color: #800000; text-decoration-color: #800000\">больше</span> <span style=\"color: #800000; text-decoration-color: #800000\">всего,</span>\n",
       "<span style=\"color: #800000; text-decoration-color: #800000\">оставляя</span> <span style=\"color: #800000; text-decoration-color: #800000\">тысячи</span> <span style=\"color: #800000; text-decoration-color: #800000\">людей</span> <span style=\"color: #800000; text-decoration-color: #800000\">без</span> <span style=\"color: #800000; text-decoration-color: #800000\">крова</span> и средств к существованию.\n",
       "</pre>\n"
      ],
      "text/plain": [
       "\u001b[32mТекст \u001b[0m\u001b[1;32m2\u001b[0m\u001b[32m:\u001b[0m \u001b[31mИз-за\u001b[0m \u001b[31mувеличения\u001b[0m \u001b[31mчисла\u001b[0m \u001b[31mнаводнений,\u001b[0m \u001b[31mвызванных\u001b[0m \u001b[31mизменением\u001b[0m \u001b[31mклимата,\u001b[0m \u001b[31mнаиболее\u001b[0m \u001b[31mуязвимые\u001b[0m \u001b[31mслои\u001b[0m \u001b[31mнаселения\u001b[0m \n",
       "\u001b[31mоказываются\u001b[0m \u001b[31mпод\u001b[0m \u001b[31mугрозой.\u001b[0m \u001b[31mБез\u001b[0m \u001b[31mсвоевременных\u001b[0m \u001b[31mмер\u001b[0m \u001b[31mситуация\u001b[0m \u001b[31mможет\u001b[0m \u001b[31mусугубиться,\u001b[0m и \u001b[31mбедные\u001b[0m \u001b[31mрайоны\u001b[0m \u001b[31mпострадают\u001b[0m \u001b[31mбольше\u001b[0m \u001b[31mвсего,\u001b[0m\n",
       "\u001b[31mоставляя\u001b[0m \u001b[31mтысячи\u001b[0m \u001b[31mлюдей\u001b[0m \u001b[31mбез\u001b[0m \u001b[31mкрова\u001b[0m и средств к существованию.\n"
      ]
     },
     "metadata": {},
     "output_type": "display_data"
    },
    {
     "data": {
      "text/html": [
       "<pre style=\"white-space:pre;overflow-x:auto;line-height:normal;font-family:Menlo,'DejaVu Sans Mono',consolas,'Courier New',monospace\">\n",
       "<span style=\"font-weight: bold\">Пара текстов (</span><span style=\"color: #008080; text-decoration-color: #008080; font-weight: bold\">6</span><span style=\"font-weight: bold\">, </span><span style=\"color: #008080; text-decoration-color: #008080; font-weight: bold\">11</span><span style=\"font-weight: bold\">) с коэффициентом схожести </span><span style=\"color: #008080; text-decoration-color: #008080; font-weight: bold\">0.06</span><span style=\"font-weight: bold\">:</span>\n",
       "</pre>\n"
      ],
      "text/plain": [
       "\n",
       "\u001b[1mПара текстов \u001b[0m\u001b[1m(\u001b[0m\u001b[1;36m6\u001b[0m\u001b[1m, \u001b[0m\u001b[1;36m11\u001b[0m\u001b[1m)\u001b[0m\u001b[1m с коэффициентом схожести \u001b[0m\u001b[1;36m0.06\u001b[0m\u001b[1m:\u001b[0m\n"
      ]
     },
     "metadata": {},
     "output_type": "display_data"
    },
    {
     "data": {
      "text/html": [
       "<pre style=\"white-space:pre;overflow-x:auto;line-height:normal;font-family:Menlo,'DejaVu Sans Mono',consolas,'Courier New',monospace\"><span style=\"color: #000080; text-decoration-color: #000080\">Текст </span><span style=\"color: #000080; text-decoration-color: #000080; font-weight: bold\">1</span><span style=\"color: #000080; text-decoration-color: #000080\">:</span> <span style=\"color: #800000; text-decoration-color: #800000\">Вода</span> продолжает <span style=\"color: #800000; text-decoration-color: #800000\">стремительно</span> <span style=\"color: #800000; text-decoration-color: #800000\">подниматься,</span> и <span style=\"color: #800000; text-decoration-color: #800000\">если</span> <span style=\"color: #800000; text-decoration-color: #800000\">меры</span> не <span style=\"color: #800000; text-decoration-color: #800000\">будут</span> <span style=\"color: #800000; text-decoration-color: #800000\">приняты</span> <span style=\"color: #800000; text-decoration-color: #800000\">немедленно,</span> <span style=\"color: #800000; text-decoration-color: #800000\">наводнения</span> <span style=\"color: #800000; text-decoration-color: #800000\">станут</span> \n",
       "<span style=\"color: #800000; text-decoration-color: #800000\">обычным</span> <span style=\"color: #800000; text-decoration-color: #800000\">явлением.</span> <span style=\"color: #800000; text-decoration-color: #800000\">Климатические</span> <span style=\"color: #800000; text-decoration-color: #800000\">изменения</span> <span style=\"color: #800000; text-decoration-color: #800000\">уже</span> <span style=\"color: #800000; text-decoration-color: #800000\">сейчас</span> <span style=\"color: #800000; text-decoration-color: #800000\">грозят</span> <span style=\"color: #800000; text-decoration-color: #800000\">разрушительными</span> <span style=\"color: #800000; text-decoration-color: #800000\">последствиями</span> <span style=\"color: #800000; text-decoration-color: #800000\">для</span> <span style=\"color: #800000; text-decoration-color: #800000\">наших</span> <span style=\"color: #800000; text-decoration-color: #800000\">домов</span> и <span style=\"color: #800000; text-decoration-color: #800000\">жизней.</span>\n",
       "<span style=\"color: #800000; text-decoration-color: #800000\">Завтра</span> <span style=\"color: #800000; text-decoration-color: #800000\">может</span> быть <span style=\"color: #800000; text-decoration-color: #800000\">поздно</span> <span style=\"color: #800000; text-decoration-color: #800000\">для</span> <span style=\"color: #800000; text-decoration-color: #800000\">спасения</span> <span style=\"color: #800000; text-decoration-color: #800000\">вашего</span> <span style=\"color: #800000; text-decoration-color: #800000\">будущего.</span>\n",
       "</pre>\n"
      ],
      "text/plain": [
       "\u001b[34mТекст \u001b[0m\u001b[1;34m1\u001b[0m\u001b[34m:\u001b[0m \u001b[31mВода\u001b[0m продолжает \u001b[31mстремительно\u001b[0m \u001b[31mподниматься,\u001b[0m и \u001b[31mесли\u001b[0m \u001b[31mмеры\u001b[0m не \u001b[31mбудут\u001b[0m \u001b[31mприняты\u001b[0m \u001b[31mнемедленно,\u001b[0m \u001b[31mнаводнения\u001b[0m \u001b[31mстанут\u001b[0m \n",
       "\u001b[31mобычным\u001b[0m \u001b[31mявлением.\u001b[0m \u001b[31mКлиматические\u001b[0m \u001b[31mизменения\u001b[0m \u001b[31mуже\u001b[0m \u001b[31mсейчас\u001b[0m \u001b[31mгрозят\u001b[0m \u001b[31mразрушительными\u001b[0m \u001b[31mпоследствиями\u001b[0m \u001b[31mдля\u001b[0m \u001b[31mнаших\u001b[0m \u001b[31mдомов\u001b[0m и \u001b[31mжизней.\u001b[0m\n",
       "\u001b[31mЗавтра\u001b[0m \u001b[31mможет\u001b[0m быть \u001b[31mпоздно\u001b[0m \u001b[31mдля\u001b[0m \u001b[31mспасения\u001b[0m \u001b[31mвашего\u001b[0m \u001b[31mбудущего.\u001b[0m\n"
      ]
     },
     "metadata": {},
     "output_type": "display_data"
    },
    {
     "data": {
      "text/html": [
       "<pre style=\"white-space:pre;overflow-x:auto;line-height:normal;font-family:Menlo,'DejaVu Sans Mono',consolas,'Courier New',monospace\"><span style=\"color: #008000; text-decoration-color: #008000\">Текст </span><span style=\"color: #008000; text-decoration-color: #008000; font-weight: bold\">2</span><span style=\"color: #008000; text-decoration-color: #008000\">:</span> <span style=\"color: #800000; text-decoration-color: #800000\">Уровень</span> <span style=\"color: #800000; text-decoration-color: #800000\">воды</span> <span style=\"color: #800000; text-decoration-color: #800000\">в</span> <span style=\"color: #800000; text-decoration-color: #800000\">реках</span> продолжает <span style=\"color: #800000; text-decoration-color: #800000\">расти,</span> и <span style=\"color: #800000; text-decoration-color: #800000\">эксперты</span> <span style=\"color: #800000; text-decoration-color: #800000\">предупреждают:</span> <span style=\"color: #800000; text-decoration-color: #800000\">в</span> <span style=\"color: #800000; text-decoration-color: #800000\">ближайшие</span> <span style=\"color: #800000; text-decoration-color: #800000\">дни</span> <span style=\"color: #800000; text-decoration-color: #800000\">наводнение</span> <span style=\"color: #800000; text-decoration-color: #800000\">может</span> <span style=\"color: #800000; text-decoration-color: #800000\">стать</span> \n",
       "<span style=\"color: #800000; text-decoration-color: #800000\">ещё</span> <span style=\"color: #800000; text-decoration-color: #800000\">более</span> <span style=\"color: #800000; text-decoration-color: #800000\">масштабным</span> <span style=\"color: #800000; text-decoration-color: #800000\">и</span> <span style=\"color: #800000; text-decoration-color: #800000\">уничтожить</span> <span style=\"color: #800000; text-decoration-color: #800000\">несколько</span> <span style=\"color: #800000; text-decoration-color: #800000\">населённых</span> <span style=\"color: #800000; text-decoration-color: #800000\">пунктов.</span> <span style=\"color: #800000; text-decoration-color: #800000\">Если</span> не <span style=\"color: #800000; text-decoration-color: #800000\">предпринять</span> <span style=\"color: #800000; text-decoration-color: #800000\">срочные</span> <span style=\"color: #800000; text-decoration-color: #800000\">меры,</span> <span style=\"color: #800000; text-decoration-color: #800000\">ваши</span> <span style=\"color: #800000; text-decoration-color: #800000\">дома</span> и <span style=\"color: #800000; text-decoration-color: #800000\">жизни</span>\n",
       "<span style=\"color: #800000; text-decoration-color: #800000\">окажутся</span> <span style=\"color: #800000; text-decoration-color: #800000\">под</span> <span style=\"color: #800000; text-decoration-color: #800000\">угрозой.</span> <span style=\"color: #800000; text-decoration-color: #800000\">Прогнозы</span> <span style=\"color: #800000; text-decoration-color: #800000\">неутешительны,</span> <span style=\"color: #800000; text-decoration-color: #800000\">и</span> <span style=\"color: #800000; text-decoration-color: #800000\">последствия</span> <span style=\"color: #800000; text-decoration-color: #800000\">могут</span> быть <span style=\"color: #800000; text-decoration-color: #800000\">катастрофическими.</span>\n",
       "</pre>\n"
      ],
      "text/plain": [
       "\u001b[32mТекст \u001b[0m\u001b[1;32m2\u001b[0m\u001b[32m:\u001b[0m \u001b[31mУровень\u001b[0m \u001b[31mводы\u001b[0m \u001b[31mв\u001b[0m \u001b[31mреках\u001b[0m продолжает \u001b[31mрасти,\u001b[0m и \u001b[31mэксперты\u001b[0m \u001b[31mпредупреждают:\u001b[0m \u001b[31mв\u001b[0m \u001b[31mближайшие\u001b[0m \u001b[31mдни\u001b[0m \u001b[31mнаводнение\u001b[0m \u001b[31mможет\u001b[0m \u001b[31mстать\u001b[0m \n",
       "\u001b[31mещё\u001b[0m \u001b[31mболее\u001b[0m \u001b[31mмасштабным\u001b[0m \u001b[31mи\u001b[0m \u001b[31mуничтожить\u001b[0m \u001b[31mнесколько\u001b[0m \u001b[31mнаселённых\u001b[0m \u001b[31mпунктов.\u001b[0m \u001b[31mЕсли\u001b[0m не \u001b[31mпредпринять\u001b[0m \u001b[31mсрочные\u001b[0m \u001b[31mмеры,\u001b[0m \u001b[31mваши\u001b[0m \u001b[31mдома\u001b[0m и \u001b[31mжизни\u001b[0m\n",
       "\u001b[31mокажутся\u001b[0m \u001b[31mпод\u001b[0m \u001b[31mугрозой.\u001b[0m \u001b[31mПрогнозы\u001b[0m \u001b[31mнеутешительны,\u001b[0m \u001b[31mи\u001b[0m \u001b[31mпоследствия\u001b[0m \u001b[31mмогут\u001b[0m быть \u001b[31mкатастрофическими.\u001b[0m\n"
      ]
     },
     "metadata": {},
     "output_type": "display_data"
    },
    {
     "data": {
      "text/html": [
       "<pre style=\"white-space:pre;overflow-x:auto;line-height:normal;font-family:Menlo,'DejaVu Sans Mono',consolas,'Courier New',monospace\">\n",
       "<span style=\"font-weight: bold\">Пара текстов (</span><span style=\"color: #008080; text-decoration-color: #008080; font-weight: bold\">8</span><span style=\"font-weight: bold\">, </span><span style=\"color: #008080; text-decoration-color: #008080; font-weight: bold\">11</span><span style=\"font-weight: bold\">) с коэффициентом схожести </span><span style=\"color: #008080; text-decoration-color: #008080; font-weight: bold\">0.05</span><span style=\"font-weight: bold\">:</span>\n",
       "</pre>\n"
      ],
      "text/plain": [
       "\n",
       "\u001b[1mПара текстов \u001b[0m\u001b[1m(\u001b[0m\u001b[1;36m8\u001b[0m\u001b[1m, \u001b[0m\u001b[1;36m11\u001b[0m\u001b[1m)\u001b[0m\u001b[1m с коэффициентом схожести \u001b[0m\u001b[1;36m0.05\u001b[0m\u001b[1m:\u001b[0m\n"
      ]
     },
     "metadata": {},
     "output_type": "display_data"
    },
    {
     "data": {
      "text/html": [
       "<pre style=\"white-space:pre;overflow-x:auto;line-height:normal;font-family:Menlo,'DejaVu Sans Mono',consolas,'Courier New',monospace\"><span style=\"color: #000080; text-decoration-color: #000080\">Текст </span><span style=\"color: #000080; text-decoration-color: #000080; font-weight: bold\">1</span><span style=\"color: #000080; text-decoration-color: #000080\">:</span> <span style=\"color: #800000; text-decoration-color: #800000\">Наводнение,</span> <span style=\"color: #800000; text-decoration-color: #800000\">обрушившееся</span> <span style=\"color: #800000; text-decoration-color: #800000\">на</span> <span style=\"color: #800000; text-decoration-color: #800000\">регион,</span> <span style=\"color: #800000; text-decoration-color: #800000\">угрожает</span> <span style=\"color: #800000; text-decoration-color: #800000\">жизням</span> <span style=\"color: #800000; text-decoration-color: #800000\">тысяч</span> <span style=\"color: #800000; text-decoration-color: #800000\">людей.</span> Если не <span style=\"color: #800000; text-decoration-color: #800000\">принять</span> срочные меры, <span style=\"color: #800000; text-decoration-color: #800000\">уровень</span> \n",
       "<span style=\"color: #800000; text-decoration-color: #800000\">воды</span> <span style=\"color: #800000; text-decoration-color: #800000\">продолжит</span> <span style=\"color: #800000; text-decoration-color: #800000\">расти,</span> <span style=\"color: #800000; text-decoration-color: #800000\">оставляя</span> <span style=\"color: #800000; text-decoration-color: #800000\">жителей</span> <span style=\"color: #800000; text-decoration-color: #800000\">без</span> <span style=\"color: #800000; text-decoration-color: #800000\">крова</span> <span style=\"color: #800000; text-decoration-color: #800000\">и</span> <span style=\"color: #800000; text-decoration-color: #800000\">доступа</span> <span style=\"color: #800000; text-decoration-color: #800000\">к</span> <span style=\"color: #800000; text-decoration-color: #800000\">основным</span> <span style=\"color: #800000; text-decoration-color: #800000\">ресурсам.</span> <span style=\"color: #800000; text-decoration-color: #800000\">Каждый</span> <span style=\"color: #800000; text-decoration-color: #800000\">день</span> <span style=\"color: #800000; text-decoration-color: #800000\">промедления</span> <span style=\"color: #800000; text-decoration-color: #800000\">может</span> \n",
       "<span style=\"color: #800000; text-decoration-color: #800000\">обернуться</span> <span style=\"color: #800000; text-decoration-color: #800000\">трагедией</span> <span style=\"color: #800000; text-decoration-color: #800000\">для</span> <span style=\"color: #800000; text-decoration-color: #800000\">вашего</span> дома и <span style=\"color: #800000; text-decoration-color: #800000\">семьи.</span>\n",
       "</pre>\n"
      ],
      "text/plain": [
       "\u001b[34mТекст \u001b[0m\u001b[1;34m1\u001b[0m\u001b[34m:\u001b[0m \u001b[31mНаводнение,\u001b[0m \u001b[31mобрушившееся\u001b[0m \u001b[31mна\u001b[0m \u001b[31mрегион,\u001b[0m \u001b[31mугрожает\u001b[0m \u001b[31mжизням\u001b[0m \u001b[31mтысяч\u001b[0m \u001b[31mлюдей.\u001b[0m Если не \u001b[31mпринять\u001b[0m срочные меры, \u001b[31mуровень\u001b[0m \n",
       "\u001b[31mводы\u001b[0m \u001b[31mпродолжит\u001b[0m \u001b[31mрасти,\u001b[0m \u001b[31mоставляя\u001b[0m \u001b[31mжителей\u001b[0m \u001b[31mбез\u001b[0m \u001b[31mкрова\u001b[0m \u001b[31mи\u001b[0m \u001b[31mдоступа\u001b[0m \u001b[31mк\u001b[0m \u001b[31mосновным\u001b[0m \u001b[31mресурсам.\u001b[0m \u001b[31mКаждый\u001b[0m \u001b[31mдень\u001b[0m \u001b[31mпромедления\u001b[0m \u001b[31mможет\u001b[0m \n",
       "\u001b[31mобернуться\u001b[0m \u001b[31mтрагедией\u001b[0m \u001b[31mдля\u001b[0m \u001b[31mвашего\u001b[0m дома и \u001b[31mсемьи.\u001b[0m\n"
      ]
     },
     "metadata": {},
     "output_type": "display_data"
    },
    {
     "data": {
      "text/html": [
       "<pre style=\"white-space:pre;overflow-x:auto;line-height:normal;font-family:Menlo,'DejaVu Sans Mono',consolas,'Courier New',monospace\"><span style=\"color: #008000; text-decoration-color: #008000\">Текст </span><span style=\"color: #008000; text-decoration-color: #008000; font-weight: bold\">2</span><span style=\"color: #008000; text-decoration-color: #008000\">:</span> <span style=\"color: #800000; text-decoration-color: #800000\">Уровень</span> <span style=\"color: #800000; text-decoration-color: #800000\">воды</span> <span style=\"color: #800000; text-decoration-color: #800000\">в</span> <span style=\"color: #800000; text-decoration-color: #800000\">реках</span> <span style=\"color: #800000; text-decoration-color: #800000\">продолжает</span> <span style=\"color: #800000; text-decoration-color: #800000\">расти,</span> <span style=\"color: #800000; text-decoration-color: #800000\">и</span> <span style=\"color: #800000; text-decoration-color: #800000\">эксперты</span> <span style=\"color: #800000; text-decoration-color: #800000\">предупреждают:</span> <span style=\"color: #800000; text-decoration-color: #800000\">в</span> <span style=\"color: #800000; text-decoration-color: #800000\">ближайшие</span> <span style=\"color: #800000; text-decoration-color: #800000\">дни</span> <span style=\"color: #800000; text-decoration-color: #800000\">наводнение</span> <span style=\"color: #800000; text-decoration-color: #800000\">может</span> <span style=\"color: #800000; text-decoration-color: #800000\">стать</span> \n",
       "<span style=\"color: #800000; text-decoration-color: #800000\">ещё</span> <span style=\"color: #800000; text-decoration-color: #800000\">более</span> <span style=\"color: #800000; text-decoration-color: #800000\">масштабным</span> <span style=\"color: #800000; text-decoration-color: #800000\">и</span> <span style=\"color: #800000; text-decoration-color: #800000\">уничтожить</span> <span style=\"color: #800000; text-decoration-color: #800000\">несколько</span> <span style=\"color: #800000; text-decoration-color: #800000\">населённых</span> <span style=\"color: #800000; text-decoration-color: #800000\">пунктов.</span> Если не <span style=\"color: #800000; text-decoration-color: #800000\">предпринять</span> срочные меры, <span style=\"color: #800000; text-decoration-color: #800000\">ваши</span> дома и <span style=\"color: #800000; text-decoration-color: #800000\">жизни</span>\n",
       "<span style=\"color: #800000; text-decoration-color: #800000\">окажутся</span> <span style=\"color: #800000; text-decoration-color: #800000\">под</span> <span style=\"color: #800000; text-decoration-color: #800000\">угрозой.</span> <span style=\"color: #800000; text-decoration-color: #800000\">Прогнозы</span> <span style=\"color: #800000; text-decoration-color: #800000\">неутешительны,</span> <span style=\"color: #800000; text-decoration-color: #800000\">и</span> <span style=\"color: #800000; text-decoration-color: #800000\">последствия</span> <span style=\"color: #800000; text-decoration-color: #800000\">могут</span> <span style=\"color: #800000; text-decoration-color: #800000\">быть</span> <span style=\"color: #800000; text-decoration-color: #800000\">катастрофическими.</span>\n",
       "</pre>\n"
      ],
      "text/plain": [
       "\u001b[32mТекст \u001b[0m\u001b[1;32m2\u001b[0m\u001b[32m:\u001b[0m \u001b[31mУровень\u001b[0m \u001b[31mводы\u001b[0m \u001b[31mв\u001b[0m \u001b[31mреках\u001b[0m \u001b[31mпродолжает\u001b[0m \u001b[31mрасти,\u001b[0m \u001b[31mи\u001b[0m \u001b[31mэксперты\u001b[0m \u001b[31mпредупреждают:\u001b[0m \u001b[31mв\u001b[0m \u001b[31mближайшие\u001b[0m \u001b[31mдни\u001b[0m \u001b[31mнаводнение\u001b[0m \u001b[31mможет\u001b[0m \u001b[31mстать\u001b[0m \n",
       "\u001b[31mещё\u001b[0m \u001b[31mболее\u001b[0m \u001b[31mмасштабным\u001b[0m \u001b[31mи\u001b[0m \u001b[31mуничтожить\u001b[0m \u001b[31mнесколько\u001b[0m \u001b[31mнаселённых\u001b[0m \u001b[31mпунктов.\u001b[0m Если не \u001b[31mпредпринять\u001b[0m срочные меры, \u001b[31mваши\u001b[0m дома и \u001b[31mжизни\u001b[0m\n",
       "\u001b[31mокажутся\u001b[0m \u001b[31mпод\u001b[0m \u001b[31mугрозой.\u001b[0m \u001b[31mПрогнозы\u001b[0m \u001b[31mнеутешительны,\u001b[0m \u001b[31mи\u001b[0m \u001b[31mпоследствия\u001b[0m \u001b[31mмогут\u001b[0m \u001b[31mбыть\u001b[0m \u001b[31mкатастрофическими.\u001b[0m\n"
      ]
     },
     "metadata": {},
     "output_type": "display_data"
    },
    {
     "data": {
      "text/html": [
       "<pre style=\"white-space:pre;overflow-x:auto;line-height:normal;font-family:Menlo,'DejaVu Sans Mono',consolas,'Courier New',monospace\">\n",
       "<span style=\"font-weight: bold\">Пара текстов (</span><span style=\"color: #008080; text-decoration-color: #008080; font-weight: bold\">1</span><span style=\"font-weight: bold\">, </span><span style=\"color: #008080; text-decoration-color: #008080; font-weight: bold\">8</span><span style=\"font-weight: bold\">) с коэффициентом схожести </span><span style=\"color: #008080; text-decoration-color: #008080; font-weight: bold\">0.05</span><span style=\"font-weight: bold\">:</span>\n",
       "</pre>\n"
      ],
      "text/plain": [
       "\n",
       "\u001b[1mПара текстов \u001b[0m\u001b[1m(\u001b[0m\u001b[1;36m1\u001b[0m\u001b[1m, \u001b[0m\u001b[1;36m8\u001b[0m\u001b[1m)\u001b[0m\u001b[1m с коэффициентом схожести \u001b[0m\u001b[1;36m0.05\u001b[0m\u001b[1m:\u001b[0m\n"
      ]
     },
     "metadata": {},
     "output_type": "display_data"
    },
    {
     "data": {
      "text/html": [
       "<pre style=\"white-space:pre;overflow-x:auto;line-height:normal;font-family:Menlo,'DejaVu Sans Mono',consolas,'Courier New',monospace\"><span style=\"color: #000080; text-decoration-color: #000080\">Текст </span><span style=\"color: #000080; text-decoration-color: #000080; font-weight: bold\">1</span><span style=\"color: #000080; text-decoration-color: #000080\">:</span> <span style=\"color: #800000; text-decoration-color: #800000\">Обрушившаеся</span> на <span style=\"color: #800000; text-decoration-color: #800000\">регион</span> <span style=\"color: #800000; text-decoration-color: #800000\">наводнение,</span> <span style=\"color: #800000; text-decoration-color: #800000\">несет</span> <span style=\"color: #800000; text-decoration-color: #800000\">в</span> <span style=\"color: #800000; text-decoration-color: #800000\">себе</span> <span style=\"color: #800000; text-decoration-color: #800000\">угрозу</span> <span style=\"color: #800000; text-decoration-color: #800000\">разрушения</span> <span style=\"color: #800000; text-decoration-color: #800000\">домов</span> <span style=\"color: #800000; text-decoration-color: #800000\">и</span> <span style=\"color: #800000; text-decoration-color: #800000\">потери</span> <span style=\"color: #800000; text-decoration-color: #800000\">имущества.</span> <span style=\"color: #800000; text-decoration-color: #800000\">Синоптики</span> \n",
       "<span style=\"color: #800000; text-decoration-color: #800000\">предупреждают:</span> <span style=\"color: #800000; text-decoration-color: #800000\">если</span> не <span style=\"color: #800000; text-decoration-color: #800000\">предпринять</span> срочные меры, <span style=\"color: #800000; text-decoration-color: #800000\">последствия</span> <span style=\"color: #800000; text-decoration-color: #800000\">могут</span> <span style=\"color: #800000; text-decoration-color: #800000\">быть</span> <span style=\"color: #800000; text-decoration-color: #800000\">катастрофическими.</span> Каждый день промедления \n",
       "<span style=\"color: #800000; text-decoration-color: #800000\">увеличивает</span> <span style=\"color: #800000; text-decoration-color: #800000\">риск</span> <span style=\"color: #800000; text-decoration-color: #800000\">непоправимых</span> <span style=\"color: #800000; text-decoration-color: #800000\">потерь.</span>\n",
       "</pre>\n"
      ],
      "text/plain": [
       "\u001b[34mТекст \u001b[0m\u001b[1;34m1\u001b[0m\u001b[34m:\u001b[0m \u001b[31mОбрушившаеся\u001b[0m на \u001b[31mрегион\u001b[0m \u001b[31mнаводнение,\u001b[0m \u001b[31mнесет\u001b[0m \u001b[31mв\u001b[0m \u001b[31mсебе\u001b[0m \u001b[31mугрозу\u001b[0m \u001b[31mразрушения\u001b[0m \u001b[31mдомов\u001b[0m \u001b[31mи\u001b[0m \u001b[31mпотери\u001b[0m \u001b[31mимущества.\u001b[0m \u001b[31mСиноптики\u001b[0m \n",
       "\u001b[31mпредупреждают:\u001b[0m \u001b[31mесли\u001b[0m не \u001b[31mпредпринять\u001b[0m срочные меры, \u001b[31mпоследствия\u001b[0m \u001b[31mмогут\u001b[0m \u001b[31mбыть\u001b[0m \u001b[31mкатастрофическими.\u001b[0m Каждый день промедления \n",
       "\u001b[31mувеличивает\u001b[0m \u001b[31mриск\u001b[0m \u001b[31mнепоправимых\u001b[0m \u001b[31mпотерь.\u001b[0m\n"
      ]
     },
     "metadata": {},
     "output_type": "display_data"
    },
    {
     "data": {
      "text/html": [
       "<pre style=\"white-space:pre;overflow-x:auto;line-height:normal;font-family:Menlo,'DejaVu Sans Mono',consolas,'Courier New',monospace\"><span style=\"color: #008000; text-decoration-color: #008000\">Текст </span><span style=\"color: #008000; text-decoration-color: #008000; font-weight: bold\">2</span><span style=\"color: #008000; text-decoration-color: #008000\">:</span> <span style=\"color: #800000; text-decoration-color: #800000\">Наводнение,</span> <span style=\"color: #800000; text-decoration-color: #800000\">обрушившееся</span> на <span style=\"color: #800000; text-decoration-color: #800000\">регион,</span> <span style=\"color: #800000; text-decoration-color: #800000\">угрожает</span> <span style=\"color: #800000; text-decoration-color: #800000\">жизням</span> <span style=\"color: #800000; text-decoration-color: #800000\">тысяч</span> <span style=\"color: #800000; text-decoration-color: #800000\">людей.</span> <span style=\"color: #800000; text-decoration-color: #800000\">Если</span> не <span style=\"color: #800000; text-decoration-color: #800000\">принять</span> срочные меры, <span style=\"color: #800000; text-decoration-color: #800000\">уровень</span> \n",
       "<span style=\"color: #800000; text-decoration-color: #800000\">воды</span> <span style=\"color: #800000; text-decoration-color: #800000\">продолжит</span> <span style=\"color: #800000; text-decoration-color: #800000\">расти,</span> <span style=\"color: #800000; text-decoration-color: #800000\">оставляя</span> <span style=\"color: #800000; text-decoration-color: #800000\">жителей</span> <span style=\"color: #800000; text-decoration-color: #800000\">без</span> <span style=\"color: #800000; text-decoration-color: #800000\">крова</span> <span style=\"color: #800000; text-decoration-color: #800000\">и</span> <span style=\"color: #800000; text-decoration-color: #800000\">доступа</span> <span style=\"color: #800000; text-decoration-color: #800000\">к</span> <span style=\"color: #800000; text-decoration-color: #800000\">основным</span> <span style=\"color: #800000; text-decoration-color: #800000\">ресурсам.</span> Каждый день промедления <span style=\"color: #800000; text-decoration-color: #800000\">может</span> \n",
       "<span style=\"color: #800000; text-decoration-color: #800000\">обернуться</span> <span style=\"color: #800000; text-decoration-color: #800000\">трагедией</span> <span style=\"color: #800000; text-decoration-color: #800000\">для</span> <span style=\"color: #800000; text-decoration-color: #800000\">вашего</span> <span style=\"color: #800000; text-decoration-color: #800000\">дома</span> <span style=\"color: #800000; text-decoration-color: #800000\">и</span> <span style=\"color: #800000; text-decoration-color: #800000\">семьи.</span>\n",
       "</pre>\n"
      ],
      "text/plain": [
       "\u001b[32mТекст \u001b[0m\u001b[1;32m2\u001b[0m\u001b[32m:\u001b[0m \u001b[31mНаводнение,\u001b[0m \u001b[31mобрушившееся\u001b[0m на \u001b[31mрегион,\u001b[0m \u001b[31mугрожает\u001b[0m \u001b[31mжизням\u001b[0m \u001b[31mтысяч\u001b[0m \u001b[31mлюдей.\u001b[0m \u001b[31mЕсли\u001b[0m не \u001b[31mпринять\u001b[0m срочные меры, \u001b[31mуровень\u001b[0m \n",
       "\u001b[31mводы\u001b[0m \u001b[31mпродолжит\u001b[0m \u001b[31mрасти,\u001b[0m \u001b[31mоставляя\u001b[0m \u001b[31mжителей\u001b[0m \u001b[31mбез\u001b[0m \u001b[31mкрова\u001b[0m \u001b[31mи\u001b[0m \u001b[31mдоступа\u001b[0m \u001b[31mк\u001b[0m \u001b[31mосновным\u001b[0m \u001b[31mресурсам.\u001b[0m Каждый день промедления \u001b[31mможет\u001b[0m \n",
       "\u001b[31mобернуться\u001b[0m \u001b[31mтрагедией\u001b[0m \u001b[31mдля\u001b[0m \u001b[31mвашего\u001b[0m \u001b[31mдома\u001b[0m \u001b[31mи\u001b[0m \u001b[31mсемьи.\u001b[0m\n"
      ]
     },
     "metadata": {},
     "output_type": "display_data"
    },
    {
     "data": {
      "text/html": [
       "<pre style=\"white-space:pre;overflow-x:auto;line-height:normal;font-family:Menlo,'DejaVu Sans Mono',consolas,'Courier New',monospace\">\n",
       "<span style=\"font-weight: bold\">Пара текстов (</span><span style=\"color: #008080; text-decoration-color: #008080; font-weight: bold\">2</span><span style=\"font-weight: bold\">, </span><span style=\"color: #008080; text-decoration-color: #008080; font-weight: bold\">14</span><span style=\"font-weight: bold\">) с коэффициентом схожести </span><span style=\"color: #008080; text-decoration-color: #008080; font-weight: bold\">0.05</span><span style=\"font-weight: bold\">:</span>\n",
       "</pre>\n"
      ],
      "text/plain": [
       "\n",
       "\u001b[1mПара текстов \u001b[0m\u001b[1m(\u001b[0m\u001b[1;36m2\u001b[0m\u001b[1m, \u001b[0m\u001b[1;36m14\u001b[0m\u001b[1m)\u001b[0m\u001b[1m с коэффициентом схожести \u001b[0m\u001b[1;36m0.05\u001b[0m\u001b[1m:\u001b[0m\n"
      ]
     },
     "metadata": {},
     "output_type": "display_data"
    },
    {
     "data": {
      "text/html": [
       "<pre style=\"white-space:pre;overflow-x:auto;line-height:normal;font-family:Menlo,'DejaVu Sans Mono',consolas,'Courier New',monospace\"><span style=\"color: #000080; text-decoration-color: #000080\">Текст </span><span style=\"color: #000080; text-decoration-color: #000080; font-weight: bold\">1</span><span style=\"color: #000080; text-decoration-color: #000080\">:</span> Из-за <span style=\"color: #800000; text-decoration-color: #800000\">стремительного</span> <span style=\"color: #800000; text-decoration-color: #800000\">подъема</span> <span style=\"color: #800000; text-decoration-color: #800000\">уровня</span> <span style=\"color: #800000; text-decoration-color: #800000\">воды,</span> <span style=\"color: #800000; text-decoration-color: #800000\">жители</span> <span style=\"color: #800000; text-decoration-color: #800000\">прибрежных</span> <span style=\"color: #800000; text-decoration-color: #800000\">районов</span> <span style=\"color: #800000; text-decoration-color: #800000\">оказались</span> в <span style=\"color: #800000; text-decoration-color: #800000\">смертельной</span> <span style=\"color: #800000; text-decoration-color: #800000\">опасности.</span> <span style=\"color: #800000; text-decoration-color: #800000\">Без</span>\n",
       "<span style=\"color: #800000; text-decoration-color: #800000\">четких</span> <span style=\"color: #800000; text-decoration-color: #800000\">эвакуационных</span> <span style=\"color: #800000; text-decoration-color: #800000\">планов,</span> <span style=\"color: #800000; text-decoration-color: #800000\">ваши</span> <span style=\"color: #800000; text-decoration-color: #800000\">семьи</span> могут <span style=\"color: #800000; text-decoration-color: #800000\">быть</span> <span style=\"color: #800000; text-decoration-color: #800000\">отрезаны</span> <span style=\"color: #800000; text-decoration-color: #800000\">от</span> <span style=\"color: #800000; text-decoration-color: #800000\">помощи.</span> <span style=\"color: #800000; text-decoration-color: #800000\">Необходимо</span> <span style=\"color: #800000; text-decoration-color: #800000\">срочно</span> принять меры, <span style=\"color: #800000; text-decoration-color: #800000\">иначе</span> \n",
       "<span style=\"color: #800000; text-decoration-color: #800000\">последствия</span> <span style=\"color: #800000; text-decoration-color: #800000\">могут</span> <span style=\"color: #800000; text-decoration-color: #800000\">быть</span> <span style=\"color: #800000; text-decoration-color: #800000\">катастрофическими.</span>\n",
       "</pre>\n"
      ],
      "text/plain": [
       "\u001b[34mТекст \u001b[0m\u001b[1;34m1\u001b[0m\u001b[34m:\u001b[0m Из-за \u001b[31mстремительного\u001b[0m \u001b[31mподъема\u001b[0m \u001b[31mуровня\u001b[0m \u001b[31mводы,\u001b[0m \u001b[31mжители\u001b[0m \u001b[31mприбрежных\u001b[0m \u001b[31mрайонов\u001b[0m \u001b[31mоказались\u001b[0m в \u001b[31mсмертельной\u001b[0m \u001b[31mопасности.\u001b[0m \u001b[31mБез\u001b[0m\n",
       "\u001b[31mчетких\u001b[0m \u001b[31mэвакуационных\u001b[0m \u001b[31mпланов,\u001b[0m \u001b[31mваши\u001b[0m \u001b[31mсемьи\u001b[0m могут \u001b[31mбыть\u001b[0m \u001b[31mотрезаны\u001b[0m \u001b[31mот\u001b[0m \u001b[31mпомощи.\u001b[0m \u001b[31mНеобходимо\u001b[0m \u001b[31mсрочно\u001b[0m принять меры, \u001b[31mиначе\u001b[0m \n",
       "\u001b[31mпоследствия\u001b[0m \u001b[31mмогут\u001b[0m \u001b[31mбыть\u001b[0m \u001b[31mкатастрофическими.\u001b[0m\n"
      ]
     },
     "metadata": {},
     "output_type": "display_data"
    },
    {
     "data": {
      "text/html": [
       "<pre style=\"white-space:pre;overflow-x:auto;line-height:normal;font-family:Menlo,'DejaVu Sans Mono',consolas,'Courier New',monospace\"><span style=\"color: #008000; text-decoration-color: #008000\">Текст </span><span style=\"color: #008000; text-decoration-color: #008000; font-weight: bold\">2</span><span style=\"color: #008000; text-decoration-color: #008000\">:</span> Из-за <span style=\"color: #800000; text-decoration-color: #800000\">непрекращающихся</span> <span style=\"color: #800000; text-decoration-color: #800000\">ливней</span> <span style=\"color: #800000; text-decoration-color: #800000\">уровень</span> <span style=\"color: #800000; text-decoration-color: #800000\">воды</span> в <span style=\"color: #800000; text-decoration-color: #800000\">реках</span> <span style=\"color: #800000; text-decoration-color: #800000\">достиг</span> <span style=\"color: #800000; text-decoration-color: #800000\">критической</span> <span style=\"color: #800000; text-decoration-color: #800000\">отметки.</span> <span style=\"color: #800000; text-decoration-color: #800000\">Экономические</span> <span style=\"color: #800000; text-decoration-color: #800000\">потери</span> могут \n",
       "<span style=\"color: #800000; text-decoration-color: #800000\">стать</span> <span style=\"color: #800000; text-decoration-color: #800000\">катастрофическими:</span> <span style=\"color: #800000; text-decoration-color: #800000\">затопление</span> <span style=\"color: #800000; text-decoration-color: #800000\">угрожает</span> <span style=\"color: #800000; text-decoration-color: #800000\">домам</span> <span style=\"color: #800000; text-decoration-color: #800000\">и</span> <span style=\"color: #800000; text-decoration-color: #800000\">предприятиям,</span> <span style=\"color: #800000; text-decoration-color: #800000\">лишая</span> <span style=\"color: #800000; text-decoration-color: #800000\">тысячи</span> <span style=\"color: #800000; text-decoration-color: #800000\">людей</span> <span style=\"color: #800000; text-decoration-color: #800000\">средств</span> <span style=\"color: #800000; text-decoration-color: #800000\">к</span> <span style=\"color: #800000; text-decoration-color: #800000\">существованию.</span> <span style=\"color: #800000; text-decoration-color: #800000\">Если</span>\n",
       "<span style=\"color: #800000; text-decoration-color: #800000\">не</span> принять меры, <span style=\"color: #800000; text-decoration-color: #800000\">ущерб</span> <span style=\"color: #800000; text-decoration-color: #800000\">может</span> <span style=\"color: #800000; text-decoration-color: #800000\">стать</span> <span style=\"color: #800000; text-decoration-color: #800000\">необратимым.</span>\n",
       "</pre>\n"
      ],
      "text/plain": [
       "\u001b[32mТекст \u001b[0m\u001b[1;32m2\u001b[0m\u001b[32m:\u001b[0m Из-за \u001b[31mнепрекращающихся\u001b[0m \u001b[31mливней\u001b[0m \u001b[31mуровень\u001b[0m \u001b[31mводы\u001b[0m в \u001b[31mреках\u001b[0m \u001b[31mдостиг\u001b[0m \u001b[31mкритической\u001b[0m \u001b[31mотметки.\u001b[0m \u001b[31mЭкономические\u001b[0m \u001b[31mпотери\u001b[0m могут \n",
       "\u001b[31mстать\u001b[0m \u001b[31mкатастрофическими:\u001b[0m \u001b[31mзатопление\u001b[0m \u001b[31mугрожает\u001b[0m \u001b[31mдомам\u001b[0m \u001b[31mи\u001b[0m \u001b[31mпредприятиям,\u001b[0m \u001b[31mлишая\u001b[0m \u001b[31mтысячи\u001b[0m \u001b[31mлюдей\u001b[0m \u001b[31mсредств\u001b[0m \u001b[31mк\u001b[0m \u001b[31mсуществованию.\u001b[0m \u001b[31mЕсли\u001b[0m\n",
       "\u001b[31mне\u001b[0m принять меры, \u001b[31mущерб\u001b[0m \u001b[31mможет\u001b[0m \u001b[31mстать\u001b[0m \u001b[31mнеобратимым.\u001b[0m\n"
      ]
     },
     "metadata": {},
     "output_type": "display_data"
    },
    {
     "data": {
      "text/html": [
       "<pre style=\"white-space:pre;overflow-x:auto;line-height:normal;font-family:Menlo,'DejaVu Sans Mono',consolas,'Courier New',monospace\">\n",
       "<span style=\"font-weight: bold\">Пара текстов (</span><span style=\"color: #008080; text-decoration-color: #008080; font-weight: bold\">2</span><span style=\"font-weight: bold\">, </span><span style=\"color: #008080; text-decoration-color: #008080; font-weight: bold\">6</span><span style=\"font-weight: bold\">) с коэффициентом схожести </span><span style=\"color: #008080; text-decoration-color: #008080; font-weight: bold\">0.05</span><span style=\"font-weight: bold\">:</span>\n",
       "</pre>\n"
      ],
      "text/plain": [
       "\n",
       "\u001b[1mПара текстов \u001b[0m\u001b[1m(\u001b[0m\u001b[1;36m2\u001b[0m\u001b[1m, \u001b[0m\u001b[1;36m6\u001b[0m\u001b[1m)\u001b[0m\u001b[1m с коэффициентом схожести \u001b[0m\u001b[1;36m0.05\u001b[0m\u001b[1m:\u001b[0m\n"
      ]
     },
     "metadata": {},
     "output_type": "display_data"
    },
    {
     "data": {
      "text/html": [
       "<pre style=\"white-space:pre;overflow-x:auto;line-height:normal;font-family:Menlo,'DejaVu Sans Mono',consolas,'Courier New',monospace\"><span style=\"color: #000080; text-decoration-color: #000080\">Текст </span><span style=\"color: #000080; text-decoration-color: #000080; font-weight: bold\">1</span><span style=\"color: #000080; text-decoration-color: #000080\">:</span> <span style=\"color: #800000; text-decoration-color: #800000\">Из-за</span> <span style=\"color: #800000; text-decoration-color: #800000\">стремительного</span> <span style=\"color: #800000; text-decoration-color: #800000\">подъема</span> <span style=\"color: #800000; text-decoration-color: #800000\">уровня</span> <span style=\"color: #800000; text-decoration-color: #800000\">воды,</span> <span style=\"color: #800000; text-decoration-color: #800000\">жители</span> <span style=\"color: #800000; text-decoration-color: #800000\">прибрежных</span> <span style=\"color: #800000; text-decoration-color: #800000\">районов</span> <span style=\"color: #800000; text-decoration-color: #800000\">оказались</span> <span style=\"color: #800000; text-decoration-color: #800000\">в</span> <span style=\"color: #800000; text-decoration-color: #800000\">смертельной</span> <span style=\"color: #800000; text-decoration-color: #800000\">опасности.</span> <span style=\"color: #800000; text-decoration-color: #800000\">Без</span>\n",
       "<span style=\"color: #800000; text-decoration-color: #800000\">четких</span> <span style=\"color: #800000; text-decoration-color: #800000\">эвакуационных</span> <span style=\"color: #800000; text-decoration-color: #800000\">планов,</span> <span style=\"color: #800000; text-decoration-color: #800000\">ваши</span> <span style=\"color: #800000; text-decoration-color: #800000\">семьи</span> <span style=\"color: #800000; text-decoration-color: #800000\">могут</span> быть <span style=\"color: #800000; text-decoration-color: #800000\">отрезаны</span> <span style=\"color: #800000; text-decoration-color: #800000\">от</span> <span style=\"color: #800000; text-decoration-color: #800000\">помощи.</span> <span style=\"color: #800000; text-decoration-color: #800000\">Необходимо</span> <span style=\"color: #800000; text-decoration-color: #800000\">срочно</span> <span style=\"color: #800000; text-decoration-color: #800000\">принять</span> <span style=\"color: #800000; text-decoration-color: #800000\">меры,</span> <span style=\"color: #800000; text-decoration-color: #800000\">иначе</span> \n",
       "<span style=\"color: #800000; text-decoration-color: #800000\">последствия</span> <span style=\"color: #800000; text-decoration-color: #800000\">могут</span> <span style=\"color: #800000; text-decoration-color: #800000\">быть</span> <span style=\"color: #800000; text-decoration-color: #800000\">катастрофическими.</span>\n",
       "</pre>\n"
      ],
      "text/plain": [
       "\u001b[34mТекст \u001b[0m\u001b[1;34m1\u001b[0m\u001b[34m:\u001b[0m \u001b[31mИз-за\u001b[0m \u001b[31mстремительного\u001b[0m \u001b[31mподъема\u001b[0m \u001b[31mуровня\u001b[0m \u001b[31mводы,\u001b[0m \u001b[31mжители\u001b[0m \u001b[31mприбрежных\u001b[0m \u001b[31mрайонов\u001b[0m \u001b[31mоказались\u001b[0m \u001b[31mв\u001b[0m \u001b[31mсмертельной\u001b[0m \u001b[31mопасности.\u001b[0m \u001b[31mБез\u001b[0m\n",
       "\u001b[31mчетких\u001b[0m \u001b[31mэвакуационных\u001b[0m \u001b[31mпланов,\u001b[0m \u001b[31mваши\u001b[0m \u001b[31mсемьи\u001b[0m \u001b[31mмогут\u001b[0m быть \u001b[31mотрезаны\u001b[0m \u001b[31mот\u001b[0m \u001b[31mпомощи.\u001b[0m \u001b[31mНеобходимо\u001b[0m \u001b[31mсрочно\u001b[0m \u001b[31mпринять\u001b[0m \u001b[31mмеры,\u001b[0m \u001b[31mиначе\u001b[0m \n",
       "\u001b[31mпоследствия\u001b[0m \u001b[31mмогут\u001b[0m \u001b[31mбыть\u001b[0m \u001b[31mкатастрофическими.\u001b[0m\n"
      ]
     },
     "metadata": {},
     "output_type": "display_data"
    },
    {
     "data": {
      "text/html": [
       "<pre style=\"white-space:pre;overflow-x:auto;line-height:normal;font-family:Menlo,'DejaVu Sans Mono',consolas,'Courier New',monospace\"><span style=\"color: #008000; text-decoration-color: #008000\">Текст </span><span style=\"color: #008000; text-decoration-color: #008000; font-weight: bold\">2</span><span style=\"color: #008000; text-decoration-color: #008000\">:</span> <span style=\"color: #800000; text-decoration-color: #800000\">Вода</span> <span style=\"color: #800000; text-decoration-color: #800000\">продолжает</span> <span style=\"color: #800000; text-decoration-color: #800000\">стремительно</span> <span style=\"color: #800000; text-decoration-color: #800000\">подниматься,</span> <span style=\"color: #800000; text-decoration-color: #800000\">и</span> <span style=\"color: #800000; text-decoration-color: #800000\">если</span> <span style=\"color: #800000; text-decoration-color: #800000\">меры</span> <span style=\"color: #800000; text-decoration-color: #800000\">не</span> <span style=\"color: #800000; text-decoration-color: #800000\">будут</span> <span style=\"color: #800000; text-decoration-color: #800000\">приняты</span> <span style=\"color: #800000; text-decoration-color: #800000\">немедленно,</span> <span style=\"color: #800000; text-decoration-color: #800000\">наводнения</span> <span style=\"color: #800000; text-decoration-color: #800000\">станут</span> \n",
       "<span style=\"color: #800000; text-decoration-color: #800000\">обычным</span> <span style=\"color: #800000; text-decoration-color: #800000\">явлением.</span> <span style=\"color: #800000; text-decoration-color: #800000\">Климатические</span> <span style=\"color: #800000; text-decoration-color: #800000\">изменения</span> <span style=\"color: #800000; text-decoration-color: #800000\">уже</span> <span style=\"color: #800000; text-decoration-color: #800000\">сейчас</span> <span style=\"color: #800000; text-decoration-color: #800000\">грозят</span> <span style=\"color: #800000; text-decoration-color: #800000\">разрушительными</span> <span style=\"color: #800000; text-decoration-color: #800000\">последствиями</span> <span style=\"color: #800000; text-decoration-color: #800000\">для</span> <span style=\"color: #800000; text-decoration-color: #800000\">наших</span> <span style=\"color: #800000; text-decoration-color: #800000\">домов</span> <span style=\"color: #800000; text-decoration-color: #800000\">и</span> <span style=\"color: #800000; text-decoration-color: #800000\">жизней.</span>\n",
       "<span style=\"color: #800000; text-decoration-color: #800000\">Завтра</span> <span style=\"color: #800000; text-decoration-color: #800000\">может</span> быть <span style=\"color: #800000; text-decoration-color: #800000\">поздно</span> <span style=\"color: #800000; text-decoration-color: #800000\">для</span> <span style=\"color: #800000; text-decoration-color: #800000\">спасения</span> <span style=\"color: #800000; text-decoration-color: #800000\">вашего</span> <span style=\"color: #800000; text-decoration-color: #800000\">будущего.</span>\n",
       "</pre>\n"
      ],
      "text/plain": [
       "\u001b[32mТекст \u001b[0m\u001b[1;32m2\u001b[0m\u001b[32m:\u001b[0m \u001b[31mВода\u001b[0m \u001b[31mпродолжает\u001b[0m \u001b[31mстремительно\u001b[0m \u001b[31mподниматься,\u001b[0m \u001b[31mи\u001b[0m \u001b[31mесли\u001b[0m \u001b[31mмеры\u001b[0m \u001b[31mне\u001b[0m \u001b[31mбудут\u001b[0m \u001b[31mприняты\u001b[0m \u001b[31mнемедленно,\u001b[0m \u001b[31mнаводнения\u001b[0m \u001b[31mстанут\u001b[0m \n",
       "\u001b[31mобычным\u001b[0m \u001b[31mявлением.\u001b[0m \u001b[31mКлиматические\u001b[0m \u001b[31mизменения\u001b[0m \u001b[31mуже\u001b[0m \u001b[31mсейчас\u001b[0m \u001b[31mгрозят\u001b[0m \u001b[31mразрушительными\u001b[0m \u001b[31mпоследствиями\u001b[0m \u001b[31mдля\u001b[0m \u001b[31mнаших\u001b[0m \u001b[31mдомов\u001b[0m \u001b[31mи\u001b[0m \u001b[31mжизней.\u001b[0m\n",
       "\u001b[31mЗавтра\u001b[0m \u001b[31mможет\u001b[0m быть \u001b[31mпоздно\u001b[0m \u001b[31mдля\u001b[0m \u001b[31mспасения\u001b[0m \u001b[31mвашего\u001b[0m \u001b[31mбудущего.\u001b[0m\n"
      ]
     },
     "metadata": {},
     "output_type": "display_data"
    },
    {
     "data": {
      "text/html": [
       "<pre style=\"white-space:pre;overflow-x:auto;line-height:normal;font-family:Menlo,'DejaVu Sans Mono',consolas,'Courier New',monospace\">\n",
       "<span style=\"font-weight: bold\">Пара текстов (</span><span style=\"color: #008080; text-decoration-color: #008080; font-weight: bold\">6</span><span style=\"font-weight: bold\">, </span><span style=\"color: #008080; text-decoration-color: #008080; font-weight: bold\">13</span><span style=\"font-weight: bold\">) с коэффициентом схожести </span><span style=\"color: #008080; text-decoration-color: #008080; font-weight: bold\">0.05</span><span style=\"font-weight: bold\">:</span>\n",
       "</pre>\n"
      ],
      "text/plain": [
       "\n",
       "\u001b[1mПара текстов \u001b[0m\u001b[1m(\u001b[0m\u001b[1;36m6\u001b[0m\u001b[1m, \u001b[0m\u001b[1;36m13\u001b[0m\u001b[1m)\u001b[0m\u001b[1m с коэффициентом схожести \u001b[0m\u001b[1;36m0.05\u001b[0m\u001b[1m:\u001b[0m\n"
      ]
     },
     "metadata": {},
     "output_type": "display_data"
    },
    {
     "data": {
      "text/html": [
       "<pre style=\"white-space:pre;overflow-x:auto;line-height:normal;font-family:Menlo,'DejaVu Sans Mono',consolas,'Courier New',monospace\"><span style=\"color: #000080; text-decoration-color: #000080\">Текст </span><span style=\"color: #000080; text-decoration-color: #000080; font-weight: bold\">1</span><span style=\"color: #000080; text-decoration-color: #000080\">:</span> <span style=\"color: #800000; text-decoration-color: #800000\">Вода</span> <span style=\"color: #800000; text-decoration-color: #800000\">продолжает</span> <span style=\"color: #800000; text-decoration-color: #800000\">стремительно</span> <span style=\"color: #800000; text-decoration-color: #800000\">подниматься,</span> и <span style=\"color: #800000; text-decoration-color: #800000\">если</span> <span style=\"color: #800000; text-decoration-color: #800000\">меры</span> не <span style=\"color: #800000; text-decoration-color: #800000\">будут</span> <span style=\"color: #800000; text-decoration-color: #800000\">приняты</span> <span style=\"color: #800000; text-decoration-color: #800000\">немедленно,</span> <span style=\"color: #800000; text-decoration-color: #800000\">наводнения</span> <span style=\"color: #800000; text-decoration-color: #800000\">станут</span> \n",
       "<span style=\"color: #800000; text-decoration-color: #800000\">обычным</span> <span style=\"color: #800000; text-decoration-color: #800000\">явлением.</span> <span style=\"color: #800000; text-decoration-color: #800000\">Климатические</span> <span style=\"color: #800000; text-decoration-color: #800000\">изменения</span> <span style=\"color: #800000; text-decoration-color: #800000\">уже</span> <span style=\"color: #800000; text-decoration-color: #800000\">сейчас</span> <span style=\"color: #800000; text-decoration-color: #800000\">грозят</span> <span style=\"color: #800000; text-decoration-color: #800000\">разрушительными</span> <span style=\"color: #800000; text-decoration-color: #800000\">последствиями</span> для <span style=\"color: #800000; text-decoration-color: #800000\">наших</span> <span style=\"color: #800000; text-decoration-color: #800000\">домов</span> и <span style=\"color: #800000; text-decoration-color: #800000\">жизней.</span>\n",
       "<span style=\"color: #800000; text-decoration-color: #800000\">Завтра</span> <span style=\"color: #800000; text-decoration-color: #800000\">может</span> <span style=\"color: #800000; text-decoration-color: #800000\">быть</span> <span style=\"color: #800000; text-decoration-color: #800000\">поздно</span> <span style=\"color: #800000; text-decoration-color: #800000\">для</span> <span style=\"color: #800000; text-decoration-color: #800000\">спасения</span> <span style=\"color: #800000; text-decoration-color: #800000\">вашего</span> <span style=\"color: #800000; text-decoration-color: #800000\">будущего.</span>\n",
       "</pre>\n"
      ],
      "text/plain": [
       "\u001b[34mТекст \u001b[0m\u001b[1;34m1\u001b[0m\u001b[34m:\u001b[0m \u001b[31mВода\u001b[0m \u001b[31mпродолжает\u001b[0m \u001b[31mстремительно\u001b[0m \u001b[31mподниматься,\u001b[0m и \u001b[31mесли\u001b[0m \u001b[31mмеры\u001b[0m не \u001b[31mбудут\u001b[0m \u001b[31mприняты\u001b[0m \u001b[31mнемедленно,\u001b[0m \u001b[31mнаводнения\u001b[0m \u001b[31mстанут\u001b[0m \n",
       "\u001b[31mобычным\u001b[0m \u001b[31mявлением.\u001b[0m \u001b[31mКлиматические\u001b[0m \u001b[31mизменения\u001b[0m \u001b[31mуже\u001b[0m \u001b[31mсейчас\u001b[0m \u001b[31mгрозят\u001b[0m \u001b[31mразрушительными\u001b[0m \u001b[31mпоследствиями\u001b[0m для \u001b[31mнаших\u001b[0m \u001b[31mдомов\u001b[0m и \u001b[31mжизней.\u001b[0m\n",
       "\u001b[31mЗавтра\u001b[0m \u001b[31mможет\u001b[0m \u001b[31mбыть\u001b[0m \u001b[31mпоздно\u001b[0m \u001b[31mдля\u001b[0m \u001b[31mспасения\u001b[0m \u001b[31mвашего\u001b[0m \u001b[31mбудущего.\u001b[0m\n"
      ]
     },
     "metadata": {},
     "output_type": "display_data"
    },
    {
     "data": {
      "text/html": [
       "<pre style=\"white-space:pre;overflow-x:auto;line-height:normal;font-family:Menlo,'DejaVu Sans Mono',consolas,'Courier New',monospace\"><span style=\"color: #008000; text-decoration-color: #008000\">Текст </span><span style=\"color: #008000; text-decoration-color: #008000; font-weight: bold\">2</span><span style=\"color: #008000; text-decoration-color: #008000\">:</span> <span style=\"color: #800000; text-decoration-color: #800000\">Наводнение,</span> <span style=\"color: #800000; text-decoration-color: #800000\">обрушившееся</span> <span style=\"color: #800000; text-decoration-color: #800000\">на</span> <span style=\"color: #800000; text-decoration-color: #800000\">регион,</span> <span style=\"color: #800000; text-decoration-color: #800000\">уже</span> <span style=\"color: #800000; text-decoration-color: #800000\">унесло</span> <span style=\"color: #800000; text-decoration-color: #800000\">несколько</span> <span style=\"color: #800000; text-decoration-color: #800000\">жизней</span> и <span style=\"color: #800000; text-decoration-color: #800000\">разрушило</span> <span style=\"color: #800000; text-decoration-color: #800000\">сотни</span> <span style=\"color: #800000; text-decoration-color: #800000\">домов.</span> <span style=\"color: #800000; text-decoration-color: #800000\">Если</span> не \n",
       "<span style=\"color: #800000; text-decoration-color: #800000\">предпринять</span> <span style=\"color: #800000; text-decoration-color: #800000\">срочные</span> <span style=\"color: #800000; text-decoration-color: #800000\">меры,</span> <span style=\"color: #800000; text-decoration-color: #800000\">ситуация</span> <span style=\"color: #800000; text-decoration-color: #800000\">может</span> <span style=\"color: #800000; text-decoration-color: #800000\">выйти</span> <span style=\"color: #800000; text-decoration-color: #800000\">из-под</span> <span style=\"color: #800000; text-decoration-color: #800000\">контроля,</span> <span style=\"color: #800000; text-decoration-color: #800000\">и</span> <span style=\"color: #800000; text-decoration-color: #800000\">катастрофа</span> <span style=\"color: #800000; text-decoration-color: #800000\">станет</span> <span style=\"color: #800000; text-decoration-color: #800000\">неизбежной.</span> <span style=\"color: #800000; text-decoration-color: #800000\">Каждое</span> <span style=\"color: #800000; text-decoration-color: #800000\">промедление</span> \n",
       "<span style=\"color: #800000; text-decoration-color: #800000\">увеличивает</span> <span style=\"color: #800000; text-decoration-color: #800000\">риск</span> для <span style=\"color: #800000; text-decoration-color: #800000\">вас</span> и <span style=\"color: #800000; text-decoration-color: #800000\">ваших</span> <span style=\"color: #800000; text-decoration-color: #800000\">близких.</span>\n",
       "</pre>\n"
      ],
      "text/plain": [
       "\u001b[32mТекст \u001b[0m\u001b[1;32m2\u001b[0m\u001b[32m:\u001b[0m \u001b[31mНаводнение,\u001b[0m \u001b[31mобрушившееся\u001b[0m \u001b[31mна\u001b[0m \u001b[31mрегион,\u001b[0m \u001b[31mуже\u001b[0m \u001b[31mунесло\u001b[0m \u001b[31mнесколько\u001b[0m \u001b[31mжизней\u001b[0m и \u001b[31mразрушило\u001b[0m \u001b[31mсотни\u001b[0m \u001b[31mдомов.\u001b[0m \u001b[31mЕсли\u001b[0m не \n",
       "\u001b[31mпредпринять\u001b[0m \u001b[31mсрочные\u001b[0m \u001b[31mмеры,\u001b[0m \u001b[31mситуация\u001b[0m \u001b[31mможет\u001b[0m \u001b[31mвыйти\u001b[0m \u001b[31mиз-под\u001b[0m \u001b[31mконтроля,\u001b[0m \u001b[31mи\u001b[0m \u001b[31mкатастрофа\u001b[0m \u001b[31mстанет\u001b[0m \u001b[31mнеизбежной.\u001b[0m \u001b[31mКаждое\u001b[0m \u001b[31mпромедление\u001b[0m \n",
       "\u001b[31mувеличивает\u001b[0m \u001b[31mриск\u001b[0m для \u001b[31mвас\u001b[0m и \u001b[31mваших\u001b[0m \u001b[31mблизких.\u001b[0m\n"
      ]
     },
     "metadata": {},
     "output_type": "display_data"
    },
    {
     "data": {
      "text/html": [
       "<pre style=\"white-space:pre;overflow-x:auto;line-height:normal;font-family:Menlo,'DejaVu Sans Mono',consolas,'Courier New',monospace\">\n",
       "<span style=\"font-weight: bold\">Пара текстов (</span><span style=\"color: #008080; text-decoration-color: #008080; font-weight: bold\">6</span><span style=\"font-weight: bold\">, </span><span style=\"color: #008080; text-decoration-color: #008080; font-weight: bold\">14</span><span style=\"font-weight: bold\">) с коэффициентом схожести </span><span style=\"color: #008080; text-decoration-color: #008080; font-weight: bold\">0.04</span><span style=\"font-weight: bold\">:</span>\n",
       "</pre>\n"
      ],
      "text/plain": [
       "\n",
       "\u001b[1mПара текстов \u001b[0m\u001b[1m(\u001b[0m\u001b[1;36m6\u001b[0m\u001b[1m, \u001b[0m\u001b[1;36m14\u001b[0m\u001b[1m)\u001b[0m\u001b[1m с коэффициентом схожести \u001b[0m\u001b[1;36m0.04\u001b[0m\u001b[1m:\u001b[0m\n"
      ]
     },
     "metadata": {},
     "output_type": "display_data"
    },
    {
     "data": {
      "text/html": [
       "<pre style=\"white-space:pre;overflow-x:auto;line-height:normal;font-family:Menlo,'DejaVu Sans Mono',consolas,'Courier New',monospace\"><span style=\"color: #000080; text-decoration-color: #000080\">Текст </span><span style=\"color: #000080; text-decoration-color: #000080; font-weight: bold\">1</span><span style=\"color: #000080; text-decoration-color: #000080\">:</span> <span style=\"color: #800000; text-decoration-color: #800000\">Вода</span> <span style=\"color: #800000; text-decoration-color: #800000\">продолжает</span> <span style=\"color: #800000; text-decoration-color: #800000\">стремительно</span> <span style=\"color: #800000; text-decoration-color: #800000\">подниматься,</span> и <span style=\"color: #800000; text-decoration-color: #800000\">если</span> <span style=\"color: #800000; text-decoration-color: #800000\">меры</span> не <span style=\"color: #800000; text-decoration-color: #800000\">будут</span> <span style=\"color: #800000; text-decoration-color: #800000\">приняты</span> <span style=\"color: #800000; text-decoration-color: #800000\">немедленно,</span> <span style=\"color: #800000; text-decoration-color: #800000\">наводнения</span> <span style=\"color: #800000; text-decoration-color: #800000\">станут</span> \n",
       "<span style=\"color: #800000; text-decoration-color: #800000\">обычным</span> <span style=\"color: #800000; text-decoration-color: #800000\">явлением.</span> <span style=\"color: #800000; text-decoration-color: #800000\">Климатические</span> <span style=\"color: #800000; text-decoration-color: #800000\">изменения</span> <span style=\"color: #800000; text-decoration-color: #800000\">уже</span> <span style=\"color: #800000; text-decoration-color: #800000\">сейчас</span> <span style=\"color: #800000; text-decoration-color: #800000\">грозят</span> <span style=\"color: #800000; text-decoration-color: #800000\">разрушительными</span> <span style=\"color: #800000; text-decoration-color: #800000\">последствиями</span> <span style=\"color: #800000; text-decoration-color: #800000\">для</span> <span style=\"color: #800000; text-decoration-color: #800000\">наших</span> <span style=\"color: #800000; text-decoration-color: #800000\">домов</span> <span style=\"color: #800000; text-decoration-color: #800000\">и</span> <span style=\"color: #800000; text-decoration-color: #800000\">жизней.</span>\n",
       "<span style=\"color: #800000; text-decoration-color: #800000\">Завтра</span> может <span style=\"color: #800000; text-decoration-color: #800000\">быть</span> <span style=\"color: #800000; text-decoration-color: #800000\">поздно</span> <span style=\"color: #800000; text-decoration-color: #800000\">для</span> <span style=\"color: #800000; text-decoration-color: #800000\">спасения</span> <span style=\"color: #800000; text-decoration-color: #800000\">вашего</span> <span style=\"color: #800000; text-decoration-color: #800000\">будущего.</span>\n",
       "</pre>\n"
      ],
      "text/plain": [
       "\u001b[34mТекст \u001b[0m\u001b[1;34m1\u001b[0m\u001b[34m:\u001b[0m \u001b[31mВода\u001b[0m \u001b[31mпродолжает\u001b[0m \u001b[31mстремительно\u001b[0m \u001b[31mподниматься,\u001b[0m и \u001b[31mесли\u001b[0m \u001b[31mмеры\u001b[0m не \u001b[31mбудут\u001b[0m \u001b[31mприняты\u001b[0m \u001b[31mнемедленно,\u001b[0m \u001b[31mнаводнения\u001b[0m \u001b[31mстанут\u001b[0m \n",
       "\u001b[31mобычным\u001b[0m \u001b[31mявлением.\u001b[0m \u001b[31mКлиматические\u001b[0m \u001b[31mизменения\u001b[0m \u001b[31mуже\u001b[0m \u001b[31mсейчас\u001b[0m \u001b[31mгрозят\u001b[0m \u001b[31mразрушительными\u001b[0m \u001b[31mпоследствиями\u001b[0m \u001b[31mдля\u001b[0m \u001b[31mнаших\u001b[0m \u001b[31mдомов\u001b[0m \u001b[31mи\u001b[0m \u001b[31mжизней.\u001b[0m\n",
       "\u001b[31mЗавтра\u001b[0m может \u001b[31mбыть\u001b[0m \u001b[31mпоздно\u001b[0m \u001b[31mдля\u001b[0m \u001b[31mспасения\u001b[0m \u001b[31mвашего\u001b[0m \u001b[31mбудущего.\u001b[0m\n"
      ]
     },
     "metadata": {},
     "output_type": "display_data"
    },
    {
     "data": {
      "text/html": [
       "<pre style=\"white-space:pre;overflow-x:auto;line-height:normal;font-family:Menlo,'DejaVu Sans Mono',consolas,'Courier New',monospace\"><span style=\"color: #008000; text-decoration-color: #008000\">Текст </span><span style=\"color: #008000; text-decoration-color: #008000; font-weight: bold\">2</span><span style=\"color: #008000; text-decoration-color: #008000\">:</span> <span style=\"color: #800000; text-decoration-color: #800000\">Из-за</span> <span style=\"color: #800000; text-decoration-color: #800000\">непрекращающихся</span> <span style=\"color: #800000; text-decoration-color: #800000\">ливней</span> <span style=\"color: #800000; text-decoration-color: #800000\">уровень</span> <span style=\"color: #800000; text-decoration-color: #800000\">воды</span> <span style=\"color: #800000; text-decoration-color: #800000\">в</span> <span style=\"color: #800000; text-decoration-color: #800000\">реках</span> <span style=\"color: #800000; text-decoration-color: #800000\">достиг</span> <span style=\"color: #800000; text-decoration-color: #800000\">критической</span> <span style=\"color: #800000; text-decoration-color: #800000\">отметки.</span> <span style=\"color: #800000; text-decoration-color: #800000\">Экономические</span> <span style=\"color: #800000; text-decoration-color: #800000\">потери</span> <span style=\"color: #800000; text-decoration-color: #800000\">могут</span> \n",
       "<span style=\"color: #800000; text-decoration-color: #800000\">стать</span> <span style=\"color: #800000; text-decoration-color: #800000\">катастрофическими:</span> <span style=\"color: #800000; text-decoration-color: #800000\">затопление</span> <span style=\"color: #800000; text-decoration-color: #800000\">угрожает</span> <span style=\"color: #800000; text-decoration-color: #800000\">домам</span> и <span style=\"color: #800000; text-decoration-color: #800000\">предприятиям,</span> <span style=\"color: #800000; text-decoration-color: #800000\">лишая</span> <span style=\"color: #800000; text-decoration-color: #800000\">тысячи</span> <span style=\"color: #800000; text-decoration-color: #800000\">людей</span> <span style=\"color: #800000; text-decoration-color: #800000\">средств</span> <span style=\"color: #800000; text-decoration-color: #800000\">к</span> <span style=\"color: #800000; text-decoration-color: #800000\">существованию.</span> <span style=\"color: #800000; text-decoration-color: #800000\">Если</span>\n",
       "не <span style=\"color: #800000; text-decoration-color: #800000\">принять</span> <span style=\"color: #800000; text-decoration-color: #800000\">меры,</span> <span style=\"color: #800000; text-decoration-color: #800000\">ущерб</span> может <span style=\"color: #800000; text-decoration-color: #800000\">стать</span> <span style=\"color: #800000; text-decoration-color: #800000\">необратимым.</span>\n",
       "</pre>\n"
      ],
      "text/plain": [
       "\u001b[32mТекст \u001b[0m\u001b[1;32m2\u001b[0m\u001b[32m:\u001b[0m \u001b[31mИз-за\u001b[0m \u001b[31mнепрекращающихся\u001b[0m \u001b[31mливней\u001b[0m \u001b[31mуровень\u001b[0m \u001b[31mводы\u001b[0m \u001b[31mв\u001b[0m \u001b[31mреках\u001b[0m \u001b[31mдостиг\u001b[0m \u001b[31mкритической\u001b[0m \u001b[31mотметки.\u001b[0m \u001b[31mЭкономические\u001b[0m \u001b[31mпотери\u001b[0m \u001b[31mмогут\u001b[0m \n",
       "\u001b[31mстать\u001b[0m \u001b[31mкатастрофическими:\u001b[0m \u001b[31mзатопление\u001b[0m \u001b[31mугрожает\u001b[0m \u001b[31mдомам\u001b[0m и \u001b[31mпредприятиям,\u001b[0m \u001b[31mлишая\u001b[0m \u001b[31mтысячи\u001b[0m \u001b[31mлюдей\u001b[0m \u001b[31mсредств\u001b[0m \u001b[31mк\u001b[0m \u001b[31mсуществованию.\u001b[0m \u001b[31mЕсли\u001b[0m\n",
       "не \u001b[31mпринять\u001b[0m \u001b[31mмеры,\u001b[0m \u001b[31mущерб\u001b[0m может \u001b[31mстать\u001b[0m \u001b[31mнеобратимым.\u001b[0m\n"
      ]
     },
     "metadata": {},
     "output_type": "display_data"
    },
    {
     "data": {
      "text/html": [
       "<pre style=\"white-space:pre;overflow-x:auto;line-height:normal;font-family:Menlo,'DejaVu Sans Mono',consolas,'Courier New',monospace\">\n",
       "<span style=\"font-weight: bold\">Пара текстов (</span><span style=\"color: #008080; text-decoration-color: #008080; font-weight: bold\">2</span><span style=\"font-weight: bold\">, </span><span style=\"color: #008080; text-decoration-color: #008080; font-weight: bold\">12</span><span style=\"font-weight: bold\">) с коэффициентом схожести </span><span style=\"color: #008080; text-decoration-color: #008080; font-weight: bold\">0.04</span><span style=\"font-weight: bold\">:</span>\n",
       "</pre>\n"
      ],
      "text/plain": [
       "\n",
       "\u001b[1mПара текстов \u001b[0m\u001b[1m(\u001b[0m\u001b[1;36m2\u001b[0m\u001b[1m, \u001b[0m\u001b[1;36m12\u001b[0m\u001b[1m)\u001b[0m\u001b[1m с коэффициентом схожести \u001b[0m\u001b[1;36m0.04\u001b[0m\u001b[1m:\u001b[0m\n"
      ]
     },
     "metadata": {},
     "output_type": "display_data"
    },
    {
     "data": {
      "text/html": [
       "<pre style=\"white-space:pre;overflow-x:auto;line-height:normal;font-family:Menlo,'DejaVu Sans Mono',consolas,'Courier New',monospace\"><span style=\"color: #000080; text-decoration-color: #000080\">Текст </span><span style=\"color: #000080; text-decoration-color: #000080; font-weight: bold\">1</span><span style=\"color: #000080; text-decoration-color: #000080\">:</span> <span style=\"color: #800000; text-decoration-color: #800000\">Из-за</span> <span style=\"color: #800000; text-decoration-color: #800000\">стремительного</span> <span style=\"color: #800000; text-decoration-color: #800000\">подъема</span> <span style=\"color: #800000; text-decoration-color: #800000\">уровня</span> <span style=\"color: #800000; text-decoration-color: #800000\">воды,</span> <span style=\"color: #800000; text-decoration-color: #800000\">жители</span> <span style=\"color: #800000; text-decoration-color: #800000\">прибрежных</span> <span style=\"color: #800000; text-decoration-color: #800000\">районов</span> <span style=\"color: #800000; text-decoration-color: #800000\">оказались</span> в <span style=\"color: #800000; text-decoration-color: #800000\">смертельной</span> опасности. <span style=\"color: #800000; text-decoration-color: #800000\">Без</span>\n",
       "<span style=\"color: #800000; text-decoration-color: #800000\">четких</span> <span style=\"color: #800000; text-decoration-color: #800000\">эвакуационных</span> <span style=\"color: #800000; text-decoration-color: #800000\">планов,</span> <span style=\"color: #800000; text-decoration-color: #800000\">ваши</span> <span style=\"color: #800000; text-decoration-color: #800000\">семьи</span> <span style=\"color: #800000; text-decoration-color: #800000\">могут</span> <span style=\"color: #800000; text-decoration-color: #800000\">быть</span> <span style=\"color: #800000; text-decoration-color: #800000\">отрезаны</span> <span style=\"color: #800000; text-decoration-color: #800000\">от</span> <span style=\"color: #800000; text-decoration-color: #800000\">помощи.</span> <span style=\"color: #800000; text-decoration-color: #800000\">Необходимо</span> <span style=\"color: #800000; text-decoration-color: #800000\">срочно</span> <span style=\"color: #800000; text-decoration-color: #800000\">принять</span> <span style=\"color: #800000; text-decoration-color: #800000\">меры,</span> <span style=\"color: #800000; text-decoration-color: #800000\">иначе</span> \n",
       "<span style=\"color: #800000; text-decoration-color: #800000\">последствия</span> <span style=\"color: #800000; text-decoration-color: #800000\">могут</span> <span style=\"color: #800000; text-decoration-color: #800000\">быть</span> <span style=\"color: #800000; text-decoration-color: #800000\">катастрофическими.</span>\n",
       "</pre>\n"
      ],
      "text/plain": [
       "\u001b[34mТекст \u001b[0m\u001b[1;34m1\u001b[0m\u001b[34m:\u001b[0m \u001b[31mИз-за\u001b[0m \u001b[31mстремительного\u001b[0m \u001b[31mподъема\u001b[0m \u001b[31mуровня\u001b[0m \u001b[31mводы,\u001b[0m \u001b[31mжители\u001b[0m \u001b[31mприбрежных\u001b[0m \u001b[31mрайонов\u001b[0m \u001b[31mоказались\u001b[0m в \u001b[31mсмертельной\u001b[0m опасности. \u001b[31mБез\u001b[0m\n",
       "\u001b[31mчетких\u001b[0m \u001b[31mэвакуационных\u001b[0m \u001b[31mпланов,\u001b[0m \u001b[31mваши\u001b[0m \u001b[31mсемьи\u001b[0m \u001b[31mмогут\u001b[0m \u001b[31mбыть\u001b[0m \u001b[31mотрезаны\u001b[0m \u001b[31mот\u001b[0m \u001b[31mпомощи.\u001b[0m \u001b[31mНеобходимо\u001b[0m \u001b[31mсрочно\u001b[0m \u001b[31mпринять\u001b[0m \u001b[31mмеры,\u001b[0m \u001b[31mиначе\u001b[0m \n",
       "\u001b[31mпоследствия\u001b[0m \u001b[31mмогут\u001b[0m \u001b[31mбыть\u001b[0m \u001b[31mкатастрофическими.\u001b[0m\n"
      ]
     },
     "metadata": {},
     "output_type": "display_data"
    },
    {
     "data": {
      "text/html": [
       "<pre style=\"white-space:pre;overflow-x:auto;line-height:normal;font-family:Menlo,'DejaVu Sans Mono',consolas,'Courier New',monospace\"><span style=\"color: #008000; text-decoration-color: #008000\">Текст </span><span style=\"color: #008000; text-decoration-color: #008000; font-weight: bold\">2</span><span style=\"color: #008000; text-decoration-color: #008000\">:</span> <span style=\"color: #800000; text-decoration-color: #800000\">Наводнения</span> <span style=\"color: #800000; text-decoration-color: #800000\">становятся</span> <span style=\"color: #800000; text-decoration-color: #800000\">всё</span> <span style=\"color: #800000; text-decoration-color: #800000\">более</span> <span style=\"color: #800000; text-decoration-color: #800000\">частыми</span> <span style=\"color: #800000; text-decoration-color: #800000\">из-за</span> <span style=\"color: #800000; text-decoration-color: #800000\">климатических</span> <span style=\"color: #800000; text-decoration-color: #800000\">изменений.</span> <span style=\"color: #800000; text-decoration-color: #800000\">Если</span> <span style=\"color: #800000; text-decoration-color: #800000\">не</span> <span style=\"color: #800000; text-decoration-color: #800000\">предпринять</span> <span style=\"color: #800000; text-decoration-color: #800000\">срочные</span> <span style=\"color: #800000; text-decoration-color: #800000\">меры,</span> \n",
       "<span style=\"color: #800000; text-decoration-color: #800000\">ваш</span> <span style=\"color: #800000; text-decoration-color: #800000\">дом</span> <span style=\"color: #800000; text-decoration-color: #800000\">может</span> <span style=\"color: #800000; text-decoration-color: #800000\">оказаться</span> <span style=\"color: #800000; text-decoration-color: #800000\">под</span> <span style=\"color: #800000; text-decoration-color: #800000\">водой,</span> <span style=\"color: #800000; text-decoration-color: #800000\">а</span> <span style=\"color: #800000; text-decoration-color: #800000\">жизнь</span> <span style=\"color: #800000; text-decoration-color: #800000\">—</span> в опасности. <span style=\"color: #800000; text-decoration-color: #800000\">Последствия</span> <span style=\"color: #800000; text-decoration-color: #800000\">таких</span> <span style=\"color: #800000; text-decoration-color: #800000\">катастроф</span> <span style=\"color: #800000; text-decoration-color: #800000\">будут</span> <span style=\"color: #800000; text-decoration-color: #800000\">долгосрочными</span> <span style=\"color: #800000; text-decoration-color: #800000\">и</span> \n",
       "<span style=\"color: #800000; text-decoration-color: #800000\">разрушительными</span> <span style=\"color: #800000; text-decoration-color: #800000\">для</span> <span style=\"color: #800000; text-decoration-color: #800000\">всех</span> <span style=\"color: #800000; text-decoration-color: #800000\">нас.</span>\n",
       "</pre>\n"
      ],
      "text/plain": [
       "\u001b[32mТекст \u001b[0m\u001b[1;32m2\u001b[0m\u001b[32m:\u001b[0m \u001b[31mНаводнения\u001b[0m \u001b[31mстановятся\u001b[0m \u001b[31mвсё\u001b[0m \u001b[31mболее\u001b[0m \u001b[31mчастыми\u001b[0m \u001b[31mиз-за\u001b[0m \u001b[31mклиматических\u001b[0m \u001b[31mизменений.\u001b[0m \u001b[31mЕсли\u001b[0m \u001b[31mне\u001b[0m \u001b[31mпредпринять\u001b[0m \u001b[31mсрочные\u001b[0m \u001b[31mмеры,\u001b[0m \n",
       "\u001b[31mваш\u001b[0m \u001b[31mдом\u001b[0m \u001b[31mможет\u001b[0m \u001b[31mоказаться\u001b[0m \u001b[31mпод\u001b[0m \u001b[31mводой,\u001b[0m \u001b[31mа\u001b[0m \u001b[31mжизнь\u001b[0m \u001b[31m—\u001b[0m в опасности. \u001b[31mПоследствия\u001b[0m \u001b[31mтаких\u001b[0m \u001b[31mкатастроф\u001b[0m \u001b[31mбудут\u001b[0m \u001b[31mдолгосрочными\u001b[0m \u001b[31mи\u001b[0m \n",
       "\u001b[31mразрушительными\u001b[0m \u001b[31mдля\u001b[0m \u001b[31mвсех\u001b[0m \u001b[31mнас.\u001b[0m\n"
      ]
     },
     "metadata": {},
     "output_type": "display_data"
    },
    {
     "data": {
      "text/html": [
       "<pre style=\"white-space:pre;overflow-x:auto;line-height:normal;font-family:Menlo,'DejaVu Sans Mono',consolas,'Courier New',monospace\">\n",
       "<span style=\"font-weight: bold\">Пара текстов (</span><span style=\"color: #008080; text-decoration-color: #008080; font-weight: bold\">7</span><span style=\"font-weight: bold\">, </span><span style=\"color: #008080; text-decoration-color: #008080; font-weight: bold\">13</span><span style=\"font-weight: bold\">) с коэффициентом схожести </span><span style=\"color: #008080; text-decoration-color: #008080; font-weight: bold\">0.04</span><span style=\"font-weight: bold\">:</span>\n",
       "</pre>\n"
      ],
      "text/plain": [
       "\n",
       "\u001b[1mПара текстов \u001b[0m\u001b[1m(\u001b[0m\u001b[1;36m7\u001b[0m\u001b[1m, \u001b[0m\u001b[1;36m13\u001b[0m\u001b[1m)\u001b[0m\u001b[1m с коэффициентом схожести \u001b[0m\u001b[1;36m0.04\u001b[0m\u001b[1m:\u001b[0m\n"
      ]
     },
     "metadata": {},
     "output_type": "display_data"
    },
    {
     "data": {
      "text/html": [
       "<pre style=\"white-space:pre;overflow-x:auto;line-height:normal;font-family:Menlo,'DejaVu Sans Mono',consolas,'Courier New',monospace\"><span style=\"color: #000080; text-decoration-color: #000080\">Текст </span><span style=\"color: #000080; text-decoration-color: #000080; font-weight: bold\">1</span><span style=\"color: #000080; text-decoration-color: #000080\">:</span> <span style=\"color: #800000; text-decoration-color: #800000\">Из-за</span> <span style=\"color: #800000; text-decoration-color: #800000\">участившихся</span> <span style=\"color: #800000; text-decoration-color: #800000\">наводнений,</span> <span style=\"color: #800000; text-decoration-color: #800000\">которые</span> <span style=\"color: #800000; text-decoration-color: #800000\">угрожают</span> <span style=\"color: #800000; text-decoration-color: #800000\">нашим</span> <span style=\"color: #800000; text-decoration-color: #800000\">городам,</span> <span style=\"color: #800000; text-decoration-color: #800000\">каждый</span> <span style=\"color: #800000; text-decoration-color: #800000\">житель</span> <span style=\"color: #800000; text-decoration-color: #800000\">может</span> <span style=\"color: #800000; text-decoration-color: #800000\">оказаться</span> <span style=\"color: #800000; text-decoration-color: #800000\">в</span> <span style=\"color: #800000; text-decoration-color: #800000\">опасности.</span> \n",
       "Если не предпринять меры, <span style=\"color: #800000; text-decoration-color: #800000\">тысячи</span> <span style=\"color: #800000; text-decoration-color: #800000\">людей</span> <span style=\"color: #800000; text-decoration-color: #800000\">рискуют</span> <span style=\"color: #800000; text-decoration-color: #800000\">потерять</span> <span style=\"color: #800000; text-decoration-color: #800000\">свои</span> <span style=\"color: #800000; text-decoration-color: #800000\">дома</span> и <span style=\"color: #800000; text-decoration-color: #800000\">жизни.</span> <span style=\"color: #800000; text-decoration-color: #800000\">Сегодня</span> <span style=\"color: #800000; text-decoration-color: #800000\">это</span> <span style=\"color: #800000; text-decoration-color: #800000\">лишь</span> <span style=\"color: #800000; text-decoration-color: #800000\">предупреждение,</span> <span style=\"color: #800000; text-decoration-color: #800000\">но</span> \n",
       "<span style=\"color: #800000; text-decoration-color: #800000\">завтра</span> <span style=\"color: #800000; text-decoration-color: #800000\">бедствие</span> <span style=\"color: #800000; text-decoration-color: #800000\">может</span> <span style=\"color: #800000; text-decoration-color: #800000\">стать</span> <span style=\"color: #800000; text-decoration-color: #800000\">реальностью.</span>\n",
       "</pre>\n"
      ],
      "text/plain": [
       "\u001b[34mТекст \u001b[0m\u001b[1;34m1\u001b[0m\u001b[34m:\u001b[0m \u001b[31mИз-за\u001b[0m \u001b[31mучастившихся\u001b[0m \u001b[31mнаводнений,\u001b[0m \u001b[31mкоторые\u001b[0m \u001b[31mугрожают\u001b[0m \u001b[31mнашим\u001b[0m \u001b[31mгородам,\u001b[0m \u001b[31mкаждый\u001b[0m \u001b[31mжитель\u001b[0m \u001b[31mможет\u001b[0m \u001b[31mоказаться\u001b[0m \u001b[31mв\u001b[0m \u001b[31mопасности.\u001b[0m \n",
       "Если не предпринять меры, \u001b[31mтысячи\u001b[0m \u001b[31mлюдей\u001b[0m \u001b[31mрискуют\u001b[0m \u001b[31mпотерять\u001b[0m \u001b[31mсвои\u001b[0m \u001b[31mдома\u001b[0m и \u001b[31mжизни.\u001b[0m \u001b[31mСегодня\u001b[0m \u001b[31mэто\u001b[0m \u001b[31mлишь\u001b[0m \u001b[31mпредупреждение,\u001b[0m \u001b[31mно\u001b[0m \n",
       "\u001b[31mзавтра\u001b[0m \u001b[31mбедствие\u001b[0m \u001b[31mможет\u001b[0m \u001b[31mстать\u001b[0m \u001b[31mреальностью.\u001b[0m\n"
      ]
     },
     "metadata": {},
     "output_type": "display_data"
    },
    {
     "data": {
      "text/html": [
       "<pre style=\"white-space:pre;overflow-x:auto;line-height:normal;font-family:Menlo,'DejaVu Sans Mono',consolas,'Courier New',monospace\"><span style=\"color: #008000; text-decoration-color: #008000\">Текст </span><span style=\"color: #008000; text-decoration-color: #008000; font-weight: bold\">2</span><span style=\"color: #008000; text-decoration-color: #008000\">:</span> <span style=\"color: #800000; text-decoration-color: #800000\">Наводнение,</span> <span style=\"color: #800000; text-decoration-color: #800000\">обрушившееся</span> <span style=\"color: #800000; text-decoration-color: #800000\">на</span> <span style=\"color: #800000; text-decoration-color: #800000\">регион,</span> <span style=\"color: #800000; text-decoration-color: #800000\">уже</span> <span style=\"color: #800000; text-decoration-color: #800000\">унесло</span> <span style=\"color: #800000; text-decoration-color: #800000\">несколько</span> <span style=\"color: #800000; text-decoration-color: #800000\">жизней</span> <span style=\"color: #800000; text-decoration-color: #800000\">и</span> <span style=\"color: #800000; text-decoration-color: #800000\">разрушило</span> <span style=\"color: #800000; text-decoration-color: #800000\">сотни</span> <span style=\"color: #800000; text-decoration-color: #800000\">домов.</span> Если не \n",
       "предпринять <span style=\"color: #800000; text-decoration-color: #800000\">срочные</span> меры, <span style=\"color: #800000; text-decoration-color: #800000\">ситуация</span> <span style=\"color: #800000; text-decoration-color: #800000\">может</span> <span style=\"color: #800000; text-decoration-color: #800000\">выйти</span> <span style=\"color: #800000; text-decoration-color: #800000\">из-под</span> <span style=\"color: #800000; text-decoration-color: #800000\">контроля,</span> и <span style=\"color: #800000; text-decoration-color: #800000\">катастрофа</span> <span style=\"color: #800000; text-decoration-color: #800000\">станет</span> <span style=\"color: #800000; text-decoration-color: #800000\">неизбежной.</span> <span style=\"color: #800000; text-decoration-color: #800000\">Каждое</span> <span style=\"color: #800000; text-decoration-color: #800000\">промедление</span> \n",
       "<span style=\"color: #800000; text-decoration-color: #800000\">увеличивает</span> <span style=\"color: #800000; text-decoration-color: #800000\">риск</span> <span style=\"color: #800000; text-decoration-color: #800000\">для</span> <span style=\"color: #800000; text-decoration-color: #800000\">вас</span> <span style=\"color: #800000; text-decoration-color: #800000\">и</span> <span style=\"color: #800000; text-decoration-color: #800000\">ваших</span> <span style=\"color: #800000; text-decoration-color: #800000\">близких.</span>\n",
       "</pre>\n"
      ],
      "text/plain": [
       "\u001b[32mТекст \u001b[0m\u001b[1;32m2\u001b[0m\u001b[32m:\u001b[0m \u001b[31mНаводнение,\u001b[0m \u001b[31mобрушившееся\u001b[0m \u001b[31mна\u001b[0m \u001b[31mрегион,\u001b[0m \u001b[31mуже\u001b[0m \u001b[31mунесло\u001b[0m \u001b[31mнесколько\u001b[0m \u001b[31mжизней\u001b[0m \u001b[31mи\u001b[0m \u001b[31mразрушило\u001b[0m \u001b[31mсотни\u001b[0m \u001b[31mдомов.\u001b[0m Если не \n",
       "предпринять \u001b[31mсрочные\u001b[0m меры, \u001b[31mситуация\u001b[0m \u001b[31mможет\u001b[0m \u001b[31mвыйти\u001b[0m \u001b[31mиз-под\u001b[0m \u001b[31mконтроля,\u001b[0m и \u001b[31mкатастрофа\u001b[0m \u001b[31mстанет\u001b[0m \u001b[31mнеизбежной.\u001b[0m \u001b[31mКаждое\u001b[0m \u001b[31mпромедление\u001b[0m \n",
       "\u001b[31mувеличивает\u001b[0m \u001b[31mриск\u001b[0m \u001b[31mдля\u001b[0m \u001b[31mвас\u001b[0m \u001b[31mи\u001b[0m \u001b[31mваших\u001b[0m \u001b[31mблизких.\u001b[0m\n"
      ]
     },
     "metadata": {},
     "output_type": "display_data"
    },
    {
     "data": {
      "text/html": [
       "<pre style=\"white-space:pre;overflow-x:auto;line-height:normal;font-family:Menlo,'DejaVu Sans Mono',consolas,'Courier New',monospace\">\n",
       "<span style=\"font-weight: bold\">Пара текстов (</span><span style=\"color: #008080; text-decoration-color: #008080; font-weight: bold\">9</span><span style=\"font-weight: bold\">, </span><span style=\"color: #008080; text-decoration-color: #008080; font-weight: bold\">14</span><span style=\"font-weight: bold\">) с коэффициентом схожести </span><span style=\"color: #008080; text-decoration-color: #008080; font-weight: bold\">0.04</span><span style=\"font-weight: bold\">:</span>\n",
       "</pre>\n"
      ],
      "text/plain": [
       "\n",
       "\u001b[1mПара текстов \u001b[0m\u001b[1m(\u001b[0m\u001b[1;36m9\u001b[0m\u001b[1m, \u001b[0m\u001b[1;36m14\u001b[0m\u001b[1m)\u001b[0m\u001b[1m с коэффициентом схожести \u001b[0m\u001b[1;36m0.04\u001b[0m\u001b[1m:\u001b[0m\n"
      ]
     },
     "metadata": {},
     "output_type": "display_data"
    },
    {
     "data": {
      "text/html": [
       "<pre style=\"white-space:pre;overflow-x:auto;line-height:normal;font-family:Menlo,'DejaVu Sans Mono',consolas,'Courier New',monospace\"><span style=\"color: #000080; text-decoration-color: #000080\">Текст </span><span style=\"color: #000080; text-decoration-color: #000080; font-weight: bold\">1</span><span style=\"color: #000080; text-decoration-color: #000080\">:</span> Из-за <span style=\"color: #800000; text-decoration-color: #800000\">обильных</span> <span style=\"color: #800000; text-decoration-color: #800000\">дождей</span> уровень воды в реках <span style=\"color: #800000; text-decoration-color: #800000\">стремительно</span> <span style=\"color: #800000; text-decoration-color: #800000\">растет,</span> <span style=\"color: #800000; text-decoration-color: #800000\">угрожая</span> <span style=\"color: #800000; text-decoration-color: #800000\">затоплением</span> <span style=\"color: #800000; text-decoration-color: #800000\">близлежащих</span> <span style=\"color: #800000; text-decoration-color: #800000\">населенных</span>\n",
       "<span style=\"color: #800000; text-decoration-color: #800000\">пунктов.</span> Если не принять <span style=\"color: #800000; text-decoration-color: #800000\">срочные</span> <span style=\"color: #800000; text-decoration-color: #800000\">меры</span> <span style=\"color: #800000; text-decoration-color: #800000\">по</span> <span style=\"color: #800000; text-decoration-color: #800000\">эвакуации,</span> <span style=\"color: #800000; text-decoration-color: #800000\">сотни</span> <span style=\"color: #800000; text-decoration-color: #800000\">жизней</span> <span style=\"color: #800000; text-decoration-color: #800000\">окажутся</span> <span style=\"color: #800000; text-decoration-color: #800000\">под</span> <span style=\"color: #800000; text-decoration-color: #800000\">угрозой.</span> <span style=\"color: #800000; text-decoration-color: #800000\">Не</span> <span style=\"color: #800000; text-decoration-color: #800000\">ждите,</span> <span style=\"color: #800000; text-decoration-color: #800000\">пока</span> <span style=\"color: #800000; text-decoration-color: #800000\">бедствие</span> \n",
       "<span style=\"color: #800000; text-decoration-color: #800000\">станет</span> <span style=\"color: #800000; text-decoration-color: #800000\">реальностью,</span> <span style=\"color: #800000; text-decoration-color: #800000\">действуйте</span> <span style=\"color: #800000; text-decoration-color: #800000\">сейчас!</span>\n",
       "</pre>\n"
      ],
      "text/plain": [
       "\u001b[34mТекст \u001b[0m\u001b[1;34m1\u001b[0m\u001b[34m:\u001b[0m Из-за \u001b[31mобильных\u001b[0m \u001b[31mдождей\u001b[0m уровень воды в реках \u001b[31mстремительно\u001b[0m \u001b[31mрастет,\u001b[0m \u001b[31mугрожая\u001b[0m \u001b[31mзатоплением\u001b[0m \u001b[31mблизлежащих\u001b[0m \u001b[31mнаселенных\u001b[0m\n",
       "\u001b[31mпунктов.\u001b[0m Если не принять \u001b[31mсрочные\u001b[0m \u001b[31mмеры\u001b[0m \u001b[31mпо\u001b[0m \u001b[31mэвакуации,\u001b[0m \u001b[31mсотни\u001b[0m \u001b[31mжизней\u001b[0m \u001b[31mокажутся\u001b[0m \u001b[31mпод\u001b[0m \u001b[31mугрозой.\u001b[0m \u001b[31mНе\u001b[0m \u001b[31mждите,\u001b[0m \u001b[31mпока\u001b[0m \u001b[31mбедствие\u001b[0m \n",
       "\u001b[31mстанет\u001b[0m \u001b[31mреальностью,\u001b[0m \u001b[31mдействуйте\u001b[0m \u001b[31mсейчас!\u001b[0m\n"
      ]
     },
     "metadata": {},
     "output_type": "display_data"
    },
    {
     "data": {
      "text/html": [
       "<pre style=\"white-space:pre;overflow-x:auto;line-height:normal;font-family:Menlo,'DejaVu Sans Mono',consolas,'Courier New',monospace\"><span style=\"color: #008000; text-decoration-color: #008000\">Текст </span><span style=\"color: #008000; text-decoration-color: #008000; font-weight: bold\">2</span><span style=\"color: #008000; text-decoration-color: #008000\">:</span> Из-за <span style=\"color: #800000; text-decoration-color: #800000\">непрекращающихся</span> <span style=\"color: #800000; text-decoration-color: #800000\">ливней</span> уровень воды в реках <span style=\"color: #800000; text-decoration-color: #800000\">достиг</span> <span style=\"color: #800000; text-decoration-color: #800000\">критической</span> <span style=\"color: #800000; text-decoration-color: #800000\">отметки.</span> <span style=\"color: #800000; text-decoration-color: #800000\">Экономические</span> <span style=\"color: #800000; text-decoration-color: #800000\">потери</span> <span style=\"color: #800000; text-decoration-color: #800000\">могут</span> \n",
       "<span style=\"color: #800000; text-decoration-color: #800000\">стать</span> <span style=\"color: #800000; text-decoration-color: #800000\">катастрофическими:</span> <span style=\"color: #800000; text-decoration-color: #800000\">затопление</span> <span style=\"color: #800000; text-decoration-color: #800000\">угрожает</span> <span style=\"color: #800000; text-decoration-color: #800000\">домам</span> <span style=\"color: #800000; text-decoration-color: #800000\">и</span> <span style=\"color: #800000; text-decoration-color: #800000\">предприятиям,</span> <span style=\"color: #800000; text-decoration-color: #800000\">лишая</span> <span style=\"color: #800000; text-decoration-color: #800000\">тысячи</span> <span style=\"color: #800000; text-decoration-color: #800000\">людей</span> <span style=\"color: #800000; text-decoration-color: #800000\">средств</span> <span style=\"color: #800000; text-decoration-color: #800000\">к</span> <span style=\"color: #800000; text-decoration-color: #800000\">существованию.</span> Если\n",
       "не принять <span style=\"color: #800000; text-decoration-color: #800000\">меры,</span> <span style=\"color: #800000; text-decoration-color: #800000\">ущерб</span> <span style=\"color: #800000; text-decoration-color: #800000\">может</span> <span style=\"color: #800000; text-decoration-color: #800000\">стать</span> <span style=\"color: #800000; text-decoration-color: #800000\">необратимым.</span>\n",
       "</pre>\n"
      ],
      "text/plain": [
       "\u001b[32mТекст \u001b[0m\u001b[1;32m2\u001b[0m\u001b[32m:\u001b[0m Из-за \u001b[31mнепрекращающихся\u001b[0m \u001b[31mливней\u001b[0m уровень воды в реках \u001b[31mдостиг\u001b[0m \u001b[31mкритической\u001b[0m \u001b[31mотметки.\u001b[0m \u001b[31mЭкономические\u001b[0m \u001b[31mпотери\u001b[0m \u001b[31mмогут\u001b[0m \n",
       "\u001b[31mстать\u001b[0m \u001b[31mкатастрофическими:\u001b[0m \u001b[31mзатопление\u001b[0m \u001b[31mугрожает\u001b[0m \u001b[31mдомам\u001b[0m \u001b[31mи\u001b[0m \u001b[31mпредприятиям,\u001b[0m \u001b[31mлишая\u001b[0m \u001b[31mтысячи\u001b[0m \u001b[31mлюдей\u001b[0m \u001b[31mсредств\u001b[0m \u001b[31mк\u001b[0m \u001b[31mсуществованию.\u001b[0m Если\n",
       "не принять \u001b[31mмеры,\u001b[0m \u001b[31mущерб\u001b[0m \u001b[31mможет\u001b[0m \u001b[31mстать\u001b[0m \u001b[31mнеобратимым.\u001b[0m\n"
      ]
     },
     "metadata": {},
     "output_type": "display_data"
    },
    {
     "data": {
      "text/html": [
       "<pre style=\"white-space:pre;overflow-x:auto;line-height:normal;font-family:Menlo,'DejaVu Sans Mono',consolas,'Courier New',monospace\">\n",
       "<span style=\"font-weight: bold\">Пара текстов (</span><span style=\"color: #008080; text-decoration-color: #008080; font-weight: bold\">10</span><span style=\"font-weight: bold\">, </span><span style=\"color: #008080; text-decoration-color: #008080; font-weight: bold\">13</span><span style=\"font-weight: bold\">) с коэффициентом схожести </span><span style=\"color: #008080; text-decoration-color: #008080; font-weight: bold\">0.04</span><span style=\"font-weight: bold\">:</span>\n",
       "</pre>\n"
      ],
      "text/plain": [
       "\n",
       "\u001b[1mПара текстов \u001b[0m\u001b[1m(\u001b[0m\u001b[1;36m10\u001b[0m\u001b[1m, \u001b[0m\u001b[1;36m13\u001b[0m\u001b[1m)\u001b[0m\u001b[1m с коэффициентом схожести \u001b[0m\u001b[1;36m0.04\u001b[0m\u001b[1m:\u001b[0m\n"
      ]
     },
     "metadata": {},
     "output_type": "display_data"
    },
    {
     "data": {
      "text/html": [
       "<pre style=\"white-space:pre;overflow-x:auto;line-height:normal;font-family:Menlo,'DejaVu Sans Mono',consolas,'Courier New',monospace\"><span style=\"color: #000080; text-decoration-color: #000080\">Текст </span><span style=\"color: #000080; text-decoration-color: #000080; font-weight: bold\">1</span><span style=\"color: #000080; text-decoration-color: #000080\">:</span> <span style=\"color: #800000; text-decoration-color: #800000\">Из-за</span> <span style=\"color: #800000; text-decoration-color: #800000\">увеличения</span> <span style=\"color: #800000; text-decoration-color: #800000\">числа</span> <span style=\"color: #800000; text-decoration-color: #800000\">наводнений,</span> <span style=\"color: #800000; text-decoration-color: #800000\">вызванных</span> <span style=\"color: #800000; text-decoration-color: #800000\">изменением</span> <span style=\"color: #800000; text-decoration-color: #800000\">климата,</span> <span style=\"color: #800000; text-decoration-color: #800000\">наиболее</span> <span style=\"color: #800000; text-decoration-color: #800000\">уязвимые</span> <span style=\"color: #800000; text-decoration-color: #800000\">слои</span> <span style=\"color: #800000; text-decoration-color: #800000\">населения</span> \n",
       "<span style=\"color: #800000; text-decoration-color: #800000\">оказываются</span> <span style=\"color: #800000; text-decoration-color: #800000\">под</span> <span style=\"color: #800000; text-decoration-color: #800000\">угрозой.</span> <span style=\"color: #800000; text-decoration-color: #800000\">Без</span> <span style=\"color: #800000; text-decoration-color: #800000\">своевременных</span> <span style=\"color: #800000; text-decoration-color: #800000\">мер</span> ситуация может <span style=\"color: #800000; text-decoration-color: #800000\">усугубиться,</span> и <span style=\"color: #800000; text-decoration-color: #800000\">бедные</span> <span style=\"color: #800000; text-decoration-color: #800000\">районы</span> <span style=\"color: #800000; text-decoration-color: #800000\">пострадают</span> <span style=\"color: #800000; text-decoration-color: #800000\">больше</span> <span style=\"color: #800000; text-decoration-color: #800000\">всего,</span>\n",
       "<span style=\"color: #800000; text-decoration-color: #800000\">оставляя</span> <span style=\"color: #800000; text-decoration-color: #800000\">тысячи</span> <span style=\"color: #800000; text-decoration-color: #800000\">людей</span> <span style=\"color: #800000; text-decoration-color: #800000\">без</span> <span style=\"color: #800000; text-decoration-color: #800000\">крова</span> и <span style=\"color: #800000; text-decoration-color: #800000\">средств</span> <span style=\"color: #800000; text-decoration-color: #800000\">к</span> <span style=\"color: #800000; text-decoration-color: #800000\">существованию.</span>\n",
       "</pre>\n"
      ],
      "text/plain": [
       "\u001b[34mТекст \u001b[0m\u001b[1;34m1\u001b[0m\u001b[34m:\u001b[0m \u001b[31mИз-за\u001b[0m \u001b[31mувеличения\u001b[0m \u001b[31mчисла\u001b[0m \u001b[31mнаводнений,\u001b[0m \u001b[31mвызванных\u001b[0m \u001b[31mизменением\u001b[0m \u001b[31mклимата,\u001b[0m \u001b[31mнаиболее\u001b[0m \u001b[31mуязвимые\u001b[0m \u001b[31mслои\u001b[0m \u001b[31mнаселения\u001b[0m \n",
       "\u001b[31mоказываются\u001b[0m \u001b[31mпод\u001b[0m \u001b[31mугрозой.\u001b[0m \u001b[31mБез\u001b[0m \u001b[31mсвоевременных\u001b[0m \u001b[31mмер\u001b[0m ситуация может \u001b[31mусугубиться,\u001b[0m и \u001b[31mбедные\u001b[0m \u001b[31mрайоны\u001b[0m \u001b[31mпострадают\u001b[0m \u001b[31mбольше\u001b[0m \u001b[31mвсего,\u001b[0m\n",
       "\u001b[31mоставляя\u001b[0m \u001b[31mтысячи\u001b[0m \u001b[31mлюдей\u001b[0m \u001b[31mбез\u001b[0m \u001b[31mкрова\u001b[0m и \u001b[31mсредств\u001b[0m \u001b[31mк\u001b[0m \u001b[31mсуществованию.\u001b[0m\n"
      ]
     },
     "metadata": {},
     "output_type": "display_data"
    },
    {
     "data": {
      "text/html": [
       "<pre style=\"white-space:pre;overflow-x:auto;line-height:normal;font-family:Menlo,'DejaVu Sans Mono',consolas,'Courier New',monospace\"><span style=\"color: #008000; text-decoration-color: #008000\">Текст </span><span style=\"color: #008000; text-decoration-color: #008000; font-weight: bold\">2</span><span style=\"color: #008000; text-decoration-color: #008000\">:</span> <span style=\"color: #800000; text-decoration-color: #800000\">Наводнение,</span> <span style=\"color: #800000; text-decoration-color: #800000\">обрушившееся</span> <span style=\"color: #800000; text-decoration-color: #800000\">на</span> <span style=\"color: #800000; text-decoration-color: #800000\">регион,</span> <span style=\"color: #800000; text-decoration-color: #800000\">уже</span> <span style=\"color: #800000; text-decoration-color: #800000\">унесло</span> <span style=\"color: #800000; text-decoration-color: #800000\">несколько</span> <span style=\"color: #800000; text-decoration-color: #800000\">жизней</span> <span style=\"color: #800000; text-decoration-color: #800000\">и</span> <span style=\"color: #800000; text-decoration-color: #800000\">разрушило</span> <span style=\"color: #800000; text-decoration-color: #800000\">сотни</span> <span style=\"color: #800000; text-decoration-color: #800000\">домов.</span> <span style=\"color: #800000; text-decoration-color: #800000\">Если</span> <span style=\"color: #800000; text-decoration-color: #800000\">не</span> \n",
       "<span style=\"color: #800000; text-decoration-color: #800000\">предпринять</span> <span style=\"color: #800000; text-decoration-color: #800000\">срочные</span> <span style=\"color: #800000; text-decoration-color: #800000\">меры,</span> ситуация может <span style=\"color: #800000; text-decoration-color: #800000\">выйти</span> <span style=\"color: #800000; text-decoration-color: #800000\">из-под</span> <span style=\"color: #800000; text-decoration-color: #800000\">контроля,</span> и <span style=\"color: #800000; text-decoration-color: #800000\">катастрофа</span> <span style=\"color: #800000; text-decoration-color: #800000\">станет</span> <span style=\"color: #800000; text-decoration-color: #800000\">неизбежной.</span> <span style=\"color: #800000; text-decoration-color: #800000\">Каждое</span> <span style=\"color: #800000; text-decoration-color: #800000\">промедление</span> \n",
       "<span style=\"color: #800000; text-decoration-color: #800000\">увеличивает</span> <span style=\"color: #800000; text-decoration-color: #800000\">риск</span> <span style=\"color: #800000; text-decoration-color: #800000\">для</span> <span style=\"color: #800000; text-decoration-color: #800000\">вас</span> и <span style=\"color: #800000; text-decoration-color: #800000\">ваших</span> <span style=\"color: #800000; text-decoration-color: #800000\">близких.</span>\n",
       "</pre>\n"
      ],
      "text/plain": [
       "\u001b[32mТекст \u001b[0m\u001b[1;32m2\u001b[0m\u001b[32m:\u001b[0m \u001b[31mНаводнение,\u001b[0m \u001b[31mобрушившееся\u001b[0m \u001b[31mна\u001b[0m \u001b[31mрегион,\u001b[0m \u001b[31mуже\u001b[0m \u001b[31mунесло\u001b[0m \u001b[31mнесколько\u001b[0m \u001b[31mжизней\u001b[0m \u001b[31mи\u001b[0m \u001b[31mразрушило\u001b[0m \u001b[31mсотни\u001b[0m \u001b[31mдомов.\u001b[0m \u001b[31mЕсли\u001b[0m \u001b[31mне\u001b[0m \n",
       "\u001b[31mпредпринять\u001b[0m \u001b[31mсрочные\u001b[0m \u001b[31mмеры,\u001b[0m ситуация может \u001b[31mвыйти\u001b[0m \u001b[31mиз-под\u001b[0m \u001b[31mконтроля,\u001b[0m и \u001b[31mкатастрофа\u001b[0m \u001b[31mстанет\u001b[0m \u001b[31mнеизбежной.\u001b[0m \u001b[31mКаждое\u001b[0m \u001b[31mпромедление\u001b[0m \n",
       "\u001b[31mувеличивает\u001b[0m \u001b[31mриск\u001b[0m \u001b[31mдля\u001b[0m \u001b[31mвас\u001b[0m и \u001b[31mваших\u001b[0m \u001b[31mблизких.\u001b[0m\n"
      ]
     },
     "metadata": {},
     "output_type": "display_data"
    },
    {
     "data": {
      "text/html": [
       "<pre style=\"white-space:pre;overflow-x:auto;line-height:normal;font-family:Menlo,'DejaVu Sans Mono',consolas,'Courier New',monospace\">\n",
       "<span style=\"font-weight: bold\">Пара текстов (</span><span style=\"color: #008080; text-decoration-color: #008080; font-weight: bold\">9</span><span style=\"font-weight: bold\">, </span><span style=\"color: #008080; text-decoration-color: #008080; font-weight: bold\">10</span><span style=\"font-weight: bold\">) с коэффициентом схожести </span><span style=\"color: #008080; text-decoration-color: #008080; font-weight: bold\">0.04</span><span style=\"font-weight: bold\">:</span>\n",
       "</pre>\n"
      ],
      "text/plain": [
       "\n",
       "\u001b[1mПара текстов \u001b[0m\u001b[1m(\u001b[0m\u001b[1;36m9\u001b[0m\u001b[1m, \u001b[0m\u001b[1;36m10\u001b[0m\u001b[1m)\u001b[0m\u001b[1m с коэффициентом схожести \u001b[0m\u001b[1;36m0.04\u001b[0m\u001b[1m:\u001b[0m\n"
      ]
     },
     "metadata": {},
     "output_type": "display_data"
    },
    {
     "data": {
      "text/html": [
       "<pre style=\"white-space:pre;overflow-x:auto;line-height:normal;font-family:Menlo,'DejaVu Sans Mono',consolas,'Courier New',monospace\"><span style=\"color: #000080; text-decoration-color: #000080\">Текст </span><span style=\"color: #000080; text-decoration-color: #000080; font-weight: bold\">1</span><span style=\"color: #000080; text-decoration-color: #000080\">:</span> Из-за <span style=\"color: #800000; text-decoration-color: #800000\">обильных</span> <span style=\"color: #800000; text-decoration-color: #800000\">дождей</span> <span style=\"color: #800000; text-decoration-color: #800000\">уровень</span> <span style=\"color: #800000; text-decoration-color: #800000\">воды</span> <span style=\"color: #800000; text-decoration-color: #800000\">в</span> <span style=\"color: #800000; text-decoration-color: #800000\">реках</span> <span style=\"color: #800000; text-decoration-color: #800000\">стремительно</span> <span style=\"color: #800000; text-decoration-color: #800000\">растет,</span> <span style=\"color: #800000; text-decoration-color: #800000\">угрожая</span> <span style=\"color: #800000; text-decoration-color: #800000\">затоплением</span> <span style=\"color: #800000; text-decoration-color: #800000\">близлежащих</span> <span style=\"color: #800000; text-decoration-color: #800000\">населенных</span>\n",
       "<span style=\"color: #800000; text-decoration-color: #800000\">пунктов.</span> <span style=\"color: #800000; text-decoration-color: #800000\">Если</span> <span style=\"color: #800000; text-decoration-color: #800000\">не</span> <span style=\"color: #800000; text-decoration-color: #800000\">принять</span> <span style=\"color: #800000; text-decoration-color: #800000\">срочные</span> <span style=\"color: #800000; text-decoration-color: #800000\">меры</span> <span style=\"color: #800000; text-decoration-color: #800000\">по</span> <span style=\"color: #800000; text-decoration-color: #800000\">эвакуации,</span> <span style=\"color: #800000; text-decoration-color: #800000\">сотни</span> <span style=\"color: #800000; text-decoration-color: #800000\">жизней</span> <span style=\"color: #800000; text-decoration-color: #800000\">окажутся</span> под угрозой. <span style=\"color: #800000; text-decoration-color: #800000\">Не</span> <span style=\"color: #800000; text-decoration-color: #800000\">ждите,</span> <span style=\"color: #800000; text-decoration-color: #800000\">пока</span> <span style=\"color: #800000; text-decoration-color: #800000\">бедствие</span> \n",
       "<span style=\"color: #800000; text-decoration-color: #800000\">станет</span> <span style=\"color: #800000; text-decoration-color: #800000\">реальностью,</span> <span style=\"color: #800000; text-decoration-color: #800000\">действуйте</span> <span style=\"color: #800000; text-decoration-color: #800000\">сейчас!</span>\n",
       "</pre>\n"
      ],
      "text/plain": [
       "\u001b[34mТекст \u001b[0m\u001b[1;34m1\u001b[0m\u001b[34m:\u001b[0m Из-за \u001b[31mобильных\u001b[0m \u001b[31mдождей\u001b[0m \u001b[31mуровень\u001b[0m \u001b[31mводы\u001b[0m \u001b[31mв\u001b[0m \u001b[31mреках\u001b[0m \u001b[31mстремительно\u001b[0m \u001b[31mрастет,\u001b[0m \u001b[31mугрожая\u001b[0m \u001b[31mзатоплением\u001b[0m \u001b[31mблизлежащих\u001b[0m \u001b[31mнаселенных\u001b[0m\n",
       "\u001b[31mпунктов.\u001b[0m \u001b[31mЕсли\u001b[0m \u001b[31mне\u001b[0m \u001b[31mпринять\u001b[0m \u001b[31mсрочные\u001b[0m \u001b[31mмеры\u001b[0m \u001b[31mпо\u001b[0m \u001b[31mэвакуации,\u001b[0m \u001b[31mсотни\u001b[0m \u001b[31mжизней\u001b[0m \u001b[31mокажутся\u001b[0m под угрозой. \u001b[31mНе\u001b[0m \u001b[31mждите,\u001b[0m \u001b[31mпока\u001b[0m \u001b[31mбедствие\u001b[0m \n",
       "\u001b[31mстанет\u001b[0m \u001b[31mреальностью,\u001b[0m \u001b[31mдействуйте\u001b[0m \u001b[31mсейчас!\u001b[0m\n"
      ]
     },
     "metadata": {},
     "output_type": "display_data"
    },
    {
     "data": {
      "text/html": [
       "<pre style=\"white-space:pre;overflow-x:auto;line-height:normal;font-family:Menlo,'DejaVu Sans Mono',consolas,'Courier New',monospace\"><span style=\"color: #008000; text-decoration-color: #008000\">Текст </span><span style=\"color: #008000; text-decoration-color: #008000; font-weight: bold\">2</span><span style=\"color: #008000; text-decoration-color: #008000\">:</span> Из-за <span style=\"color: #800000; text-decoration-color: #800000\">увеличения</span> <span style=\"color: #800000; text-decoration-color: #800000\">числа</span> <span style=\"color: #800000; text-decoration-color: #800000\">наводнений,</span> <span style=\"color: #800000; text-decoration-color: #800000\">вызванных</span> <span style=\"color: #800000; text-decoration-color: #800000\">изменением</span> <span style=\"color: #800000; text-decoration-color: #800000\">климата,</span> <span style=\"color: #800000; text-decoration-color: #800000\">наиболее</span> <span style=\"color: #800000; text-decoration-color: #800000\">уязвимые</span> <span style=\"color: #800000; text-decoration-color: #800000\">слои</span> <span style=\"color: #800000; text-decoration-color: #800000\">населения</span> \n",
       "<span style=\"color: #800000; text-decoration-color: #800000\">оказываются</span> под угрозой. <span style=\"color: #800000; text-decoration-color: #800000\">Без</span> <span style=\"color: #800000; text-decoration-color: #800000\">своевременных</span> <span style=\"color: #800000; text-decoration-color: #800000\">мер</span> <span style=\"color: #800000; text-decoration-color: #800000\">ситуация</span> <span style=\"color: #800000; text-decoration-color: #800000\">может</span> <span style=\"color: #800000; text-decoration-color: #800000\">усугубиться,</span> <span style=\"color: #800000; text-decoration-color: #800000\">и</span> <span style=\"color: #800000; text-decoration-color: #800000\">бедные</span> <span style=\"color: #800000; text-decoration-color: #800000\">районы</span> <span style=\"color: #800000; text-decoration-color: #800000\">пострадают</span> <span style=\"color: #800000; text-decoration-color: #800000\">больше</span> <span style=\"color: #800000; text-decoration-color: #800000\">всего,</span>\n",
       "<span style=\"color: #800000; text-decoration-color: #800000\">оставляя</span> <span style=\"color: #800000; text-decoration-color: #800000\">тысячи</span> <span style=\"color: #800000; text-decoration-color: #800000\">людей</span> <span style=\"color: #800000; text-decoration-color: #800000\">без</span> <span style=\"color: #800000; text-decoration-color: #800000\">крова</span> <span style=\"color: #800000; text-decoration-color: #800000\">и</span> <span style=\"color: #800000; text-decoration-color: #800000\">средств</span> <span style=\"color: #800000; text-decoration-color: #800000\">к</span> <span style=\"color: #800000; text-decoration-color: #800000\">существованию.</span>\n",
       "</pre>\n"
      ],
      "text/plain": [
       "\u001b[32mТекст \u001b[0m\u001b[1;32m2\u001b[0m\u001b[32m:\u001b[0m Из-за \u001b[31mувеличения\u001b[0m \u001b[31mчисла\u001b[0m \u001b[31mнаводнений,\u001b[0m \u001b[31mвызванных\u001b[0m \u001b[31mизменением\u001b[0m \u001b[31mклимата,\u001b[0m \u001b[31mнаиболее\u001b[0m \u001b[31mуязвимые\u001b[0m \u001b[31mслои\u001b[0m \u001b[31mнаселения\u001b[0m \n",
       "\u001b[31mоказываются\u001b[0m под угрозой. \u001b[31mБез\u001b[0m \u001b[31mсвоевременных\u001b[0m \u001b[31mмер\u001b[0m \u001b[31mситуация\u001b[0m \u001b[31mможет\u001b[0m \u001b[31mусугубиться,\u001b[0m \u001b[31mи\u001b[0m \u001b[31mбедные\u001b[0m \u001b[31mрайоны\u001b[0m \u001b[31mпострадают\u001b[0m \u001b[31mбольше\u001b[0m \u001b[31mвсего,\u001b[0m\n",
       "\u001b[31mоставляя\u001b[0m \u001b[31mтысячи\u001b[0m \u001b[31mлюдей\u001b[0m \u001b[31mбез\u001b[0m \u001b[31mкрова\u001b[0m \u001b[31mи\u001b[0m \u001b[31mсредств\u001b[0m \u001b[31mк\u001b[0m \u001b[31mсуществованию.\u001b[0m\n"
      ]
     },
     "metadata": {},
     "output_type": "display_data"
    },
    {
     "data": {
      "text/html": [
       "<pre style=\"white-space:pre;overflow-x:auto;line-height:normal;font-family:Menlo,'DejaVu Sans Mono',consolas,'Courier New',monospace\">\n",
       "<span style=\"font-weight: bold\">Пара текстов (</span><span style=\"color: #008080; text-decoration-color: #008080; font-weight: bold\">3</span><span style=\"font-weight: bold\">, </span><span style=\"color: #008080; text-decoration-color: #008080; font-weight: bold\">5</span><span style=\"font-weight: bold\">) с коэффициентом схожести </span><span style=\"color: #008080; text-decoration-color: #008080; font-weight: bold\">0.04</span><span style=\"font-weight: bold\">:</span>\n",
       "</pre>\n"
      ],
      "text/plain": [
       "\n",
       "\u001b[1mПара текстов \u001b[0m\u001b[1m(\u001b[0m\u001b[1;36m3\u001b[0m\u001b[1m, \u001b[0m\u001b[1;36m5\u001b[0m\u001b[1m)\u001b[0m\u001b[1m с коэффициентом схожести \u001b[0m\u001b[1;36m0.04\u001b[0m\u001b[1m:\u001b[0m\n"
      ]
     },
     "metadata": {},
     "output_type": "display_data"
    },
    {
     "data": {
      "text/html": [
       "<pre style=\"white-space:pre;overflow-x:auto;line-height:normal;font-family:Menlo,'DejaVu Sans Mono',consolas,'Courier New',monospace\"><span style=\"color: #000080; text-decoration-color: #000080\">Текст </span><span style=\"color: #000080; text-decoration-color: #000080; font-weight: bold\">1</span><span style=\"color: #000080; text-decoration-color: #000080\">:</span> Из-за <span style=\"color: #800000; text-decoration-color: #800000\">увеличившихся</span> <span style=\"color: #800000; text-decoration-color: #800000\">ливней</span> <span style=\"color: #800000; text-decoration-color: #800000\">уровень</span> воды <span style=\"color: #800000; text-decoration-color: #800000\">в</span> <span style=\"color: #800000; text-decoration-color: #800000\">реках</span> <span style=\"color: #800000; text-decoration-color: #800000\">стремительно</span> <span style=\"color: #800000; text-decoration-color: #800000\">растет,</span> <span style=\"color: #800000; text-decoration-color: #800000\">угрожая</span> <span style=\"color: #800000; text-decoration-color: #800000\">затоплением</span> <span style=\"color: #800000; text-decoration-color: #800000\">целым</span> <span style=\"color: #800000; text-decoration-color: #800000\">районам.</span> \n",
       "Если не принять срочные меры, <span style=\"color: #800000; text-decoration-color: #800000\">наводнение</span> <span style=\"color: #800000; text-decoration-color: #800000\">может</span> <span style=\"color: #800000; text-decoration-color: #800000\">стать</span> <span style=\"color: #800000; text-decoration-color: #800000\">самым</span> <span style=\"color: #800000; text-decoration-color: #800000\">разрушительным</span> <span style=\"color: #800000; text-decoration-color: #800000\">за</span> <span style=\"color: #800000; text-decoration-color: #800000\">десятилетие,</span> <span style=\"color: #800000; text-decoration-color: #800000\">оставив</span> <span style=\"color: #800000; text-decoration-color: #800000\">тысячи</span> <span style=\"color: #800000; text-decoration-color: #800000\">людей</span> <span style=\"color: #800000; text-decoration-color: #800000\">без</span> \n",
       "<span style=\"color: #800000; text-decoration-color: #800000\">крова</span> <span style=\"color: #800000; text-decoration-color: #800000\">и</span> <span style=\"color: #800000; text-decoration-color: #800000\">средств</span> <span style=\"color: #800000; text-decoration-color: #800000\">к</span> <span style=\"color: #800000; text-decoration-color: #800000\">существованию.</span>\n",
       "</pre>\n"
      ],
      "text/plain": [
       "\u001b[34mТекст \u001b[0m\u001b[1;34m1\u001b[0m\u001b[34m:\u001b[0m Из-за \u001b[31mувеличившихся\u001b[0m \u001b[31mливней\u001b[0m \u001b[31mуровень\u001b[0m воды \u001b[31mв\u001b[0m \u001b[31mреках\u001b[0m \u001b[31mстремительно\u001b[0m \u001b[31mрастет,\u001b[0m \u001b[31mугрожая\u001b[0m \u001b[31mзатоплением\u001b[0m \u001b[31mцелым\u001b[0m \u001b[31mрайонам.\u001b[0m \n",
       "Если не принять срочные меры, \u001b[31mнаводнение\u001b[0m \u001b[31mможет\u001b[0m \u001b[31mстать\u001b[0m \u001b[31mсамым\u001b[0m \u001b[31mразрушительным\u001b[0m \u001b[31mза\u001b[0m \u001b[31mдесятилетие,\u001b[0m \u001b[31mоставив\u001b[0m \u001b[31mтысячи\u001b[0m \u001b[31mлюдей\u001b[0m \u001b[31mбез\u001b[0m \n",
       "\u001b[31mкрова\u001b[0m \u001b[31mи\u001b[0m \u001b[31mсредств\u001b[0m \u001b[31mк\u001b[0m \u001b[31mсуществованию.\u001b[0m\n"
      ]
     },
     "metadata": {},
     "output_type": "display_data"
    },
    {
     "data": {
      "text/html": [
       "<pre style=\"white-space:pre;overflow-x:auto;line-height:normal;font-family:Menlo,'DejaVu Sans Mono',consolas,'Courier New',monospace\"><span style=\"color: #008000; text-decoration-color: #008000\">Текст </span><span style=\"color: #008000; text-decoration-color: #008000; font-weight: bold\">2</span><span style=\"color: #008000; text-decoration-color: #008000\">:</span> Из-за <span style=\"color: #800000; text-decoration-color: #800000\">стремительного</span> <span style=\"color: #800000; text-decoration-color: #800000\">подъема</span> <span style=\"color: #800000; text-decoration-color: #800000\">уровня</span> воды <span style=\"color: #800000; text-decoration-color: #800000\">многие</span> <span style=\"color: #800000; text-decoration-color: #800000\">районы</span> <span style=\"color: #800000; text-decoration-color: #800000\">оказались</span> <span style=\"color: #800000; text-decoration-color: #800000\">под</span> <span style=\"color: #800000; text-decoration-color: #800000\">угрозой</span> <span style=\"color: #800000; text-decoration-color: #800000\">наводнения.</span> <span style=\"color: #800000; text-decoration-color: #800000\">Уязвимые</span> <span style=\"color: #800000; text-decoration-color: #800000\">слои</span> \n",
       "<span style=\"color: #800000; text-decoration-color: #800000\">населения,</span> <span style=\"color: #800000; text-decoration-color: #800000\">не</span> <span style=\"color: #800000; text-decoration-color: #800000\">имеющие</span> <span style=\"color: #800000; text-decoration-color: #800000\">доступа</span> <span style=\"color: #800000; text-decoration-color: #800000\">к</span> <span style=\"color: #800000; text-decoration-color: #800000\">необходимым</span> <span style=\"color: #800000; text-decoration-color: #800000\">ресурсам,</span> <span style=\"color: #800000; text-decoration-color: #800000\">могут</span> <span style=\"color: #800000; text-decoration-color: #800000\">пострадать</span> <span style=\"color: #800000; text-decoration-color: #800000\">больше</span> <span style=\"color: #800000; text-decoration-color: #800000\">всего.</span> Если не принять срочные меры, \n",
       "<span style=\"color: #800000; text-decoration-color: #800000\">социальное</span> <span style=\"color: #800000; text-decoration-color: #800000\">неравенство</span> <span style=\"color: #800000; text-decoration-color: #800000\">лишь</span> <span style=\"color: #800000; text-decoration-color: #800000\">усугубит</span> <span style=\"color: #800000; text-decoration-color: #800000\">последствия</span> <span style=\"color: #800000; text-decoration-color: #800000\">катастрофы.</span>\n",
       "</pre>\n"
      ],
      "text/plain": [
       "\u001b[32mТекст \u001b[0m\u001b[1;32m2\u001b[0m\u001b[32m:\u001b[0m Из-за \u001b[31mстремительного\u001b[0m \u001b[31mподъема\u001b[0m \u001b[31mуровня\u001b[0m воды \u001b[31mмногие\u001b[0m \u001b[31mрайоны\u001b[0m \u001b[31mоказались\u001b[0m \u001b[31mпод\u001b[0m \u001b[31mугрозой\u001b[0m \u001b[31mнаводнения.\u001b[0m \u001b[31mУязвимые\u001b[0m \u001b[31mслои\u001b[0m \n",
       "\u001b[31mнаселения,\u001b[0m \u001b[31mне\u001b[0m \u001b[31mимеющие\u001b[0m \u001b[31mдоступа\u001b[0m \u001b[31mк\u001b[0m \u001b[31mнеобходимым\u001b[0m \u001b[31mресурсам,\u001b[0m \u001b[31mмогут\u001b[0m \u001b[31mпострадать\u001b[0m \u001b[31mбольше\u001b[0m \u001b[31mвсего.\u001b[0m Если не принять срочные меры, \n",
       "\u001b[31mсоциальное\u001b[0m \u001b[31mнеравенство\u001b[0m \u001b[31mлишь\u001b[0m \u001b[31mусугубит\u001b[0m \u001b[31mпоследствия\u001b[0m \u001b[31mкатастрофы.\u001b[0m\n"
      ]
     },
     "metadata": {},
     "output_type": "display_data"
    },
    {
     "data": {
      "text/html": [
       "<pre style=\"white-space:pre;overflow-x:auto;line-height:normal;font-family:Menlo,'DejaVu Sans Mono',consolas,'Courier New',monospace\">\n",
       "<span style=\"font-weight: bold\">Пара текстов (</span><span style=\"color: #008080; text-decoration-color: #008080; font-weight: bold\">7</span><span style=\"font-weight: bold\">, </span><span style=\"color: #008080; text-decoration-color: #008080; font-weight: bold\">10</span><span style=\"font-weight: bold\">) с коэффициентом схожести </span><span style=\"color: #008080; text-decoration-color: #008080; font-weight: bold\">0.04</span><span style=\"font-weight: bold\">:</span>\n",
       "</pre>\n"
      ],
      "text/plain": [
       "\n",
       "\u001b[1mПара текстов \u001b[0m\u001b[1m(\u001b[0m\u001b[1;36m7\u001b[0m\u001b[1m, \u001b[0m\u001b[1;36m10\u001b[0m\u001b[1m)\u001b[0m\u001b[1m с коэффициентом схожести \u001b[0m\u001b[1;36m0.04\u001b[0m\u001b[1m:\u001b[0m\n"
      ]
     },
     "metadata": {},
     "output_type": "display_data"
    },
    {
     "data": {
      "text/html": [
       "<pre style=\"white-space:pre;overflow-x:auto;line-height:normal;font-family:Menlo,'DejaVu Sans Mono',consolas,'Courier New',monospace\"><span style=\"color: #000080; text-decoration-color: #000080\">Текст </span><span style=\"color: #000080; text-decoration-color: #000080; font-weight: bold\">1</span><span style=\"color: #000080; text-decoration-color: #000080\">:</span> Из-за <span style=\"color: #800000; text-decoration-color: #800000\">участившихся</span> наводнений, <span style=\"color: #800000; text-decoration-color: #800000\">которые</span> <span style=\"color: #800000; text-decoration-color: #800000\">угрожают</span> <span style=\"color: #800000; text-decoration-color: #800000\">нашим</span> <span style=\"color: #800000; text-decoration-color: #800000\">городам,</span> <span style=\"color: #800000; text-decoration-color: #800000\">каждый</span> <span style=\"color: #800000; text-decoration-color: #800000\">житель</span> может <span style=\"color: #800000; text-decoration-color: #800000\">оказаться</span> <span style=\"color: #800000; text-decoration-color: #800000\">в</span> <span style=\"color: #800000; text-decoration-color: #800000\">опасности.</span> \n",
       "<span style=\"color: #800000; text-decoration-color: #800000\">Если</span> <span style=\"color: #800000; text-decoration-color: #800000\">не</span> <span style=\"color: #800000; text-decoration-color: #800000\">предпринять</span> <span style=\"color: #800000; text-decoration-color: #800000\">меры,</span> тысячи людей <span style=\"color: #800000; text-decoration-color: #800000\">рискуют</span> <span style=\"color: #800000; text-decoration-color: #800000\">потерять</span> <span style=\"color: #800000; text-decoration-color: #800000\">свои</span> <span style=\"color: #800000; text-decoration-color: #800000\">дома</span> и <span style=\"color: #800000; text-decoration-color: #800000\">жизни.</span> <span style=\"color: #800000; text-decoration-color: #800000\">Сегодня</span> <span style=\"color: #800000; text-decoration-color: #800000\">это</span> <span style=\"color: #800000; text-decoration-color: #800000\">лишь</span> <span style=\"color: #800000; text-decoration-color: #800000\">предупреждение,</span> <span style=\"color: #800000; text-decoration-color: #800000\">но</span> \n",
       "<span style=\"color: #800000; text-decoration-color: #800000\">завтра</span> <span style=\"color: #800000; text-decoration-color: #800000\">бедствие</span> <span style=\"color: #800000; text-decoration-color: #800000\">может</span> <span style=\"color: #800000; text-decoration-color: #800000\">стать</span> <span style=\"color: #800000; text-decoration-color: #800000\">реальностью.</span>\n",
       "</pre>\n"
      ],
      "text/plain": [
       "\u001b[34mТекст \u001b[0m\u001b[1;34m1\u001b[0m\u001b[34m:\u001b[0m Из-за \u001b[31mучастившихся\u001b[0m наводнений, \u001b[31mкоторые\u001b[0m \u001b[31mугрожают\u001b[0m \u001b[31mнашим\u001b[0m \u001b[31mгородам,\u001b[0m \u001b[31mкаждый\u001b[0m \u001b[31mжитель\u001b[0m может \u001b[31mоказаться\u001b[0m \u001b[31mв\u001b[0m \u001b[31mопасности.\u001b[0m \n",
       "\u001b[31mЕсли\u001b[0m \u001b[31mне\u001b[0m \u001b[31mпредпринять\u001b[0m \u001b[31mмеры,\u001b[0m тысячи людей \u001b[31mрискуют\u001b[0m \u001b[31mпотерять\u001b[0m \u001b[31mсвои\u001b[0m \u001b[31mдома\u001b[0m и \u001b[31mжизни.\u001b[0m \u001b[31mСегодня\u001b[0m \u001b[31mэто\u001b[0m \u001b[31mлишь\u001b[0m \u001b[31mпредупреждение,\u001b[0m \u001b[31mно\u001b[0m \n",
       "\u001b[31mзавтра\u001b[0m \u001b[31mбедствие\u001b[0m \u001b[31mможет\u001b[0m \u001b[31mстать\u001b[0m \u001b[31mреальностью.\u001b[0m\n"
      ]
     },
     "metadata": {},
     "output_type": "display_data"
    },
    {
     "data": {
      "text/html": [
       "<pre style=\"white-space:pre;overflow-x:auto;line-height:normal;font-family:Menlo,'DejaVu Sans Mono',consolas,'Courier New',monospace\"><span style=\"color: #008000; text-decoration-color: #008000\">Текст </span><span style=\"color: #008000; text-decoration-color: #008000; font-weight: bold\">2</span><span style=\"color: #008000; text-decoration-color: #008000\">:</span> Из-за <span style=\"color: #800000; text-decoration-color: #800000\">увеличения</span> <span style=\"color: #800000; text-decoration-color: #800000\">числа</span> наводнений, <span style=\"color: #800000; text-decoration-color: #800000\">вызванных</span> <span style=\"color: #800000; text-decoration-color: #800000\">изменением</span> <span style=\"color: #800000; text-decoration-color: #800000\">климата,</span> <span style=\"color: #800000; text-decoration-color: #800000\">наиболее</span> <span style=\"color: #800000; text-decoration-color: #800000\">уязвимые</span> <span style=\"color: #800000; text-decoration-color: #800000\">слои</span> <span style=\"color: #800000; text-decoration-color: #800000\">населения</span> \n",
       "<span style=\"color: #800000; text-decoration-color: #800000\">оказываются</span> <span style=\"color: #800000; text-decoration-color: #800000\">под</span> <span style=\"color: #800000; text-decoration-color: #800000\">угрозой.</span> <span style=\"color: #800000; text-decoration-color: #800000\">Без</span> <span style=\"color: #800000; text-decoration-color: #800000\">своевременных</span> <span style=\"color: #800000; text-decoration-color: #800000\">мер</span> <span style=\"color: #800000; text-decoration-color: #800000\">ситуация</span> может <span style=\"color: #800000; text-decoration-color: #800000\">усугубиться,</span> <span style=\"color: #800000; text-decoration-color: #800000\">и</span> <span style=\"color: #800000; text-decoration-color: #800000\">бедные</span> <span style=\"color: #800000; text-decoration-color: #800000\">районы</span> <span style=\"color: #800000; text-decoration-color: #800000\">пострадают</span> <span style=\"color: #800000; text-decoration-color: #800000\">больше</span> <span style=\"color: #800000; text-decoration-color: #800000\">всего,</span>\n",
       "<span style=\"color: #800000; text-decoration-color: #800000\">оставляя</span> тысячи людей <span style=\"color: #800000; text-decoration-color: #800000\">без</span> <span style=\"color: #800000; text-decoration-color: #800000\">крова</span> и <span style=\"color: #800000; text-decoration-color: #800000\">средств</span> <span style=\"color: #800000; text-decoration-color: #800000\">к</span> <span style=\"color: #800000; text-decoration-color: #800000\">существованию.</span>\n",
       "</pre>\n"
      ],
      "text/plain": [
       "\u001b[32mТекст \u001b[0m\u001b[1;32m2\u001b[0m\u001b[32m:\u001b[0m Из-за \u001b[31mувеличения\u001b[0m \u001b[31mчисла\u001b[0m наводнений, \u001b[31mвызванных\u001b[0m \u001b[31mизменением\u001b[0m \u001b[31mклимата,\u001b[0m \u001b[31mнаиболее\u001b[0m \u001b[31mуязвимые\u001b[0m \u001b[31mслои\u001b[0m \u001b[31mнаселения\u001b[0m \n",
       "\u001b[31mоказываются\u001b[0m \u001b[31mпод\u001b[0m \u001b[31mугрозой.\u001b[0m \u001b[31mБез\u001b[0m \u001b[31mсвоевременных\u001b[0m \u001b[31mмер\u001b[0m \u001b[31mситуация\u001b[0m может \u001b[31mусугубиться,\u001b[0m \u001b[31mи\u001b[0m \u001b[31mбедные\u001b[0m \u001b[31mрайоны\u001b[0m \u001b[31mпострадают\u001b[0m \u001b[31mбольше\u001b[0m \u001b[31mвсего,\u001b[0m\n",
       "\u001b[31mоставляя\u001b[0m тысячи людей \u001b[31mбез\u001b[0m \u001b[31mкрова\u001b[0m и \u001b[31mсредств\u001b[0m \u001b[31mк\u001b[0m \u001b[31mсуществованию.\u001b[0m\n"
      ]
     },
     "metadata": {},
     "output_type": "display_data"
    },
    {
     "data": {
      "text/html": [
       "<pre style=\"white-space:pre;overflow-x:auto;line-height:normal;font-family:Menlo,'DejaVu Sans Mono',consolas,'Courier New',monospace\">\n",
       "<span style=\"font-weight: bold\">Пара текстов (</span><span style=\"color: #008080; text-decoration-color: #008080; font-weight: bold\">5</span><span style=\"font-weight: bold\">, </span><span style=\"color: #008080; text-decoration-color: #008080; font-weight: bold\">7</span><span style=\"font-weight: bold\">) с коэффициентом схожести </span><span style=\"color: #008080; text-decoration-color: #008080; font-weight: bold\">0.04</span><span style=\"font-weight: bold\">:</span>\n",
       "</pre>\n"
      ],
      "text/plain": [
       "\n",
       "\u001b[1mПара текстов \u001b[0m\u001b[1m(\u001b[0m\u001b[1;36m5\u001b[0m\u001b[1m, \u001b[0m\u001b[1;36m7\u001b[0m\u001b[1m)\u001b[0m\u001b[1m с коэффициентом схожести \u001b[0m\u001b[1;36m0.04\u001b[0m\u001b[1m:\u001b[0m\n"
      ]
     },
     "metadata": {},
     "output_type": "display_data"
    },
    {
     "data": {
      "text/html": [
       "<pre style=\"white-space:pre;overflow-x:auto;line-height:normal;font-family:Menlo,'DejaVu Sans Mono',consolas,'Courier New',monospace\"><span style=\"color: #000080; text-decoration-color: #000080\">Текст </span><span style=\"color: #000080; text-decoration-color: #000080; font-weight: bold\">1</span><span style=\"color: #000080; text-decoration-color: #000080\">:</span> Из-за <span style=\"color: #800000; text-decoration-color: #800000\">стремительного</span> <span style=\"color: #800000; text-decoration-color: #800000\">подъема</span> <span style=\"color: #800000; text-decoration-color: #800000\">уровня</span> <span style=\"color: #800000; text-decoration-color: #800000\">воды</span> <span style=\"color: #800000; text-decoration-color: #800000\">многие</span> <span style=\"color: #800000; text-decoration-color: #800000\">районы</span> <span style=\"color: #800000; text-decoration-color: #800000\">оказались</span> <span style=\"color: #800000; text-decoration-color: #800000\">под</span> <span style=\"color: #800000; text-decoration-color: #800000\">угрозой</span> <span style=\"color: #800000; text-decoration-color: #800000\">наводнения.</span> <span style=\"color: #800000; text-decoration-color: #800000\">Уязвимые</span> <span style=\"color: #800000; text-decoration-color: #800000\">слои</span> \n",
       "<span style=\"color: #800000; text-decoration-color: #800000\">населения,</span> <span style=\"color: #800000; text-decoration-color: #800000\">не</span> <span style=\"color: #800000; text-decoration-color: #800000\">имеющие</span> <span style=\"color: #800000; text-decoration-color: #800000\">доступа</span> <span style=\"color: #800000; text-decoration-color: #800000\">к</span> <span style=\"color: #800000; text-decoration-color: #800000\">необходимым</span> <span style=\"color: #800000; text-decoration-color: #800000\">ресурсам,</span> <span style=\"color: #800000; text-decoration-color: #800000\">могут</span> <span style=\"color: #800000; text-decoration-color: #800000\">пострадать</span> <span style=\"color: #800000; text-decoration-color: #800000\">больше</span> <span style=\"color: #800000; text-decoration-color: #800000\">всего.</span> Если не <span style=\"color: #800000; text-decoration-color: #800000\">принять</span> <span style=\"color: #800000; text-decoration-color: #800000\">срочные</span> меры, \n",
       "<span style=\"color: #800000; text-decoration-color: #800000\">социальное</span> <span style=\"color: #800000; text-decoration-color: #800000\">неравенство</span> лишь <span style=\"color: #800000; text-decoration-color: #800000\">усугубит</span> <span style=\"color: #800000; text-decoration-color: #800000\">последствия</span> <span style=\"color: #800000; text-decoration-color: #800000\">катастрофы.</span>\n",
       "</pre>\n"
      ],
      "text/plain": [
       "\u001b[34mТекст \u001b[0m\u001b[1;34m1\u001b[0m\u001b[34m:\u001b[0m Из-за \u001b[31mстремительного\u001b[0m \u001b[31mподъема\u001b[0m \u001b[31mуровня\u001b[0m \u001b[31mводы\u001b[0m \u001b[31mмногие\u001b[0m \u001b[31mрайоны\u001b[0m \u001b[31mоказались\u001b[0m \u001b[31mпод\u001b[0m \u001b[31mугрозой\u001b[0m \u001b[31mнаводнения.\u001b[0m \u001b[31mУязвимые\u001b[0m \u001b[31mслои\u001b[0m \n",
       "\u001b[31mнаселения,\u001b[0m \u001b[31mне\u001b[0m \u001b[31mимеющие\u001b[0m \u001b[31mдоступа\u001b[0m \u001b[31mк\u001b[0m \u001b[31mнеобходимым\u001b[0m \u001b[31mресурсам,\u001b[0m \u001b[31mмогут\u001b[0m \u001b[31mпострадать\u001b[0m \u001b[31mбольше\u001b[0m \u001b[31mвсего.\u001b[0m Если не \u001b[31mпринять\u001b[0m \u001b[31mсрочные\u001b[0m меры, \n",
       "\u001b[31mсоциальное\u001b[0m \u001b[31mнеравенство\u001b[0m лишь \u001b[31mусугубит\u001b[0m \u001b[31mпоследствия\u001b[0m \u001b[31mкатастрофы.\u001b[0m\n"
      ]
     },
     "metadata": {},
     "output_type": "display_data"
    },
    {
     "data": {
      "text/html": [
       "<pre style=\"white-space:pre;overflow-x:auto;line-height:normal;font-family:Menlo,'DejaVu Sans Mono',consolas,'Courier New',monospace\"><span style=\"color: #008000; text-decoration-color: #008000\">Текст </span><span style=\"color: #008000; text-decoration-color: #008000; font-weight: bold\">2</span><span style=\"color: #008000; text-decoration-color: #008000\">:</span> Из-за <span style=\"color: #800000; text-decoration-color: #800000\">участившихся</span> <span style=\"color: #800000; text-decoration-color: #800000\">наводнений,</span> <span style=\"color: #800000; text-decoration-color: #800000\">которые</span> <span style=\"color: #800000; text-decoration-color: #800000\">угрожают</span> <span style=\"color: #800000; text-decoration-color: #800000\">нашим</span> <span style=\"color: #800000; text-decoration-color: #800000\">городам,</span> <span style=\"color: #800000; text-decoration-color: #800000\">каждый</span> <span style=\"color: #800000; text-decoration-color: #800000\">житель</span> <span style=\"color: #800000; text-decoration-color: #800000\">может</span> <span style=\"color: #800000; text-decoration-color: #800000\">оказаться</span> <span style=\"color: #800000; text-decoration-color: #800000\">в</span> <span style=\"color: #800000; text-decoration-color: #800000\">опасности.</span> \n",
       "Если не <span style=\"color: #800000; text-decoration-color: #800000\">предпринять</span> меры, <span style=\"color: #800000; text-decoration-color: #800000\">тысячи</span> <span style=\"color: #800000; text-decoration-color: #800000\">людей</span> <span style=\"color: #800000; text-decoration-color: #800000\">рискуют</span> <span style=\"color: #800000; text-decoration-color: #800000\">потерять</span> <span style=\"color: #800000; text-decoration-color: #800000\">свои</span> <span style=\"color: #800000; text-decoration-color: #800000\">дома</span> <span style=\"color: #800000; text-decoration-color: #800000\">и</span> <span style=\"color: #800000; text-decoration-color: #800000\">жизни.</span> <span style=\"color: #800000; text-decoration-color: #800000\">Сегодня</span> <span style=\"color: #800000; text-decoration-color: #800000\">это</span> лишь <span style=\"color: #800000; text-decoration-color: #800000\">предупреждение,</span> <span style=\"color: #800000; text-decoration-color: #800000\">но</span> \n",
       "<span style=\"color: #800000; text-decoration-color: #800000\">завтра</span> <span style=\"color: #800000; text-decoration-color: #800000\">бедствие</span> <span style=\"color: #800000; text-decoration-color: #800000\">может</span> <span style=\"color: #800000; text-decoration-color: #800000\">стать</span> <span style=\"color: #800000; text-decoration-color: #800000\">реальностью.</span>\n",
       "</pre>\n"
      ],
      "text/plain": [
       "\u001b[32mТекст \u001b[0m\u001b[1;32m2\u001b[0m\u001b[32m:\u001b[0m Из-за \u001b[31mучастившихся\u001b[0m \u001b[31mнаводнений,\u001b[0m \u001b[31mкоторые\u001b[0m \u001b[31mугрожают\u001b[0m \u001b[31mнашим\u001b[0m \u001b[31mгородам,\u001b[0m \u001b[31mкаждый\u001b[0m \u001b[31mжитель\u001b[0m \u001b[31mможет\u001b[0m \u001b[31mоказаться\u001b[0m \u001b[31mв\u001b[0m \u001b[31mопасности.\u001b[0m \n",
       "Если не \u001b[31mпредпринять\u001b[0m меры, \u001b[31mтысячи\u001b[0m \u001b[31mлюдей\u001b[0m \u001b[31mрискуют\u001b[0m \u001b[31mпотерять\u001b[0m \u001b[31mсвои\u001b[0m \u001b[31mдома\u001b[0m \u001b[31mи\u001b[0m \u001b[31mжизни.\u001b[0m \u001b[31mСегодня\u001b[0m \u001b[31mэто\u001b[0m лишь \u001b[31mпредупреждение,\u001b[0m \u001b[31mно\u001b[0m \n",
       "\u001b[31mзавтра\u001b[0m \u001b[31mбедствие\u001b[0m \u001b[31mможет\u001b[0m \u001b[31mстать\u001b[0m \u001b[31mреальностью.\u001b[0m\n"
      ]
     },
     "metadata": {},
     "output_type": "display_data"
    },
    {
     "data": {
      "text/html": [
       "<pre style=\"white-space:pre;overflow-x:auto;line-height:normal;font-family:Menlo,'DejaVu Sans Mono',consolas,'Courier New',monospace\">\n",
       "<span style=\"font-weight: bold\">Пара текстов (</span><span style=\"color: #008080; text-decoration-color: #008080; font-weight: bold\">11</span><span style=\"font-weight: bold\">, </span><span style=\"color: #008080; text-decoration-color: #008080; font-weight: bold\">13</span><span style=\"font-weight: bold\">) с коэффициентом схожести </span><span style=\"color: #008080; text-decoration-color: #008080; font-weight: bold\">0.04</span><span style=\"font-weight: bold\">:</span>\n",
       "</pre>\n"
      ],
      "text/plain": [
       "\n",
       "\u001b[1mПара текстов \u001b[0m\u001b[1m(\u001b[0m\u001b[1;36m11\u001b[0m\u001b[1m, \u001b[0m\u001b[1;36m13\u001b[0m\u001b[1m)\u001b[0m\u001b[1m с коэффициентом схожести \u001b[0m\u001b[1;36m0.04\u001b[0m\u001b[1m:\u001b[0m\n"
      ]
     },
     "metadata": {},
     "output_type": "display_data"
    },
    {
     "data": {
      "text/html": [
       "<pre style=\"white-space:pre;overflow-x:auto;line-height:normal;font-family:Menlo,'DejaVu Sans Mono',consolas,'Courier New',monospace\"><span style=\"color: #000080; text-decoration-color: #000080\">Текст </span><span style=\"color: #000080; text-decoration-color: #000080; font-weight: bold\">1</span><span style=\"color: #000080; text-decoration-color: #000080\">:</span> <span style=\"color: #800000; text-decoration-color: #800000\">Уровень</span> <span style=\"color: #800000; text-decoration-color: #800000\">воды</span> <span style=\"color: #800000; text-decoration-color: #800000\">в</span> <span style=\"color: #800000; text-decoration-color: #800000\">реках</span> <span style=\"color: #800000; text-decoration-color: #800000\">продолжает</span> <span style=\"color: #800000; text-decoration-color: #800000\">расти,</span> и <span style=\"color: #800000; text-decoration-color: #800000\">эксперты</span> <span style=\"color: #800000; text-decoration-color: #800000\">предупреждают:</span> <span style=\"color: #800000; text-decoration-color: #800000\">в</span> <span style=\"color: #800000; text-decoration-color: #800000\">ближайшие</span> <span style=\"color: #800000; text-decoration-color: #800000\">дни</span> <span style=\"color: #800000; text-decoration-color: #800000\">наводнение</span> <span style=\"color: #800000; text-decoration-color: #800000\">может</span> <span style=\"color: #800000; text-decoration-color: #800000\">стать</span> \n",
       "<span style=\"color: #800000; text-decoration-color: #800000\">ещё</span> <span style=\"color: #800000; text-decoration-color: #800000\">более</span> <span style=\"color: #800000; text-decoration-color: #800000\">масштабным</span> <span style=\"color: #800000; text-decoration-color: #800000\">и</span> <span style=\"color: #800000; text-decoration-color: #800000\">уничтожить</span> <span style=\"color: #800000; text-decoration-color: #800000\">несколько</span> <span style=\"color: #800000; text-decoration-color: #800000\">населённых</span> <span style=\"color: #800000; text-decoration-color: #800000\">пунктов.</span> Если не предпринять срочные меры, <span style=\"color: #800000; text-decoration-color: #800000\">ваши</span> <span style=\"color: #800000; text-decoration-color: #800000\">дома</span> и <span style=\"color: #800000; text-decoration-color: #800000\">жизни</span>\n",
       "<span style=\"color: #800000; text-decoration-color: #800000\">окажутся</span> <span style=\"color: #800000; text-decoration-color: #800000\">под</span> <span style=\"color: #800000; text-decoration-color: #800000\">угрозой.</span> <span style=\"color: #800000; text-decoration-color: #800000\">Прогнозы</span> <span style=\"color: #800000; text-decoration-color: #800000\">неутешительны,</span> и <span style=\"color: #800000; text-decoration-color: #800000\">последствия</span> <span style=\"color: #800000; text-decoration-color: #800000\">могут</span> <span style=\"color: #800000; text-decoration-color: #800000\">быть</span> <span style=\"color: #800000; text-decoration-color: #800000\">катастрофическими.</span>\n",
       "</pre>\n"
      ],
      "text/plain": [
       "\u001b[34mТекст \u001b[0m\u001b[1;34m1\u001b[0m\u001b[34m:\u001b[0m \u001b[31mУровень\u001b[0m \u001b[31mводы\u001b[0m \u001b[31mв\u001b[0m \u001b[31mреках\u001b[0m \u001b[31mпродолжает\u001b[0m \u001b[31mрасти,\u001b[0m и \u001b[31mэксперты\u001b[0m \u001b[31mпредупреждают:\u001b[0m \u001b[31mв\u001b[0m \u001b[31mближайшие\u001b[0m \u001b[31mдни\u001b[0m \u001b[31mнаводнение\u001b[0m \u001b[31mможет\u001b[0m \u001b[31mстать\u001b[0m \n",
       "\u001b[31mещё\u001b[0m \u001b[31mболее\u001b[0m \u001b[31mмасштабным\u001b[0m \u001b[31mи\u001b[0m \u001b[31mуничтожить\u001b[0m \u001b[31mнесколько\u001b[0m \u001b[31mнаселённых\u001b[0m \u001b[31mпунктов.\u001b[0m Если не предпринять срочные меры, \u001b[31mваши\u001b[0m \u001b[31mдома\u001b[0m и \u001b[31mжизни\u001b[0m\n",
       "\u001b[31mокажутся\u001b[0m \u001b[31mпод\u001b[0m \u001b[31mугрозой.\u001b[0m \u001b[31mПрогнозы\u001b[0m \u001b[31mнеутешительны,\u001b[0m и \u001b[31mпоследствия\u001b[0m \u001b[31mмогут\u001b[0m \u001b[31mбыть\u001b[0m \u001b[31mкатастрофическими.\u001b[0m\n"
      ]
     },
     "metadata": {},
     "output_type": "display_data"
    },
    {
     "data": {
      "text/html": [
       "<pre style=\"white-space:pre;overflow-x:auto;line-height:normal;font-family:Menlo,'DejaVu Sans Mono',consolas,'Courier New',monospace\"><span style=\"color: #008000; text-decoration-color: #008000\">Текст </span><span style=\"color: #008000; text-decoration-color: #008000; font-weight: bold\">2</span><span style=\"color: #008000; text-decoration-color: #008000\">:</span> <span style=\"color: #800000; text-decoration-color: #800000\">Наводнение,</span> <span style=\"color: #800000; text-decoration-color: #800000\">обрушившееся</span> <span style=\"color: #800000; text-decoration-color: #800000\">на</span> <span style=\"color: #800000; text-decoration-color: #800000\">регион,</span> <span style=\"color: #800000; text-decoration-color: #800000\">уже</span> <span style=\"color: #800000; text-decoration-color: #800000\">унесло</span> <span style=\"color: #800000; text-decoration-color: #800000\">несколько</span> <span style=\"color: #800000; text-decoration-color: #800000\">жизней</span> и <span style=\"color: #800000; text-decoration-color: #800000\">разрушило</span> <span style=\"color: #800000; text-decoration-color: #800000\">сотни</span> <span style=\"color: #800000; text-decoration-color: #800000\">домов.</span> Если не \n",
       "предпринять срочные меры, <span style=\"color: #800000; text-decoration-color: #800000\">ситуация</span> <span style=\"color: #800000; text-decoration-color: #800000\">может</span> <span style=\"color: #800000; text-decoration-color: #800000\">выйти</span> <span style=\"color: #800000; text-decoration-color: #800000\">из-под</span> <span style=\"color: #800000; text-decoration-color: #800000\">контроля,</span> и <span style=\"color: #800000; text-decoration-color: #800000\">катастрофа</span> <span style=\"color: #800000; text-decoration-color: #800000\">станет</span> <span style=\"color: #800000; text-decoration-color: #800000\">неизбежной.</span> <span style=\"color: #800000; text-decoration-color: #800000\">Каждое</span> <span style=\"color: #800000; text-decoration-color: #800000\">промедление</span> \n",
       "<span style=\"color: #800000; text-decoration-color: #800000\">увеличивает</span> <span style=\"color: #800000; text-decoration-color: #800000\">риск</span> <span style=\"color: #800000; text-decoration-color: #800000\">для</span> <span style=\"color: #800000; text-decoration-color: #800000\">вас</span> и <span style=\"color: #800000; text-decoration-color: #800000\">ваших</span> <span style=\"color: #800000; text-decoration-color: #800000\">близких.</span>\n",
       "</pre>\n"
      ],
      "text/plain": [
       "\u001b[32mТекст \u001b[0m\u001b[1;32m2\u001b[0m\u001b[32m:\u001b[0m \u001b[31mНаводнение,\u001b[0m \u001b[31mобрушившееся\u001b[0m \u001b[31mна\u001b[0m \u001b[31mрегион,\u001b[0m \u001b[31mуже\u001b[0m \u001b[31mунесло\u001b[0m \u001b[31mнесколько\u001b[0m \u001b[31mжизней\u001b[0m и \u001b[31mразрушило\u001b[0m \u001b[31mсотни\u001b[0m \u001b[31mдомов.\u001b[0m Если не \n",
       "предпринять срочные меры, \u001b[31mситуация\u001b[0m \u001b[31mможет\u001b[0m \u001b[31mвыйти\u001b[0m \u001b[31mиз-под\u001b[0m \u001b[31mконтроля,\u001b[0m и \u001b[31mкатастрофа\u001b[0m \u001b[31mстанет\u001b[0m \u001b[31mнеизбежной.\u001b[0m \u001b[31mКаждое\u001b[0m \u001b[31mпромедление\u001b[0m \n",
       "\u001b[31mувеличивает\u001b[0m \u001b[31mриск\u001b[0m \u001b[31mдля\u001b[0m \u001b[31mвас\u001b[0m и \u001b[31mваших\u001b[0m \u001b[31mблизких.\u001b[0m\n"
      ]
     },
     "metadata": {},
     "output_type": "display_data"
    },
    {
     "data": {
      "text/html": [
       "<pre style=\"white-space:pre;overflow-x:auto;line-height:normal;font-family:Menlo,'DejaVu Sans Mono',consolas,'Courier New',monospace\">\n",
       "<span style=\"font-weight: bold\">Пара текстов (</span><span style=\"color: #008080; text-decoration-color: #008080; font-weight: bold\">11</span><span style=\"font-weight: bold\">, </span><span style=\"color: #008080; text-decoration-color: #008080; font-weight: bold\">14</span><span style=\"font-weight: bold\">) с коэффициентом схожести </span><span style=\"color: #008080; text-decoration-color: #008080; font-weight: bold\">0.04</span><span style=\"font-weight: bold\">:</span>\n",
       "</pre>\n"
      ],
      "text/plain": [
       "\n",
       "\u001b[1mПара текстов \u001b[0m\u001b[1m(\u001b[0m\u001b[1;36m11\u001b[0m\u001b[1m, \u001b[0m\u001b[1;36m14\u001b[0m\u001b[1m)\u001b[0m\u001b[1m с коэффициентом схожести \u001b[0m\u001b[1;36m0.04\u001b[0m\u001b[1m:\u001b[0m\n"
      ]
     },
     "metadata": {},
     "output_type": "display_data"
    },
    {
     "data": {
      "text/html": [
       "<pre style=\"white-space:pre;overflow-x:auto;line-height:normal;font-family:Menlo,'DejaVu Sans Mono',consolas,'Courier New',monospace\"><span style=\"color: #000080; text-decoration-color: #000080\">Текст </span><span style=\"color: #000080; text-decoration-color: #000080; font-weight: bold\">1</span><span style=\"color: #000080; text-decoration-color: #000080\">:</span> <span style=\"color: #800000; text-decoration-color: #800000\">Уровень</span> воды в реках <span style=\"color: #800000; text-decoration-color: #800000\">продолжает</span> <span style=\"color: #800000; text-decoration-color: #800000\">расти,</span> и <span style=\"color: #800000; text-decoration-color: #800000\">эксперты</span> <span style=\"color: #800000; text-decoration-color: #800000\">предупреждают:</span> <span style=\"color: #800000; text-decoration-color: #800000\">в</span> <span style=\"color: #800000; text-decoration-color: #800000\">ближайшие</span> <span style=\"color: #800000; text-decoration-color: #800000\">дни</span> <span style=\"color: #800000; text-decoration-color: #800000\">наводнение</span> может стать \n",
       "<span style=\"color: #800000; text-decoration-color: #800000\">ещё</span> <span style=\"color: #800000; text-decoration-color: #800000\">более</span> <span style=\"color: #800000; text-decoration-color: #800000\">масштабным</span> <span style=\"color: #800000; text-decoration-color: #800000\">и</span> <span style=\"color: #800000; text-decoration-color: #800000\">уничтожить</span> <span style=\"color: #800000; text-decoration-color: #800000\">несколько</span> <span style=\"color: #800000; text-decoration-color: #800000\">населённых</span> <span style=\"color: #800000; text-decoration-color: #800000\">пунктов.</span> <span style=\"color: #800000; text-decoration-color: #800000\">Если</span> <span style=\"color: #800000; text-decoration-color: #800000\">не</span> <span style=\"color: #800000; text-decoration-color: #800000\">предпринять</span> <span style=\"color: #800000; text-decoration-color: #800000\">срочные</span> <span style=\"color: #800000; text-decoration-color: #800000\">меры,</span> <span style=\"color: #800000; text-decoration-color: #800000\">ваши</span> <span style=\"color: #800000; text-decoration-color: #800000\">дома</span> <span style=\"color: #800000; text-decoration-color: #800000\">и</span> <span style=\"color: #800000; text-decoration-color: #800000\">жизни</span>\n",
       "<span style=\"color: #800000; text-decoration-color: #800000\">окажутся</span> <span style=\"color: #800000; text-decoration-color: #800000\">под</span> <span style=\"color: #800000; text-decoration-color: #800000\">угрозой.</span> <span style=\"color: #800000; text-decoration-color: #800000\">Прогнозы</span> <span style=\"color: #800000; text-decoration-color: #800000\">неутешительны,</span> <span style=\"color: #800000; text-decoration-color: #800000\">и</span> <span style=\"color: #800000; text-decoration-color: #800000\">последствия</span> <span style=\"color: #800000; text-decoration-color: #800000\">могут</span> <span style=\"color: #800000; text-decoration-color: #800000\">быть</span> <span style=\"color: #800000; text-decoration-color: #800000\">катастрофическими.</span>\n",
       "</pre>\n"
      ],
      "text/plain": [
       "\u001b[34mТекст \u001b[0m\u001b[1;34m1\u001b[0m\u001b[34m:\u001b[0m \u001b[31mУровень\u001b[0m воды в реках \u001b[31mпродолжает\u001b[0m \u001b[31mрасти,\u001b[0m и \u001b[31mэксперты\u001b[0m \u001b[31mпредупреждают:\u001b[0m \u001b[31mв\u001b[0m \u001b[31mближайшие\u001b[0m \u001b[31mдни\u001b[0m \u001b[31mнаводнение\u001b[0m может стать \n",
       "\u001b[31mещё\u001b[0m \u001b[31mболее\u001b[0m \u001b[31mмасштабным\u001b[0m \u001b[31mи\u001b[0m \u001b[31mуничтожить\u001b[0m \u001b[31mнесколько\u001b[0m \u001b[31mнаселённых\u001b[0m \u001b[31mпунктов.\u001b[0m \u001b[31mЕсли\u001b[0m \u001b[31mне\u001b[0m \u001b[31mпредпринять\u001b[0m \u001b[31mсрочные\u001b[0m \u001b[31mмеры,\u001b[0m \u001b[31mваши\u001b[0m \u001b[31mдома\u001b[0m \u001b[31mи\u001b[0m \u001b[31mжизни\u001b[0m\n",
       "\u001b[31mокажутся\u001b[0m \u001b[31mпод\u001b[0m \u001b[31mугрозой.\u001b[0m \u001b[31mПрогнозы\u001b[0m \u001b[31mнеутешительны,\u001b[0m \u001b[31mи\u001b[0m \u001b[31mпоследствия\u001b[0m \u001b[31mмогут\u001b[0m \u001b[31mбыть\u001b[0m \u001b[31mкатастрофическими.\u001b[0m\n"
      ]
     },
     "metadata": {},
     "output_type": "display_data"
    },
    {
     "data": {
      "text/html": [
       "<pre style=\"white-space:pre;overflow-x:auto;line-height:normal;font-family:Menlo,'DejaVu Sans Mono',consolas,'Courier New',monospace\"><span style=\"color: #008000; text-decoration-color: #008000\">Текст </span><span style=\"color: #008000; text-decoration-color: #008000; font-weight: bold\">2</span><span style=\"color: #008000; text-decoration-color: #008000\">:</span> <span style=\"color: #800000; text-decoration-color: #800000\">Из-за</span> <span style=\"color: #800000; text-decoration-color: #800000\">непрекращающихся</span> <span style=\"color: #800000; text-decoration-color: #800000\">ливней</span> <span style=\"color: #800000; text-decoration-color: #800000\">уровень</span> воды в реках <span style=\"color: #800000; text-decoration-color: #800000\">достиг</span> <span style=\"color: #800000; text-decoration-color: #800000\">критической</span> <span style=\"color: #800000; text-decoration-color: #800000\">отметки.</span> <span style=\"color: #800000; text-decoration-color: #800000\">Экономические</span> <span style=\"color: #800000; text-decoration-color: #800000\">потери</span> <span style=\"color: #800000; text-decoration-color: #800000\">могут</span> \n",
       "<span style=\"color: #800000; text-decoration-color: #800000\">стать</span> <span style=\"color: #800000; text-decoration-color: #800000\">катастрофическими:</span> <span style=\"color: #800000; text-decoration-color: #800000\">затопление</span> <span style=\"color: #800000; text-decoration-color: #800000\">угрожает</span> <span style=\"color: #800000; text-decoration-color: #800000\">домам</span> и <span style=\"color: #800000; text-decoration-color: #800000\">предприятиям,</span> <span style=\"color: #800000; text-decoration-color: #800000\">лишая</span> <span style=\"color: #800000; text-decoration-color: #800000\">тысячи</span> <span style=\"color: #800000; text-decoration-color: #800000\">людей</span> <span style=\"color: #800000; text-decoration-color: #800000\">средств</span> <span style=\"color: #800000; text-decoration-color: #800000\">к</span> <span style=\"color: #800000; text-decoration-color: #800000\">существованию.</span> <span style=\"color: #800000; text-decoration-color: #800000\">Если</span>\n",
       "<span style=\"color: #800000; text-decoration-color: #800000\">не</span> <span style=\"color: #800000; text-decoration-color: #800000\">принять</span> <span style=\"color: #800000; text-decoration-color: #800000\">меры,</span> <span style=\"color: #800000; text-decoration-color: #800000\">ущерб</span> может стать <span style=\"color: #800000; text-decoration-color: #800000\">необратимым.</span>\n",
       "</pre>\n"
      ],
      "text/plain": [
       "\u001b[32mТекст \u001b[0m\u001b[1;32m2\u001b[0m\u001b[32m:\u001b[0m \u001b[31mИз-за\u001b[0m \u001b[31mнепрекращающихся\u001b[0m \u001b[31mливней\u001b[0m \u001b[31mуровень\u001b[0m воды в реках \u001b[31mдостиг\u001b[0m \u001b[31mкритической\u001b[0m \u001b[31mотметки.\u001b[0m \u001b[31mЭкономические\u001b[0m \u001b[31mпотери\u001b[0m \u001b[31mмогут\u001b[0m \n",
       "\u001b[31mстать\u001b[0m \u001b[31mкатастрофическими:\u001b[0m \u001b[31mзатопление\u001b[0m \u001b[31mугрожает\u001b[0m \u001b[31mдомам\u001b[0m и \u001b[31mпредприятиям,\u001b[0m \u001b[31mлишая\u001b[0m \u001b[31mтысячи\u001b[0m \u001b[31mлюдей\u001b[0m \u001b[31mсредств\u001b[0m \u001b[31mк\u001b[0m \u001b[31mсуществованию.\u001b[0m \u001b[31mЕсли\u001b[0m\n",
       "\u001b[31mне\u001b[0m \u001b[31mпринять\u001b[0m \u001b[31mмеры,\u001b[0m \u001b[31mущерб\u001b[0m может стать \u001b[31mнеобратимым.\u001b[0m\n"
      ]
     },
     "metadata": {},
     "output_type": "display_data"
    },
    {
     "data": {
      "text/html": [
       "<pre style=\"white-space:pre;overflow-x:auto;line-height:normal;font-family:Menlo,'DejaVu Sans Mono',consolas,'Courier New',monospace\">\n",
       "<span style=\"font-weight: bold\">Пара текстов (</span><span style=\"color: #008080; text-decoration-color: #008080; font-weight: bold\">1</span><span style=\"font-weight: bold\">, </span><span style=\"color: #008080; text-decoration-color: #008080; font-weight: bold\">10</span><span style=\"font-weight: bold\">) с коэффициентом схожести </span><span style=\"color: #008080; text-decoration-color: #008080; font-weight: bold\">0.04</span><span style=\"font-weight: bold\">:</span>\n",
       "</pre>\n"
      ],
      "text/plain": [
       "\n",
       "\u001b[1mПара текстов \u001b[0m\u001b[1m(\u001b[0m\u001b[1;36m1\u001b[0m\u001b[1m, \u001b[0m\u001b[1;36m10\u001b[0m\u001b[1m)\u001b[0m\u001b[1m с коэффициентом схожести \u001b[0m\u001b[1;36m0.04\u001b[0m\u001b[1m:\u001b[0m\n"
      ]
     },
     "metadata": {},
     "output_type": "display_data"
    },
    {
     "data": {
      "text/html": [
       "<pre style=\"white-space:pre;overflow-x:auto;line-height:normal;font-family:Menlo,'DejaVu Sans Mono',consolas,'Courier New',monospace\"><span style=\"color: #000080; text-decoration-color: #000080\">Текст </span><span style=\"color: #000080; text-decoration-color: #000080; font-weight: bold\">1</span><span style=\"color: #000080; text-decoration-color: #000080\">:</span> <span style=\"color: #800000; text-decoration-color: #800000\">Обрушившаеся</span> <span style=\"color: #800000; text-decoration-color: #800000\">на</span> <span style=\"color: #800000; text-decoration-color: #800000\">регион</span> <span style=\"color: #800000; text-decoration-color: #800000\">наводнение,</span> <span style=\"color: #800000; text-decoration-color: #800000\">несет</span> <span style=\"color: #800000; text-decoration-color: #800000\">в</span> <span style=\"color: #800000; text-decoration-color: #800000\">себе</span> <span style=\"color: #800000; text-decoration-color: #800000\">угрозу</span> <span style=\"color: #800000; text-decoration-color: #800000\">разрушения</span> <span style=\"color: #800000; text-decoration-color: #800000\">домов</span> и <span style=\"color: #800000; text-decoration-color: #800000\">потери</span> <span style=\"color: #800000; text-decoration-color: #800000\">имущества.</span> <span style=\"color: #800000; text-decoration-color: #800000\">Синоптики</span> \n",
       "<span style=\"color: #800000; text-decoration-color: #800000\">предупреждают:</span> <span style=\"color: #800000; text-decoration-color: #800000\">если</span> <span style=\"color: #800000; text-decoration-color: #800000\">не</span> <span style=\"color: #800000; text-decoration-color: #800000\">предпринять</span> <span style=\"color: #800000; text-decoration-color: #800000\">срочные</span> <span style=\"color: #800000; text-decoration-color: #800000\">меры,</span> <span style=\"color: #800000; text-decoration-color: #800000\">последствия</span> <span style=\"color: #800000; text-decoration-color: #800000\">могут</span> <span style=\"color: #800000; text-decoration-color: #800000\">быть</span> <span style=\"color: #800000; text-decoration-color: #800000\">катастрофическими.</span> <span style=\"color: #800000; text-decoration-color: #800000\">Каждый</span> <span style=\"color: #800000; text-decoration-color: #800000\">день</span> <span style=\"color: #800000; text-decoration-color: #800000\">промедления</span> \n",
       "<span style=\"color: #800000; text-decoration-color: #800000\">увеличивает</span> <span style=\"color: #800000; text-decoration-color: #800000\">риск</span> <span style=\"color: #800000; text-decoration-color: #800000\">непоправимых</span> <span style=\"color: #800000; text-decoration-color: #800000\">потерь.</span>\n",
       "</pre>\n"
      ],
      "text/plain": [
       "\u001b[34mТекст \u001b[0m\u001b[1;34m1\u001b[0m\u001b[34m:\u001b[0m \u001b[31mОбрушившаеся\u001b[0m \u001b[31mна\u001b[0m \u001b[31mрегион\u001b[0m \u001b[31mнаводнение,\u001b[0m \u001b[31mнесет\u001b[0m \u001b[31mв\u001b[0m \u001b[31mсебе\u001b[0m \u001b[31mугрозу\u001b[0m \u001b[31mразрушения\u001b[0m \u001b[31mдомов\u001b[0m и \u001b[31mпотери\u001b[0m \u001b[31mимущества.\u001b[0m \u001b[31mСиноптики\u001b[0m \n",
       "\u001b[31mпредупреждают:\u001b[0m \u001b[31mесли\u001b[0m \u001b[31mне\u001b[0m \u001b[31mпредпринять\u001b[0m \u001b[31mсрочные\u001b[0m \u001b[31mмеры,\u001b[0m \u001b[31mпоследствия\u001b[0m \u001b[31mмогут\u001b[0m \u001b[31mбыть\u001b[0m \u001b[31mкатастрофическими.\u001b[0m \u001b[31mКаждый\u001b[0m \u001b[31mдень\u001b[0m \u001b[31mпромедления\u001b[0m \n",
       "\u001b[31mувеличивает\u001b[0m \u001b[31mриск\u001b[0m \u001b[31mнепоправимых\u001b[0m \u001b[31mпотерь.\u001b[0m\n"
      ]
     },
     "metadata": {},
     "output_type": "display_data"
    },
    {
     "data": {
      "text/html": [
       "<pre style=\"white-space:pre;overflow-x:auto;line-height:normal;font-family:Menlo,'DejaVu Sans Mono',consolas,'Courier New',monospace\"><span style=\"color: #008000; text-decoration-color: #008000\">Текст </span><span style=\"color: #008000; text-decoration-color: #008000; font-weight: bold\">2</span><span style=\"color: #008000; text-decoration-color: #008000\">:</span> <span style=\"color: #800000; text-decoration-color: #800000\">Из-за</span> <span style=\"color: #800000; text-decoration-color: #800000\">увеличения</span> <span style=\"color: #800000; text-decoration-color: #800000\">числа</span> <span style=\"color: #800000; text-decoration-color: #800000\">наводнений,</span> <span style=\"color: #800000; text-decoration-color: #800000\">вызванных</span> <span style=\"color: #800000; text-decoration-color: #800000\">изменением</span> <span style=\"color: #800000; text-decoration-color: #800000\">климата,</span> <span style=\"color: #800000; text-decoration-color: #800000\">наиболее</span> <span style=\"color: #800000; text-decoration-color: #800000\">уязвимые</span> <span style=\"color: #800000; text-decoration-color: #800000\">слои</span> <span style=\"color: #800000; text-decoration-color: #800000\">населения</span> \n",
       "<span style=\"color: #800000; text-decoration-color: #800000\">оказываются</span> <span style=\"color: #800000; text-decoration-color: #800000\">под</span> <span style=\"color: #800000; text-decoration-color: #800000\">угрозой.</span> <span style=\"color: #800000; text-decoration-color: #800000\">Без</span> <span style=\"color: #800000; text-decoration-color: #800000\">своевременных</span> <span style=\"color: #800000; text-decoration-color: #800000\">мер</span> <span style=\"color: #800000; text-decoration-color: #800000\">ситуация</span> <span style=\"color: #800000; text-decoration-color: #800000\">может</span> <span style=\"color: #800000; text-decoration-color: #800000\">усугубиться,</span> и <span style=\"color: #800000; text-decoration-color: #800000\">бедные</span> <span style=\"color: #800000; text-decoration-color: #800000\">районы</span> <span style=\"color: #800000; text-decoration-color: #800000\">пострадают</span> <span style=\"color: #800000; text-decoration-color: #800000\">больше</span> <span style=\"color: #800000; text-decoration-color: #800000\">всего,</span>\n",
       "<span style=\"color: #800000; text-decoration-color: #800000\">оставляя</span> <span style=\"color: #800000; text-decoration-color: #800000\">тысячи</span> <span style=\"color: #800000; text-decoration-color: #800000\">людей</span> <span style=\"color: #800000; text-decoration-color: #800000\">без</span> <span style=\"color: #800000; text-decoration-color: #800000\">крова</span> <span style=\"color: #800000; text-decoration-color: #800000\">и</span> <span style=\"color: #800000; text-decoration-color: #800000\">средств</span> <span style=\"color: #800000; text-decoration-color: #800000\">к</span> <span style=\"color: #800000; text-decoration-color: #800000\">существованию.</span>\n",
       "</pre>\n"
      ],
      "text/plain": [
       "\u001b[32mТекст \u001b[0m\u001b[1;32m2\u001b[0m\u001b[32m:\u001b[0m \u001b[31mИз-за\u001b[0m \u001b[31mувеличения\u001b[0m \u001b[31mчисла\u001b[0m \u001b[31mнаводнений,\u001b[0m \u001b[31mвызванных\u001b[0m \u001b[31mизменением\u001b[0m \u001b[31mклимата,\u001b[0m \u001b[31mнаиболее\u001b[0m \u001b[31mуязвимые\u001b[0m \u001b[31mслои\u001b[0m \u001b[31mнаселения\u001b[0m \n",
       "\u001b[31mоказываются\u001b[0m \u001b[31mпод\u001b[0m \u001b[31mугрозой.\u001b[0m \u001b[31mБез\u001b[0m \u001b[31mсвоевременных\u001b[0m \u001b[31mмер\u001b[0m \u001b[31mситуация\u001b[0m \u001b[31mможет\u001b[0m \u001b[31mусугубиться,\u001b[0m и \u001b[31mбедные\u001b[0m \u001b[31mрайоны\u001b[0m \u001b[31mпострадают\u001b[0m \u001b[31mбольше\u001b[0m \u001b[31mвсего,\u001b[0m\n",
       "\u001b[31mоставляя\u001b[0m \u001b[31mтысячи\u001b[0m \u001b[31mлюдей\u001b[0m \u001b[31mбез\u001b[0m \u001b[31mкрова\u001b[0m \u001b[31mи\u001b[0m \u001b[31mсредств\u001b[0m \u001b[31mк\u001b[0m \u001b[31mсуществованию.\u001b[0m\n"
      ]
     },
     "metadata": {},
     "output_type": "display_data"
    },
    {
     "data": {
      "text/html": [
       "<pre style=\"white-space:pre;overflow-x:auto;line-height:normal;font-family:Menlo,'DejaVu Sans Mono',consolas,'Courier New',monospace\">\n",
       "<span style=\"font-weight: bold\">Пара текстов (</span><span style=\"color: #008080; text-decoration-color: #008080; font-weight: bold\">7</span><span style=\"font-weight: bold\">, </span><span style=\"color: #008080; text-decoration-color: #008080; font-weight: bold\">14</span><span style=\"font-weight: bold\">) с коэффициентом схожести </span><span style=\"color: #008080; text-decoration-color: #008080; font-weight: bold\">0.04</span><span style=\"font-weight: bold\">:</span>\n",
       "</pre>\n"
      ],
      "text/plain": [
       "\n",
       "\u001b[1mПара текстов \u001b[0m\u001b[1m(\u001b[0m\u001b[1;36m7\u001b[0m\u001b[1m, \u001b[0m\u001b[1;36m14\u001b[0m\u001b[1m)\u001b[0m\u001b[1m с коэффициентом схожести \u001b[0m\u001b[1;36m0.04\u001b[0m\u001b[1m:\u001b[0m\n"
      ]
     },
     "metadata": {},
     "output_type": "display_data"
    },
    {
     "data": {
      "text/html": [
       "<pre style=\"white-space:pre;overflow-x:auto;line-height:normal;font-family:Menlo,'DejaVu Sans Mono',consolas,'Courier New',monospace\"><span style=\"color: #000080; text-decoration-color: #000080\">Текст </span><span style=\"color: #000080; text-decoration-color: #000080; font-weight: bold\">1</span><span style=\"color: #000080; text-decoration-color: #000080\">:</span> Из-за <span style=\"color: #800000; text-decoration-color: #800000\">участившихся</span> <span style=\"color: #800000; text-decoration-color: #800000\">наводнений,</span> <span style=\"color: #800000; text-decoration-color: #800000\">которые</span> <span style=\"color: #800000; text-decoration-color: #800000\">угрожают</span> <span style=\"color: #800000; text-decoration-color: #800000\">нашим</span> <span style=\"color: #800000; text-decoration-color: #800000\">городам,</span> <span style=\"color: #800000; text-decoration-color: #800000\">каждый</span> <span style=\"color: #800000; text-decoration-color: #800000\">житель</span> <span style=\"color: #800000; text-decoration-color: #800000\">может</span> <span style=\"color: #800000; text-decoration-color: #800000\">оказаться</span> в <span style=\"color: #800000; text-decoration-color: #800000\">опасности.</span> \n",
       "Если не <span style=\"color: #800000; text-decoration-color: #800000\">предпринять</span> меры, <span style=\"color: #800000; text-decoration-color: #800000\">тысячи</span> <span style=\"color: #800000; text-decoration-color: #800000\">людей</span> <span style=\"color: #800000; text-decoration-color: #800000\">рискуют</span> <span style=\"color: #800000; text-decoration-color: #800000\">потерять</span> <span style=\"color: #800000; text-decoration-color: #800000\">свои</span> <span style=\"color: #800000; text-decoration-color: #800000\">дома</span> <span style=\"color: #800000; text-decoration-color: #800000\">и</span> <span style=\"color: #800000; text-decoration-color: #800000\">жизни.</span> <span style=\"color: #800000; text-decoration-color: #800000\">Сегодня</span> <span style=\"color: #800000; text-decoration-color: #800000\">это</span> <span style=\"color: #800000; text-decoration-color: #800000\">лишь</span> <span style=\"color: #800000; text-decoration-color: #800000\">предупреждение,</span> <span style=\"color: #800000; text-decoration-color: #800000\">но</span> \n",
       "<span style=\"color: #800000; text-decoration-color: #800000\">завтра</span> <span style=\"color: #800000; text-decoration-color: #800000\">бедствие</span> может стать <span style=\"color: #800000; text-decoration-color: #800000\">реальностью.</span>\n",
       "</pre>\n"
      ],
      "text/plain": [
       "\u001b[34mТекст \u001b[0m\u001b[1;34m1\u001b[0m\u001b[34m:\u001b[0m Из-за \u001b[31mучастившихся\u001b[0m \u001b[31mнаводнений,\u001b[0m \u001b[31mкоторые\u001b[0m \u001b[31mугрожают\u001b[0m \u001b[31mнашим\u001b[0m \u001b[31mгородам,\u001b[0m \u001b[31mкаждый\u001b[0m \u001b[31mжитель\u001b[0m \u001b[31mможет\u001b[0m \u001b[31mоказаться\u001b[0m в \u001b[31mопасности.\u001b[0m \n",
       "Если не \u001b[31mпредпринять\u001b[0m меры, \u001b[31mтысячи\u001b[0m \u001b[31mлюдей\u001b[0m \u001b[31mрискуют\u001b[0m \u001b[31mпотерять\u001b[0m \u001b[31mсвои\u001b[0m \u001b[31mдома\u001b[0m \u001b[31mи\u001b[0m \u001b[31mжизни.\u001b[0m \u001b[31mСегодня\u001b[0m \u001b[31mэто\u001b[0m \u001b[31mлишь\u001b[0m \u001b[31mпредупреждение,\u001b[0m \u001b[31mно\u001b[0m \n",
       "\u001b[31mзавтра\u001b[0m \u001b[31mбедствие\u001b[0m может стать \u001b[31mреальностью.\u001b[0m\n"
      ]
     },
     "metadata": {},
     "output_type": "display_data"
    },
    {
     "data": {
      "text/html": [
       "<pre style=\"white-space:pre;overflow-x:auto;line-height:normal;font-family:Menlo,'DejaVu Sans Mono',consolas,'Courier New',monospace\"><span style=\"color: #008000; text-decoration-color: #008000\">Текст </span><span style=\"color: #008000; text-decoration-color: #008000; font-weight: bold\">2</span><span style=\"color: #008000; text-decoration-color: #008000\">:</span> Из-за <span style=\"color: #800000; text-decoration-color: #800000\">непрекращающихся</span> <span style=\"color: #800000; text-decoration-color: #800000\">ливней</span> <span style=\"color: #800000; text-decoration-color: #800000\">уровень</span> <span style=\"color: #800000; text-decoration-color: #800000\">воды</span> в <span style=\"color: #800000; text-decoration-color: #800000\">реках</span> <span style=\"color: #800000; text-decoration-color: #800000\">достиг</span> <span style=\"color: #800000; text-decoration-color: #800000\">критической</span> <span style=\"color: #800000; text-decoration-color: #800000\">отметки.</span> <span style=\"color: #800000; text-decoration-color: #800000\">Экономические</span> <span style=\"color: #800000; text-decoration-color: #800000\">потери</span> <span style=\"color: #800000; text-decoration-color: #800000\">могут</span> \n",
       "<span style=\"color: #800000; text-decoration-color: #800000\">стать</span> <span style=\"color: #800000; text-decoration-color: #800000\">катастрофическими:</span> <span style=\"color: #800000; text-decoration-color: #800000\">затопление</span> <span style=\"color: #800000; text-decoration-color: #800000\">угрожает</span> <span style=\"color: #800000; text-decoration-color: #800000\">домам</span> <span style=\"color: #800000; text-decoration-color: #800000\">и</span> <span style=\"color: #800000; text-decoration-color: #800000\">предприятиям,</span> <span style=\"color: #800000; text-decoration-color: #800000\">лишая</span> <span style=\"color: #800000; text-decoration-color: #800000\">тысячи</span> <span style=\"color: #800000; text-decoration-color: #800000\">людей</span> <span style=\"color: #800000; text-decoration-color: #800000\">средств</span> <span style=\"color: #800000; text-decoration-color: #800000\">к</span> <span style=\"color: #800000; text-decoration-color: #800000\">существованию.</span> Если\n",
       "не <span style=\"color: #800000; text-decoration-color: #800000\">принять</span> меры, <span style=\"color: #800000; text-decoration-color: #800000\">ущерб</span> может стать <span style=\"color: #800000; text-decoration-color: #800000\">необратимым.</span>\n",
       "</pre>\n"
      ],
      "text/plain": [
       "\u001b[32mТекст \u001b[0m\u001b[1;32m2\u001b[0m\u001b[32m:\u001b[0m Из-за \u001b[31mнепрекращающихся\u001b[0m \u001b[31mливней\u001b[0m \u001b[31mуровень\u001b[0m \u001b[31mводы\u001b[0m в \u001b[31mреках\u001b[0m \u001b[31mдостиг\u001b[0m \u001b[31mкритической\u001b[0m \u001b[31mотметки.\u001b[0m \u001b[31mЭкономические\u001b[0m \u001b[31mпотери\u001b[0m \u001b[31mмогут\u001b[0m \n",
       "\u001b[31mстать\u001b[0m \u001b[31mкатастрофическими:\u001b[0m \u001b[31mзатопление\u001b[0m \u001b[31mугрожает\u001b[0m \u001b[31mдомам\u001b[0m \u001b[31mи\u001b[0m \u001b[31mпредприятиям,\u001b[0m \u001b[31mлишая\u001b[0m \u001b[31mтысячи\u001b[0m \u001b[31mлюдей\u001b[0m \u001b[31mсредств\u001b[0m \u001b[31mк\u001b[0m \u001b[31mсуществованию.\u001b[0m Если\n",
       "не \u001b[31mпринять\u001b[0m меры, \u001b[31mущерб\u001b[0m может стать \u001b[31mнеобратимым.\u001b[0m\n"
      ]
     },
     "metadata": {},
     "output_type": "display_data"
    }
   ],
   "source": [
    "import pandas as pd\n",
    "from difflib import SequenceMatcher, Differ\n",
    "from rich.console import Console\n",
    "from rich.markup import escape\n",
    "\n",
    "# Инициализация консоли Rich\n",
    "console = Console()\n",
    "\n",
    "# Загрузка текстов из файла\n",
    "file_path = \"prefin_fear.csv\"\n",
    "df = pd.read_csv(file_path)\n",
    "\n",
    "# Проверка наличия столбца 'news'\n",
    "if 'news' not in df.columns:\n",
    "    raise ValueError(\"Файл должен содержать столбец 'news'.\")\n",
    "\n",
    "texts = df['news'].dropna().tolist()\n",
    "\n",
    "# Функция для расчета схожести между текстами\n",
    "def calculate_similarity(text1, text2):\n",
    "    return SequenceMatcher(None, text1, text2).ratio()\n",
    "\n",
    "# Функция для выделения различий между текстами\n",
    "def highlight_differences(text1, text2):\n",
    "    differ = Differ()\n",
    "    diff = list(differ.compare(text1.split(), text2.split()))\n",
    "    highlighted_text1 = []\n",
    "    highlighted_text2 = []\n",
    "\n",
    "    for token in diff:\n",
    "        if token.startswith(\"  \"):  # Общая часть\n",
    "            highlighted_text1.append(escape(token[2:]))\n",
    "            highlighted_text2.append(escape(token[2:]))\n",
    "        elif token.startswith(\"- \"):  # Уникальная часть text1\n",
    "            highlighted_text1.append(f\"[red]{escape(token[2:])}[/red]\")\n",
    "        elif token.startswith(\"+ \"):  # Уникальная часть text2\n",
    "            highlighted_text2.append(f\"[red]{escape(token[2:])}[/red]\")\n",
    "\n",
    "    return \" \".join(highlighted_text1), \" \".join(highlighted_text2)\n",
    "\n",
    "# Сравнение всех текстов попарно\n",
    "n = len(texts)\n",
    "similarity_results = []\n",
    "\n",
    "for i in range(n):\n",
    "    for j in range(i + 1, n):\n",
    "        similarity = calculate_similarity(texts[i], texts[j])\n",
    "        similarity_results.append((i, j, similarity))\n",
    "\n",
    "# Отбор наиболее схожих пар\n",
    "similarity_results = sorted(similarity_results, key=lambda x: x[2], reverse=True)\n",
    "top_similar_pairs = similarity_results[:50]  # Топ-30 самых похожих пар\n",
    "\n",
    "# Отображение результатов\n",
    "console.print(\"[bold]Наиболее похожие тексты:[/bold]\")\n",
    "for i, j, similarity in top_similar_pairs:\n",
    "    console.print(f\"\\n[bold]Пара текстов ({i+1}, {j+1}) с коэффициентом схожести {similarity:.2f}:[/bold]\")\n",
    "    highlighted_text1, highlighted_text2 = highlight_differences(texts[i], texts[j])\n",
    "    console.print(f\"[blue]Текст 1:[/blue] {highlighted_text1}\")\n",
    "    console.print(f\"[green]Текст 2:[/green] {highlighted_text2}\")\n"
   ]
  },
  {
   "cell_type": "code",
   "execution_count": 22,
   "id": "b90b86d3-f9a7-4437-b2a1-d10dfd8b12f3",
   "metadata": {},
   "outputs": [
    {
     "name": "stdout",
     "output_type": "stream",
     "text": [
      "Файл успешно обработан и сохранен как blockX.csv_combined.csv\n"
     ]
    }
   ],
   "source": [
    "import pandas as pd\n",
    "\n",
    "# Загрузка данных из файла\n",
    "file_name = \"blockX.csv\"\n",
    "df = pd.read_csv(file_name)\n",
    "\n",
    "# Проверка наличия необходимых столбцов\n",
    "required_columns = ['number_block', 'number_fact', 'name_topic']\n",
    "if all(column in df.columns for column in required_columns):\n",
    "    # Создание нового столбца с объединением данных через \"_\"\n",
    "    df['combined'] = df['number_block'].astype(str) + '_' + df['number_fact'].astype(str) + '_' + df['name_topic'].astype(str)\n",
    "    \n",
    "    # Сохранение результатов в новый файл (если нужно)\n",
    "    output_file = \"blockX.csv_combined.csv\"\n",
    "    df.to_csv(output_file, index=False)\n",
    "    print(f\"Файл успешно обработан и сохранен как {output_file}\")\n",
    "else:\n",
    "    print(f\"Отсутствуют необходимые столбцы: {set(required_columns) - set(df.columns)}\")\n"
   ]
  },
  {
   "cell_type": "code",
   "execution_count": 157,
   "id": "c067cdb0-7a5b-45fd-969e-8f27d414154e",
   "metadata": {},
   "outputs": [
    {
     "ename": "UFuncTypeError",
     "evalue": "ufunc 'add' did not contain a loop with signature matching types (dtype('float64'), dtype('<U1')) -> None",
     "output_type": "error",
     "traceback": [
      "\u001b[0;31m---------------------------------------------------------------------------\u001b[0m",
      "\u001b[0;31mUFuncTypeError\u001b[0m                            Traceback (most recent call last)",
      "Cell \u001b[0;32mIn[157], line 8\u001b[0m\n\u001b[1;32m      5\u001b[0m df \u001b[38;5;241m=\u001b[39m pd\u001b[38;5;241m.\u001b[39mread_csv(file_path)\n\u001b[1;32m      7\u001b[0m \u001b[38;5;66;03m# Создаем новый столбец, объединяя значения из трех столбцов\u001b[39;00m\n\u001b[0;32m----> 8\u001b[0m df[\u001b[38;5;124m'\u001b[39m\u001b[38;5;124mНазвание\u001b[39m\u001b[38;5;124m'\u001b[39m] \u001b[38;5;241m=\u001b[39m df[\u001b[38;5;124m'\u001b[39m\u001b[38;5;124m1\u001b[39m\u001b[38;5;124m'\u001b[39m] \u001b[38;5;241m+\u001b[39m \u001b[38;5;124m'\u001b[39m\u001b[38;5;124m_\u001b[39m\u001b[38;5;124m'\u001b[39m \u001b[38;5;241m+\u001b[39m df[\u001b[38;5;124m'\u001b[39m\u001b[38;5;124m2\u001b[39m\u001b[38;5;124m'\u001b[39m] \u001b[38;5;241m+\u001b[39m \u001b[38;5;124m'\u001b[39m\u001b[38;5;124m_\u001b[39m\u001b[38;5;124m'\u001b[39m \u001b[38;5;241m+\u001b[39m df[\u001b[38;5;124m'\u001b[39m\u001b[38;5;124m3\u001b[39m\u001b[38;5;124m'\u001b[39m]\n\u001b[1;32m     10\u001b[0m \u001b[38;5;66;03m# Сохраняем результат обратно в CSV файл\u001b[39;00m\n\u001b[1;32m     11\u001b[0m output_path \u001b[38;5;241m=\u001b[39m \u001b[38;5;124m'\u001b[39m\u001b[38;5;124mblocks1.csv\u001b[39m\u001b[38;5;124m'\u001b[39m  \u001b[38;5;66;03m# Укажите путь для сохранения\u001b[39;00m\n",
      "File \u001b[0;32m/opt/anaconda3/lib/python3.11/site-packages/pandas/core/ops/common.py:76\u001b[0m, in \u001b[0;36m_unpack_zerodim_and_defer.<locals>.new_method\u001b[0;34m(self, other)\u001b[0m\n\u001b[1;32m     72\u001b[0m             \u001b[38;5;28;01mreturn\u001b[39;00m \u001b[38;5;28mNotImplemented\u001b[39m\n\u001b[1;32m     74\u001b[0m other \u001b[38;5;241m=\u001b[39m item_from_zerodim(other)\n\u001b[0;32m---> 76\u001b[0m \u001b[38;5;28;01mreturn\u001b[39;00m method(\u001b[38;5;28mself\u001b[39m, other)\n",
      "File \u001b[0;32m/opt/anaconda3/lib/python3.11/site-packages/pandas/core/arraylike.py:186\u001b[0m, in \u001b[0;36mOpsMixin.__add__\u001b[0;34m(self, other)\u001b[0m\n\u001b[1;32m     98\u001b[0m \u001b[38;5;129m@unpack_zerodim_and_defer\u001b[39m(\u001b[38;5;124m\"\u001b[39m\u001b[38;5;124m__add__\u001b[39m\u001b[38;5;124m\"\u001b[39m)\n\u001b[1;32m     99\u001b[0m \u001b[38;5;28;01mdef\u001b[39;00m \u001b[38;5;21m__add__\u001b[39m(\u001b[38;5;28mself\u001b[39m, other):\n\u001b[1;32m    100\u001b[0m \u001b[38;5;250m    \u001b[39m\u001b[38;5;124;03m\"\"\"\u001b[39;00m\n\u001b[1;32m    101\u001b[0m \u001b[38;5;124;03m    Get Addition of DataFrame and other, column-wise.\u001b[39;00m\n\u001b[1;32m    102\u001b[0m \n\u001b[0;32m   (...)\u001b[0m\n\u001b[1;32m    184\u001b[0m \u001b[38;5;124;03m    moose     3.0     NaN\u001b[39;00m\n\u001b[1;32m    185\u001b[0m \u001b[38;5;124;03m    \"\"\"\u001b[39;00m\n\u001b[0;32m--> 186\u001b[0m     \u001b[38;5;28;01mreturn\u001b[39;00m \u001b[38;5;28mself\u001b[39m\u001b[38;5;241m.\u001b[39m_arith_method(other, operator\u001b[38;5;241m.\u001b[39madd)\n",
      "File \u001b[0;32m/opt/anaconda3/lib/python3.11/site-packages/pandas/core/series.py:5819\u001b[0m, in \u001b[0;36mSeries._arith_method\u001b[0;34m(self, other, op)\u001b[0m\n\u001b[1;32m   5817\u001b[0m \u001b[38;5;28;01mdef\u001b[39;00m \u001b[38;5;21m_arith_method\u001b[39m(\u001b[38;5;28mself\u001b[39m, other, op):\n\u001b[1;32m   5818\u001b[0m     \u001b[38;5;28mself\u001b[39m, other \u001b[38;5;241m=\u001b[39m \u001b[38;5;28mself\u001b[39m\u001b[38;5;241m.\u001b[39m_align_for_op(other)\n\u001b[0;32m-> 5819\u001b[0m     \u001b[38;5;28;01mreturn\u001b[39;00m base\u001b[38;5;241m.\u001b[39mIndexOpsMixin\u001b[38;5;241m.\u001b[39m_arith_method(\u001b[38;5;28mself\u001b[39m, other, op)\n",
      "File \u001b[0;32m/opt/anaconda3/lib/python3.11/site-packages/pandas/core/base.py:1381\u001b[0m, in \u001b[0;36mIndexOpsMixin._arith_method\u001b[0;34m(self, other, op)\u001b[0m\n\u001b[1;32m   1378\u001b[0m     rvalues \u001b[38;5;241m=\u001b[39m np\u001b[38;5;241m.\u001b[39marange(rvalues\u001b[38;5;241m.\u001b[39mstart, rvalues\u001b[38;5;241m.\u001b[39mstop, rvalues\u001b[38;5;241m.\u001b[39mstep)\n\u001b[1;32m   1380\u001b[0m \u001b[38;5;28;01mwith\u001b[39;00m np\u001b[38;5;241m.\u001b[39merrstate(\u001b[38;5;28mall\u001b[39m\u001b[38;5;241m=\u001b[39m\u001b[38;5;124m\"\u001b[39m\u001b[38;5;124mignore\u001b[39m\u001b[38;5;124m\"\u001b[39m):\n\u001b[0;32m-> 1381\u001b[0m     result \u001b[38;5;241m=\u001b[39m ops\u001b[38;5;241m.\u001b[39marithmetic_op(lvalues, rvalues, op)\n\u001b[1;32m   1383\u001b[0m \u001b[38;5;28;01mreturn\u001b[39;00m \u001b[38;5;28mself\u001b[39m\u001b[38;5;241m.\u001b[39m_construct_result(result, name\u001b[38;5;241m=\u001b[39mres_name)\n",
      "File \u001b[0;32m/opt/anaconda3/lib/python3.11/site-packages/pandas/core/ops/array_ops.py:285\u001b[0m, in \u001b[0;36marithmetic_op\u001b[0;34m(left, right, op)\u001b[0m\n\u001b[1;32m    281\u001b[0m     _bool_arith_check(op, left, right)  \u001b[38;5;66;03m# type: ignore[arg-type]\u001b[39;00m\n\u001b[1;32m    283\u001b[0m     \u001b[38;5;66;03m# error: Argument 1 to \"_na_arithmetic_op\" has incompatible type\u001b[39;00m\n\u001b[1;32m    284\u001b[0m     \u001b[38;5;66;03m# \"Union[ExtensionArray, ndarray[Any, Any]]\"; expected \"ndarray[Any, Any]\"\u001b[39;00m\n\u001b[0;32m--> 285\u001b[0m     res_values \u001b[38;5;241m=\u001b[39m _na_arithmetic_op(left, right, op)  \u001b[38;5;66;03m# type: ignore[arg-type]\u001b[39;00m\n\u001b[1;32m    287\u001b[0m \u001b[38;5;28;01mreturn\u001b[39;00m res_values\n",
      "File \u001b[0;32m/opt/anaconda3/lib/python3.11/site-packages/pandas/core/ops/array_ops.py:220\u001b[0m, in \u001b[0;36m_na_arithmetic_op\u001b[0;34m(left, right, op, is_cmp)\u001b[0m\n\u001b[1;32m    217\u001b[0m     func \u001b[38;5;241m=\u001b[39m partial(expressions\u001b[38;5;241m.\u001b[39mevaluate, op)\n\u001b[1;32m    219\u001b[0m \u001b[38;5;28;01mtry\u001b[39;00m:\n\u001b[0;32m--> 220\u001b[0m     result \u001b[38;5;241m=\u001b[39m func(left, right)\n\u001b[1;32m    221\u001b[0m \u001b[38;5;28;01mexcept\u001b[39;00m \u001b[38;5;167;01mTypeError\u001b[39;00m:\n\u001b[1;32m    222\u001b[0m     \u001b[38;5;28;01mif\u001b[39;00m \u001b[38;5;129;01mnot\u001b[39;00m is_cmp \u001b[38;5;129;01mand\u001b[39;00m (\n\u001b[1;32m    223\u001b[0m         left\u001b[38;5;241m.\u001b[39mdtype \u001b[38;5;241m==\u001b[39m \u001b[38;5;28mobject\u001b[39m \u001b[38;5;129;01mor\u001b[39;00m \u001b[38;5;28mgetattr\u001b[39m(right, \u001b[38;5;124m\"\u001b[39m\u001b[38;5;124mdtype\u001b[39m\u001b[38;5;124m\"\u001b[39m, \u001b[38;5;28;01mNone\u001b[39;00m) \u001b[38;5;241m==\u001b[39m \u001b[38;5;28mobject\u001b[39m\n\u001b[1;32m    224\u001b[0m     ):\n\u001b[0;32m   (...)\u001b[0m\n\u001b[1;32m    227\u001b[0m         \u001b[38;5;66;03m# Don't do this for comparisons, as that will handle complex numbers\u001b[39;00m\n\u001b[1;32m    228\u001b[0m         \u001b[38;5;66;03m#  incorrectly, see GH#32047\u001b[39;00m\n",
      "\u001b[0;31mUFuncTypeError\u001b[0m: ufunc 'add' did not contain a loop with signature matching types (dtype('float64'), dtype('<U1')) -> None"
     ]
    }
   ],
   "source": [
    "import pandas as pd\n",
    "\n",
    "# Чтение данных из CSV файла\n",
    "file_path = 'blocks.csv'  # Укажите путь к вашему CSV файлу\n",
    "df = pd.read_csv(file_path)\n",
    "\n",
    "# Создаем новый столбец, объединяя значения из трех столбцов\n",
    "df['Название'] = df['1'] + '_' + df['2'] + '_' + df['3']\n",
    "\n",
    "# Сохраняем результат обратно в CSV файл\n",
    "output_path = 'blocks1.csv'  # Укажите путь для сохранения\n",
    "df.to_csv(output_path, index=False)\n",
    "\n",
    "print(f\"Обработанный файл сохранен как {output_path}\")\n"
   ]
  },
  {
   "cell_type": "code",
   "execution_count": 159,
   "id": "60a11a40-3e09-4c2c-8814-c082d7a770b0",
   "metadata": {},
   "outputs": [
    {
     "name": "stdout",
     "output_type": "stream",
     "text": [
      "Обработанный файл сохранен как blocks1.csv\n"
     ]
    }
   ],
   "source": [
    "import pandas as pd\n",
    "\n",
    "# Чтение данных из CSV файла\n",
    "file_path = 'blocks.csv'  # Укажите путь к вашему CSV файлу\n",
    "df = pd.read_csv(file_path)\n",
    "\n",
    "# Преобразование значений в строковый тип и создание нового столбца\n",
    "df['Название'] = df['1'].astype(str) + '_' + df['2'].astype(str) + '_' + df['3'].astype(str)\n",
    "\n",
    "# Сохранение результата в новый файл\n",
    "output_path = 'blocks1.csv'  # Укажите путь для сохранения\n",
    "df.to_csv(output_path, index=False)\n",
    "\n",
    "print(f\"Обработанный файл сохранен как {output_path}\")\n"
   ]
  },
  {
   "cell_type": "code",
   "execution_count": 169,
   "id": "4339d87c-8a3b-4ad8-bd7c-17cba6fe70c4",
   "metadata": {},
   "outputs": [
    {
     "ename": "FileNotFoundError",
     "evalue": "[Errno 2] No such file or directory: '/Users/macuser/фейкньюс/block1/1_euph_risk.png'",
     "output_type": "error",
     "traceback": [
      "\u001b[0;31m---------------------------------------------------------------------------\u001b[0m",
      "\u001b[0;31mFileNotFoundError\u001b[0m                         Traceback (most recent call last)",
      "Cell \u001b[0;32mIn[169], line 114\u001b[0m\n\u001b[1;32m    111\u001b[0m logo_path \u001b[38;5;241m=\u001b[39m \u001b[38;5;124m\"\u001b[39m\u001b[38;5;124micoone-removebg.png\u001b[39m\u001b[38;5;124m\"\u001b[39m\n\u001b[1;32m    112\u001b[0m photo_folder \u001b[38;5;241m=\u001b[39m \u001b[38;5;124m\"\u001b[39m\u001b[38;5;124mblock1\u001b[39m\u001b[38;5;124m\"\u001b[39m  \u001b[38;5;66;03m# Папка с исходными фотографиями\u001b[39;00m\n\u001b[0;32m--> 114\u001b[0m process_csv_and_generate_images(csv_path, output_folder, image_path, logo_path, photo_folder)\n",
      "Cell \u001b[0;32mIn[169], line 104\u001b[0m, in \u001b[0;36mprocess_csv_and_generate_images\u001b[0;34m(csv_path, output_folder, image_path, logo_path, photo_folder)\u001b[0m\n\u001b[1;32m    102\u001b[0m photo_path \u001b[38;5;241m=\u001b[39m os\u001b[38;5;241m.\u001b[39mpath\u001b[38;5;241m.\u001b[39mjoin(photo_folder, \u001b[38;5;124mf\u001b[39m\u001b[38;5;124m\"\u001b[39m\u001b[38;5;132;01m{\u001b[39;00mname\u001b[38;5;132;01m}\u001b[39;00m\u001b[38;5;124m.png\u001b[39m\u001b[38;5;124m\"\u001b[39m)  \u001b[38;5;66;03m# Формируем путь к фото\u001b[39;00m\n\u001b[1;32m    103\u001b[0m output_path \u001b[38;5;241m=\u001b[39m os\u001b[38;5;241m.\u001b[39mpath\u001b[38;5;241m.\u001b[39mjoin(output_folder, \u001b[38;5;124mf\u001b[39m\u001b[38;5;124m\"\u001b[39m\u001b[38;5;132;01m{\u001b[39;00mname\u001b[38;5;132;01m}\u001b[39;00m\u001b[38;5;124m.jpg\u001b[39m\u001b[38;5;124m\"\u001b[39m)  \u001b[38;5;66;03m# Название файла сохраняемого изображения\u001b[39;00m\n\u001b[0;32m--> 104\u001b[0m add_text_overlay(image_path, output_path, text, logo_path, photo_path)\n\u001b[1;32m    105\u001b[0m \u001b[38;5;28mprint\u001b[39m(\u001b[38;5;124mf\u001b[39m\u001b[38;5;124m\"\u001b[39m\u001b[38;5;124mИзображение сохранено: \u001b[39m\u001b[38;5;132;01m{\u001b[39;00moutput_path\u001b[38;5;132;01m}\u001b[39;00m\u001b[38;5;124m\"\u001b[39m)\n",
      "Cell \u001b[0;32mIn[169], line 74\u001b[0m, in \u001b[0;36madd_text_overlay\u001b[0;34m(image_path, output_path, text, logo_path, photo_path)\u001b[0m\n\u001b[1;32m     71\u001b[0m text_window\u001b[38;5;241m.\u001b[39mpaste(logo, (logo_x, logo_y), logo)\n\u001b[1;32m     73\u001b[0m \u001b[38;5;66;03m# Загрузить фотографию и уменьшить её в 4 раза\u001b[39;00m\n\u001b[0;32m---> 74\u001b[0m photo \u001b[38;5;241m=\u001b[39m Image\u001b[38;5;241m.\u001b[39mopen(photo_path)\u001b[38;5;241m.\u001b[39mconvert(\u001b[38;5;124m\"\u001b[39m\u001b[38;5;124mRGBA\u001b[39m\u001b[38;5;124m\"\u001b[39m)\n\u001b[1;32m     75\u001b[0m photo_size \u001b[38;5;241m=\u001b[39m (photo\u001b[38;5;241m.\u001b[39msize[\u001b[38;5;241m0\u001b[39m] \u001b[38;5;241m/\u001b[39m\u001b[38;5;241m/\u001b[39m \u001b[38;5;241m4\u001b[39m, photo\u001b[38;5;241m.\u001b[39msize[\u001b[38;5;241m1\u001b[39m] \u001b[38;5;241m/\u001b[39m\u001b[38;5;241m/\u001b[39m \u001b[38;5;241m4\u001b[39m)\n\u001b[1;32m     76\u001b[0m photo \u001b[38;5;241m=\u001b[39m photo\u001b[38;5;241m.\u001b[39mresize(photo_size, Image\u001b[38;5;241m.\u001b[39mLANCZOS)\n",
      "File \u001b[0;32m/opt/anaconda3/lib/python3.11/site-packages/PIL/Image.py:3469\u001b[0m, in \u001b[0;36mopen\u001b[0;34m(fp, mode, formats)\u001b[0m\n\u001b[1;32m   3466\u001b[0m     filename \u001b[38;5;241m=\u001b[39m os\u001b[38;5;241m.\u001b[39mpath\u001b[38;5;241m.\u001b[39mrealpath(os\u001b[38;5;241m.\u001b[39mfspath(fp))\n\u001b[1;32m   3468\u001b[0m \u001b[38;5;28;01mif\u001b[39;00m filename:\n\u001b[0;32m-> 3469\u001b[0m     fp \u001b[38;5;241m=\u001b[39m builtins\u001b[38;5;241m.\u001b[39mopen(filename, \u001b[38;5;124m\"\u001b[39m\u001b[38;5;124mrb\u001b[39m\u001b[38;5;124m\"\u001b[39m)\n\u001b[1;32m   3470\u001b[0m     exclusive_fp \u001b[38;5;241m=\u001b[39m \u001b[38;5;28;01mTrue\u001b[39;00m\n\u001b[1;32m   3471\u001b[0m \u001b[38;5;28;01melse\u001b[39;00m:\n",
      "\u001b[0;31mFileNotFoundError\u001b[0m: [Errno 2] No such file or directory: '/Users/macuser/фейкньюс/block1/1_euph_risk.png'"
     ]
    }
   ],
   "source": [
    "import os\n",
    "import pandas as pd\n",
    "from PIL import Image, ImageDraw, ImageFont\n",
    "\n",
    "def add_text_overlay(image_path, output_path, text, logo_path, photo_path):\n",
    "    # Загрузить изображение\n",
    "    image = Image.open(image_path).convert(\"RGBA\")\n",
    "    image_width, image_height = image.size\n",
    "\n",
    "    # Настройки окна с текстом\n",
    "    window_width = image_width // 3\n",
    "    font_size = 15\n",
    "    corner_radius = 20\n",
    "    top_padding = 35\n",
    "    side_padding = 20\n",
    "    bottom_padding = 20\n",
    "\n",
    "    # Загрузка шрифта\n",
    "    try:\n",
    "        font = ImageFont.truetype(\"OpenSans-Regular.ttf\", font_size)\n",
    "    except OSError:\n",
    "        font = ImageFont.load_default()\n",
    "\n",
    "    # Разбить текст на строки\n",
    "    lines = []\n",
    "    words = text.split()\n",
    "    current_line = \"\"\n",
    "    max_text_width = window_width - 2 * side_padding\n",
    "\n",
    "    for word in words:\n",
    "        test_line = f\"{current_line} {word}\".strip()\n",
    "        test_width = font.getbbox(test_line)[2]\n",
    "\n",
    "        if test_width <= max_text_width:\n",
    "            current_line = test_line\n",
    "        else:\n",
    "            lines.append(current_line)\n",
    "            current_line = word\n",
    "    if current_line:\n",
    "        lines.append(current_line)\n",
    "\n",
    "    # Высота окна текста\n",
    "    line_height = font.getbbox(\"hg\")[3] + 5\n",
    "    window_height = line_height * len(lines) + top_padding + bottom_padding\n",
    "\n",
    "    # Создание изображения для текста\n",
    "    text_window = Image.new(\"RGBA\", (window_width, window_height), (255, 255, 255, 0))\n",
    "    draw = ImageDraw.Draw(text_window)\n",
    "\n",
    "    draw.rounded_rectangle(\n",
    "        [(0, 0), (window_width, window_height)],\n",
    "        radius=corner_radius,\n",
    "        fill=(30, 30, 30, 255),\n",
    "    )\n",
    "\n",
    "    for i, line in enumerate(lines):\n",
    "        draw.text(\n",
    "            (side_padding, top_padding + i * line_height),\n",
    "            line,\n",
    "            font=font,\n",
    "            fill=(255, 255, 255, 255),\n",
    "        )\n",
    "\n",
    "    # Загрузить и уменьшить логотип\n",
    "    logo = Image.open(logo_path).convert(\"RGBA\")\n",
    "    logo_size = int(corner_radius * 1.5)\n",
    "    logo = logo.resize((logo_size, logo_size), Image.LANCZOS)\n",
    "\n",
    "    logo_x = window_width - logo_size - corner_radius // 2\n",
    "    logo_y = corner_radius // 2\n",
    "    text_window.paste(logo, (logo_x, logo_y), logo)\n",
    "\n",
    "    # Загрузить фотографию и уменьшить её в 4 раза\n",
    "    photo = Image.open(photo_path).convert(\"RGBA\")\n",
    "    photo_size = (photo.size[0] // 4, photo.size[1] // 4)\n",
    "    photo = photo.resize(photo_size, Image.LANCZOS)\n",
    "\n",
    "    combined_window_width = window_width + photo.size[0]\n",
    "    combined_window_height = max(window_height, photo.size[1])\n",
    "    combined_window = Image.new(\"RGBA\", (combined_window_width, combined_window_height), (255, 255, 255, 0))\n",
    "\n",
    "    combined_window.paste(photo, (0, 0), photo)\n",
    "    combined_window.paste(text_window, (photo.size[0], 0), text_window)\n",
    "\n",
    "    position_x = (image_width - combined_window_width) // 2\n",
    "    position_y = int(image_height * 0.1)\n",
    "\n",
    "    combined = Image.alpha_composite(image, Image.new(\"RGBA\", image.size, (255, 255, 255, 0)))\n",
    "    combined.paste(combined_window, (position_x, position_y), combined_window)\n",
    "\n",
    "    combined.convert(\"RGB\").save(output_path, \"JPEG\", quality=100)\n",
    "\n",
    "\n",
    "def process_csv_and_generate_images(csv_path, output_folder, image_path, logo_path, photo_folder):\n",
    "    os.makedirs(output_folder, exist_ok=True)\n",
    "\n",
    "    data = pd.read_csv(csv_path)\n",
    "\n",
    "    for idx, row in data.iterrows():\n",
    "        text = row['news']\n",
    "        name = row['name']\n",
    "        photo_path = os.path.join(photo_folder, f\"{name}.png\")  # Формируем путь к фото\n",
    "        output_path = os.path.join(output_folder, f\"{name}.jpg\")  # Название файла сохраняемого изображения\n",
    "        add_text_overlay(image_path, output_path, text, logo_path, photo_path)\n",
    "        print(f\"Изображение сохранено: {output_path}\")\n",
    "\n",
    "\n",
    "csv_path = \"block11.csv\"\n",
    "output_folder = \"output_images\"\n",
    "image_path = \"fone.PNG\"\n",
    "logo_path = \"icoone-removebg.png\"\n",
    "photo_folder = \"block1\"  # Папка с исходными фотографиями\n",
    "\n",
    "process_csv_and_generate_images(csv_path, output_folder, image_path, logo_path, photo_folder)\n"
   ]
  },
  {
   "cell_type": "code",
   "execution_count": 203,
   "id": "b1d05cef-9597-49ac-bfae-43edacc94c33",
   "metadata": {},
   "outputs": [
    {
     "name": "stdout",
     "output_type": "stream",
     "text": [
      "Результат сохранен в файл n6_with_char_count.csv\n",
      "                                                news  \\\n",
      "0  В связи с недавними погодными условиями, власт...   \n",
      "1  Недавнее наводнение разрушило многие традицион...   \n",
      "2  Внезапное и разрушительное наводнение обрушило...   \n",
      "3  Недавнее наводнение вызвало бурные обсуждения ...   \n",
      "4  В разгар разрушительного наводнения, когда каж...   \n",
      "\n",
      "                                            neu_news  news_char_count  \\\n",
      "0  Жаркая погода и отсутствие осадков увеличивают...              278   \n",
      "1  Недавние лесные пожары привели к уничтожению м...              276   \n",
      "2  Лесные пожары охватили регион, вынудив многих ...              289   \n",
      "3  Недавние лесные пожары вызвали активные обсужд...              596   \n",
      "4  В период распространения лесных пожаров, пожар...              299   \n",
      "\n",
      "   neu_news_char_count  разница  \\\n",
      "0                  334       56   \n",
      "1                  347       71   \n",
      "2                  283       -6   \n",
      "3                  663       67   \n",
      "4                  194     -105   \n",
      "\n",
      "                                                corr  char_count  \n",
      "0  Жаркая погода и отсутствие осадков повышают ри...         253  \n",
      "1  Недавние пожары уничтожили природные заповедни...         221  \n",
      "2  Лесные пожары охватили регион, вынудив многих ...         283  \n",
      "3  Пожары вызвали обсуждения их экономических пос...         239  \n",
      "4  В период распространения лесных пожаров, пожар...         296  \n"
     ]
    }
   ],
   "source": [
    "import pandas as pd\n",
    "\n",
    "# Укажите путь к вашему CSV файлу\n",
    "file_path = 'n7.csv'\n",
    "\n",
    "# Чтение CSV файла в DataFrame\n",
    "df = pd.read_csv(file_path)\n",
    "\n",
    "# Проверяем, что столбец 'corr' существует в DataFrame\n",
    "if 'corr' not in df.columns:\n",
    "    raise ValueError(\"В файле отсутствует столбец 'corr'\")\n",
    "\n",
    "# Считаем количество символов (включая пробелы) для каждой строки в столбце 'corr'\n",
    "df['char_count'] = df['corr'].astype(str).apply(len)\n",
    "\n",
    "# Сохраняем результат в новый CSV файл (опционально)\n",
    "output_file_path = 'n6_with_char_count.csv'\n",
    "df.to_csv(output_file_path, index=False)\n",
    "\n",
    "print(f\"Результат сохранен в файл {output_file_path}\")\n",
    "\n",
    "# Вывод первых нескольких строк DataFrame, чтобы убедиться в корректности работы кода\n",
    "print(df.head())"
   ]
  }
 ],
 "metadata": {
  "kernelspec": {
   "display_name": "Python [conda env:base] *",
   "language": "python",
   "name": "conda-base-py"
  },
  "language_info": {
   "codemirror_mode": {
    "name": "ipython",
    "version": 3
   },
   "file_extension": ".py",
   "mimetype": "text/x-python",
   "name": "python",
   "nbconvert_exporter": "python",
   "pygments_lexer": "ipython3",
   "version": "3.12.7"
  }
 },
 "nbformat": 4,
 "nbformat_minor": 5
}
